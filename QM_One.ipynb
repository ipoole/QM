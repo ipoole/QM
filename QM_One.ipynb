{
 "cells": [
  {
   "cell_type": "code",
   "execution_count": 1,
   "metadata": {},
   "outputs": [],
   "source": [
    "import numpy as np"
   ]
  },
  {
   "cell_type": "markdown",
   "metadata": {},
   "source": [
    "## Problem 1.5"
   ]
  },
  {
   "cell_type": "code",
   "execution_count": 2,
   "metadata": {
    "scrolled": true
   },
   "outputs": [
    {
     "data": {
      "text/html": [
       "<html><script type=\"math/tex; mode=display\">\\newcommand{\\Bold}[1]{\\mathbf{#1}}\\verb|Φ| x \\ {\\mapsto}\\ A e^{\\left(-i \\, \\omega t - \\lambda {\\left| x \\right|}\\right)}</script></html>"
      ],
      "text/plain": [
       "'Φ' x |--> A*e^(-I*omega_*t - lambda_*abs(x))"
      ]
     },
     "metadata": {},
     "output_type": "display_data"
    },
    {
     "data": {
      "text/html": [
       "<html><script type=\"math/tex; mode=display\">\\newcommand{\\Bold}[1]{\\mathbf{#1}}x \\ {\\mapsto}\\ A e^{\\left(\\lambda x\\right)} x \\leq 0</script></html>"
      ],
      "text/plain": [
       "x |--> A*e^(lambda_*x) x <= 0"
      ]
     },
     "metadata": {},
     "output_type": "display_data"
    },
    {
     "data": {
      "text/html": [
       "<html><script type=\"math/tex; mode=display\">\\newcommand{\\Bold}[1]{\\mathbf{#1}}x \\ {\\mapsto}\\ A e^{\\left(-\\lambda x\\right)} x > 0</script></html>"
      ],
      "text/plain": [
       "x |--> A*e^(-lambda_*x) x > 0"
      ]
     },
     "metadata": {},
     "output_type": "display_data"
    }
   ],
   "source": [
    "l = var('lambda_')\n",
    "w = var('omega_')\n",
    "A = var('A')\n",
    "t = var('t')\n",
    "k = var('k')\n",
    "E = var('E')\n",
    "m = var('m')\n",
    "p = var('p')\n",
    "assume(l > 0)\n",
    "assume(w > 0)\n",
    "assume(A, w, t, l, k, w, m, 'real')\n",
    "assume(t > 0)\n",
    "assume(m > 0)\n",
    "assume(l, w, k, A, m, 'constant')\n",
    "\n",
    "Phi(x)= A * e^(-l * abs(x)) * e^(-i * w * t)\n",
    "show('Φ', Phi)\n",
    "\n",
    "# Define Φ in two halves to avoid the abs(x)\n",
    "PhiL(x) = A * e^(-l * -x)\n",
    "show(PhiL, x <= 0)\n",
    "\n",
    "PhiR(x) = A * e^(-l * x)\n",
    "show(PhiR, x > 0)"
   ]
  },
  {
   "cell_type": "markdown",
   "metadata": {},
   "source": [
    "### a) Normalise $\\Phi$, i.e. find A which makes total area 1"
   ]
  },
  {
   "cell_type": "code",
   "execution_count": 3,
   "metadata": {},
   "outputs": [
    {
     "data": {
      "text/html": [
       "<html><script type=\"math/tex; mode=display\">\\newcommand{\\Bold}[1]{\\mathbf{#1}}x \\ {\\mapsto}\\ \\frac{A^{2} e^{\\left(2 \\, \\lambda x\\right)}}{2 \\, \\lambda} x \\ {\\mapsto}\\ -\\frac{A^{2} e^{\\left(-2 \\, \\lambda x\\right)}}{2 \\, \\lambda}</script></html>"
      ],
      "text/plain": [
       "x |--> 1/2*A^2*e^(2*lambda_*x)/lambda_ x |--> -1/2*A^2*e^(-2*lambda_*x)/lambda_"
      ]
     },
     "metadata": {},
     "output_type": "display_data"
    },
    {
     "data": {
      "text/html": [
       "<html><script type=\"math/tex; mode=display\">\\newcommand{\\Bold}[1]{\\mathbf{#1}}\\verb|Area|\\phantom{\\verb!x!}\\verb|=| \\frac{A^{2}}{2 \\, \\lambda} - 0 + 0 - -\\frac{A^{2}}{2 \\, \\lambda} \\verb|=| \\frac{A^{2}}{\\lambda} \\phantom{\\verb!x!}\\verb|=|\\phantom{\\verb!x!}\\verb|1|</script></html>"
      ],
      "text/plain": [
       "'Area = ' 1/2*A^2/lambda_ '-' 0 '+' 0 '-' -1/2*A^2/lambda_ '=' A^2/lambda_ ' = 1'"
      ]
     },
     "metadata": {},
     "output_type": "display_data"
    },
    {
     "data": {
      "text/html": [
       "<html><script type=\"math/tex; mode=display\">\\newcommand{\\Bold}[1]{\\mathbf{#1}}\\verb|A|\\phantom{\\verb!x!}\\verb|=| \\sqrt{\\lambda}</script></html>"
      ],
      "text/plain": [
       "'A = ' sqrt(lambda_)"
      ]
     },
     "metadata": {},
     "output_type": "display_data"
    }
   ],
   "source": [
    "IL = integrate(PhiL * conjugate(PhiL), x)\n",
    "IR = integrate(PhiR * conjugate(PhiR), x)\n",
    "show(IL, IR)\n",
    "\n",
    "show('Area = ', IL(0), '-', IL(-oo), '+', IR(oo), '-', IR(0), '=', IL(0) - IL(-oo) + IR(oo) - IR(0), ' = 1')\n",
    "show('A = ', sqrt(l))"
   ]
  },
  {
   "cell_type": "markdown",
   "metadata": {},
   "source": [
    "### b) Find the mean postition of x <x>"
   ]
  },
  {
   "cell_type": "code",
   "execution_count": 4,
   "metadata": {},
   "outputs": [
    {
     "data": {
      "text/html": [
       "<html><script type=\"math/tex; mode=display\">\\newcommand{\\Bold}[1]{\\mathbf{#1}}x \\ {\\mapsto}\\ \\frac{{\\left(2 \\, \\lambda x - 1\\right)} A^{2} e^{\\left(2 \\, \\lambda x\\right)}}{4 \\, \\lambda^{2}} x \\ {\\mapsto}\\ -\\frac{{\\left(2 \\, \\lambda x + 1\\right)} A^{2} e^{\\left(-2 \\, \\lambda x\\right)}}{4 \\, \\lambda^{2}}</script></html>"
      ],
      "text/plain": [
       "x |--> 1/4*(2*lambda_*x - 1)*A^2*e^(2*lambda_*x)/lambda_^2 x |--> -1/4*(2*lambda_*x + 1)*A^2*e^(-2*lambda_*x)/lambda_^2"
      ]
     },
     "metadata": {},
     "output_type": "display_data"
    },
    {
     "data": {
      "text/html": [
       "<html><script type=\"math/tex; mode=display\">\\newcommand{\\Bold}[1]{\\mathbf{#1}}-\\frac{A^{2}}{4 \\, \\lambda^{2}} -\\frac{A^{2}}{4 \\, \\lambda^{2}}</script></html>"
      ],
      "text/plain": [
       "-1/4*A^2/lambda_^2 -1/4*A^2/lambda_^2"
      ]
     },
     "metadata": {},
     "output_type": "display_data"
    },
    {
     "data": {
      "text/html": [
       "<html><script type=\"math/tex; mode=display\">\\newcommand{\\Bold}[1]{\\mathbf{#1}}\\verb|<x>|\\phantom{\\verb!x!}\\verb|=| 0</script></html>"
      ],
      "text/plain": [
       "'<x> =' 0"
      ]
     },
     "metadata": {},
     "output_type": "display_data"
    }
   ],
   "source": [
    "IL = integrate(PhiL * x * conjugate(PhiL), x)\n",
    "IR = integrate(PhiR * x * conjugate(PhiR), x)\n",
    "show(IL, IR)\n",
    "\n",
    "xbar = (IL(0) - 0) + (0 - IR(0))\n",
    "\n",
    "show(IL(0), IR(0))\n",
    "show('<x> =', xbar)"
   ]
  },
  {
   "cell_type": "markdown",
   "metadata": {},
   "source": [
    "### c) Find the expectation of $x^2$"
   ]
  },
  {
   "cell_type": "code",
   "execution_count": 5,
   "metadata": {},
   "outputs": [
    {
     "data": {
      "text/html": [
       "<html><script type=\"math/tex; mode=display\">\\newcommand{\\Bold}[1]{\\mathbf{#1}}x \\ {\\mapsto}\\ \\frac{{\\left(2 \\, \\lambda^{2} x^{2} - 2 \\, \\lambda x + 1\\right)} A^{2} e^{\\left(2 \\, \\lambda x\\right)}}{4 \\, \\lambda^{3}} x \\ {\\mapsto}\\ -\\frac{{\\left(2 \\, \\lambda^{2} x^{2} + 2 \\, \\lambda x + 1\\right)} A^{2} e^{\\left(-2 \\, \\lambda x\\right)}}{4 \\, \\lambda^{3}}</script></html>"
      ],
      "text/plain": [
       "x |--> 1/4*(2*lambda_^2*x^2 - 2*lambda_*x + 1)*A^2*e^(2*lambda_*x)/lambda_^3 x |--> -1/4*(2*lambda_^2*x^2 + 2*lambda_*x + 1)*A^2*e^(-2*lambda_*x)/lambda_^3"
      ]
     },
     "metadata": {},
     "output_type": "display_data"
    },
    {
     "data": {
      "text/html": [
       "<html><script type=\"math/tex; mode=display\">\\newcommand{\\Bold}[1]{\\mathbf{#1}}\\frac{A^{2}}{4 \\, \\lambda^{3}} -\\frac{A^{2}}{4 \\, \\lambda^{3}}</script></html>"
      ],
      "text/plain": [
       "1/4*A^2/lambda_^3 -1/4*A^2/lambda_^3"
      ]
     },
     "metadata": {},
     "output_type": "display_data"
    },
    {
     "data": {
      "text/html": [
       "<html><script type=\"math/tex; mode=display\">\\newcommand{\\Bold}[1]{\\mathbf{#1}}\\verb|<x^2>|\\phantom{\\verb!x!}\\verb|=| \\frac{A^{2}}{2 \\, \\lambda^{3}}</script></html>"
      ],
      "text/plain": [
       "'<x^2> = ' 1/2*A^2/lambda_^3"
      ]
     },
     "metadata": {},
     "output_type": "display_data"
    }
   ],
   "source": [
    "IL = integrate(PhiL * x^2 * conjugate(PhiL), x)\n",
    "IR = integrate(PhiR * x^2 * conjugate(PhiR), x)\n",
    "show(IL, IR)\n",
    "\n",
    "show(IL(0), IR(0))\n",
    "x2bar = (IL(0) - 0) + (0 - IR(0))\n",
    "show('<x^2> = ', x2bar)"
   ]
  },
  {
   "cell_type": "markdown",
   "metadata": {},
   "source": [
    "### Problem 1.9"
   ]
  },
  {
   "cell_type": "code",
   "execution_count": 6,
   "metadata": {},
   "outputs": [
    {
     "data": {
      "text/html": [
       "<html><script type=\"math/tex; mode=display\">\\newcommand{\\Bold}[1]{\\mathbf{#1}}x \\ {\\mapsto}\\ A e^{\\left(-\\frac{a m x^{2}}{h}\\right)}</script></html>"
      ],
      "text/plain": [
       "x |--> A*e^(-a*m*x^2/h)"
      ]
     },
     "metadata": {},
     "output_type": "display_data"
    },
    {
     "data": {
      "text/html": [
       "<html><script type=\"math/tex; mode=display\">\\newcommand{\\Bold}[1]{\\mathbf{#1}}\\verb|area=| \\frac{\\sqrt{2} \\sqrt{\\pi} A^{2}}{2 \\, \\sqrt{\\frac{a m}{h}}}</script></html>"
      ],
      "text/plain": [
       "'area=' 1/2*sqrt(2)*sqrt(pi)*A^2/sqrt(a*m/h)"
      ]
     },
     "metadata": {},
     "output_type": "display_data"
    },
    {
     "data": {
      "text/html": [
       "<html><script type=\"math/tex; mode=display\">\\newcommand{\\Bold}[1]{\\mathbf{#1}}\\verb|A2=| \\frac{\\sqrt{2} \\sqrt{\\frac{a m}{h}}}{\\sqrt{\\pi} A^{2}}</script></html>"
      ],
      "text/plain": [
       "'A2=' sqrt(2)*sqrt(a*m/h)/(sqrt(pi)*A^2)"
      ]
     },
     "metadata": {},
     "output_type": "display_data"
    }
   ],
   "source": [
    "a=var('a')\n",
    "A=var('A')\n",
    "h=var('h')\n",
    "m=var('m')\n",
    "assume(A, a, m, h, t, 'real')\n",
    "assume(A>0, h>0, m>0, a>0, t>0)\n",
    "Phi(x) = A * e^-(a*(m*x^2 / h))\n",
    "show(Phi)\n",
    "\n",
    "area = integrate(Phi * Phi, x, -oo, oo)\n",
    "show('area=',area)\n",
    "A2 = 1 / area\n",
    "show('A2=', A2)\n"
   ]
  },
  {
   "cell_type": "code",
   "execution_count": 7,
   "metadata": {},
   "outputs": [
    {
     "data": {
      "text/html": [
       "<html><script type=\"math/tex; mode=display\">\\newcommand{\\Bold}[1]{\\mathbf{#1}}\\left( x, t \\right) \\ {\\mapsto} \\ e^{\\left(-i \\, t - \\frac{x^{2}}{h}\\right)}</script></html>"
      ],
      "text/plain": [
       "(x, t) |--> e^(-I*t - x^2/h)"
      ]
     },
     "metadata": {},
     "output_type": "display_data"
    }
   ],
   "source": [
    "# Phi(x,t) = (2 * a * m / (pi * h))^(1/4) * e^(-a*((m * x^2/h) + i*t))\n",
    "Phi(x,t) = e^-((x^2/h + i*t))\n",
    "show(Phi)"
   ]
  },
  {
   "cell_type": "code",
   "execution_count": 8,
   "metadata": {},
   "outputs": [
    {
     "data": {
      "text/html": [
       "<html><script type=\"math/tex; mode=display\">\\newcommand{\\Bold}[1]{\\mathbf{#1}}t \\ {\\mapsto}\\ \\frac{1}{2} \\, \\sqrt{2} \\sqrt{\\pi} \\sqrt{h}</script></html>"
      ],
      "text/plain": [
       "t |--> 1/2*sqrt(2)*sqrt(pi)*sqrt(h)"
      ]
     },
     "metadata": {},
     "output_type": "display_data"
    }
   ],
   "source": [
    "J = integrate(Phi * conjugate(Phi), x, -oo, oo)\n",
    "show(J)"
   ]
  },
  {
   "cell_type": "code",
   "execution_count": 9,
   "metadata": {},
   "outputs": [
    {
     "data": {
      "text/html": [
       "<html><script type=\"math/tex; mode=display\">\\newcommand{\\Bold}[1]{\\mathbf{#1}}\\left( x, t \\right) \\ {\\mapsto} \\ -i \\, h {\\left(\\frac{i \\, h {\\left(\\frac{2 \\, x^{2} e^{\\left(-i \\, t - \\frac{x^{2}}{h}\\right)}}{h^{2}} - \\frac{e^{\\left(-i \\, t - \\frac{x^{2}}{h}\\right)}}{h}\\right)}}{m} + i \\, e^{\\left(-i \\, t - \\frac{x^{2}}{h}\\right)}\\right)} e^{\\left(i \\, t + \\frac{x^{2}}{h}\\right)}</script></html>"
      ],
      "text/plain": [
       "(x, t) |--> -I*h*(I*h*(2*x^2*e^(-I*t - x^2/h)/h^2 - e^(-I*t - x^2/h)/h)/m + I*e^(-I*t - x^2/h))*e^(I*t + x^2/h)"
      ]
     },
     "metadata": {},
     "output_type": "display_data"
    }
   ],
   "source": [
    "# For what V(x) is this a solution to SE?\n",
    "V(x, t ) = (h / i) * (1 / Phi) * ((i * h / (2 * m)) * Phi.diff(x).diff(x) - Phi.diff(t))\n",
    "show(V)"
   ]
  },
  {
   "cell_type": "code",
   "execution_count": 10,
   "metadata": {},
   "outputs": [
    {
     "data": {
      "text/html": [
       "<html><script type=\"math/tex; mode=display\">\\newcommand{\\Bold}[1]{\\mathbf{#1}}-i \\, h {\\left(\\frac{i \\, h {\\left(\\frac{2 \\, x^{2} e^{\\left(-\\frac{x^{2}}{h}\\right)}}{h^{2}} - \\frac{e^{\\left(-\\frac{x^{2}}{h}\\right)}}{h}\\right)}}{m} + i \\, e^{\\left(-\\frac{x^{2}}{h}\\right)}\\right)} e^{\\left(\\frac{x^{2}}{h}\\right)}</script></html>"
      ],
      "text/plain": [
       "-I*h*(I*h*(2*x^2*e^(-x^2/h)/h^2 - e^(-x^2/h)/h)/m + I*e^(-x^2/h))*e^(x^2/h)"
      ]
     },
     "metadata": {},
     "output_type": "display_data"
    }
   ],
   "source": [
    "show(V(x, 0))"
   ]
  },
  {
   "cell_type": "code",
   "execution_count": 11,
   "metadata": {},
   "outputs": [
    {
     "data": {
      "text/html": [
       "<html><script type=\"math/tex; mode=display\">\\newcommand{\\Bold}[1]{\\mathbf{#1}}n \\ {\\mapsto}\\ -2 \\, \\sqrt{30} \\sqrt{2} {\\left(\\frac{\\left(-1\\right)^{n}}{\\pi^{3} n^{3}} - \\frac{1}{\\pi^{3} n^{3}}\\right)}</script></html>"
      ],
      "text/plain": [
       "n |--> -2*sqrt(30)*sqrt(2)*((-1)^n/(pi^3*n^3) - 1/(pi^3*n^3))"
      ]
     },
     "metadata": {},
     "output_type": "display_data"
    }
   ],
   "source": [
    "a = 1 # var('a')\n",
    "n = var('n')\n",
    "# assume(a, 'real')\n",
    "# assume(a > 0)\n",
    "assume(n, 'integer')\n",
    "assume(n > 0)\n",
    "\n",
    "Phi(x) = sqrt(30/a^5) * x * (a - x)\n",
    "\n",
    "cn(n) = sqrt(2/a) * integrate(sin(pi * n * x / a) * Phi(x), x, 0, a)\n",
    "show(cn)"
   ]
  },
  {
   "cell_type": "code",
   "execution_count": 12,
   "metadata": {},
   "outputs": [
    {
     "data": {
      "text/plain": [
       "14108/3375*sqrt(30)*sqrt(2)/pi^3"
      ]
     },
     "execution_count": 12,
     "metadata": {},
     "output_type": "execute_result"
    }
   ],
   "source": [
    "sum([cn(n) for n in range(1,7)])"
   ]
  },
  {
   "cell_type": "code",
   "execution_count": 13,
   "metadata": {},
   "outputs": [
    {
     "data": {
      "text/html": [
       "<html><script type=\"math/tex; mode=display\">\\newcommand{\\Bold}[1]{\\mathbf{#1}}x \\ {\\mapsto}\\ \\frac{4 \\, \\sqrt{30} \\sqrt{2} \\sin\\left(9 \\, \\pi x\\right)}{729 \\, \\pi^{3}} + \\frac{4 \\, \\sqrt{30} \\sqrt{2} \\sin\\left(7 \\, \\pi x\\right)}{343 \\, \\pi^{3}} + \\frac{4 \\, \\sqrt{30} \\sqrt{2} \\sin\\left(5 \\, \\pi x\\right)}{125 \\, \\pi^{3}} + \\frac{4 \\, \\sqrt{30} \\sqrt{2} \\sin\\left(3 \\, \\pi x\\right)}{27 \\, \\pi^{3}} + \\frac{4 \\, \\sqrt{30} \\sqrt{2} \\sin\\left(\\pi x\\right)}{\\pi^{3}}</script></html>"
      ],
      "text/plain": [
       "x |--> 4/729*sqrt(30)*sqrt(2)*sin(9*pi*x)/pi^3 + 4/343*sqrt(30)*sqrt(2)*sin(7*pi*x)/pi^3 + 4/125*sqrt(30)*sqrt(2)*sin(5*pi*x)/pi^3 + 4/27*sqrt(30)*sqrt(2)*sin(3*pi*x)/pi^3 + 4*sqrt(30)*sqrt(2)*sin(pi*x)/pi^3"
      ]
     },
     "metadata": {},
     "output_type": "display_data"
    },
    {
     "data": {
      "image/png": "[encoded data removed]",
      "text/plain": [
       "Graphics object consisting of 1 graphics primitive"
      ]
     },
     "execution_count": 13,
     "metadata": {},
     "output_type": "execute_result"
    }
   ],
   "source": [
    "\n",
    "Phis(x) = sum([cn(n) * sin(n * pi * x / a) for n in range(1,10)])\n",
    "show(Phis)\n",
    "plot(Phis, 0,a)"
   ]
  },
  {
   "cell_type": "code",
   "execution_count": 14,
   "metadata": {},
   "outputs": [
    {
     "data": {
      "text/html": [
       "<html><script type=\"math/tex; mode=display\">\\newcommand{\\Bold}[1]{\\mathbf{#1}}\\frac{4 \\, \\sqrt{30} \\sqrt{2}}{\\pi^{3}}</script></html>"
      ],
      "text/plain": [
       "4*sqrt(30)*sqrt(2)/pi^3"
      ]
     },
     "metadata": {},
     "output_type": "display_data"
    },
    {
     "data": {
      "text/html": [
       "<html><script type=\"math/tex; mode=display\">\\newcommand{\\Bold}[1]{\\mathbf{#1}}0</script></html>"
      ],
      "text/plain": [
       "0"
      ]
     },
     "metadata": {},
     "output_type": "display_data"
    },
    {
     "data": {
      "text/html": [
       "<html><script type=\"math/tex; mode=display\">\\newcommand{\\Bold}[1]{\\mathbf{#1}}\\frac{4 \\, \\sqrt{30} \\sqrt{2}}{27 \\, \\pi^{3}}</script></html>"
      ],
      "text/plain": [
       "4/27*sqrt(30)*sqrt(2)/pi^3"
      ]
     },
     "metadata": {},
     "output_type": "display_data"
    }
   ],
   "source": [
    "show(cn(1))\n",
    "show(cn(2))\n",
    "show(cn(3))"
   ]
  },
  {
   "cell_type": "code",
   "execution_count": 15,
   "metadata": {},
   "outputs": [],
   "source": [
    "a=1;\n",
    "hbar=1;\n",
    "m=1;\n",
    "n=var('n')\n",
    "x=var('x')\n",
    "t=var('t')"
   ]
  },
  {
   "cell_type": "code",
   "execution_count": 16,
   "metadata": {},
   "outputs": [],
   "source": [
    "En(n)=n^2*pi^2*hbar^2/(2*m*a^2);\n",
    "psi(x,t,n) = sqrt(2/a)*sin(n*pi*x/a*exp(-i*En(n)*t/hbar));\n",
    "psiStar(x,t,n)=sqrt(2/a)*sin(n*pi*x/a*exp(i*En(n)*t/hbar));"
   ]
  },
  {
   "cell_type": "code",
   "execution_count": 17,
   "metadata": {},
   "outputs": [],
   "source": [
    "g(x) = sqrt(3/a)*(1-abs(x-a/2)/(a/2));"
   ]
  },
  {
   "cell_type": "code",
   "execution_count": 18,
   "metadata": {},
   "outputs": [],
   "source": [
    "cn(n)=integral(g(x)*psi(x,0,n), x, 0, a/2) + integral(g(x)*psi(x,0,n),x,a/2,a);"
   ]
  },
  {
   "cell_type": "code",
   "execution_count": 19,
   "metadata": {},
   "outputs": [
    {
     "data": {
      "text/html": [
       "<html><script type=\"math/tex; mode=display\">\\newcommand{\\Bold}[1]{\\mathbf{#1}}n \\ {\\mapsto}\\ \\frac{\\sqrt{3} \\sqrt{2} {\\left(\\pi n \\cos\\left(\\frac{1}{2} \\, \\pi n\\right) + 2 \\, \\sin\\left(\\frac{1}{2} \\, \\pi n\\right)\\right)}}{\\pi^{2} n^{2}} - \\frac{\\sqrt{3} \\sqrt{2} {\\left(\\pi n \\cos\\left(\\frac{1}{2} \\, \\pi n\\right) - 2 \\, \\sin\\left(\\frac{1}{2} \\, \\pi n\\right)\\right)}}{\\pi^{2} n^{2}}</script></html>"
      ],
      "text/plain": [
       "n |--> sqrt(3)*sqrt(2)*(pi*n*cos(1/2*pi*n) + 2*sin(1/2*pi*n))/(pi^2*n^2) - sqrt(3)*sqrt(2)*(pi*n*cos(1/2*pi*n) - 2*sin(1/2*pi*n))/(pi^2*n^2)"
      ]
     },
     "metadata": {},
     "output_type": "display_data"
    }
   ],
   "source": [
    "show(cn)"
   ]
  },
  {
   "cell_type": "code",
   "execution_count": 20,
   "metadata": {},
   "outputs": [
    {
     "data": {
      "text/plain": [
       "n |--> sqrt(3)*sqrt(2)*(pi*n*cos(1/2*pi*n) + 2*sin(1/2*pi*n))/(pi^2*n^2) - sqrt(3)*sqrt(2)*(pi*n*cos(1/2*pi*n) - 2*sin(1/2*pi*n))/(pi^2*n^2)"
      ]
     },
     "execution_count": 20,
     "metadata": {},
     "output_type": "execute_result"
    }
   ],
   "source": [
    "cn"
   ]
  },
  {
   "cell_type": "code",
   "execution_count": 21,
   "metadata": {},
   "outputs": [
    {
     "data": {
      "image/png": "[encoded data removed]",
      "text/plain": [
       "Graphics object consisting of 1 graphics primitive"
      ]
     },
     "execution_count": 21,
     "metadata": {},
     "output_type": "execute_result"
    }
   ],
   "source": [
    "plot(g,0,a,figsize=[5,4])"
   ]
  },
  {
   "cell_type": "code",
   "execution_count": 22,
   "metadata": {},
   "outputs": [
    {
     "data": {
      "text/html": [
       "<html><script type=\"math/tex; mode=display\">\\newcommand{\\Bold}[1]{\\mathbf{#1}}\\left[\\frac{4 \\, \\sqrt{3} \\sqrt{2}}{\\pi^{2}}, 0, -\\frac{4 \\, \\sqrt{3} \\sqrt{2}}{9 \\, \\pi^{2}}, 0, \\frac{4 \\, \\sqrt{3} \\sqrt{2}}{25 \\, \\pi^{2}}, 0, -\\frac{4 \\, \\sqrt{3} \\sqrt{2}}{49 \\, \\pi^{2}}, 0, \\frac{4 \\, \\sqrt{3} \\sqrt{2}}{81 \\, \\pi^{2}}\\right]</script></html>"
      ],
      "text/plain": [
       "[4*sqrt(3)*sqrt(2)/pi^2,\n",
       " 0,\n",
       " -4/9*sqrt(3)*sqrt(2)/pi^2,\n",
       " 0,\n",
       " 4/25*sqrt(3)*sqrt(2)/pi^2,\n",
       " 0,\n",
       " -4/49*sqrt(3)*sqrt(2)/pi^2,\n",
       " 0,\n",
       " 4/81*sqrt(3)*sqrt(2)/pi^2]"
      ]
     },
     "metadata": {},
     "output_type": "display_data"
    }
   ],
   "source": [
    "show([cn(i) for i in range(1,10)])"
   ]
  },
  {
   "cell_type": "markdown",
   "metadata": {},
   "source": [
    "## Looking at free particle wave packets"
   ]
  },
  {
   "cell_type": "code",
   "execution_count": 23,
   "metadata": {},
   "outputs": [],
   "source": [
    "a = 5 # var('a')\n",
    "m = 1 # var('m')\n",
    "hbar=1 # var('h')\n",
    "psiInit(x) = 1/sqrt(2*a)"
   ]
  },
  {
   "cell_type": "code",
   "execution_count": 24,
   "metadata": {},
   "outputs": [],
   "source": [
    "normCheck = integral(psiInit(x) * psiInit(x), x, -a, a)\n",
    "normCheck\n",
    "assert normCheck == 1"
   ]
  },
  {
   "cell_type": "code",
   "execution_count": 25,
   "metadata": {},
   "outputs": [],
   "source": [
    "psik(k) = 1/sqrt(2 * pi) * integral(1/sqrt(2*a) * e^(-i * k * x), x, -a, a)"
   ]
  },
  {
   "cell_type": "code",
   "execution_count": 26,
   "metadata": {
    "scrolled": false
   },
   "outputs": [
    {
     "data": {
      "text/html": [
       "<html><script type=\"math/tex; mode=display\">\\newcommand{\\Bold}[1]{\\mathbf{#1}}k \\ {\\mapsto}\\ \\frac{\\sqrt{10} \\sqrt{2} {\\left(-\\frac{i \\, e^{\\left(5 i \\, k\\right)}}{k} + \\frac{i \\, e^{\\left(-5 i \\, k\\right)}}{k}\\right)}}{20 \\, \\sqrt{\\pi}}</script></html>"
      ],
      "text/plain": [
       "k |--> 1/20*sqrt(10)*sqrt(2)*(-I*e^(5*I*k)/k + I*e^(-5*I*k)/k)/sqrt(pi)"
      ]
     },
     "metadata": {},
     "output_type": "display_data"
    }
   ],
   "source": [
    "show(psik)"
   ]
  }
 ],
 "metadata": {
  "kernelspec": {
   "display_name": "SageMath 9.0",
   "language": "sage",
   "name": "sagemath"
  },
  "language_info": {
   "codemirror_mode": {
    "name": "ipython",
    "version": 3
   },
   "file_extension": ".py",
   "mimetype": "text/x-python",
   "name": "python",
   "nbconvert_exporter": "python",
   "pygments_lexer": "ipython3",
   "version": "3.8.10"
  }
 },
 "nbformat": 4,
 "nbformat_minor": 4
}
