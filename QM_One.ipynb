{
 "cells": [
  {
   "cell_type": "code",
   "execution_count": 2,
   "metadata": {},
   "outputs": [],
   "source": [
    "import numpy as np"
   ]
  },
  {
   "cell_type": "markdown",
   "metadata": {},
   "source": [
    "## Problem 1.5"
   ]
  },
  {
   "cell_type": "code",
   "execution_count": 14,
   "metadata": {
    "scrolled": true
   },
   "outputs": [
    {
     "data": {
      "text/html": [
       "<html><script type=\"math/tex; mode=display\">\\newcommand{\\Bold}[1]{\\mathbf{#1}}\\verb|Φ| x \\ {\\mapsto}\\ A e^{\\left(-i \\, \\omega t - \\lambda {\\left| x \\right|}\\right)}</script></html>"
      ],
      "text/plain": [
       "'Φ' x |--> A*e^(-I*omega_*t - lambda_*abs(x))"
      ]
     },
     "metadata": {},
     "output_type": "display_data"
    },
    {
     "data": {
      "text/html": [
       "<html><script type=\"math/tex; mode=display\">\\newcommand{\\Bold}[1]{\\mathbf{#1}}x \\ {\\mapsto}\\ A e^{\\left(\\lambda x\\right)} x \\leq 0</script></html>"
      ],
      "text/plain": [
       "x |--> A*e^(lambda_*x) x <= 0"
      ]
     },
     "metadata": {},
     "output_type": "display_data"
    },
    {
     "data": {
      "text/html": [
       "<html><script type=\"math/tex; mode=display\">\\newcommand{\\Bold}[1]{\\mathbf{#1}}x \\ {\\mapsto}\\ A e^{\\left(-\\lambda x\\right)} x > 0</script></html>"
      ],
      "text/plain": [
       "x |--> A*e^(-lambda_*x) x > 0"
      ]
     },
     "metadata": {},
     "output_type": "display_data"
    }
   ],
   "source": [
    "l = var('lambda_')\n",
    "w = var('omega_')\n",
    "A = var('A')\n",
    "t = var('t')\n",
    "k = var('k')\n",
    "E = var('E')\n",
    "m = var('m')\n",
    "p = var('p')\n",
    "assume(l > 0)\n",
    "assume(w > 0)\n",
    "assume(A, w, t, l, k, w, m, 'real')\n",
    "assume(t > 0)\n",
    "assume(m > 0)\n",
    "assume(l, w, k, A, m, 'constant')\n",
    "\n",
    "Phi(x)= A * e^(-l * abs(x)) * e^(-i * w * t)\n",
    "show('Φ', Phi)\n",
    "\n",
    "# Define Φ in two halves to avoid the abs(x)\n",
    "PhiL(x) = A * e^(-l * -x)\n",
    "show(PhiL, x <= 0)\n",
    "\n",
    "PhiR(x) = A * e^(-l * x)\n",
    "show(PhiR, x > 0)"
   ]
  },
  {
   "cell_type": "markdown",
   "metadata": {},
   "source": [
    "### a) Normalise $\\Phi$, i.e. find A which makes total area 1"
   ]
  },
  {
   "cell_type": "code",
   "execution_count": 2,
   "metadata": {},
   "outputs": [
    {
     "data": {
      "text/html": [
       "<html><script type=\"math/tex; mode=display\">\\newcommand{\\Bold}[1]{\\mathbf{#1}}x \\ {\\mapsto}\\ \\frac{A^{2} e^{\\left(2 \\, \\lambda x\\right)}}{2 \\, \\lambda} x \\ {\\mapsto}\\ -\\frac{A^{2} e^{\\left(-2 \\, \\lambda x\\right)}}{2 \\, \\lambda}</script></html>"
      ],
      "text/plain": [
       "x |--> 1/2*A^2*e^(2*lambda_*x)/lambda_ x |--> -1/2*A^2*e^(-2*lambda_*x)/lambda_"
      ]
     },
     "metadata": {},
     "output_type": "display_data"
    },
    {
     "data": {
      "text/html": [
       "<html><script type=\"math/tex; mode=display\">\\newcommand{\\Bold}[1]{\\mathbf{#1}}\\verb|Area|\\phantom{\\verb!x!}\\verb|=| \\frac{A^{2}}{2 \\, \\lambda} - 0 + 0 - -\\frac{A^{2}}{2 \\, \\lambda} \\verb|=| \\frac{A^{2}}{\\lambda} \\phantom{\\verb!x!}\\verb|=|\\phantom{\\verb!x!}\\verb|1|</script></html>"
      ],
      "text/plain": [
       "'Area = ' 1/2*A^2/lambda_ '-' 0 '+' 0 '-' -1/2*A^2/lambda_ '=' A^2/lambda_ ' = 1'"
      ]
     },
     "metadata": {},
     "output_type": "display_data"
    },
    {
     "data": {
      "text/html": [
       "<html><script type=\"math/tex; mode=display\">\\newcommand{\\Bold}[1]{\\mathbf{#1}}\\verb|A|\\phantom{\\verb!x!}\\verb|=| \\sqrt{\\lambda}</script></html>"
      ],
      "text/plain": [
       "'A = ' sqrt(lambda_)"
      ]
     },
     "metadata": {},
     "output_type": "display_data"
    }
   ],
   "source": [
    "IL = integrate(PhiL * conjugate(PhiL), x)\n",
    "IR = integrate(PhiR * conjugate(PhiR), x)\n",
    "show(IL, IR)\n",
    "\n",
    "show('Area = ', IL(0), '-', IL(-oo), '+', IR(oo), '-', IR(0), '=', IL(0) - IL(-oo) + IR(oo) - IR(0), ' = 1')\n",
    "show('A = ', sqrt(l))"
   ]
  },
  {
   "cell_type": "markdown",
   "metadata": {},
   "source": [
    "### b) Find the mean postition of x <x>"
   ]
  },
  {
   "cell_type": "code",
   "execution_count": 3,
   "metadata": {},
   "outputs": [
    {
     "data": {
      "text/html": [
       "<html><script type=\"math/tex; mode=display\">\\newcommand{\\Bold}[1]{\\mathbf{#1}}x \\ {\\mapsto}\\ \\frac{{\\left(2 \\, \\lambda x - 1\\right)} A^{2} e^{\\left(2 \\, \\lambda x\\right)}}{4 \\, \\lambda^{2}} x \\ {\\mapsto}\\ -\\frac{{\\left(2 \\, \\lambda x + 1\\right)} A^{2} e^{\\left(-2 \\, \\lambda x\\right)}}{4 \\, \\lambda^{2}}</script></html>"
      ],
      "text/plain": [
       "x |--> 1/4*(2*lambda_*x - 1)*A^2*e^(2*lambda_*x)/lambda_^2 x |--> -1/4*(2*lambda_*x + 1)*A^2*e^(-2*lambda_*x)/lambda_^2"
      ]
     },
     "metadata": {},
     "output_type": "display_data"
    },
    {
     "data": {
      "text/html": [
       "<html><script type=\"math/tex; mode=display\">\\newcommand{\\Bold}[1]{\\mathbf{#1}}-\\frac{A^{2}}{4 \\, \\lambda^{2}} -\\frac{A^{2}}{4 \\, \\lambda^{2}}</script></html>"
      ],
      "text/plain": [
       "-1/4*A^2/lambda_^2 -1/4*A^2/lambda_^2"
      ]
     },
     "metadata": {},
     "output_type": "display_data"
    },
    {
     "data": {
      "text/html": [
       "<html><script type=\"math/tex; mode=display\">\\newcommand{\\Bold}[1]{\\mathbf{#1}}\\verb|<x>|\\phantom{\\verb!x!}\\verb|=| 0</script></html>"
      ],
      "text/plain": [
       "'<x> =' 0"
      ]
     },
     "metadata": {},
     "output_type": "display_data"
    }
   ],
   "source": [
    "IL = integrate(PhiL * x * conjugate(PhiL), x)\n",
    "IR = integrate(PhiR * x * conjugate(PhiR), x)\n",
    "show(IL, IR)\n",
    "\n",
    "xbar = (IL(0) - 0) + (0 - IR(0))\n",
    "\n",
    "show(IL(0), IR(0))\n",
    "show('<x> =', xbar)"
   ]
  },
  {
   "cell_type": "markdown",
   "metadata": {},
   "source": [
    "### c) Find the expectation of $x^2$"
   ]
  },
  {
   "cell_type": "code",
   "execution_count": 4,
   "metadata": {},
   "outputs": [
    {
     "data": {
      "text/html": [
       "<html><script type=\"math/tex; mode=display\">\\newcommand{\\Bold}[1]{\\mathbf{#1}}x \\ {\\mapsto}\\ \\frac{{\\left(2 \\, \\lambda^{2} x^{2} - 2 \\, \\lambda x + 1\\right)} A^{2} e^{\\left(2 \\, \\lambda x\\right)}}{4 \\, \\lambda^{3}} x \\ {\\mapsto}\\ -\\frac{{\\left(2 \\, \\lambda^{2} x^{2} + 2 \\, \\lambda x + 1\\right)} A^{2} e^{\\left(-2 \\, \\lambda x\\right)}}{4 \\, \\lambda^{3}}</script></html>"
      ],
      "text/plain": [
       "x |--> 1/4*(2*lambda_^2*x^2 - 2*lambda_*x + 1)*A^2*e^(2*lambda_*x)/lambda_^3 x |--> -1/4*(2*lambda_^2*x^2 + 2*lambda_*x + 1)*A^2*e^(-2*lambda_*x)/lambda_^3"
      ]
     },
     "metadata": {},
     "output_type": "display_data"
    },
    {
     "data": {
      "text/html": [
       "<html><script type=\"math/tex; mode=display\">\\newcommand{\\Bold}[1]{\\mathbf{#1}}\\frac{A^{2}}{4 \\, \\lambda^{3}} -\\frac{A^{2}}{4 \\, \\lambda^{3}}</script></html>"
      ],
      "text/plain": [
       "1/4*A^2/lambda_^3 -1/4*A^2/lambda_^3"
      ]
     },
     "metadata": {},
     "output_type": "display_data"
    },
    {
     "data": {
      "text/html": [
       "<html><script type=\"math/tex; mode=display\">\\newcommand{\\Bold}[1]{\\mathbf{#1}}\\verb|<x^2>|\\phantom{\\verb!x!}\\verb|=| \\frac{A^{2}}{2 \\, \\lambda^{3}}</script></html>"
      ],
      "text/plain": [
       "'<x^2> = ' 1/2*A^2/lambda_^3"
      ]
     },
     "metadata": {},
     "output_type": "display_data"
    }
   ],
   "source": [
    "IL = integrate(PhiL * x^2 * conjugate(PhiL), x)\n",
    "IR = integrate(PhiR * x^2 * conjugate(PhiR), x)\n",
    "show(IL, IR)\n",
    "\n",
    "show(IL(0), IR(0))\n",
    "x2bar = (IL(0) - 0) + (0 - IR(0))\n",
    "show('<x^2> = ', x2bar)"
   ]
  },
  {
   "cell_type": "markdown",
   "metadata": {},
   "source": [
    "### Problem 1.9"
   ]
  },
  {
   "cell_type": "code",
   "execution_count": 5,
   "metadata": {},
   "outputs": [
    {
     "data": {
      "text/html": [
       "<html><script type=\"math/tex; mode=display\">\\newcommand{\\Bold}[1]{\\mathbf{#1}}x \\ {\\mapsto}\\ A e^{\\left(-\\frac{a m x^{2}}{h}\\right)}</script></html>"
      ],
      "text/plain": [
       "x |--> A*e^(-a*m*x^2/h)"
      ]
     },
     "metadata": {},
     "output_type": "display_data"
    },
    {
     "data": {
      "text/html": [
       "<html><script type=\"math/tex; mode=display\">\\newcommand{\\Bold}[1]{\\mathbf{#1}}\\verb|area=| \\frac{\\sqrt{2} \\sqrt{\\pi} A^{2}}{2 \\, \\sqrt{\\frac{a m}{h}}}</script></html>"
      ],
      "text/plain": [
       "'area=' 1/2*sqrt(2)*sqrt(pi)*A^2/sqrt(a*m/h)"
      ]
     },
     "metadata": {},
     "output_type": "display_data"
    },
    {
     "data": {
      "text/html": [
       "<html><script type=\"math/tex; mode=display\">\\newcommand{\\Bold}[1]{\\mathbf{#1}}\\verb|A2=| \\frac{\\sqrt{2} \\sqrt{\\frac{a m}{h}}}{\\sqrt{\\pi} A^{2}}</script></html>"
      ],
      "text/plain": [
       "'A2=' sqrt(2)*sqrt(a*m/h)/(sqrt(pi)*A^2)"
      ]
     },
     "metadata": {},
     "output_type": "display_data"
    }
   ],
   "source": [
    "a=var('a')\n",
    "A=var('A')\n",
    "h=var('h')\n",
    "m=var('m')\n",
    "assume(A, a, m, h, t, 'real')\n",
    "assume(A>0, h>0, m>0, a>0, t>0)\n",
    "Phi(x) = A * e^-(a*(m*x^2 / h))\n",
    "show(Phi)\n",
    "\n",
    "area = integrate(Phi * Phi, x, -oo, oo)\n",
    "show('area=',area)\n",
    "A2 = 1 / area\n",
    "show('A2=', A2)\n"
   ]
  },
  {
   "cell_type": "code",
   "execution_count": 6,
   "metadata": {},
   "outputs": [
    {
     "data": {
      "text/html": [
       "<html><script type=\"math/tex; mode=display\">\\newcommand{\\Bold}[1]{\\mathbf{#1}}\\left( x, t \\right) \\ {\\mapsto} \\ e^{\\left(-i \\, t - \\frac{x^{2}}{h}\\right)}</script></html>"
      ],
      "text/plain": [
       "(x, t) |--> e^(-I*t - x^2/h)"
      ]
     },
     "metadata": {},
     "output_type": "display_data"
    }
   ],
   "source": [
    "# Phi(x,t) = (2 * a * m / (pi * h))^(1/4) * e^(-a*((m * x^2/h) + i*t))\n",
    "Phi(x,t) = e^-((x^2/h + i*t))\n",
    "show(Phi)"
   ]
  },
  {
   "cell_type": "code",
   "execution_count": 7,
   "metadata": {},
   "outputs": [
    {
     "data": {
      "text/html": [
       "<html><script type=\"math/tex; mode=display\">\\newcommand{\\Bold}[1]{\\mathbf{#1}}t \\ {\\mapsto}\\ \\frac{1}{2} \\, \\sqrt{2} \\sqrt{\\pi} \\sqrt{h}</script></html>"
      ],
      "text/plain": [
       "t |--> 1/2*sqrt(2)*sqrt(pi)*sqrt(h)"
      ]
     },
     "metadata": {},
     "output_type": "display_data"
    }
   ],
   "source": [
    "J = integrate(Phi * conjugate(Phi), x, -oo, oo)\n",
    "show(J)"
   ]
  },
  {
   "cell_type": "code",
   "execution_count": 8,
   "metadata": {},
   "outputs": [
    {
     "data": {
      "text/html": [
       "<html><script type=\"math/tex; mode=display\">\\newcommand{\\Bold}[1]{\\mathbf{#1}}\\left( x, t \\right) \\ {\\mapsto} \\ -i \\, h {\\left(\\frac{i \\, h {\\left(\\frac{2 \\, x^{2} e^{\\left(-i \\, t - \\frac{x^{2}}{h}\\right)}}{h^{2}} - \\frac{e^{\\left(-i \\, t - \\frac{x^{2}}{h}\\right)}}{h}\\right)}}{m} + i \\, e^{\\left(-i \\, t - \\frac{x^{2}}{h}\\right)}\\right)} e^{\\left(i \\, t + \\frac{x^{2}}{h}\\right)}</script></html>"
      ],
      "text/plain": [
       "(x, t) |--> -I*h*(I*h*(2*x^2*e^(-I*t - x^2/h)/h^2 - e^(-I*t - x^2/h)/h)/m + I*e^(-I*t - x^2/h))*e^(I*t + x^2/h)"
      ]
     },
     "metadata": {},
     "output_type": "display_data"
    }
   ],
   "source": [
    "# For what V(x) is this a solution to SE?\n",
    "V(x, t ) = (h / i) * (1 / Phi) * ((i * h / (2 * m)) * Phi.diff(x).diff(x) - Phi.diff(t))\n",
    "show(V)"
   ]
  },
  {
   "cell_type": "code",
   "execution_count": 9,
   "metadata": {},
   "outputs": [
    {
     "data": {
      "text/html": [
       "<html><script type=\"math/tex; mode=display\">\\newcommand{\\Bold}[1]{\\mathbf{#1}}-i \\, h {\\left(\\frac{i \\, h {\\left(\\frac{2 \\, x^{2} e^{\\left(-\\frac{x^{2}}{h}\\right)}}{h^{2}} - \\frac{e^{\\left(-\\frac{x^{2}}{h}\\right)}}{h}\\right)}}{m} + i \\, e^{\\left(-\\frac{x^{2}}{h}\\right)}\\right)} e^{\\left(\\frac{x^{2}}{h}\\right)}</script></html>"
      ],
      "text/plain": [
       "-I*h*(I*h*(2*x^2*e^(-x^2/h)/h^2 - e^(-x^2/h)/h)/m + I*e^(-x^2/h))*e^(x^2/h)"
      ]
     },
     "metadata": {},
     "output_type": "display_data"
    }
   ],
   "source": [
    "show(V(x, 0))"
   ]
  },
  {
   "cell_type": "code",
   "execution_count": 10,
   "metadata": {},
   "outputs": [
    {
     "data": {
      "text/html": [
       "<html><script type=\"math/tex; mode=display\">\\newcommand{\\Bold}[1]{\\mathbf{#1}}n \\ {\\mapsto}\\ -2 \\, \\sqrt{30} \\sqrt{2} {\\left(\\frac{\\left(-1\\right)^{n}}{\\pi^{3} n^{3}} - \\frac{1}{\\pi^{3} n^{3}}\\right)}</script></html>"
      ],
      "text/plain": [
       "n |--> -2*sqrt(30)*sqrt(2)*((-1)^n/(pi^3*n^3) - 1/(pi^3*n^3))"
      ]
     },
     "metadata": {},
     "output_type": "display_data"
    }
   ],
   "source": [
    "a = 1 # var('a')\n",
    "n = var('n')\n",
    "# assume(a, 'real')\n",
    "# assume(a > 0)\n",
    "assume(n, 'integer')\n",
    "assume(n > 0)\n",
    "\n",
    "Phi(x) = sqrt(30/a^5) * x * (a - x)\n",
    "\n",
    "cn(n) = sqrt(2/a) * integrate(sin(pi * n * x / a) * Phi(x), x, 0, a)\n",
    "show(cn)"
   ]
  },
  {
   "cell_type": "code",
   "execution_count": 11,
   "metadata": {},
   "outputs": [
    {
     "data": {
      "text/plain": [
       "14108/3375*sqrt(30)*sqrt(2)/pi^3"
      ]
     },
     "execution_count": 11,
     "metadata": {},
     "output_type": "execute_result"
    }
   ],
   "source": [
    "sum([cn(n) for n in range(1,7)])"
   ]
  },
  {
   "cell_type": "code",
   "execution_count": 12,
   "metadata": {},
   "outputs": [
    {
     "data": {
      "text/html": [
       "<html><script type=\"math/tex; mode=display\">\\newcommand{\\Bold}[1]{\\mathbf{#1}}x \\ {\\mapsto}\\ \\frac{4 \\, \\sqrt{30} \\sqrt{2} \\sin\\left(9 \\, \\pi x\\right)}{729 \\, \\pi^{3}} + \\frac{4 \\, \\sqrt{30} \\sqrt{2} \\sin\\left(7 \\, \\pi x\\right)}{343 \\, \\pi^{3}} + \\frac{4 \\, \\sqrt{30} \\sqrt{2} \\sin\\left(5 \\, \\pi x\\right)}{125 \\, \\pi^{3}} + \\frac{4 \\, \\sqrt{30} \\sqrt{2} \\sin\\left(3 \\, \\pi x\\right)}{27 \\, \\pi^{3}} + \\frac{4 \\, \\sqrt{30} \\sqrt{2} \\sin\\left(\\pi x\\right)}{\\pi^{3}}</script></html>"
      ],
      "text/plain": [
       "x |--> 4/729*sqrt(30)*sqrt(2)*sin(9*pi*x)/pi^3 + 4/343*sqrt(30)*sqrt(2)*sin(7*pi*x)/pi^3 + 4/125*sqrt(30)*sqrt(2)*sin(5*pi*x)/pi^3 + 4/27*sqrt(30)*sqrt(2)*sin(3*pi*x)/pi^3 + 4*sqrt(30)*sqrt(2)*sin(pi*x)/pi^3"
      ]
     },
     "metadata": {},
     "output_type": "display_data"
    },
    {
     "data": {
      "image/png": "[encoded data removed]",
      "text/plain": [
       "Graphics object consisting of 1 graphics primitive"
      ]
     },
     "execution_count": 12,
     "metadata": {},
     "output_type": "execute_result"
    }
   ],
   "source": [
    "\n",
    "Phis(x) = sum([cn(n) * sin(n * pi * x / a) for n in range(1,10)])\n",
    "show(Phis)\n",
    "plot(Phis, 0,a)"
   ]
  },
  {
   "cell_type": "code",
   "execution_count": 13,
   "metadata": {},
   "outputs": [
    {
     "data": {
      "text/html": [
       "<html><script type=\"math/tex; mode=display\">\\newcommand{\\Bold}[1]{\\mathbf{#1}}\\frac{4 \\, \\sqrt{30} \\sqrt{2}}{\\pi^{3}}</script></html>"
      ],
      "text/plain": [
       "4*sqrt(30)*sqrt(2)/pi^3"
      ]
     },
     "metadata": {},
     "output_type": "display_data"
    },
    {
     "data": {
      "text/html": [
       "<html><script type=\"math/tex; mode=display\">\\newcommand{\\Bold}[1]{\\mathbf{#1}}0</script></html>"
      ],
      "text/plain": [
       "0"
      ]
     },
     "metadata": {},
     "output_type": "display_data"
    },
    {
     "data": {
      "text/html": [
       "<html><script type=\"math/tex; mode=display\">\\newcommand{\\Bold}[1]{\\mathbf{#1}}\\frac{4 \\, \\sqrt{30} \\sqrt{2}}{27 \\, \\pi^{3}}</script></html>"
      ],
      "text/plain": [
       "4/27*sqrt(30)*sqrt(2)/pi^3"
      ]
     },
     "metadata": {},
     "output_type": "display_data"
    }
   ],
   "source": [
    "show(cn(1))\n",
    "show(cn(2))\n",
    "show(cn(3))"
   ]
  },
  {
   "cell_type": "code",
   "execution_count": 14,
   "metadata": {},
   "outputs": [],
   "source": [
    "a=1;\n",
    "hbar=1;\n",
    "m=1;\n",
    "n=var('n')\n",
    "x=var('x')\n",
    "t=var('t')"
   ]
  },
  {
   "cell_type": "code",
   "execution_count": 15,
   "metadata": {},
   "outputs": [],
   "source": [
    "En(n)=n^2*pi^2*hbar^2/(2*m*a^2);\n",
    "psi(x,t,n) = sqrt(2/a)*sin(n*pi*x/a*exp(-i*En(n)*t/hbar));\n",
    "psiStar(x,t,n)=sqrt(2/a)*sin(n*pi*x/a*exp(i*En(n)*t/hbar));"
   ]
  },
  {
   "cell_type": "code",
   "execution_count": 16,
   "metadata": {},
   "outputs": [],
   "source": [
    "g(x) = sqrt(3/a)*(1-abs(x-a/2)/(a/2));"
   ]
  },
  {
   "cell_type": "code",
   "execution_count": 17,
   "metadata": {},
   "outputs": [],
   "source": [
    "cn(n)=integral(g(x)*psi(x,0,n), x, 0, a/2) + integral(g(x)*psi(x,0,n),x,a/2,a);"
   ]
  },
  {
   "cell_type": "code",
   "execution_count": 18,
   "metadata": {},
   "outputs": [
    {
     "data": {
      "text/html": [
       "<html><script type=\"math/tex; mode=display\">\\newcommand{\\Bold}[1]{\\mathbf{#1}}n \\ {\\mapsto}\\ \\frac{\\sqrt{3} \\sqrt{2} {\\left(\\pi n \\cos\\left(\\frac{1}{2} \\, \\pi n\\right) + 2 \\, \\sin\\left(\\frac{1}{2} \\, \\pi n\\right)\\right)}}{\\pi^{2} n^{2}} - \\frac{\\sqrt{3} \\sqrt{2} {\\left(\\pi n \\cos\\left(\\frac{1}{2} \\, \\pi n\\right) - 2 \\, \\sin\\left(\\frac{1}{2} \\, \\pi n\\right)\\right)}}{\\pi^{2} n^{2}}</script></html>"
      ],
      "text/plain": [
       "n |--> sqrt(3)*sqrt(2)*(pi*n*cos(1/2*pi*n) + 2*sin(1/2*pi*n))/(pi^2*n^2) - sqrt(3)*sqrt(2)*(pi*n*cos(1/2*pi*n) - 2*sin(1/2*pi*n))/(pi^2*n^2)"
      ]
     },
     "metadata": {},
     "output_type": "display_data"
    }
   ],
   "source": [
    "show(cn)"
   ]
  },
  {
   "cell_type": "code",
   "execution_count": 19,
   "metadata": {},
   "outputs": [
    {
     "data": {
      "text/plain": [
       "n |--> sqrt(3)*sqrt(2)*(pi*n*cos(1/2*pi*n) + 2*sin(1/2*pi*n))/(pi^2*n^2) - sqrt(3)*sqrt(2)*(pi*n*cos(1/2*pi*n) - 2*sin(1/2*pi*n))/(pi^2*n^2)"
      ]
     },
     "execution_count": 19,
     "metadata": {},
     "output_type": "execute_result"
    }
   ],
   "source": [
    "cn"
   ]
  },
  {
   "cell_type": "code",
   "execution_count": 20,
   "metadata": {},
   "outputs": [
    {
     "data": {
      "image/png": "[encoded data removed]",
      "text/plain": [
       "Graphics object consisting of 1 graphics primitive"
      ]
     },
     "execution_count": 20,
     "metadata": {},
     "output_type": "execute_result"
    }
   ],
   "source": [
    "plot(g,0,a,figsize=[5,4])"
   ]
  },
  {
   "cell_type": "code",
   "execution_count": 21,
   "metadata": {},
   "outputs": [
    {
     "data": {
      "text/html": [
       "<html><script type=\"math/tex; mode=display\">\\newcommand{\\Bold}[1]{\\mathbf{#1}}\\left[\\frac{4 \\, \\sqrt{3} \\sqrt{2}}{\\pi^{2}}, 0, -\\frac{4 \\, \\sqrt{3} \\sqrt{2}}{9 \\, \\pi^{2}}, 0, \\frac{4 \\, \\sqrt{3} \\sqrt{2}}{25 \\, \\pi^{2}}, 0, -\\frac{4 \\, \\sqrt{3} \\sqrt{2}}{49 \\, \\pi^{2}}, 0, \\frac{4 \\, \\sqrt{3} \\sqrt{2}}{81 \\, \\pi^{2}}\\right]</script></html>"
      ],
      "text/plain": [
       "[4*sqrt(3)*sqrt(2)/pi^2,\n",
       " 0,\n",
       " -4/9*sqrt(3)*sqrt(2)/pi^2,\n",
       " 0,\n",
       " 4/25*sqrt(3)*sqrt(2)/pi^2,\n",
       " 0,\n",
       " -4/49*sqrt(3)*sqrt(2)/pi^2,\n",
       " 0,\n",
       " 4/81*sqrt(3)*sqrt(2)/pi^2]"
      ]
     },
     "metadata": {},
     "output_type": "display_data"
    }
   ],
   "source": [
    "show([cn(i) for i in range(1,10)])"
   ]
  },
  {
   "cell_type": "markdown",
   "metadata": {},
   "source": [
    "## Looking at free particle wave packets"
   ]
  },
  {
   "cell_type": "code",
   "execution_count": 22,
   "metadata": {},
   "outputs": [],
   "source": [
    "a = 5 # var('a')\n",
    "m = 1 # var('m')\n",
    "hbar=1 # var('h')\n",
    "psiInit(x) = 1/sqrt(2*a)"
   ]
  },
  {
   "cell_type": "code",
   "execution_count": 23,
   "metadata": {},
   "outputs": [],
   "source": [
    "normCheck = integral(psiInit(x) * psiInit(x), x, -a, a)\n",
    "normCheck\n",
    "assert normCheck == 1"
   ]
  },
  {
   "cell_type": "code",
   "execution_count": 28,
   "metadata": {},
   "outputs": [],
   "source": [
    "psik(k) = 1/sqrt(2 * pi) * integral(1/sqrt(2*a) * e^(-i * k * x), x, -a, a)"
   ]
  },
  {
   "cell_type": "code",
   "execution_count": 29,
   "metadata": {
    "scrolled": false
   },
   "outputs": [
    {
     "data": {
      "text/html": [
       "<html><script type=\"math/tex; mode=display\">\\newcommand{\\Bold}[1]{\\mathbf{#1}}k \\ {\\mapsto}\\ \\frac{\\sqrt{10} \\sqrt{2} {\\left(-\\frac{i \\, e^{\\left(5 i \\, k\\right)}}{k} + \\frac{i \\, e^{\\left(-5 i \\, k\\right)}}{k}\\right)}}{20 \\, \\sqrt{\\pi}}</script></html>"
      ],
      "text/plain": [
       "k |--> 1/20*sqrt(10)*sqrt(2)*(-I*e^(5*I*k)/k + I*e^(-5*I*k)/k)/sqrt(pi)"
      ]
     },
     "metadata": {},
     "output_type": "display_data"
    }
   ],
   "source": [
    "show(psik)"
   ]
  },
  {
   "cell_type": "markdown",
   "metadata": {},
   "source": [
    "## Looking at Pauli matrices"
   ]
  },
  {
   "cell_type": "code",
   "execution_count": 5,
   "metadata": {},
   "outputs": [],
   "source": [
    "one = matrix([[1,0],[0,1]])\n",
    "zero = matrix([[0,0], [0,0]])\n",
    "p1 = matrix([[0,1],[1,0]])\n",
    "p2 = matrix([[0,-1j],[1j,0]])\n",
    "p3 = matrix([[1,0],[0,-1]])"
   ]
  },
  {
   "cell_type": "code",
   "execution_count": 6,
   "metadata": {},
   "outputs": [
    {
     "data": {
      "text/html": [
       "<html><script type=\"math/tex; mode=display\">\\newcommand{\\Bold}[1]{\\mathbf{#1}}\\left(\\begin{array}{rr}\n",
       "0.000000000000000 & -1.00000000000000i \\\\\n",
       "1.00000000000000i & 0.000000000000000\n",
       "\\end{array}\\right)</script></html>"
      ],
      "text/plain": [
       "[  0.000000000000000 -1.00000000000000*I]\n",
       "[ 1.00000000000000*I   0.000000000000000]"
      ]
     },
     "metadata": {},
     "output_type": "display_data"
    }
   ],
   "source": [
    "def pauli(i):\n",
    "    d = {1: p1, 2: p2, 3: p3}\n",
    "    return d[i]\n",
    "show(pauli(2))"
   ]
  },
  {
   "cell_type": "code",
   "execution_count": 7,
   "metadata": {},
   "outputs": [
    {
     "ename": "NameError",
     "evalue": "name 'np' is not defined",
     "output_type": "error",
     "traceback": [
      "\u001b[0;31m---------------------------------------------------------------------------\u001b[0m",
      "\u001b[0;31mNameError\u001b[0m                                 Traceback (most recent call last)",
      "\u001b[0;32m<ipython-input-7-215a8aa92c4b>\u001b[0m in \u001b[0;36m<module>\u001b[0;34m\u001b[0m\n\u001b[1;32m      7\u001b[0m             \u001b[0mnp\u001b[0m\u001b[0;34m.\u001b[0m\u001b[0mhstack\u001b[0m\u001b[0;34m(\u001b[0m\u001b[0;34m[\u001b[0m\u001b[0mc\u001b[0m\u001b[0;34m,\u001b[0m\u001b[0md\u001b[0m\u001b[0;34m]\u001b[0m\u001b[0;34m)\u001b[0m\u001b[0;34m\u001b[0m\u001b[0;34m\u001b[0m\u001b[0m\n\u001b[1;32m      8\u001b[0m     ]))\n\u001b[0;32m----> 9\u001b[0;31m \u001b[0mshow\u001b[0m\u001b[0;34m(\u001b[0m\u001b[0mcompose\u001b[0m\u001b[0;34m(\u001b[0m\u001b[0mone\u001b[0m\u001b[0;34m,\u001b[0m \u001b[0mp1\u001b[0m\u001b[0;34m,\u001b[0m \u001b[0mp2\u001b[0m\u001b[0;34m,\u001b[0m \u001b[0mp3\u001b[0m\u001b[0;34m)\u001b[0m\u001b[0;34m)\u001b[0m\u001b[0;34m\u001b[0m\u001b[0;34m\u001b[0m\u001b[0m\n\u001b[0m",
      "\u001b[0;32m<ipython-input-7-215a8aa92c4b>\u001b[0m in \u001b[0;36mcompose\u001b[0;34m(a, b, c, d)\u001b[0m\n\u001b[1;32m      3\u001b[0m     \u001b[0;31m# c d\u001b[0m\u001b[0;34m\u001b[0m\u001b[0;34m\u001b[0m\u001b[0;34m\u001b[0m\u001b[0m\n\u001b[1;32m      4\u001b[0m     return matrix(\n\u001b[0;32m----> 5\u001b[0;31m         np.vstack([\n\u001b[0m\u001b[1;32m      6\u001b[0m             \u001b[0mnp\u001b[0m\u001b[0;34m.\u001b[0m\u001b[0mhstack\u001b[0m\u001b[0;34m(\u001b[0m\u001b[0;34m[\u001b[0m\u001b[0ma\u001b[0m\u001b[0;34m,\u001b[0m\u001b[0mb\u001b[0m\u001b[0;34m]\u001b[0m\u001b[0;34m)\u001b[0m\u001b[0;34m,\u001b[0m\u001b[0;34m\u001b[0m\u001b[0;34m\u001b[0m\u001b[0m\n\u001b[1;32m      7\u001b[0m             \u001b[0mnp\u001b[0m\u001b[0;34m.\u001b[0m\u001b[0mhstack\u001b[0m\u001b[0;34m(\u001b[0m\u001b[0;34m[\u001b[0m\u001b[0mc\u001b[0m\u001b[0;34m,\u001b[0m\u001b[0md\u001b[0m\u001b[0;34m]\u001b[0m\u001b[0;34m)\u001b[0m\u001b[0;34m\u001b[0m\u001b[0;34m\u001b[0m\u001b[0m\n",
      "\u001b[0;31mNameError\u001b[0m: name 'np' is not defined"
     ]
    }
   ],
   "source": [
    "def compose(a,b,c,d):\n",
    "    # a b\n",
    "    # c d\n",
    "    return matrix(\n",
    "        np.vstack([\n",
    "            np.hstack([a,b]),\n",
    "            np.hstack([c,d])\n",
    "    ]))\n",
    "show(compose(one, p1, p2, p3))"
   ]
  },
  {
   "cell_type": "code",
   "execution_count": 8,
   "metadata": {},
   "outputs": [
    {
     "ename": "NameError",
     "evalue": "name 'np' is not defined",
     "output_type": "error",
     "traceback": [
      "\u001b[0;31m---------------------------------------------------------------------------\u001b[0m",
      "\u001b[0;31mNameError\u001b[0m                                 Traceback (most recent call last)",
      "\u001b[0;32m<ipython-input-8-c88b2fd6a139>\u001b[0m in \u001b[0;36m<module>\u001b[0;34m\u001b[0m\n\u001b[0;32m----> 1\u001b[0;31m g0 = compose(one, zero,\n\u001b[0m\u001b[1;32m      2\u001b[0m              zero, -one)\n\u001b[1;32m      3\u001b[0m \u001b[0mshow\u001b[0m\u001b[0;34m(\u001b[0m\u001b[0mg0\u001b[0m\u001b[0;34m)\u001b[0m\u001b[0;34m\u001b[0m\u001b[0;34m\u001b[0m\u001b[0m\n",
      "\u001b[0;32m<ipython-input-7-215a8aa92c4b>\u001b[0m in \u001b[0;36mcompose\u001b[0;34m(a, b, c, d)\u001b[0m\n\u001b[1;32m      3\u001b[0m     \u001b[0;31m# c d\u001b[0m\u001b[0;34m\u001b[0m\u001b[0;34m\u001b[0m\u001b[0;34m\u001b[0m\u001b[0m\n\u001b[1;32m      4\u001b[0m     return matrix(\n\u001b[0;32m----> 5\u001b[0;31m         np.vstack([\n\u001b[0m\u001b[1;32m      6\u001b[0m             \u001b[0mnp\u001b[0m\u001b[0;34m.\u001b[0m\u001b[0mhstack\u001b[0m\u001b[0;34m(\u001b[0m\u001b[0;34m[\u001b[0m\u001b[0ma\u001b[0m\u001b[0;34m,\u001b[0m\u001b[0mb\u001b[0m\u001b[0;34m]\u001b[0m\u001b[0;34m)\u001b[0m\u001b[0;34m,\u001b[0m\u001b[0;34m\u001b[0m\u001b[0;34m\u001b[0m\u001b[0m\n\u001b[1;32m      7\u001b[0m             \u001b[0mnp\u001b[0m\u001b[0;34m.\u001b[0m\u001b[0mhstack\u001b[0m\u001b[0;34m(\u001b[0m\u001b[0;34m[\u001b[0m\u001b[0mc\u001b[0m\u001b[0;34m,\u001b[0m\u001b[0md\u001b[0m\u001b[0;34m]\u001b[0m\u001b[0;34m)\u001b[0m\u001b[0;34m\u001b[0m\u001b[0;34m\u001b[0m\u001b[0m\n",
      "\u001b[0;31mNameError\u001b[0m: name 'np' is not defined"
     ]
    }
   ],
   "source": [
    "g0 = compose(one, zero,\n",
    "             zero, -one)\n",
    "show(g0)"
   ]
  },
  {
   "cell_type": "code",
   "execution_count": 78,
   "metadata": {},
   "outputs": [
    {
     "data": {
      "text/html": [
       "<html><script type=\"math/tex; mode=display\">\\newcommand{\\Bold}[1]{\\mathbf{#1}}\\left(\\begin{array}{rrrr}\n",
       "0.0 & 0.0 & 0.0 & -1.0i \\\\\n",
       "0.0 & 0.0 & 1.0i & 0.0 \\\\\n",
       "0.0 & 1.0i & 0.0 & 0.0 \\\\\n",
       "-1.0i & 0.0 & 0.0 & 0.0\n",
       "\\end{array}\\right)</script></html>"
      ],
      "text/plain": [
       "[   0.0    0.0    0.0 -1.0*I]\n",
       "[   0.0    0.0  1.0*I    0.0]\n",
       "[   0.0  1.0*I    0.0    0.0]\n",
       "[-1.0*I    0.0    0.0    0.0]"
      ]
     },
     "metadata": {},
     "output_type": "display_data"
    }
   ],
   "source": [
    "def gamma(i):\n",
    "    if i == 0:\n",
    "        return compose(one, zero, zero, -one)\n",
    "    else:\n",
    "        return compose(zero, pauli(i), -pauli(i), zero)\n",
    "show(gamma(2))"
   ]
  },
  {
   "cell_type": "code",
   "execution_count": 79,
   "metadata": {},
   "outputs": [],
   "source": [
    "def anticom(a,b):\n",
    "    return a*b + b*a"
   ]
  },
  {
   "cell_type": "code",
   "execution_count": 85,
   "metadata": {
    "scrolled": true
   },
   "outputs": [
    {
     "data": {
      "text/html": [
       "<div class=\"notruncate\">\n",
       "<table  class=\"table_form\">\n",
       "<tbody>\n",
       "<tr class =\"row-a\">\n",
       "<td><script type=\"math/tex\">\\left(\\begin{array}{rrrr}\n",
       "2 & 0 & 0 & 0 \\\\\n",
       "0 & 2 & 0 & 0 \\\\\n",
       "0 & 0 & 2 & 0 \\\\\n",
       "0 & 0 & 0 & 2\n",
       "\\end{array}\\right)</script></td>\n",
       "<td><script type=\"math/tex\">\\left(\\begin{array}{rrrr}\n",
       "0 & 0 & 0 & 0 \\\\\n",
       "0 & 0 & 0 & 0 \\\\\n",
       "0 & 0 & 0 & 0 \\\\\n",
       "0 & 0 & 0 & 0\n",
       "\\end{array}\\right)</script></td>\n",
       "<td><script type=\"math/tex\">\\left(\\begin{array}{rrrr}\n",
       "0.0 & 0.0 & 0.0 & 0.0 \\\\\n",
       "0.0 & 0.0 & 0.0 & 0.0 \\\\\n",
       "0.0 & 0.0 & 0.0 & 0.0 \\\\\n",
       "0.0 & 0.0 & 0.0 & 0.0\n",
       "\\end{array}\\right)</script></td>\n",
       "<td><script type=\"math/tex\">\\left(\\begin{array}{rrrr}\n",
       "0 & 0 & 0 & 0 \\\\\n",
       "0 & 0 & 0 & 0 \\\\\n",
       "0 & 0 & 0 & 0 \\\\\n",
       "0 & 0 & 0 & 0\n",
       "\\end{array}\\right)</script></td>\n",
       "</tr>\n",
       "<tr class =\"row-b\">\n",
       "<td><script type=\"math/tex\">\\left(\\begin{array}{rrrr}\n",
       "0 & 0 & 0 & 0 \\\\\n",
       "0 & 0 & 0 & 0 \\\\\n",
       "0 & 0 & 0 & 0 \\\\\n",
       "0 & 0 & 0 & 0\n",
       "\\end{array}\\right)</script></td>\n",
       "<td><script type=\"math/tex\">\\left(\\begin{array}{rrrr}\n",
       "-2 & 0 & 0 & 0 \\\\\n",
       "0 & -2 & 0 & 0 \\\\\n",
       "0 & 0 & -2 & 0 \\\\\n",
       "0 & 0 & 0 & -2\n",
       "\\end{array}\\right)</script></td>\n",
       "<td><script type=\"math/tex\">\\left(\\begin{array}{rrrr}\n",
       "0.0 & 0.0 & 0.0 & 0.0 \\\\\n",
       "0.0 & 0.0 & 0.0 & 0.0 \\\\\n",
       "0.0 & 0.0 & 0.0 & 0.0 \\\\\n",
       "0.0 & 0.0 & 0.0 & 0.0\n",
       "\\end{array}\\right)</script></td>\n",
       "<td><script type=\"math/tex\">\\left(\\begin{array}{rrrr}\n",
       "0 & 0 & 0 & 0 \\\\\n",
       "0 & 0 & 0 & 0 \\\\\n",
       "0 & 0 & 0 & 0 \\\\\n",
       "0 & 0 & 0 & 0\n",
       "\\end{array}\\right)</script></td>\n",
       "</tr>\n",
       "<tr class =\"row-a\">\n",
       "<td><script type=\"math/tex\">\\left(\\begin{array}{rrrr}\n",
       "0.0 & 0.0 & 0.0 & 0.0 \\\\\n",
       "0.0 & 0.0 & 0.0 & 0.0 \\\\\n",
       "0.0 & 0.0 & 0.0 & 0.0 \\\\\n",
       "0.0 & 0.0 & 0.0 & 0.0\n",
       "\\end{array}\\right)</script></td>\n",
       "<td><script type=\"math/tex\">\\left(\\begin{array}{rrrr}\n",
       "0.0 & 0.0 & 0.0 & 0.0 \\\\\n",
       "0.0 & 0.0 & 0.0 & 0.0 \\\\\n",
       "0.0 & 0.0 & 0.0 & 0.0 \\\\\n",
       "0.0 & 0.0 & 0.0 & 0.0\n",
       "\\end{array}\\right)</script></td>\n",
       "<td><script type=\"math/tex\">\\left(\\begin{array}{rrrr}\n",
       "-2.0 & 0.0 & 0.0 & 0.0 \\\\\n",
       "0.0 & -2.0 & 0.0 & 0.0 \\\\\n",
       "0.0 & 0.0 & -2.0 & 0.0 \\\\\n",
       "0.0 & 0.0 & 0.0 & -2.0\n",
       "\\end{array}\\right)</script></td>\n",
       "<td><script type=\"math/tex\">\\left(\\begin{array}{rrrr}\n",
       "0.0 & 0.0 & 0.0 & 0.0 \\\\\n",
       "0.0 & 0.0 & 0.0 & 0.0 \\\\\n",
       "0.0 & 0.0 & 0.0 & 0.0 \\\\\n",
       "0.0 & 0.0 & 0.0 & 0.0\n",
       "\\end{array}\\right)</script></td>\n",
       "</tr>\n",
       "<tr class =\"row-b\">\n",
       "<td><script type=\"math/tex\">\\left(\\begin{array}{rrrr}\n",
       "0 & 0 & 0 & 0 \\\\\n",
       "0 & 0 & 0 & 0 \\\\\n",
       "0 & 0 & 0 & 0 \\\\\n",
       "0 & 0 & 0 & 0\n",
       "\\end{array}\\right)</script></td>\n",
       "<td><script type=\"math/tex\">\\left(\\begin{array}{rrrr}\n",
       "0 & 0 & 0 & 0 \\\\\n",
       "0 & 0 & 0 & 0 \\\\\n",
       "0 & 0 & 0 & 0 \\\\\n",
       "0 & 0 & 0 & 0\n",
       "\\end{array}\\right)</script></td>\n",
       "<td><script type=\"math/tex\">\\left(\\begin{array}{rrrr}\n",
       "0.0 & 0.0 & 0.0 & 0.0 \\\\\n",
       "0.0 & 0.0 & 0.0 & 0.0 \\\\\n",
       "0.0 & 0.0 & 0.0 & 0.0 \\\\\n",
       "0.0 & 0.0 & 0.0 & 0.0\n",
       "\\end{array}\\right)</script></td>\n",
       "<td><script type=\"math/tex\">\\left(\\begin{array}{rrrr}\n",
       "-2 & 0 & 0 & 0 \\\\\n",
       "0 & -2 & 0 & 0 \\\\\n",
       "0 & 0 & -2 & 0 \\\\\n",
       "0 & 0 & 0 & -2\n",
       "\\end{array}\\right)</script></td>\n",
       "</tr>\n",
       "</tbody>\n",
       "</table>\n",
       "</div>"
      ],
      "text/plain": [
       "  [2 0 0 0]\n",
       "[0 2 0 0]\n",
       "[0 0 2 0]\n",
       "[0 0 0 2]                                   [0 0 0 0]\n",
       "[0 0 0 0]\n",
       "[0 0 0 0]\n",
       "[0 0 0 0]                                   [0.0 0.0 0.0 0.0]\n",
       "[0.0 0.0 0.0 0.0]\n",
       "[0.0 0.0 0.0 0.0]\n",
       "[0.0 0.0 0.0 0.0]                   [0 0 0 0]\n",
       "[0 0 0 0]\n",
       "[0 0 0 0]\n",
       "[0 0 0 0]\n",
       "  [0 0 0 0]\n",
       "[0 0 0 0]\n",
       "[0 0 0 0]\n",
       "[0 0 0 0]                                   [-2  0  0  0]\n",
       "[ 0 -2  0  0]\n",
       "[ 0  0 -2  0]\n",
       "[ 0  0  0 -2]                   [0.0 0.0 0.0 0.0]\n",
       "[0.0 0.0 0.0 0.0]\n",
       "[0.0 0.0 0.0 0.0]\n",
       "[0.0 0.0 0.0 0.0]                   [0 0 0 0]\n",
       "[0 0 0 0]\n",
       "[0 0 0 0]\n",
       "[0 0 0 0]\n",
       "  [0.0 0.0 0.0 0.0]\n",
       "[0.0 0.0 0.0 0.0]\n",
       "[0.0 0.0 0.0 0.0]\n",
       "[0.0 0.0 0.0 0.0]   [0.0 0.0 0.0 0.0]\n",
       "[0.0 0.0 0.0 0.0]\n",
       "[0.0 0.0 0.0 0.0]\n",
       "[0.0 0.0 0.0 0.0]   [-2.0  0.0  0.0  0.0]\n",
       "[ 0.0 -2.0  0.0  0.0]\n",
       "[ 0.0  0.0 -2.0  0.0]\n",
       "[ 0.0  0.0  0.0 -2.0]   [0.0 0.0 0.0 0.0]\n",
       "[0.0 0.0 0.0 0.0]\n",
       "[0.0 0.0 0.0 0.0]\n",
       "[0.0 0.0 0.0 0.0]\n",
       "  [0 0 0 0]\n",
       "[0 0 0 0]\n",
       "[0 0 0 0]\n",
       "[0 0 0 0]                                   [0 0 0 0]\n",
       "[0 0 0 0]\n",
       "[0 0 0 0]\n",
       "[0 0 0 0]                                   [0.0 0.0 0.0 0.0]\n",
       "[0.0 0.0 0.0 0.0]\n",
       "[0.0 0.0 0.0 0.0]\n",
       "[0.0 0.0 0.0 0.0]                   [-2  0  0  0]\n",
       "[ 0 -2  0  0]\n",
       "[ 0  0 -2  0]\n",
       "[ 0  0  0 -2]"
      ]
     },
     "metadata": {},
     "output_type": "display_data"
    }
   ],
   "source": [
    "rows = [[anticom(gamma(i), gamma(j)) for i in range(4)] for j in range(4)]\n",
    "show(table(rows))\n",
    "        "
   ]
  },
  {
   "cell_type": "code",
   "execution_count": 3,
   "metadata": {},
   "outputs": [
    {
     "data": {
      "text/plain": [
       "(4, 7, 0, 2)"
      ]
     },
     "execution_count": 3,
     "metadata": {},
     "output_type": "execute_result"
    }
   ],
   "source": [
    "r = vector([4, 7, 0, 2])\n",
    "r"
   ]
  },
  {
   "cell_type": "code",
   "execution_count": 4,
   "metadata": {},
   "outputs": [
    {
     "ename": "ValueError",
     "evalue": "oo times number < oo not defined",
     "output_type": "error",
     "traceback": [
      "\u001b[0;31m---------------------------------------------------------------------------\u001b[0m",
      "\u001b[0;31mValueError\u001b[0m                                Traceback (most recent call last)",
      "\u001b[0;32m<ipython-input-4-ac1f1294ceb9>\u001b[0m in \u001b[0;36m<module>\u001b[0;34m\u001b[0m\n\u001b[0;32m----> 1\u001b[0;31m \u001b[0mz\u001b[0m \u001b[0;34m=\u001b[0m \u001b[0msum\u001b[0m\u001b[0;34m(\u001b[0m\u001b[0mr\u001b[0m\u001b[0;34m[\u001b[0m\u001b[0mi\u001b[0m\u001b[0;34m]\u001b[0m \u001b[0;34m*\u001b[0m \u001b[0mgamma\u001b[0m\u001b[0;34m(\u001b[0m\u001b[0mi\u001b[0m\u001b[0;34m)\u001b[0m \u001b[0;32mfor\u001b[0m \u001b[0mi\u001b[0m \u001b[0;32min\u001b[0m \u001b[0mrange\u001b[0m\u001b[0;34m(\u001b[0m\u001b[0mInteger\u001b[0m\u001b[0;34m(\u001b[0m\u001b[0;36m4\u001b[0m\u001b[0;34m)\u001b[0m\u001b[0;34m)\u001b[0m\u001b[0;34m)\u001b[0m\u001b[0;34m\u001b[0m\u001b[0;34m\u001b[0m\u001b[0m\n\u001b[0m\u001b[1;32m      2\u001b[0m \u001b[0mz\u001b[0m\u001b[0;34m*\u001b[0m\u001b[0mz\u001b[0m\u001b[0;34m\u001b[0m\u001b[0;34m\u001b[0m\u001b[0m\n",
      "\u001b[0;32m/usr/lib/python3/dist-packages/sage/misc/functional.py\u001b[0m in \u001b[0;36msymbolic_sum\u001b[0;34m(expression, *args, **kwds)\u001b[0m\n\u001b[1;32m    575\u001b[0m         \u001b[0;32mreturn\u001b[0m \u001b[0mexpression\u001b[0m\u001b[0;34m.\u001b[0m\u001b[0msum\u001b[0m\u001b[0;34m(\u001b[0m\u001b[0;34m*\u001b[0m\u001b[0margs\u001b[0m\u001b[0;34m,\u001b[0m \u001b[0;34m**\u001b[0m\u001b[0mkwds\u001b[0m\u001b[0;34m)\u001b[0m\u001b[0;34m\u001b[0m\u001b[0;34m\u001b[0m\u001b[0m\n\u001b[1;32m    576\u001b[0m     \u001b[0;32melif\u001b[0m \u001b[0mlen\u001b[0m\u001b[0;34m(\u001b[0m\u001b[0margs\u001b[0m\u001b[0;34m)\u001b[0m \u001b[0;34m<=\u001b[0m \u001b[0;36m1\u001b[0m\u001b[0;34m:\u001b[0m\u001b[0;34m\u001b[0m\u001b[0;34m\u001b[0m\u001b[0m\n\u001b[0;32m--> 577\u001b[0;31m         \u001b[0;32mreturn\u001b[0m \u001b[0msum\u001b[0m\u001b[0;34m(\u001b[0m\u001b[0mexpression\u001b[0m\u001b[0;34m,\u001b[0m \u001b[0;34m*\u001b[0m\u001b[0margs\u001b[0m\u001b[0;34m)\u001b[0m\u001b[0;34m\u001b[0m\u001b[0;34m\u001b[0m\u001b[0m\n\u001b[0m\u001b[1;32m    578\u001b[0m     \u001b[0;32melse\u001b[0m\u001b[0;34m:\u001b[0m\u001b[0;34m\u001b[0m\u001b[0;34m\u001b[0m\u001b[0m\n\u001b[1;32m    579\u001b[0m         \u001b[0;32mfrom\u001b[0m \u001b[0msage\u001b[0m\u001b[0;34m.\u001b[0m\u001b[0msymbolic\u001b[0m\u001b[0;34m.\u001b[0m\u001b[0mring\u001b[0m \u001b[0;32mimport\u001b[0m \u001b[0mSR\u001b[0m\u001b[0;34m\u001b[0m\u001b[0;34m\u001b[0m\u001b[0m\n",
      "\u001b[0;32m<ipython-input-4-ac1f1294ceb9>\u001b[0m in \u001b[0;36m<genexpr>\u001b[0;34m(.0)\u001b[0m\n\u001b[0;32m----> 1\u001b[0;31m \u001b[0mz\u001b[0m \u001b[0;34m=\u001b[0m \u001b[0msum\u001b[0m\u001b[0;34m(\u001b[0m\u001b[0mr\u001b[0m\u001b[0;34m[\u001b[0m\u001b[0mi\u001b[0m\u001b[0;34m]\u001b[0m \u001b[0;34m*\u001b[0m \u001b[0mgamma\u001b[0m\u001b[0;34m(\u001b[0m\u001b[0mi\u001b[0m\u001b[0;34m)\u001b[0m \u001b[0;32mfor\u001b[0m \u001b[0mi\u001b[0m \u001b[0;32min\u001b[0m \u001b[0mrange\u001b[0m\u001b[0;34m(\u001b[0m\u001b[0mInteger\u001b[0m\u001b[0;34m(\u001b[0m\u001b[0;36m4\u001b[0m\u001b[0;34m)\u001b[0m\u001b[0;34m)\u001b[0m\u001b[0;34m)\u001b[0m\u001b[0;34m\u001b[0m\u001b[0;34m\u001b[0m\u001b[0m\n\u001b[0m\u001b[1;32m      2\u001b[0m \u001b[0mz\u001b[0m\u001b[0;34m*\u001b[0m\u001b[0mz\u001b[0m\u001b[0;34m\u001b[0m\u001b[0;34m\u001b[0m\u001b[0m\n",
      "\u001b[0;32m/usr/lib/python3/dist-packages/sage/rings/integer.pyx\u001b[0m in \u001b[0;36msage.rings.integer.Integer.__mul__ (build/cythonized/sage/rings/integer.c:13729)\u001b[0;34m()\u001b[0m\n\u001b[1;32m   1976\u001b[0m             \u001b[0;32mreturn\u001b[0m \u001b[0my\u001b[0m\u001b[0;34m\u001b[0m\u001b[0;34m\u001b[0m\u001b[0m\n\u001b[1;32m   1977\u001b[0m \u001b[0;34m\u001b[0m\u001b[0m\n\u001b[0;32m-> 1978\u001b[0;31m         \u001b[0;32mreturn\u001b[0m \u001b[0mcoercion_model\u001b[0m\u001b[0;34m.\u001b[0m\u001b[0mbin_op\u001b[0m\u001b[0;34m(\u001b[0m\u001b[0mleft\u001b[0m\u001b[0;34m,\u001b[0m \u001b[0mright\u001b[0m\u001b[0;34m,\u001b[0m \u001b[0moperator\u001b[0m\u001b[0;34m.\u001b[0m\u001b[0mmul\u001b[0m\u001b[0;34m)\u001b[0m\u001b[0;34m\u001b[0m\u001b[0;34m\u001b[0m\u001b[0m\n\u001b[0m\u001b[1;32m   1979\u001b[0m \u001b[0;34m\u001b[0m\u001b[0m\n\u001b[1;32m   1980\u001b[0m     \u001b[0mcpdef\u001b[0m \u001b[0m_mul_\u001b[0m\u001b[0;34m(\u001b[0m\u001b[0mself\u001b[0m\u001b[0;34m,\u001b[0m \u001b[0mright\u001b[0m\u001b[0;34m)\u001b[0m\u001b[0;34m:\u001b[0m\u001b[0;34m\u001b[0m\u001b[0;34m\u001b[0m\u001b[0m\n",
      "\u001b[0;32m/usr/lib/python3/dist-packages/sage/structure/coerce.pyx\u001b[0m in \u001b[0;36msage.structure.coerce.CoercionModel.bin_op (build/cythonized/sage/structure/coerce.c:10140)\u001b[0;34m()\u001b[0m\n\u001b[1;32m   1209\u001b[0m             \u001b[0mself\u001b[0m\u001b[0;34m.\u001b[0m\u001b[0m_record_exception\u001b[0m\u001b[0;34m(\u001b[0m\u001b[0;34m)\u001b[0m\u001b[0;34m\u001b[0m\u001b[0;34m\u001b[0m\u001b[0m\n\u001b[1;32m   1210\u001b[0m         \u001b[0;32melse\u001b[0m\u001b[0;34m:\u001b[0m\u001b[0;34m\u001b[0m\u001b[0;34m\u001b[0m\u001b[0m\n\u001b[0;32m-> 1211\u001b[0;31m             \u001b[0;32mreturn\u001b[0m \u001b[0mPyObject_CallObject\u001b[0m\u001b[0;34m(\u001b[0m\u001b[0mop\u001b[0m\u001b[0;34m,\u001b[0m \u001b[0mxy\u001b[0m\u001b[0;34m)\u001b[0m\u001b[0;34m\u001b[0m\u001b[0;34m\u001b[0m\u001b[0m\n\u001b[0m\u001b[1;32m   1212\u001b[0m \u001b[0;34m\u001b[0m\u001b[0m\n\u001b[1;32m   1213\u001b[0m         \u001b[0;32mif\u001b[0m \u001b[0mop\u001b[0m \u001b[0;32mis\u001b[0m \u001b[0mmul\u001b[0m\u001b[0;34m:\u001b[0m\u001b[0;34m\u001b[0m\u001b[0;34m\u001b[0m\u001b[0m\n",
      "\u001b[0;32m/usr/lib/python3/dist-packages/sage/structure/element.pyx\u001b[0m in \u001b[0;36msage.structure.element.Element.__mul__ (build/cythonized/sage/structure/element.c:11993)\u001b[0;34m()\u001b[0m\n\u001b[1;32m   1513\u001b[0m         \u001b[0mcdef\u001b[0m \u001b[0mint\u001b[0m \u001b[0mcl\u001b[0m \u001b[0;34m=\u001b[0m \u001b[0mclassify_elements\u001b[0m\u001b[0;34m(\u001b[0m\u001b[0mleft\u001b[0m\u001b[0;34m,\u001b[0m \u001b[0mright\u001b[0m\u001b[0;34m)\u001b[0m\u001b[0;34m\u001b[0m\u001b[0;34m\u001b[0m\u001b[0m\n\u001b[1;32m   1514\u001b[0m         \u001b[0;32mif\u001b[0m \u001b[0mHAVE_SAME_PARENT\u001b[0m\u001b[0;34m(\u001b[0m\u001b[0mcl\u001b[0m\u001b[0;34m)\u001b[0m\u001b[0;34m:\u001b[0m\u001b[0;34m\u001b[0m\u001b[0;34m\u001b[0m\u001b[0m\n\u001b[0;32m-> 1515\u001b[0;31m             \u001b[0;32mreturn\u001b[0m \u001b[0;34m(\u001b[0m\u001b[0;34m<\u001b[0m\u001b[0mElement\u001b[0m\u001b[0;34m>\u001b[0m\u001b[0mleft\u001b[0m\u001b[0;34m)\u001b[0m\u001b[0;34m.\u001b[0m\u001b[0m_mul_\u001b[0m\u001b[0;34m(\u001b[0m\u001b[0mright\u001b[0m\u001b[0;34m)\u001b[0m\u001b[0;34m\u001b[0m\u001b[0;34m\u001b[0m\u001b[0m\n\u001b[0m\u001b[1;32m   1516\u001b[0m         \u001b[0;32mif\u001b[0m \u001b[0mBOTH_ARE_ELEMENT\u001b[0m\u001b[0;34m(\u001b[0m\u001b[0mcl\u001b[0m\u001b[0;34m)\u001b[0m\u001b[0;34m:\u001b[0m\u001b[0;34m\u001b[0m\u001b[0;34m\u001b[0m\u001b[0m\n\u001b[1;32m   1517\u001b[0m             \u001b[0;32mreturn\u001b[0m \u001b[0mcoercion_model\u001b[0m\u001b[0;34m.\u001b[0m\u001b[0mbin_op\u001b[0m\u001b[0;34m(\u001b[0m\u001b[0mleft\u001b[0m\u001b[0;34m,\u001b[0m \u001b[0mright\u001b[0m\u001b[0;34m,\u001b[0m \u001b[0mmul\u001b[0m\u001b[0;34m)\u001b[0m\u001b[0;34m\u001b[0m\u001b[0;34m\u001b[0m\u001b[0m\n",
      "\u001b[0;32m/usr/lib/python3/dist-packages/sage/structure/element.pyx\u001b[0m in \u001b[0;36msage.structure.element.RingElement._mul_ (build/cythonized/sage/structure/element.c:17497)\u001b[0;34m()\u001b[0m\n\u001b[1;32m   2544\u001b[0m \u001b[0;34m\u001b[0m\u001b[0m\n\u001b[1;32m   2545\u001b[0m \u001b[0mcdef\u001b[0m \u001b[0;32mclass\u001b[0m \u001b[0mRingElement\u001b[0m\u001b[0;34m(\u001b[0m\u001b[0mModuleElement\u001b[0m\u001b[0;34m)\u001b[0m\u001b[0;34m:\u001b[0m\u001b[0;34m\u001b[0m\u001b[0;34m\u001b[0m\u001b[0m\n\u001b[0;32m-> 2546\u001b[0;31m     \u001b[0mcpdef\u001b[0m \u001b[0m_mul_\u001b[0m\u001b[0;34m(\u001b[0m\u001b[0mself\u001b[0m\u001b[0;34m,\u001b[0m \u001b[0mother\u001b[0m\u001b[0;34m)\u001b[0m\u001b[0;34m:\u001b[0m\u001b[0;34m\u001b[0m\u001b[0;34m\u001b[0m\u001b[0m\n\u001b[0m\u001b[1;32m   2547\u001b[0m         \"\"\"\n\u001b[1;32m   2548\u001b[0m         \u001b[0mAbstract\u001b[0m \u001b[0mmultiplication\u001b[0m \u001b[0mmethod\u001b[0m\u001b[0;34m\u001b[0m\u001b[0;34m\u001b[0m\u001b[0m\n",
      "\u001b[0;32m/usr/lib/python3/dist-packages/sage/rings/infinity.py\u001b[0m in \u001b[0;36m_mul_\u001b[0;34m(self, other)\u001b[0m\n\u001b[1;32m    836\u001b[0m         \"\"\"\n\u001b[1;32m    837\u001b[0m         \u001b[0;32mif\u001b[0m \u001b[0misinstance\u001b[0m\u001b[0;34m(\u001b[0m\u001b[0mother\u001b[0m\u001b[0;34m,\u001b[0m \u001b[0mUnsignedInfinity\u001b[0m\u001b[0;34m)\u001b[0m\u001b[0;34m:\u001b[0m\u001b[0;34m\u001b[0m\u001b[0;34m\u001b[0m\u001b[0m\n\u001b[0;32m--> 838\u001b[0;31m             \u001b[0;32mraise\u001b[0m \u001b[0mValueError\u001b[0m\u001b[0;34m(\u001b[0m\u001b[0;34m\"oo times number < oo not defined\"\u001b[0m\u001b[0;34m)\u001b[0m\u001b[0;34m\u001b[0m\u001b[0;34m\u001b[0m\u001b[0m\n\u001b[0m\u001b[1;32m    839\u001b[0m         \u001b[0;32mreturn\u001b[0m \u001b[0mself\u001b[0m\u001b[0;34m\u001b[0m\u001b[0;34m\u001b[0m\u001b[0m\n\u001b[1;32m    840\u001b[0m \u001b[0;34m\u001b[0m\u001b[0m\n",
      "\u001b[0;31mValueError\u001b[0m: oo times number < oo not defined"
     ]
    }
   ],
   "source": [
    "z = sum(r[i] * gamma(i) for i in range(4))\n",
    "z*z"
   ]
  },
  {
   "cell_type": "code",
   "execution_count": 107,
   "metadata": {},
   "outputs": [
    {
     "data": {
      "text/plain": [
       "[   0.0    0.0    0.0 -2.0*I]\n",
       "[   0.0    0.0  2.0*I    0.0]\n",
       "[   0.0  2.0*I    0.0    0.0]\n",
       "[-2.0*I    0.0    0.0    0.0]"
      ]
     },
     "execution_count": 107,
     "metadata": {},
     "output_type": "execute_result"
    }
   ],
   "source": [
    "2 * gamma(2)"
   ]
  },
  {
   "cell_type": "markdown",
   "metadata": {},
   "source": [
    "## Plane waves"
   ]
  },
  {
   "cell_type": "code",
   "execution_count": 48,
   "metadata": {},
   "outputs": [],
   "source": [
    "\n",
    "psi(x,t) = exp (i*(k*x - w*t))"
   ]
  },
  {
   "cell_type": "code",
   "execution_count": 49,
   "metadata": {},
   "outputs": [
    {
     "data": {
      "text/html": [
       "<html><script type=\"math/tex; mode=display\">\\newcommand{\\Bold}[1]{\\mathbf{#1}}\\left( x, t \\right) \\ {\\mapsto} \\ e^{\\left(-i \\, \\omega t + i \\, k x\\right)}</script></html>"
      ],
      "text/plain": [
       "(x, t) |--> e^(-I*omega_*t + I*k*x)"
      ]
     },
     "metadata": {},
     "output_type": "display_data"
    }
   ],
   "source": [
    "show(psi)"
   ]
  },
  {
   "cell_type": "code",
   "execution_count": 52,
   "metadata": {},
   "outputs": [
    {
     "data": {
      "text/html": [
       "<html><script type=\"math/tex; mode=display\">\\newcommand{\\Bold}[1]{\\mathbf{#1}}\\left( x, t \\right) \\ {\\mapsto} \\ -i \\, \\omega e^{\\left(-i \\, \\omega t + i \\, k x\\right)}</script></html>"
      ],
      "text/plain": [
       "(x, t) |--> -I*omega_*e^(-I*omega_*t + I*k*x)"
      ]
     },
     "metadata": {},
     "output_type": "display_data"
    }
   ],
   "source": [
    "show(diff(psi, t))"
   ]
  },
  {
   "cell_type": "code",
   "execution_count": 22,
   "metadata": {},
   "outputs": [],
   "source": [
    "px = var('px')\n",
    "py = var('py')\n",
    "pz = var('pz')\n",
    "U = sqrt((E+m) / (2*E)) * vector ([1, 0, pz/(E+m), (px + i * py)/(E+m)])"
   ]
  },
  {
   "cell_type": "code",
   "execution_count": 23,
   "metadata": {},
   "outputs": [
    {
     "data": {
      "text/html": [
       "<html><script type=\"math/tex; mode=display\">\\newcommand{\\Bold}[1]{\\mathbf{#1}}\\left(\\sqrt{\\frac{1}{2}} \\sqrt{\\frac{E + m}{E}},\\,0,\\,\\frac{\\sqrt{\\frac{1}{2}} \\mathit{pz} \\sqrt{\\frac{E + m}{E}}}{E + m},\\,\\frac{\\sqrt{\\frac{1}{2}} {\\left(\\mathit{px} + i \\, \\mathit{py}\\right)} \\sqrt{\\frac{E + m}{E}}}{E + m}\\right)</script></html>"
      ],
      "text/plain": [
       "(sqrt(1/2)*sqrt((E + m)/E), 0, sqrt(1/2)*pz*sqrt((E + m)/E)/(E + m), sqrt(1/2)*(px + I*py)*sqrt((E + m)/E)/(E + m))"
      ]
     },
     "metadata": {},
     "output_type": "display_data"
    }
   ],
   "source": [
    "show(U)"
   ]
  },
  {
   "cell_type": "code",
   "execution_count": 24,
   "metadata": {},
   "outputs": [
    {
     "data": {
      "text/html": [
       "<html><script type=\"math/tex; mode=display\">\\newcommand{\\Bold}[1]{\\mathbf{#1}}\\left(-\\frac{\\sqrt{\\frac{1}{2}} {\\left(\\frac{E + m}{E^{2}} - \\frac{1}{E}\\right)}}{2 \\, \\sqrt{\\frac{E + m}{E}}},\\,0,\\,-\\frac{\\sqrt{\\frac{1}{2}} \\mathit{pz} {\\left(\\frac{E + m}{E^{2}} - \\frac{1}{E}\\right)}}{2 \\, {\\left(E + m\\right)} \\sqrt{\\frac{E + m}{E}}} - \\frac{\\sqrt{\\frac{1}{2}} \\mathit{pz} \\sqrt{\\frac{E + m}{E}}}{{\\left(E + m\\right)}^{2}},\\,-\\frac{\\sqrt{\\frac{1}{2}} {\\left(\\mathit{px} + i \\, \\mathit{py}\\right)} {\\left(\\frac{E + m}{E^{2}} - \\frac{1}{E}\\right)}}{2 \\, {\\left(E + m\\right)} \\sqrt{\\frac{E + m}{E}}} - \\frac{\\sqrt{\\frac{1}{2}} {\\left(\\mathit{px} + i \\, \\mathit{py}\\right)} \\sqrt{\\frac{E + m}{E}}}{{\\left(E + m\\right)}^{2}}\\right)</script></html>"
      ],
      "text/plain": [
       "(-1/2*sqrt(1/2)*((E + m)/E^2 - 1/E)/sqrt((E + m)/E), 0, -1/2*sqrt(1/2)*pz*((E + m)/E^2 - 1/E)/((E + m)*sqrt((E + m)/E)) - sqrt(1/2)*pz*sqrt((E + m)/E)/(E + m)^2, -1/2*sqrt(1/2)*(px + I*py)*((E + m)/E^2 - 1/E)/((E + m)*sqrt((E + m)/E)) - sqrt(1/2)*(px + I*py)*sqrt((E + m)/E)/(E + m)^2)"
      ]
     },
     "metadata": {},
     "output_type": "display_data"
    }
   ],
   "source": [
    "show(diff(U, E))"
   ]
  },
  {
   "cell_type": "code",
   "execution_count": null,
   "metadata": {},
   "outputs": [],
   "source": [
    "psi = U * "
   ]
  }
 ],
 "metadata": {
  "kernelspec": {
   "display_name": "SageMath 9.0",
   "language": "sage",
   "name": "sagemath"
  },
  "language_info": {
   "codemirror_mode": {
    "name": "ipython",
    "version": 3
   },
   "file_extension": ".py",
   "mimetype": "text/x-python",
   "name": "python",
   "nbconvert_exporter": "python",
   "pygments_lexer": "ipython3",
   "version": "3.8.10"
  }
 },
 "nbformat": 4,
 "nbformat_minor": 4
}
