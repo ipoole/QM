{
 "cells": [
  {
   "cell_type": "markdown",
   "metadata": {},
   "source": [
    "# Numerical implementation of Dirac\n",
    "SageMath script.  (But probably could be just plain Python with some minor adjustment)."
   ]
  },
  {
   "cell_type": "code",
   "execution_count": 1,
   "metadata": {},
   "outputs": [],
   "source": [
    "import numpy as np\n",
    "import matplotlib.pyplot as plt"
   ]
  },
  {
   "cell_type": "code",
   "execution_count": 1,
   "metadata": {},
   "outputs": [],
   "source": [
    "## Pauli and Gamma matrices"
   ]
  },
  {
   "cell_type": "code",
   "execution_count": 6,
   "metadata": {},
   "outputs": [],
   "source": [
    "one = matrix([[1,0],[0,1]])\n",
    "zero = matrix([[0,0], [0,0]])\n",
    "p1 = matrix([[0,1],[1,0]])\n",
    "p2 = matrix([[0,-1j],[1j,0]])\n",
    "p3 = matrix([[1,0],[0,-1]])"
   ]
  },
  {
   "cell_type": "code",
   "execution_count": 7,
   "metadata": {},
   "outputs": [
    {
     "data": {
      "text/html": [
       "<html><script type=\"math/tex; mode=display\">\\newcommand{\\Bold}[1]{\\mathbf{#1}}\\left(\\begin{array}{rr}\n",
       "0 & 1 \\\\\n",
       "1 & 0\n",
       "\\end{array}\\right) \\left(\\begin{array}{rr}\n",
       "0.000000000000000 & -1.00000000000000i \\\\\n",
       "1.00000000000000i & 0.000000000000000\n",
       "\\end{array}\\right) \\left(\\begin{array}{rr}\n",
       "1 & 0 \\\\\n",
       "0 & -1\n",
       "\\end{array}\\right)</script></html>"
      ],
      "text/plain": [
       "[0 1]\n",
       "[1 0] [  0.000000000000000 -1.00000000000000*I]\n",
       "[ 1.00000000000000*I   0.000000000000000] [ 1  0]\n",
       "[ 0 -1]"
      ]
     },
     "metadata": {},
     "output_type": "display_data"
    }
   ],
   "source": [
    "def pauli(i):\n",
    "    d = {1: p1, 2: p2, 3: p3}\n",
    "    return d[i]\n",
    "show(pauli(1), pauli(2) ,pauli(3))"
   ]
  },
  {
   "cell_type": "code",
   "execution_count": 8,
   "metadata": {},
   "outputs": [
    {
     "data": {
      "text/html": [
       "<html><script type=\"math/tex; mode=display\">\\newcommand{\\Bold}[1]{\\mathbf{#1}}\\left(\\begin{array}{rrrr}\n",
       "1.0 & 0.0 & 0.0 & 1.0 \\\\\n",
       "0.0 & 1.0 & 1.0 & 0.0 \\\\\n",
       "0.0 & -1.0i & 1.0 & 0.0 \\\\\n",
       "1.0i & 0.0 & 0.0 & -1.0\n",
       "\\end{array}\\right)</script></html>"
      ],
      "text/plain": [
       "[   1.0    0.0    0.0    1.0]\n",
       "[   0.0    1.0    1.0    0.0]\n",
       "[   0.0 -1.0*I    1.0    0.0]\n",
       "[ 1.0*I    0.0    0.0   -1.0]"
      ]
     },
     "metadata": {},
     "output_type": "display_data"
    }
   ],
   "source": [
    "def compose(a,b,c,d):\n",
    "    # a b\n",
    "    # c d\n",
    "    return matrix(\n",
    "        np.vstack([\n",
    "            np.hstack([a,b]),\n",
    "            np.hstack([c,d])\n",
    "    ]))\n",
    "show(compose(one, p1, p2, p3))"
   ]
  },
  {
   "cell_type": "code",
   "execution_count": 9,
   "metadata": {},
   "outputs": [
    {
     "data": {
      "text/html": [
       "<html><script type=\"math/tex; mode=display\">\\newcommand{\\Bold}[1]{\\mathbf{#1}}\\left(\\begin{array}{rrrr}\n",
       "1 & 0 & 0 & 0 \\\\\n",
       "0 & 1 & 0 & 0 \\\\\n",
       "0 & 0 & -1 & 0 \\\\\n",
       "0 & 0 & 0 & -1\n",
       "\\end{array}\\right) \\left(\\begin{array}{rrrr}\n",
       "0 & 0 & 0 & 1 \\\\\n",
       "0 & 0 & 1 & 0 \\\\\n",
       "0 & -1 & 0 & 0 \\\\\n",
       "-1 & 0 & 0 & 0\n",
       "\\end{array}\\right) \\left(\\begin{array}{rrrr}\n",
       "0.0 & 0.0 & 0.0 & -1.0i \\\\\n",
       "0.0 & 0.0 & 1.0i & 0.0 \\\\\n",
       "0.0 & 1.0i & 0.0 & 0.0 \\\\\n",
       "-1.0i & 0.0 & 0.0 & 0.0\n",
       "\\end{array}\\right) \\left(\\begin{array}{rrrr}\n",
       "0 & 0 & 1 & 0 \\\\\n",
       "0 & 0 & 0 & -1 \\\\\n",
       "-1 & 0 & 0 & 0 \\\\\n",
       "0 & 1 & 0 & 0\n",
       "\\end{array}\\right)</script></html>"
      ],
      "text/plain": [
       "[ 1  0  0  0]\n",
       "[ 0  1  0  0]\n",
       "[ 0  0 -1  0]\n",
       "[ 0  0  0 -1] [ 0  0  0  1]\n",
       "[ 0  0  1  0]\n",
       "[ 0 -1  0  0]\n",
       "[-1  0  0  0] [   0.0    0.0    0.0 -1.0*I]\n",
       "[   0.0    0.0  1.0*I    0.0]\n",
       "[   0.0  1.0*I    0.0    0.0]\n",
       "[-1.0*I    0.0    0.0    0.0] [ 0  0  1  0]\n",
       "[ 0  0  0 -1]\n",
       "[-1  0  0  0]\n",
       "[ 0  1  0  0]"
      ]
     },
     "metadata": {},
     "output_type": "display_data"
    }
   ],
   "source": [
    "def gamma(i):\n",
    "    # The four gamma matrices\n",
    "    if i == 0:\n",
    "        return compose(one, zero, zero, -one)\n",
    "    else:\n",
    "        return compose(zero, pauli(i), -pauli(i), zero)\n",
    "show(gamma(0), gamma(1), gamma(2), gamma(3))"
   ]
  },
  {
   "cell_type": "code",
   "execution_count": 10,
   "metadata": {},
   "outputs": [
    {
     "name": "stdout",
     "output_type": "stream",
     "text": [
      "(1+1j)\n",
      "(0.7071067811865475+0.7071067811865475j)\n",
      "(0.7071067811865476+0.7071067811865476j)\n"
     ]
    }
   ],
   "source": [
    "def normalise(phi4):\n",
    "    a = np.sum(phi4 * np.conjugate(phi4))\n",
    "    return phi4 / sqrt(a)\n",
    "\n",
    "def test_normalise():\n",
    "    phi = np.zeros((6,6,6,4), np.cdouble)\n",
    "    phi[3,3,3,0] = 1 + 1.j\n",
    "    print(phi[3,3,3,0])\n",
    "    phi_n = normalise(phi)\n",
    "    print(phi_n[3,3,3,0])\n",
    "    phi_nn = normalise(phi_n)\n",
    "    print(phi_nn[3,3,3,0])\n",
    "    \n",
    "test_normalise()\n",
    "    "
   ]
  },
  {
   "cell_type": "markdown",
   "metadata": {},
   "source": [
    "## Define Phi(t+1) as a function of Phi(t)\n",
    "\n",
    "$i \\hbar \\gamma^\\mu \\partial_\\mu \\Psi - m \\Psi = 0$\n",
    "\n",
    "So rearanging for $\\partial\\Psi_t$\n",
    "\n",
    "$\\partial\\Psi_t = -\\frac{i}{\\hbar}(\\gamma^0 m + \\gamma^k \\partial_k) \\Psi$, $k=1,2,3$\n",
    "\n",
    "$\\partial\\Psi_t = -\\frac{i}{\\hbar}(m \\gamma^0 \\Psi + \\gamma^k \\partial_k \\Psi)$\n"
   ]
  },
  {
   "cell_type": "code",
   "execution_count": 11,
   "metadata": {},
   "outputs": [
    {
     "data": {
      "image/png": "[encoded data removed]",
      "text/plain": [
       "<Figure size 1728x144 with 11 Axes>"
      ]
     },
     "metadata": {
      "needs_background": "light"
     },
     "output_type": "display_data"
    },
    {
     "data": {
      "image/png": "[encoded data removed]",
      "text/plain": [
       "<Figure size 432x288 with 1 Axes>"
      ]
     },
     "metadata": {
      "needs_background": "light"
     },
     "output_type": "display_data"
    },
    {
     "data": {
      "image/png": "[encoded data removed]",
      "text/plain": [
       "<Figure size 432x288 with 1 Axes>"
      ]
     },
     "metadata": {
      "needs_background": "light"
     },
     "output_type": "display_data"
    }
   ],
   "source": [
    "def advance(phi4, m, dt):\n",
    "    # phy4 is a field defined over x,y,z, with as 4-spinor at each point\n",
    "    # phy4[x,y,z,s]  where s in 0..3\n",
    "    assert phi4.ndim == 4\n",
    "    # x,y,z gradients by shift (roll) and subtract\n",
    "    dx = (np.roll(phi4, 1, 0) - np.roll(phi4, -1, 0)) / 2\n",
    "    dy = (np.roll(phi4, 1, 1) - np.roll(phi4, -1, 1)) / 2\n",
    "    dz = (np.roll(phi4, 1, 2) - np.roll(phi4, -1, 2)) / 2\n",
    "    \n",
    "    ddt = -1.j * (\n",
    "        np.einsum('is,xyzs->xyzi', gamma(0), phi4) * m + \n",
    "            np.einsum('is,xyzs->xyzi', gamma(1), dx) + \n",
    "            np.einsum('is,xyzs->xyzi', gamma(2), dy) + \n",
    "            np.einsum('is,xyzs->xyzi', gamma(3), dz))\n",
    "    \n",
    "    return phi4 + ddt * dt\n",
    "    \n",
    "def test_advance():\n",
    "    s=30\n",
    "    hs=s//2\n",
    "    phi0 = np.zeros((s,s,s,4), np.cdouble)\n",
    "    \n",
    "    phi0[hs-1:hs+2,hs-1:hs+2,hs-1:hs+2, 0] = 0.3\n",
    "    phi0[hs,hs,hs,0] = 1\n",
    "    phi0 = normalise(phi0)\n",
    "    \n",
    "    m = 4\n",
    "    nsteps = 12\n",
    "    \n",
    "    plt.figure(figsize=(2*nsteps,2))\n",
    "    phi = phi0\n",
    "    for step in range(1, nsteps):\n",
    "        plt.subplot(1, nsteps, step)\n",
    "        plt.imshow(real_part(phi[:,:,hs,0]))\n",
    "        phi = normalise(advance(phi, m, .5))\n",
    "    plt.show()\n",
    "    \n",
    "    \n",
    "    phi = phi0\n",
    "    p=[]\n",
    "    tstep = 0.05\n",
    "    nsteps = 1000\n",
    "    for step in range(0, nsteps):\n",
    "        phi = normalise(advance(phi, m, tstep))\n",
    "        p += [abs(phi[hs,hs,hs,0])]\n",
    "    plt.plot(p)\n",
    "    plt.xlabel('t')\n",
    "    plt.xlim(0, tstep*nsteps)\n",
    "    plt.show()\n",
    "    \n",
    "    plt.figure()\n",
    "    plt.plot(abs(phi[:,hs,hs,0]))\n",
    "    plt.plot(abs(phi[:,hs,hs,1]))\n",
    "    plt.plot(abs(phi[:,hs,hs,2]))\n",
    "    plt.plot(abs(phi[:,hs,hs,3]))\n",
    "    plt.xlabel('x')\n",
    "    plt.show()\n",
    "   \n",
    "test_advance()\n",
    "    "
   ]
  }
 ],
 "metadata": {
  "kernelspec": {
   "display_name": "SageMath 9.0",
   "language": "sage",
   "name": "sagemath"
  },
  "language_info": {
   "codemirror_mode": {
    "name": "ipython",
    "version": 3
   },
   "file_extension": ".py",
   "mimetype": "text/x-python",
   "name": "python",
   "nbconvert_exporter": "python",
   "pygments_lexer": "ipython3",
   "version": "3.8.10"
  }
 },
 "nbformat": 4,
 "nbformat_minor": 4
}
