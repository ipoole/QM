{
 "cells": [
  {
   "cell_type": "markdown",
   "metadata": {},
   "source": [
    "# Implementing Dirac...\n",
    "This is a SageMath script.  Demonstrates a few things:\n",
    "* Demonstrate how Dirac's 4x4 $\\gamma$ matrices are composed from the Pauli matrices, and have interesting anticommute properties\n",
    "* Code the Dirac equation symbollicaly.\n",
    "* Code a plane wave function known to be a solution to Dirac\n",
    "* Demonstrate this is so\n",
    "* Code transformation of a wave function between spin-up / spin-down and demonstrate that both (and their superposition) satisfy Dirac\n",
    "* ToDo: As above for matter / antimatter.\n"
   ]
  },
  {
   "cell_type": "code",
   "execution_count": 51,
   "metadata": {},
   "outputs": [],
   "source": [
    "import numpy as np"
   ]
  },
  {
   "cell_type": "markdown",
   "metadata": {},
   "source": [
    "## Looking at Pauli matrices"
   ]
  },
  {
   "cell_type": "code",
   "execution_count": 52,
   "metadata": {},
   "outputs": [],
   "source": [
    "one = matrix([[1,0],[0,1]])\n",
    "zero = matrix([[0,0], [0,0]])\n",
    "p1 = matrix([[0,1],[1,0]])\n",
    "p2 = matrix([[0,-1j],[1j,0]])\n",
    "p3 = matrix([[1,0],[0,-1]])"
   ]
  },
  {
   "cell_type": "code",
   "execution_count": 53,
   "metadata": {},
   "outputs": [
    {
     "data": {
      "text/html": [
       "<html><script type=\"math/tex; mode=display\">\\newcommand{\\Bold}[1]{\\mathbf{#1}}\\left(\\begin{array}{rr}\n",
       "0 & 1 \\\\\n",
       "1 & 0\n",
       "\\end{array}\\right) \\left(\\begin{array}{rr}\n",
       "0.000000000000000 & -1.00000000000000i \\\\\n",
       "1.00000000000000i & 0.000000000000000\n",
       "\\end{array}\\right) \\left(\\begin{array}{rr}\n",
       "1 & 0 \\\\\n",
       "0 & -1\n",
       "\\end{array}\\right)</script></html>"
      ],
      "text/plain": [
       "[0 1]\n",
       "[1 0] [  0.000000000000000 -1.00000000000000*I]\n",
       "[ 1.00000000000000*I   0.000000000000000] [ 1  0]\n",
       "[ 0 -1]"
      ]
     },
     "metadata": {},
     "output_type": "display_data"
    }
   ],
   "source": [
    "def pauli(i):\n",
    "    d = {1: p1, 2: p2, 3: p3}\n",
    "    return d[i]\n",
    "show(pauli(1), pauli(2) ,pauli(3))"
   ]
  },
  {
   "cell_type": "markdown",
   "metadata": {},
   "source": [
    "## Compose the four gamma matrices"
   ]
  },
  {
   "cell_type": "code",
   "execution_count": 54,
   "metadata": {},
   "outputs": [
    {
     "data": {
      "text/html": [
       "<html><script type=\"math/tex; mode=display\">\\newcommand{\\Bold}[1]{\\mathbf{#1}}\\left(\\begin{array}{rrrr}\n",
       "1.0 & 0.0 & 0.0 & 1.0 \\\\\n",
       "0.0 & 1.0 & 1.0 & 0.0 \\\\\n",
       "0.0 & -1.0i & 1.0 & 0.0 \\\\\n",
       "1.0i & 0.0 & 0.0 & -1.0\n",
       "\\end{array}\\right)</script></html>"
      ],
      "text/plain": [
       "[   1.0    0.0    0.0    1.0]\n",
       "[   0.0    1.0    1.0    0.0]\n",
       "[   0.0 -1.0*I    1.0    0.0]\n",
       "[ 1.0*I    0.0    0.0   -1.0]"
      ]
     },
     "metadata": {},
     "output_type": "display_data"
    }
   ],
   "source": [
    "def compose(a,b,c,d):\n",
    "    # a b\n",
    "    # c d\n",
    "    return matrix(\n",
    "        np.vstack([\n",
    "            np.hstack([a,b]),\n",
    "            np.hstack([c,d])\n",
    "    ]))\n",
    "show(compose(one, p1, p2, p3))"
   ]
  },
  {
   "cell_type": "code",
   "execution_count": 55,
   "metadata": {},
   "outputs": [
    {
     "data": {
      "text/html": [
       "<html><script type=\"math/tex; mode=display\">\\newcommand{\\Bold}[1]{\\mathbf{#1}}\\left(\\begin{array}{rrrr}\n",
       "1 & 0 & 0 & 0 \\\\\n",
       "0 & 1 & 0 & 0 \\\\\n",
       "0 & 0 & -1 & 0 \\\\\n",
       "0 & 0 & 0 & -1\n",
       "\\end{array}\\right) \\left(\\begin{array}{rrrr}\n",
       "0 & 0 & 0 & 1 \\\\\n",
       "0 & 0 & 1 & 0 \\\\\n",
       "0 & -1 & 0 & 0 \\\\\n",
       "-1 & 0 & 0 & 0\n",
       "\\end{array}\\right) \\left(\\begin{array}{rrrr}\n",
       "0.0 & 0.0 & 0.0 & -1.0i \\\\\n",
       "0.0 & 0.0 & 1.0i & 0.0 \\\\\n",
       "0.0 & 1.0i & 0.0 & 0.0 \\\\\n",
       "-1.0i & 0.0 & 0.0 & 0.0\n",
       "\\end{array}\\right) \\left(\\begin{array}{rrrr}\n",
       "0 & 0 & 1 & 0 \\\\\n",
       "0 & 0 & 0 & -1 \\\\\n",
       "-1 & 0 & 0 & 0 \\\\\n",
       "0 & 1 & 0 & 0\n",
       "\\end{array}\\right)</script></html>"
      ],
      "text/plain": [
       "[ 1  0  0  0]\n",
       "[ 0  1  0  0]\n",
       "[ 0  0 -1  0]\n",
       "[ 0  0  0 -1] [ 0  0  0  1]\n",
       "[ 0  0  1  0]\n",
       "[ 0 -1  0  0]\n",
       "[-1  0  0  0] [   0.0    0.0    0.0 -1.0*I]\n",
       "[   0.0    0.0  1.0*I    0.0]\n",
       "[   0.0  1.0*I    0.0    0.0]\n",
       "[-1.0*I    0.0    0.0    0.0] [ 0  0  1  0]\n",
       "[ 0  0  0 -1]\n",
       "[-1  0  0  0]\n",
       "[ 0  1  0  0]"
      ]
     },
     "metadata": {},
     "output_type": "display_data"
    }
   ],
   "source": [
    "def gamma(i):\n",
    "    # The four gamma matrices\n",
    "    if i == 0:\n",
    "        return compose(one, zero, zero, -one)\n",
    "    else:\n",
    "        return compose(zero, pauli(i), -pauli(i), zero)\n",
    "show(gamma(0), gamma(1), gamma(2), gamma(3))"
   ]
  },
  {
   "cell_type": "markdown",
   "metadata": {},
   "source": [
    "## Check the anticommuator properties of the gamma matrices"
   ]
  },
  {
   "cell_type": "code",
   "execution_count": 56,
   "metadata": {},
   "outputs": [],
   "source": [
    "def anticom(a,b):\n",
    "    return a*b + b*a"
   ]
  },
  {
   "cell_type": "code",
   "execution_count": 57,
   "metadata": {},
   "outputs": [
    {
     "data": {
      "text/html": [
       "<div class=\"notruncate\">\n",
       "<table  class=\"table_form\">\n",
       "<tbody>\n",
       "<tr class =\"row-a\">\n",
       "<td><script type=\"math/tex\">\\left(\\begin{array}{rrrr}\n",
       "2 & 0 & 0 & 0 \\\\\n",
       "0 & 2 & 0 & 0 \\\\\n",
       "0 & 0 & 2 & 0 \\\\\n",
       "0 & 0 & 0 & 2\n",
       "\\end{array}\\right)</script></td>\n",
       "<td><script type=\"math/tex\">\\left(\\begin{array}{rrrr}\n",
       "0 & 0 & 0 & 0 \\\\\n",
       "0 & 0 & 0 & 0 \\\\\n",
       "0 & 0 & 0 & 0 \\\\\n",
       "0 & 0 & 0 & 0\n",
       "\\end{array}\\right)</script></td>\n",
       "<td><script type=\"math/tex\">\\left(\\begin{array}{rrrr}\n",
       "0.0 & 0.0 & 0.0 & 0.0 \\\\\n",
       "0.0 & 0.0 & 0.0 & 0.0 \\\\\n",
       "0.0 & 0.0 & 0.0 & 0.0 \\\\\n",
       "0.0 & 0.0 & 0.0 & 0.0\n",
       "\\end{array}\\right)</script></td>\n",
       "<td><script type=\"math/tex\">\\left(\\begin{array}{rrrr}\n",
       "0 & 0 & 0 & 0 \\\\\n",
       "0 & 0 & 0 & 0 \\\\\n",
       "0 & 0 & 0 & 0 \\\\\n",
       "0 & 0 & 0 & 0\n",
       "\\end{array}\\right)</script></td>\n",
       "</tr>\n",
       "<tr class =\"row-b\">\n",
       "<td><script type=\"math/tex\">\\left(\\begin{array}{rrrr}\n",
       "0 & 0 & 0 & 0 \\\\\n",
       "0 & 0 & 0 & 0 \\\\\n",
       "0 & 0 & 0 & 0 \\\\\n",
       "0 & 0 & 0 & 0\n",
       "\\end{array}\\right)</script></td>\n",
       "<td><script type=\"math/tex\">\\left(\\begin{array}{rrrr}\n",
       "-2 & 0 & 0 & 0 \\\\\n",
       "0 & -2 & 0 & 0 \\\\\n",
       "0 & 0 & -2 & 0 \\\\\n",
       "0 & 0 & 0 & -2\n",
       "\\end{array}\\right)</script></td>\n",
       "<td><script type=\"math/tex\">\\left(\\begin{array}{rrrr}\n",
       "0.0 & 0.0 & 0.0 & 0.0 \\\\\n",
       "0.0 & 0.0 & 0.0 & 0.0 \\\\\n",
       "0.0 & 0.0 & 0.0 & 0.0 \\\\\n",
       "0.0 & 0.0 & 0.0 & 0.0\n",
       "\\end{array}\\right)</script></td>\n",
       "<td><script type=\"math/tex\">\\left(\\begin{array}{rrrr}\n",
       "0 & 0 & 0 & 0 \\\\\n",
       "0 & 0 & 0 & 0 \\\\\n",
       "0 & 0 & 0 & 0 \\\\\n",
       "0 & 0 & 0 & 0\n",
       "\\end{array}\\right)</script></td>\n",
       "</tr>\n",
       "<tr class =\"row-a\">\n",
       "<td><script type=\"math/tex\">\\left(\\begin{array}{rrrr}\n",
       "0.0 & 0.0 & 0.0 & 0.0 \\\\\n",
       "0.0 & 0.0 & 0.0 & 0.0 \\\\\n",
       "0.0 & 0.0 & 0.0 & 0.0 \\\\\n",
       "0.0 & 0.0 & 0.0 & 0.0\n",
       "\\end{array}\\right)</script></td>\n",
       "<td><script type=\"math/tex\">\\left(\\begin{array}{rrrr}\n",
       "0.0 & 0.0 & 0.0 & 0.0 \\\\\n",
       "0.0 & 0.0 & 0.0 & 0.0 \\\\\n",
       "0.0 & 0.0 & 0.0 & 0.0 \\\\\n",
       "0.0 & 0.0 & 0.0 & 0.0\n",
       "\\end{array}\\right)</script></td>\n",
       "<td><script type=\"math/tex\">\\left(\\begin{array}{rrrr}\n",
       "-2.0 & 0.0 & 0.0 & 0.0 \\\\\n",
       "0.0 & -2.0 & 0.0 & 0.0 \\\\\n",
       "0.0 & 0.0 & -2.0 & 0.0 \\\\\n",
       "0.0 & 0.0 & 0.0 & -2.0\n",
       "\\end{array}\\right)</script></td>\n",
       "<td><script type=\"math/tex\">\\left(\\begin{array}{rrrr}\n",
       "0.0 & 0.0 & 0.0 & 0.0 \\\\\n",
       "0.0 & 0.0 & 0.0 & 0.0 \\\\\n",
       "0.0 & 0.0 & 0.0 & 0.0 \\\\\n",
       "0.0 & 0.0 & 0.0 & 0.0\n",
       "\\end{array}\\right)</script></td>\n",
       "</tr>\n",
       "<tr class =\"row-b\">\n",
       "<td><script type=\"math/tex\">\\left(\\begin{array}{rrrr}\n",
       "0 & 0 & 0 & 0 \\\\\n",
       "0 & 0 & 0 & 0 \\\\\n",
       "0 & 0 & 0 & 0 \\\\\n",
       "0 & 0 & 0 & 0\n",
       "\\end{array}\\right)</script></td>\n",
       "<td><script type=\"math/tex\">\\left(\\begin{array}{rrrr}\n",
       "0 & 0 & 0 & 0 \\\\\n",
       "0 & 0 & 0 & 0 \\\\\n",
       "0 & 0 & 0 & 0 \\\\\n",
       "0 & 0 & 0 & 0\n",
       "\\end{array}\\right)</script></td>\n",
       "<td><script type=\"math/tex\">\\left(\\begin{array}{rrrr}\n",
       "0.0 & 0.0 & 0.0 & 0.0 \\\\\n",
       "0.0 & 0.0 & 0.0 & 0.0 \\\\\n",
       "0.0 & 0.0 & 0.0 & 0.0 \\\\\n",
       "0.0 & 0.0 & 0.0 & 0.0\n",
       "\\end{array}\\right)</script></td>\n",
       "<td><script type=\"math/tex\">\\left(\\begin{array}{rrrr}\n",
       "-2 & 0 & 0 & 0 \\\\\n",
       "0 & -2 & 0 & 0 \\\\\n",
       "0 & 0 & -2 & 0 \\\\\n",
       "0 & 0 & 0 & -2\n",
       "\\end{array}\\right)</script></td>\n",
       "</tr>\n",
       "</tbody>\n",
       "</table>\n",
       "</div>"
      ],
      "text/plain": [
       "  [2 0 0 0]\n",
       "[0 2 0 0]\n",
       "[0 0 2 0]\n",
       "[0 0 0 2]                                   [0 0 0 0]\n",
       "[0 0 0 0]\n",
       "[0 0 0 0]\n",
       "[0 0 0 0]                                   [0.0 0.0 0.0 0.0]\n",
       "[0.0 0.0 0.0 0.0]\n",
       "[0.0 0.0 0.0 0.0]\n",
       "[0.0 0.0 0.0 0.0]                   [0 0 0 0]\n",
       "[0 0 0 0]\n",
       "[0 0 0 0]\n",
       "[0 0 0 0]\n",
       "  [0 0 0 0]\n",
       "[0 0 0 0]\n",
       "[0 0 0 0]\n",
       "[0 0 0 0]                                   [-2  0  0  0]\n",
       "[ 0 -2  0  0]\n",
       "[ 0  0 -2  0]\n",
       "[ 0  0  0 -2]                   [0.0 0.0 0.0 0.0]\n",
       "[0.0 0.0 0.0 0.0]\n",
       "[0.0 0.0 0.0 0.0]\n",
       "[0.0 0.0 0.0 0.0]                   [0 0 0 0]\n",
       "[0 0 0 0]\n",
       "[0 0 0 0]\n",
       "[0 0 0 0]\n",
       "  [0.0 0.0 0.0 0.0]\n",
       "[0.0 0.0 0.0 0.0]\n",
       "[0.0 0.0 0.0 0.0]\n",
       "[0.0 0.0 0.0 0.0]   [0.0 0.0 0.0 0.0]\n",
       "[0.0 0.0 0.0 0.0]\n",
       "[0.0 0.0 0.0 0.0]\n",
       "[0.0 0.0 0.0 0.0]   [-2.0  0.0  0.0  0.0]\n",
       "[ 0.0 -2.0  0.0  0.0]\n",
       "[ 0.0  0.0 -2.0  0.0]\n",
       "[ 0.0  0.0  0.0 -2.0]   [0.0 0.0 0.0 0.0]\n",
       "[0.0 0.0 0.0 0.0]\n",
       "[0.0 0.0 0.0 0.0]\n",
       "[0.0 0.0 0.0 0.0]\n",
       "  [0 0 0 0]\n",
       "[0 0 0 0]\n",
       "[0 0 0 0]\n",
       "[0 0 0 0]                                   [0 0 0 0]\n",
       "[0 0 0 0]\n",
       "[0 0 0 0]\n",
       "[0 0 0 0]                                   [0.0 0.0 0.0 0.0]\n",
       "[0.0 0.0 0.0 0.0]\n",
       "[0.0 0.0 0.0 0.0]\n",
       "[0.0 0.0 0.0 0.0]                   [-2  0  0  0]\n",
       "[ 0 -2  0  0]\n",
       "[ 0  0 -2  0]\n",
       "[ 0  0  0 -2]"
      ]
     },
     "metadata": {},
     "output_type": "display_data"
    }
   ],
   "source": [
    "rows = [[anticom(gamma(i), gamma(j)) for i in range(4)] for j in range(4)]\n",
    "show(table(rows))"
   ]
  },
  {
   "cell_type": "markdown",
   "metadata": {},
   "source": [
    "Now show that these gamma matrices have \"square root\" properties"
   ]
  },
  {
   "cell_type": "code",
   "execution_count": 58,
   "metadata": {},
   "outputs": [
    {
     "data": {
      "text/plain": [
       "(1, 6, 2, 4)"
      ]
     },
     "execution_count": 58,
     "metadata": {},
     "output_type": "execute_result"
    }
   ],
   "source": [
    "# Check for a random 4-vector\n",
    "r = vector([1,6,2,4])\n",
    "r"
   ]
  },
  {
   "cell_type": "code",
   "execution_count": 59,
   "metadata": {},
   "outputs": [
    {
     "data": {
      "text/plain": [
       "[         1.0          0.0          4.0  6.0 - 2.0*I]\n",
       "[         0.0          1.0  6.0 + 2.0*I         -4.0]\n",
       "[        -4.0 -6.0 + 2.0*I         -1.0          0.0]\n",
       "[-6.0 - 2.0*I          4.0          0.0         -1.0]"
      ]
     },
     "execution_count": 59,
     "metadata": {},
     "output_type": "execute_result"
    }
   ],
   "source": [
    "z = sum(r[i] * gamma(i) for i in range(4))\n",
    "z"
   ]
  },
  {
   "cell_type": "code",
   "execution_count": 60,
   "metadata": {},
   "outputs": [
    {
     "data": {
      "text/plain": [
       "[-55.0   0.0   0.0   0.0]\n",
       "[  0.0 -55.0   0.0   0.0]\n",
       "[  0.0   0.0 -55.0   0.0]\n",
       "[  0.0   0.0   0.0 -55.0]"
      ]
     },
     "execution_count": 60,
     "metadata": {},
     "output_type": "execute_result"
    }
   ],
   "source": [
    "# But when we square it we find the off-diagonal components are zero\n",
    "z*z"
   ]
  },
  {
   "cell_type": "markdown",
   "metadata": {},
   "source": [
    "## Defining a 4-spinor wave function\n",
    "This is a known solution to the Dirac equation which we will later check; actually deriving this solution would be a further challange.  It would be nice to model this as an explicit function of (t, r).  However, SageMath doesn't allow functions returning a vector, so we have to model as a simple variable, dependent on the variable t and r.  Not so clear...."
   ]
  },
  {
   "cell_type": "code",
   "execution_count": 73,
   "metadata": {},
   "outputs": [],
   "source": [
    "t = var('t')\n",
    "m = var('m')\n",
    "x,y,z = var(\"x,y,z\")\n",
    "r = vector([x,y,z])\n",
    "\n",
    "def generate_dirac_psi(p, E, m):\n",
    "    # Generate a 4-spinor state for a matter particle of momentum p, total energy E, mass m, spin up.\n",
    "    # For this to satisfy the Dirac Equation, we requre E^2 = p^2 + m^2\n",
    "    assert (E^2 == p.dot_product(p) + m^2)\n",
    "    \n",
    "    U = sqrt((E+m) / (2*E)) * vector ([\n",
    "            1, \n",
    "            0, \n",
    "            p[2]/(E+m), \n",
    "            (p[0] + i * p[1])/(E+m)\n",
    "        ])\n",
    "    return U * exp(i*(p.dot_product(r) - E*t))"
   ]
  },
  {
   "cell_type": "code",
   "execution_count": 74,
   "metadata": {},
   "outputs": [
    {
     "data": {
      "text/html": [
       "<html><script type=\"math/tex; mode=display\">\\newcommand{\\Bold}[1]{\\mathbf{#1}}\\left(3 \\, \\sqrt{\\frac{1}{10}} e^{\\left(-5 i \\, t + 3 i \\, x\\right)},\\,0,\\,0,\\,\\sqrt{\\frac{1}{10}} e^{\\left(-5 i \\, t + 3 i \\, x\\right)}\\right)</script></html>"
      ],
      "text/plain": [
       "(3*sqrt(1/10)*e^(-5*I*t + 3*I*x), 0, 0, sqrt(1/10)*e^(-5*I*t + 3*I*x))"
      ]
     },
     "metadata": {},
     "output_type": "display_data"
    }
   ],
   "source": [
    "# Generate a specific wave function to test\n",
    "M=4  # Mass of our particle\n",
    "dirac_psi = generate_dirac_psi(p=vector([3,0,0]), E=5, m=M)\n",
    "show(dirac_psi)\n",
    "# (Pitty I can't factor out the common exponent factor for better clarity)"
   ]
  },
  {
   "cell_type": "markdown",
   "metadata": {},
   "source": [
    "## The Dirac differential operator\n",
    "This implements the key operator $i \\hbar \\gamma^\\mu \\partial_\\mu$. (But we use $\\hbar=1$)\n",
    "\n",
    "Equivalent to $i \\hbar \\sum_{i=0}^{i=3} \\gamma(i) \\frac{\\partial}{\\partial X^i}$ where\n",
    "\n",
    "$\\gamma(i)$ is one of the four gamma matrices (composed from Pauli matrices) defined earlier, and \n",
    "\n",
    "$X^i$ is the $i$th spacetime coordinate : $X^0 = t, (X^1, X^2, X^3) = (x, y, z) = r$."
   ]
  },
  {
   "cell_type": "code",
   "execution_count": 75,
   "metadata": {},
   "outputs": [],
   "source": [
    "# Apply the Dirac differentrial operator to the given wave function\n",
    "def dirac_operator(psi):\n",
    "    X = vector([t,r[0], r[1], r[2]])\n",
    "    result = i * sum(gamma(q) * diff(psi, X[q]) for q in range(4))\n",
    "    return result"
   ]
  },
  {
   "cell_type": "markdown",
   "metadata": {},
   "source": [
    "## The Dirac equation\n",
    "\n",
    "$(i \\hbar \\gamma^\\mu \\partial_\\mu - m) \\Psi = 0$, or\n",
    "\n",
    "$(i \\hbar \\gamma^\\mu \\partial_\\mu \\Psi - m \\Psi = 0$\n",
    "\n",
    "Below we evaluate the LHS of this equation, using our carefully constructed wave function."
   ]
  },
  {
   "cell_type": "code",
   "execution_count": 64,
   "metadata": {},
   "outputs": [],
   "source": [
    "def apply_dirac_and_check(psi):\n",
    "    show(\"Psi:\", psi)\n",
    "    dirac_lhs = dirac_operator(psi) - m * psi\n",
    "    show(\"Dirac LHS:\", dirac_lhs)\n",
    "    show(f\"Dirac LHS (m={M}):\", dirac_lhs.substitute(m=M))\n",
    "    if dirac_lhs.substitute(m=M) == vector([0,0,0,0]):\n",
    "        print(\"Looks like Dirac was right after all!\")\n",
    "    else:\n",
    "        print(\"Dirac was wrong (can't possibly be me!)\")  "
   ]
  },
  {
   "cell_type": "code",
   "execution_count": 65,
   "metadata": {},
   "outputs": [
    {
     "data": {
      "text/html": [
       "<html><script type=\"math/tex; mode=display\">\\newcommand{\\Bold}[1]{\\mathbf{#1}}\\verb|Psi:| \\left(3 \\, \\sqrt{\\frac{1}{10}} e^{\\left(-5 i \\, t + 3 i \\, x\\right)},\\,0,\\,0,\\,\\sqrt{\\frac{1}{10}} e^{\\left(-5 i \\, t + 3 i \\, x\\right)}\\right)</script></html>"
      ],
      "text/plain": [
       "'Psi:' (3*sqrt(1/10)*e^(-5*I*t + 3*I*x), 0, 0, sqrt(1/10)*e^(-5*I*t + 3*I*x))"
      ]
     },
     "metadata": {},
     "output_type": "display_data"
    },
    {
     "data": {
      "text/html": [
       "<html><script type=\"math/tex; mode=display\">\\newcommand{\\Bold}[1]{\\mathbf{#1}}\\verb|Dirac|\\phantom{\\verb!x!}\\verb|LHS:| \\left(-3 \\, \\sqrt{\\frac{1}{10}} m e^{\\left(-5 i \\, t + 3 i \\, x\\right)} + 12 \\, \\sqrt{\\frac{1}{10}} e^{\\left(-5 i \\, t + 3 i \\, x\\right)},\\,0,\\,0,\\,-\\sqrt{\\frac{1}{10}} m e^{\\left(-5 i \\, t + 3 i \\, x\\right)} + 4 \\, \\sqrt{\\frac{1}{10}} e^{\\left(-5 i \\, t + 3 i \\, x\\right)}\\right)</script></html>"
      ],
      "text/plain": [
       "'Dirac LHS:' (-3*sqrt(1/10)*m*e^(-5*I*t + 3*I*x) + 12*sqrt(1/10)*e^(-5*I*t + 3*I*x), 0, 0, -sqrt(1/10)*m*e^(-5*I*t + 3*I*x) + 4*sqrt(1/10)*e^(-5*I*t + 3*I*x))"
      ]
     },
     "metadata": {},
     "output_type": "display_data"
    },
    {
     "data": {
      "text/html": [
       "<html><script type=\"math/tex; mode=display\">\\newcommand{\\Bold}[1]{\\mathbf{#1}}\\verb|Dirac|\\phantom{\\verb!x!}\\verb|LHS|\\phantom{\\verb!x!}\\verb|(m=4):| \\left(0,\\,0,\\,0,\\,0\\right)</script></html>"
      ],
      "text/plain": [
       "'Dirac LHS (m=4):' (0, 0, 0, 0)"
      ]
     },
     "metadata": {},
     "output_type": "display_data"
    },
    {
     "name": "stdout",
     "output_type": "stream",
     "text": [
      "Looks like Dirac was right after all!\n"
     ]
    }
   ],
   "source": [
    "apply_dirac_and_check(dirac_psi)"
   ]
  },
  {
   "cell_type": "code",
   "execution_count": 66,
   "metadata": {},
   "outputs": [
    {
     "data": {
      "application/vnd.jupyter.widget-view+json": {
       "model_id": "18766dcc7cbd4d33b679bbb2e268e4a5",
       "version_major": 2,
       "version_minor": 0
      },
      "text/plain": [
       "Interactive function <function show_psi.<locals>._ at 0x7f2ba3cf2820> with 2 widgets\n",
       "  T: SelectionSlider(value=0.0, options=(0.0, 0.2, 0.4, 0.6000000000000001, 0.8, 1.0, 1.2000000000000002, 1.4000000000000001, 1.6, 1.8, 2.0, 2.2, 2.4000000000000004, 2.6, 2.8000000000000003, 3.0, 3.2, 3.4000000000000004, 3.6, 3.8000000000000003, 4.0), description='T')\n",
       "  Select: Dropdown(value=0, options=(0, 1, 2, 3), description='Select')"
      ]
     },
     "metadata": {},
     "output_type": "display_data"
    }
   ],
   "source": [
    "# This interactive graphic doesn't show in the downloaded html, unfortunately.\n",
    "def show_psi(psi):\n",
    "    @interact\n",
    "    def _(T=slider(np.linspace(0, 4, 21)), Select=[0,1,2,3]):\n",
    "        pt = contour_plot(real_part(psi[Select].substitute(t=T, z=0)), (x, -5, 5), (y,-5, 5), axes_labels=['x', 'y'])\n",
    "        show(pt)\n",
    "\n",
    "show_psi(dirac_psi)"
   ]
  },
  {
   "cell_type": "code",
   "execution_count": 77,
   "metadata": {},
   "outputs": [
    {
     "data": {
      "image/png": "[encoded data removed]",
      "text/plain": [
       "Graphics object consisting of 1 graphics primitive"
      ]
     },
     "execution_count": 77,
     "metadata": {},
     "output_type": "execute_result"
    }
   ],
   "source": [
    "contour_plot(real_part(dirac_psi[0].substitute(t=0, z=0)), (x, -5, 5), (y,-5, 5), axes_labels=['x', 'y'])"
   ]
  },
  {
   "cell_type": "markdown",
   "metadata": {},
   "source": [
    "## Transforming spinors - spin up <-> spin down\n",
    "Transforming between spin up and spin down invoves applying a 180' rotation to each to each half of the 4-spinor.\n",
    "We need to rotate about the Y axis, so that is $\\alpha_y$, which is pauli(2) as defined above."
   ]
  },
  {
   "cell_type": "code",
   "execution_count": 67,
   "metadata": {},
   "outputs": [],
   "source": [
    "def opposite_spin(psi):\n",
    "    Ry = pauli(1)\n",
    "    rotator = compose(Ry, zero, zero, Ry)\n",
    "    return rotator * psi"
   ]
  },
  {
   "cell_type": "code",
   "execution_count": 68,
   "metadata": {},
   "outputs": [
    {
     "data": {
      "text/html": [
       "<html><script type=\"math/tex; mode=display\">\\newcommand{\\Bold}[1]{\\mathbf{#1}}\\verb|Up:| \\left(3 \\, \\sqrt{\\frac{1}{10}} e^{\\left(-5 i \\, t + 3 i \\, x\\right)},\\,0,\\,0,\\,\\sqrt{\\frac{1}{10}} e^{\\left(-5 i \\, t + 3 i \\, x\\right)}\\right)</script></html>"
      ],
      "text/plain": [
       "'Up:' (3*sqrt(1/10)*e^(-5*I*t + 3*I*x), 0, 0, sqrt(1/10)*e^(-5*I*t + 3*I*x))"
      ]
     },
     "metadata": {},
     "output_type": "display_data"
    },
    {
     "data": {
      "text/html": [
       "<html><script type=\"math/tex; mode=display\">\\newcommand{\\Bold}[1]{\\mathbf{#1}}\\verb|Down:| \\left(0,\\,3 \\, \\sqrt{\\frac{1}{10}} e^{\\left(-5 i \\, t + 3 i \\, x\\right)},\\,\\sqrt{\\frac{1}{10}} e^{\\left(-5 i \\, t + 3 i \\, x\\right)},\\,0\\right)</script></html>"
      ],
      "text/plain": [
       "'Down:' (0, 3*sqrt(1/10)*e^(-5*I*t + 3*I*x), sqrt(1/10)*e^(-5*I*t + 3*I*x), 0)"
      ]
     },
     "metadata": {},
     "output_type": "display_data"
    },
    {
     "data": {
      "text/html": [
       "<html><script type=\"math/tex; mode=display\">\\newcommand{\\Bold}[1]{\\mathbf{#1}}\\verb|Up:| \\left(3 \\, \\sqrt{\\frac{1}{10}} e^{\\left(-5 i \\, t + 3 i \\, x\\right)},\\,0,\\,0,\\,\\sqrt{\\frac{1}{10}} e^{\\left(-5 i \\, t + 3 i \\, x\\right)}\\right)</script></html>"
      ],
      "text/plain": [
       "'Up:' (3*sqrt(1/10)*e^(-5*I*t + 3*I*x), 0, 0, sqrt(1/10)*e^(-5*I*t + 3*I*x))"
      ]
     },
     "metadata": {},
     "output_type": "display_data"
    }
   ],
   "source": [
    "show(\"Up:\", dirac_psi)\n",
    "dirac_down_psi = opposite_spin(dirac_psi)\n",
    "show(\"Down:\", dirac_down_psi)\n",
    "dirac_up_psi = opposite_spin(dirac_down_psi)\n",
    "show(\"Up:\", dirac_up_psi)\n",
    "\n",
    "assert dirac_up_psi == dirac_psi"
   ]
  },
  {
   "cell_type": "code",
   "execution_count": 69,
   "metadata": {},
   "outputs": [
    {
     "data": {
      "text/html": [
       "<html><script type=\"math/tex; mode=display\">\\newcommand{\\Bold}[1]{\\mathbf{#1}}\\verb|Psi:| \\left(0,\\,3 \\, \\sqrt{\\frac{1}{10}} e^{\\left(-5 i \\, t + 3 i \\, x\\right)},\\,\\sqrt{\\frac{1}{10}} e^{\\left(-5 i \\, t + 3 i \\, x\\right)},\\,0\\right)</script></html>"
      ],
      "text/plain": [
       "'Psi:' (0, 3*sqrt(1/10)*e^(-5*I*t + 3*I*x), sqrt(1/10)*e^(-5*I*t + 3*I*x), 0)"
      ]
     },
     "metadata": {},
     "output_type": "display_data"
    },
    {
     "data": {
      "text/html": [
       "<html><script type=\"math/tex; mode=display\">\\newcommand{\\Bold}[1]{\\mathbf{#1}}\\verb|Dirac|\\phantom{\\verb!x!}\\verb|LHS:| \\left(0,\\,-3 \\, \\sqrt{\\frac{1}{10}} m e^{\\left(-5 i \\, t + 3 i \\, x\\right)} + 12 \\, \\sqrt{\\frac{1}{10}} e^{\\left(-5 i \\, t + 3 i \\, x\\right)},\\,-\\sqrt{\\frac{1}{10}} m e^{\\left(-5 i \\, t + 3 i \\, x\\right)} + 4 \\, \\sqrt{\\frac{1}{10}} e^{\\left(-5 i \\, t + 3 i \\, x\\right)},\\,0\\right)</script></html>"
      ],
      "text/plain": [
       "'Dirac LHS:' (0, -3*sqrt(1/10)*m*e^(-5*I*t + 3*I*x) + 12*sqrt(1/10)*e^(-5*I*t + 3*I*x), -sqrt(1/10)*m*e^(-5*I*t + 3*I*x) + 4*sqrt(1/10)*e^(-5*I*t + 3*I*x), 0)"
      ]
     },
     "metadata": {},
     "output_type": "display_data"
    },
    {
     "data": {
      "text/html": [
       "<html><script type=\"math/tex; mode=display\">\\newcommand{\\Bold}[1]{\\mathbf{#1}}\\verb|Dirac|\\phantom{\\verb!x!}\\verb|LHS|\\phantom{\\verb!x!}\\verb|(m=4):| \\left(0,\\,0,\\,0,\\,0\\right)</script></html>"
      ],
      "text/plain": [
       "'Dirac LHS (m=4):' (0, 0, 0, 0)"
      ]
     },
     "metadata": {},
     "output_type": "display_data"
    },
    {
     "name": "stdout",
     "output_type": "stream",
     "text": [
      "Looks like Dirac was right after all!\n"
     ]
    }
   ],
   "source": [
    "apply_dirac_and_check(dirac_down_psi)"
   ]
  },
  {
   "cell_type": "code",
   "execution_count": 70,
   "metadata": {},
   "outputs": [
    {
     "data": {
      "text/html": [
       "<html><script type=\"math/tex; mode=display\">\\newcommand{\\Bold}[1]{\\mathbf{#1}}\\verb|Psi:| \\left(3 \\, \\sqrt{\\frac{1}{10}} e^{\\left(-5 i \\, t + 3 i \\, x\\right)},\\,3 \\, \\sqrt{\\frac{1}{10}} e^{\\left(-5 i \\, t + 3 i \\, x\\right)},\\,\\sqrt{\\frac{1}{10}} e^{\\left(-5 i \\, t + 3 i \\, x\\right)},\\,\\sqrt{\\frac{1}{10}} e^{\\left(-5 i \\, t + 3 i \\, x\\right)}\\right)</script></html>"
      ],
      "text/plain": [
       "'Psi:' (3*sqrt(1/10)*e^(-5*I*t + 3*I*x), 3*sqrt(1/10)*e^(-5*I*t + 3*I*x), sqrt(1/10)*e^(-5*I*t + 3*I*x), sqrt(1/10)*e^(-5*I*t + 3*I*x))"
      ]
     },
     "metadata": {},
     "output_type": "display_data"
    },
    {
     "data": {
      "text/html": [
       "<html><script type=\"math/tex; mode=display\">\\newcommand{\\Bold}[1]{\\mathbf{#1}}\\verb|Dirac|\\phantom{\\verb!x!}\\verb|LHS:| \\left(-3 \\, \\sqrt{\\frac{1}{10}} m e^{\\left(-5 i \\, t + 3 i \\, x\\right)} + 12 \\, \\sqrt{\\frac{1}{10}} e^{\\left(-5 i \\, t + 3 i \\, x\\right)},\\,-3 \\, \\sqrt{\\frac{1}{10}} m e^{\\left(-5 i \\, t + 3 i \\, x\\right)} + 12 \\, \\sqrt{\\frac{1}{10}} e^{\\left(-5 i \\, t + 3 i \\, x\\right)},\\,-\\sqrt{\\frac{1}{10}} m e^{\\left(-5 i \\, t + 3 i \\, x\\right)} + 4 \\, \\sqrt{\\frac{1}{10}} e^{\\left(-5 i \\, t + 3 i \\, x\\right)},\\,-\\sqrt{\\frac{1}{10}} m e^{\\left(-5 i \\, t + 3 i \\, x\\right)} + 4 \\, \\sqrt{\\frac{1}{10}} e^{\\left(-5 i \\, t + 3 i \\, x\\right)}\\right)</script></html>"
      ],
      "text/plain": [
       "'Dirac LHS:' (-3*sqrt(1/10)*m*e^(-5*I*t + 3*I*x) + 12*sqrt(1/10)*e^(-5*I*t + 3*I*x), -3*sqrt(1/10)*m*e^(-5*I*t + 3*I*x) + 12*sqrt(1/10)*e^(-5*I*t + 3*I*x), -sqrt(1/10)*m*e^(-5*I*t + 3*I*x) + 4*sqrt(1/10)*e^(-5*I*t + 3*I*x), -sqrt(1/10)*m*e^(-5*I*t + 3*I*x) + 4*sqrt(1/10)*e^(-5*I*t + 3*I*x))"
      ]
     },
     "metadata": {},
     "output_type": "display_data"
    },
    {
     "data": {
      "text/html": [
       "<html><script type=\"math/tex; mode=display\">\\newcommand{\\Bold}[1]{\\mathbf{#1}}\\verb|Dirac|\\phantom{\\verb!x!}\\verb|LHS|\\phantom{\\verb!x!}\\verb|(m=4):| \\left(0,\\,0,\\,0,\\,0\\right)</script></html>"
      ],
      "text/plain": [
       "'Dirac LHS (m=4):' (0, 0, 0, 0)"
      ]
     },
     "metadata": {},
     "output_type": "display_data"
    },
    {
     "name": "stdout",
     "output_type": "stream",
     "text": [
      "Looks like Dirac was right after all!\n"
     ]
    }
   ],
   "source": [
    "apply_dirac_and_check(dirac_down_psi + dirac_up_psi)"
   ]
  },
  {
   "cell_type": "code",
   "execution_count": 71,
   "metadata": {},
   "outputs": [
    {
     "data": {
      "application/vnd.jupyter.widget-view+json": {
       "model_id": "847340ef202a4210819e184680f8e610",
       "version_major": 2,
       "version_minor": 0
      },
      "text/plain": [
       "Interactive function <function show_psi.<locals>._ at 0x7f2ba38b4ca0> with 2 widgets\n",
       "  T: SelectionSlider(value=0.0, options=(0.0, 0.2, 0.4, 0.6000000000000001, 0.8, 1.0, 1.2000000000000002, 1.4000000000000001, 1.6, 1.8, 2.0, 2.2, 2.4000000000000004, 2.6, 2.8000000000000003, 3.0, 3.2, 3.4000000000000004, 3.6, 3.8000000000000003, 4.0), description='T')\n",
       "  Select: Dropdown(value=0, options=(0, 1, 2, 3), description='Select')"
      ]
     },
     "metadata": {},
     "output_type": "display_data"
    }
   ],
   "source": [
    "# Lets look at a superposition of spin up and down wave functions\n",
    "show_psi(dirac_down_psi + dirac_up_psi)"
   ]
  },
  {
   "cell_type": "code",
   "execution_count": 72,
   "metadata": {},
   "outputs": [],
   "source": [
    "# ToDo: transform between matter / anti-matter."
   ]
  },
  {
   "cell_type": "code",
   "execution_count": null,
   "metadata": {},
   "outputs": [],
   "source": []
  }
 ],
 "metadata": {
  "kernelspec": {
   "display_name": "SageMath 9.0",
   "language": "sage",
   "name": "sagemath"
  },
  "language_info": {
   "codemirror_mode": {
    "name": "ipython",
    "version": 3
   },
   "file_extension": ".py",
   "mimetype": "text/x-python",
   "name": "python",
   "nbconvert_exporter": "python",
   "pygments_lexer": "ipython3",
   "version": "3.8.10"
  }
 },
 "nbformat": 4,
 "nbformat_minor": 4
}
