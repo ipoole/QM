{
 "cells": [
  {
   "cell_type": "markdown",
   "metadata": {},
   "source": [
    "# Implementing Dirac..."
   ]
  },
  {
   "cell_type": "code",
   "execution_count": 19,
   "metadata": {},
   "outputs": [],
   "source": [
    "import numpy as np"
   ]
  },
  {
   "cell_type": "code",
   "execution_count": 20,
   "metadata": {},
   "outputs": [],
   "source": [
    "l = var('lambda_')\n",
    "w = var('omega_')\n",
    "t = var('t')\n",
    "k = var('k')\n",
    "E = var('E')\n",
    "m = var('m')\n",
    "p = var('p')\n",
    "assume(l > 0)\n",
    "assume(w > 0)\n",
    "assume(t, l, k, w, m, 'real')\n",
    "assume(t > 0)\n",
    "assume(m > 0)\n",
    "assume(l, w, k, m, 'constant')\n"
   ]
  },
  {
   "cell_type": "markdown",
   "metadata": {},
   "source": [
    "## Looking at Pauli matrices"
   ]
  },
  {
   "cell_type": "code",
   "execution_count": 21,
   "metadata": {},
   "outputs": [],
   "source": [
    "one = matrix([[1,0],[0,1]])\n",
    "zero = matrix([[0,0], [0,0]])\n",
    "p1 = matrix([[0,1],[1,0]])\n",
    "p2 = matrix([[0,-1j],[1j,0]])\n",
    "p3 = matrix([[1,0],[0,-1]])"
   ]
  },
  {
   "cell_type": "code",
   "execution_count": 22,
   "metadata": {},
   "outputs": [
    {
     "data": {
      "text/html": [
       "<html><script type=\"math/tex; mode=display\">\\newcommand{\\Bold}[1]{\\mathbf{#1}}\\left(\\begin{array}{rr}\n",
       "0.000000000000000 & -1.00000000000000i \\\\\n",
       "1.00000000000000i & 0.000000000000000\n",
       "\\end{array}\\right)</script></html>"
      ],
      "text/plain": [
       "[  0.000000000000000 -1.00000000000000*I]\n",
       "[ 1.00000000000000*I   0.000000000000000]"
      ]
     },
     "metadata": {},
     "output_type": "display_data"
    }
   ],
   "source": [
    "def pauli(i):\n",
    "    d = {1: p1, 2: p2, 3: p3}\n",
    "    return d[i]\n",
    "show(pauli(2))"
   ]
  },
  {
   "cell_type": "code",
   "execution_count": 23,
   "metadata": {},
   "outputs": [
    {
     "data": {
      "text/html": [
       "<html><script type=\"math/tex; mode=display\">\\newcommand{\\Bold}[1]{\\mathbf{#1}}\\left(\\begin{array}{rrrr}\n",
       "1.0 & 0.0 & 0.0 & 1.0 \\\\\n",
       "0.0 & 1.0 & 1.0 & 0.0 \\\\\n",
       "0.0 & -1.0i & 1.0 & 0.0 \\\\\n",
       "1.0i & 0.0 & 0.0 & -1.0\n",
       "\\end{array}\\right)</script></html>"
      ],
      "text/plain": [
       "[   1.0    0.0    0.0    1.0]\n",
       "[   0.0    1.0    1.0    0.0]\n",
       "[   0.0 -1.0*I    1.0    0.0]\n",
       "[ 1.0*I    0.0    0.0   -1.0]"
      ]
     },
     "metadata": {},
     "output_type": "display_data"
    }
   ],
   "source": [
    "def compose(a,b,c,d):\n",
    "    # a b\n",
    "    # c d\n",
    "    return matrix(\n",
    "        np.vstack([\n",
    "            np.hstack([a,b]),\n",
    "            np.hstack([c,d])\n",
    "    ]))\n",
    "show(compose(one, p1, p2, p3))"
   ]
  },
  {
   "cell_type": "code",
   "execution_count": 24,
   "metadata": {},
   "outputs": [
    {
     "data": {
      "text/html": [
       "<html><script type=\"math/tex; mode=display\">\\newcommand{\\Bold}[1]{\\mathbf{#1}}\\left(\\begin{array}{rrrr}\n",
       "1 & 0 & 0 & 0 \\\\\n",
       "0 & 1 & 0 & 0 \\\\\n",
       "0 & 0 & -1 & 0 \\\\\n",
       "0 & 0 & 0 & -1\n",
       "\\end{array}\\right)</script></html>"
      ],
      "text/plain": [
       "[ 1  0  0  0]\n",
       "[ 0  1  0  0]\n",
       "[ 0  0 -1  0]\n",
       "[ 0  0  0 -1]"
      ]
     },
     "metadata": {},
     "output_type": "display_data"
    }
   ],
   "source": [
    "g0 = compose(one, zero,\n",
    "             zero, -one)\n",
    "show(g0)"
   ]
  },
  {
   "cell_type": "code",
   "execution_count": 25,
   "metadata": {},
   "outputs": [
    {
     "data": {
      "text/html": [
       "<html><script type=\"math/tex; mode=display\">\\newcommand{\\Bold}[1]{\\mathbf{#1}}\\left(\\begin{array}{rrrr}\n",
       "1 & 0 & 0 & 0 \\\\\n",
       "0 & 1 & 0 & 0 \\\\\n",
       "0 & 0 & -1 & 0 \\\\\n",
       "0 & 0 & 0 & -1\n",
       "\\end{array}\\right)</script></html>"
      ],
      "text/plain": [
       "[ 1  0  0  0]\n",
       "[ 0  1  0  0]\n",
       "[ 0  0 -1  0]\n",
       "[ 0  0  0 -1]"
      ]
     },
     "metadata": {},
     "output_type": "display_data"
    },
    {
     "data": {
      "text/html": [
       "<html><script type=\"math/tex; mode=display\">\\newcommand{\\Bold}[1]{\\mathbf{#1}}\\left(\\begin{array}{rrrr}\n",
       "0 & 0 & 0 & 1 \\\\\n",
       "0 & 0 & 1 & 0 \\\\\n",
       "0 & -1 & 0 & 0 \\\\\n",
       "-1 & 0 & 0 & 0\n",
       "\\end{array}\\right)</script></html>"
      ],
      "text/plain": [
       "[ 0  0  0  1]\n",
       "[ 0  0  1  0]\n",
       "[ 0 -1  0  0]\n",
       "[-1  0  0  0]"
      ]
     },
     "metadata": {},
     "output_type": "display_data"
    },
    {
     "data": {
      "text/html": [
       "<html><script type=\"math/tex; mode=display\">\\newcommand{\\Bold}[1]{\\mathbf{#1}}\\left(\\begin{array}{rrrr}\n",
       "0.0 & 0.0 & 0.0 & -1.0i \\\\\n",
       "0.0 & 0.0 & 1.0i & 0.0 \\\\\n",
       "0.0 & 1.0i & 0.0 & 0.0 \\\\\n",
       "-1.0i & 0.0 & 0.0 & 0.0\n",
       "\\end{array}\\right)</script></html>"
      ],
      "text/plain": [
       "[   0.0    0.0    0.0 -1.0*I]\n",
       "[   0.0    0.0  1.0*I    0.0]\n",
       "[   0.0  1.0*I    0.0    0.0]\n",
       "[-1.0*I    0.0    0.0    0.0]"
      ]
     },
     "metadata": {},
     "output_type": "display_data"
    },
    {
     "data": {
      "text/html": [
       "<html><script type=\"math/tex; mode=display\">\\newcommand{\\Bold}[1]{\\mathbf{#1}}\\left(\\begin{array}{rrrr}\n",
       "0 & 0 & 1 & 0 \\\\\n",
       "0 & 0 & 0 & -1 \\\\\n",
       "-1 & 0 & 0 & 0 \\\\\n",
       "0 & 1 & 0 & 0\n",
       "\\end{array}\\right)</script></html>"
      ],
      "text/plain": [
       "[ 0  0  1  0]\n",
       "[ 0  0  0 -1]\n",
       "[-1  0  0  0]\n",
       "[ 0  1  0  0]"
      ]
     },
     "metadata": {},
     "output_type": "display_data"
    }
   ],
   "source": [
    "def gamma(i):\n",
    "    if i == 0:\n",
    "        return compose(one, zero, zero, -one)\n",
    "    else:\n",
    "        return compose(zero, pauli(i), -pauli(i), zero)\n",
    "show(gamma(0))\n",
    "show(gamma(1))\n",
    "show(gamma(2))\n",
    "show(gamma(3))"
   ]
  },
  {
   "cell_type": "code",
   "execution_count": 26,
   "metadata": {},
   "outputs": [],
   "source": [
    "def anticom(a,b):\n",
    "    return a*b + b*a"
   ]
  },
  {
   "cell_type": "code",
   "execution_count": 27,
   "metadata": {},
   "outputs": [
    {
     "data": {
      "text/html": [
       "<div class=\"notruncate\">\n",
       "<table  class=\"table_form\">\n",
       "<tbody>\n",
       "<tr class =\"row-a\">\n",
       "<td><script type=\"math/tex\">\\left(\\begin{array}{rrrr}\n",
       "2 & 0 & 0 & 0 \\\\\n",
       "0 & 2 & 0 & 0 \\\\\n",
       "0 & 0 & 2 & 0 \\\\\n",
       "0 & 0 & 0 & 2\n",
       "\\end{array}\\right)</script></td>\n",
       "<td><script type=\"math/tex\">\\left(\\begin{array}{rrrr}\n",
       "0 & 0 & 0 & 0 \\\\\n",
       "0 & 0 & 0 & 0 \\\\\n",
       "0 & 0 & 0 & 0 \\\\\n",
       "0 & 0 & 0 & 0\n",
       "\\end{array}\\right)</script></td>\n",
       "<td><script type=\"math/tex\">\\left(\\begin{array}{rrrr}\n",
       "0.0 & 0.0 & 0.0 & 0.0 \\\\\n",
       "0.0 & 0.0 & 0.0 & 0.0 \\\\\n",
       "0.0 & 0.0 & 0.0 & 0.0 \\\\\n",
       "0.0 & 0.0 & 0.0 & 0.0\n",
       "\\end{array}\\right)</script></td>\n",
       "<td><script type=\"math/tex\">\\left(\\begin{array}{rrrr}\n",
       "0 & 0 & 0 & 0 \\\\\n",
       "0 & 0 & 0 & 0 \\\\\n",
       "0 & 0 & 0 & 0 \\\\\n",
       "0 & 0 & 0 & 0\n",
       "\\end{array}\\right)</script></td>\n",
       "</tr>\n",
       "<tr class =\"row-b\">\n",
       "<td><script type=\"math/tex\">\\left(\\begin{array}{rrrr}\n",
       "0 & 0 & 0 & 0 \\\\\n",
       "0 & 0 & 0 & 0 \\\\\n",
       "0 & 0 & 0 & 0 \\\\\n",
       "0 & 0 & 0 & 0\n",
       "\\end{array}\\right)</script></td>\n",
       "<td><script type=\"math/tex\">\\left(\\begin{array}{rrrr}\n",
       "-2 & 0 & 0 & 0 \\\\\n",
       "0 & -2 & 0 & 0 \\\\\n",
       "0 & 0 & -2 & 0 \\\\\n",
       "0 & 0 & 0 & -2\n",
       "\\end{array}\\right)</script></td>\n",
       "<td><script type=\"math/tex\">\\left(\\begin{array}{rrrr}\n",
       "0.0 & 0.0 & 0.0 & 0.0 \\\\\n",
       "0.0 & 0.0 & 0.0 & 0.0 \\\\\n",
       "0.0 & 0.0 & 0.0 & 0.0 \\\\\n",
       "0.0 & 0.0 & 0.0 & 0.0\n",
       "\\end{array}\\right)</script></td>\n",
       "<td><script type=\"math/tex\">\\left(\\begin{array}{rrrr}\n",
       "0 & 0 & 0 & 0 \\\\\n",
       "0 & 0 & 0 & 0 \\\\\n",
       "0 & 0 & 0 & 0 \\\\\n",
       "0 & 0 & 0 & 0\n",
       "\\end{array}\\right)</script></td>\n",
       "</tr>\n",
       "<tr class =\"row-a\">\n",
       "<td><script type=\"math/tex\">\\left(\\begin{array}{rrrr}\n",
       "0.0 & 0.0 & 0.0 & 0.0 \\\\\n",
       "0.0 & 0.0 & 0.0 & 0.0 \\\\\n",
       "0.0 & 0.0 & 0.0 & 0.0 \\\\\n",
       "0.0 & 0.0 & 0.0 & 0.0\n",
       "\\end{array}\\right)</script></td>\n",
       "<td><script type=\"math/tex\">\\left(\\begin{array}{rrrr}\n",
       "0.0 & 0.0 & 0.0 & 0.0 \\\\\n",
       "0.0 & 0.0 & 0.0 & 0.0 \\\\\n",
       "0.0 & 0.0 & 0.0 & 0.0 \\\\\n",
       "0.0 & 0.0 & 0.0 & 0.0\n",
       "\\end{array}\\right)</script></td>\n",
       "<td><script type=\"math/tex\">\\left(\\begin{array}{rrrr}\n",
       "-2.0 & 0.0 & 0.0 & 0.0 \\\\\n",
       "0.0 & -2.0 & 0.0 & 0.0 \\\\\n",
       "0.0 & 0.0 & -2.0 & 0.0 \\\\\n",
       "0.0 & 0.0 & 0.0 & -2.0\n",
       "\\end{array}\\right)</script></td>\n",
       "<td><script type=\"math/tex\">\\left(\\begin{array}{rrrr}\n",
       "0.0 & 0.0 & 0.0 & 0.0 \\\\\n",
       "0.0 & 0.0 & 0.0 & 0.0 \\\\\n",
       "0.0 & 0.0 & 0.0 & 0.0 \\\\\n",
       "0.0 & 0.0 & 0.0 & 0.0\n",
       "\\end{array}\\right)</script></td>\n",
       "</tr>\n",
       "<tr class =\"row-b\">\n",
       "<td><script type=\"math/tex\">\\left(\\begin{array}{rrrr}\n",
       "0 & 0 & 0 & 0 \\\\\n",
       "0 & 0 & 0 & 0 \\\\\n",
       "0 & 0 & 0 & 0 \\\\\n",
       "0 & 0 & 0 & 0\n",
       "\\end{array}\\right)</script></td>\n",
       "<td><script type=\"math/tex\">\\left(\\begin{array}{rrrr}\n",
       "0 & 0 & 0 & 0 \\\\\n",
       "0 & 0 & 0 & 0 \\\\\n",
       "0 & 0 & 0 & 0 \\\\\n",
       "0 & 0 & 0 & 0\n",
       "\\end{array}\\right)</script></td>\n",
       "<td><script type=\"math/tex\">\\left(\\begin{array}{rrrr}\n",
       "0.0 & 0.0 & 0.0 & 0.0 \\\\\n",
       "0.0 & 0.0 & 0.0 & 0.0 \\\\\n",
       "0.0 & 0.0 & 0.0 & 0.0 \\\\\n",
       "0.0 & 0.0 & 0.0 & 0.0\n",
       "\\end{array}\\right)</script></td>\n",
       "<td><script type=\"math/tex\">\\left(\\begin{array}{rrrr}\n",
       "-2 & 0 & 0 & 0 \\\\\n",
       "0 & -2 & 0 & 0 \\\\\n",
       "0 & 0 & -2 & 0 \\\\\n",
       "0 & 0 & 0 & -2\n",
       "\\end{array}\\right)</script></td>\n",
       "</tr>\n",
       "</tbody>\n",
       "</table>\n",
       "</div>"
      ],
      "text/plain": [
       "  [2 0 0 0]\n",
       "[0 2 0 0]\n",
       "[0 0 2 0]\n",
       "[0 0 0 2]                                   [0 0 0 0]\n",
       "[0 0 0 0]\n",
       "[0 0 0 0]\n",
       "[0 0 0 0]                                   [0.0 0.0 0.0 0.0]\n",
       "[0.0 0.0 0.0 0.0]\n",
       "[0.0 0.0 0.0 0.0]\n",
       "[0.0 0.0 0.0 0.0]                   [0 0 0 0]\n",
       "[0 0 0 0]\n",
       "[0 0 0 0]\n",
       "[0 0 0 0]\n",
       "  [0 0 0 0]\n",
       "[0 0 0 0]\n",
       "[0 0 0 0]\n",
       "[0 0 0 0]                                   [-2  0  0  0]\n",
       "[ 0 -2  0  0]\n",
       "[ 0  0 -2  0]\n",
       "[ 0  0  0 -2]                   [0.0 0.0 0.0 0.0]\n",
       "[0.0 0.0 0.0 0.0]\n",
       "[0.0 0.0 0.0 0.0]\n",
       "[0.0 0.0 0.0 0.0]                   [0 0 0 0]\n",
       "[0 0 0 0]\n",
       "[0 0 0 0]\n",
       "[0 0 0 0]\n",
       "  [0.0 0.0 0.0 0.0]\n",
       "[0.0 0.0 0.0 0.0]\n",
       "[0.0 0.0 0.0 0.0]\n",
       "[0.0 0.0 0.0 0.0]   [0.0 0.0 0.0 0.0]\n",
       "[0.0 0.0 0.0 0.0]\n",
       "[0.0 0.0 0.0 0.0]\n",
       "[0.0 0.0 0.0 0.0]   [-2.0  0.0  0.0  0.0]\n",
       "[ 0.0 -2.0  0.0  0.0]\n",
       "[ 0.0  0.0 -2.0  0.0]\n",
       "[ 0.0  0.0  0.0 -2.0]   [0.0 0.0 0.0 0.0]\n",
       "[0.0 0.0 0.0 0.0]\n",
       "[0.0 0.0 0.0 0.0]\n",
       "[0.0 0.0 0.0 0.0]\n",
       "  [0 0 0 0]\n",
       "[0 0 0 0]\n",
       "[0 0 0 0]\n",
       "[0 0 0 0]                                   [0 0 0 0]\n",
       "[0 0 0 0]\n",
       "[0 0 0 0]\n",
       "[0 0 0 0]                                   [0.0 0.0 0.0 0.0]\n",
       "[0.0 0.0 0.0 0.0]\n",
       "[0.0 0.0 0.0 0.0]\n",
       "[0.0 0.0 0.0 0.0]                   [-2  0  0  0]\n",
       "[ 0 -2  0  0]\n",
       "[ 0  0 -2  0]\n",
       "[ 0  0  0 -2]"
      ]
     },
     "metadata": {},
     "output_type": "display_data"
    }
   ],
   "source": [
    "rows = [[anticom(gamma(i), gamma(j)) for i in range(4)] for j in range(4)]\n",
    "show(table(rows))"
   ]
  },
  {
   "cell_type": "code",
   "execution_count": 28,
   "metadata": {},
   "outputs": [
    {
     "data": {
      "text/plain": [
       "(4, 7, 0, 2)"
      ]
     },
     "execution_count": 28,
     "metadata": {},
     "output_type": "execute_result"
    }
   ],
   "source": [
    "# Check for a random 4-vector\n",
    "r = vector([4, 7, 0, 2])\n",
    "r"
   ]
  },
  {
   "cell_type": "code",
   "execution_count": 29,
   "metadata": {},
   "outputs": [
    {
     "data": {
      "text/plain": [
       "[-37.0   0.0   0.0   0.0]\n",
       "[  0.0 -37.0   0.0   0.0]\n",
       "[  0.0   0.0 -37.0   0.0]\n",
       "[  0.0   0.0   0.0 -37.0]"
      ]
     },
     "execution_count": 29,
     "metadata": {},
     "output_type": "execute_result"
    }
   ],
   "source": [
    "z = sum(r[i] * gamma(i) for i in range(4))\n",
    "z*z"
   ]
  },
  {
   "cell_type": "code",
   "execution_count": 30,
   "metadata": {},
   "outputs": [
    {
     "data": {
      "text/html": [
       "<html><script type=\"math/tex; mode=display\">\\newcommand{\\Bold}[1]{\\mathbf{#1}}\\left(\\begin{array}{rrrr}\n",
       "4.0 & 0.0 & 2.0 & 7.0 \\\\\n",
       "0.0 & 4.0 & 7.0 & -2.0 \\\\\n",
       "-2.0 & -7.0 & -4.0 & 0.0 \\\\\n",
       "-7.0 & 2.0 & 0.0 & -4.0\n",
       "\\end{array}\\right)</script></html>"
      ],
      "text/plain": [
       "[ 4.0  0.0  2.0  7.0]\n",
       "[ 0.0  4.0  7.0 -2.0]\n",
       "[-2.0 -7.0 -4.0  0.0]\n",
       "[-7.0  2.0  0.0 -4.0]"
      ]
     },
     "metadata": {},
     "output_type": "display_data"
    }
   ],
   "source": [
    "show(z)"
   ]
  },
  {
   "cell_type": "markdown",
   "metadata": {},
   "source": [
    "## Defining a 4-spinor wave function\n",
    "This is intended to be a solution to the Dirac equation."
   ]
  },
  {
   "cell_type": "code",
   "execution_count": 31,
   "metadata": {},
   "outputs": [],
   "source": [
    "t = var('t')\n",
    "x,y,z = var(\"x,y,z\")\n",
    "r = vector([x,y,z])\n",
    "\n",
    "def generate_dirac_psi(p, E, m):\n",
    "    # Generate a 4-spinor state for a particle of momentum p, total energy E, mass m.\n",
    "    # For this to satisfy the Dirac Equation, we requre E^2 = p^2 + m^2\n",
    "    assert (E^2 == p.dot_product(p) + m^2)\n",
    "    \n",
    "    U = sqrt((E+m) / (2*E)) * vector ([1, 0, p[2]/(E+m), (p[0] + i * p[1])/(E+m)])\n",
    "\n",
    "    return U * exp(i*(p.dot_product(r) - E*t))"
   ]
  },
  {
   "cell_type": "code",
   "execution_count": 32,
   "metadata": {},
   "outputs": [
    {
     "data": {
      "text/html": [
       "<html><script type=\"math/tex; mode=display\">\\newcommand{\\Bold}[1]{\\mathbf{#1}}\\left(3 \\, \\sqrt{\\frac{1}{10}} e^{\\left(-5 i \\, t + 3 i \\, y\\right)},\\,0,\\,0,\\,i \\, \\sqrt{\\frac{1}{10}} e^{\\left(-5 i \\, t + 3 i \\, y\\right)}\\right)</script></html>"
      ],
      "text/plain": [
       "(3*sqrt(1/10)*e^(-5*I*t + 3*I*y), 0, 0, I*sqrt(1/10)*e^(-5*I*t + 3*I*y))"
      ]
     },
     "metadata": {},
     "output_type": "display_data"
    }
   ],
   "source": [
    "# Generate a specific wave function to test\n",
    "dirac_psi = generate_dirac_psi(p=vector([0,3,0]), E=5, m=4)\n",
    "show(dirac_psi)"
   ]
  },
  {
   "cell_type": "code",
   "execution_count": 33,
   "metadata": {},
   "outputs": [],
   "source": [
    "# Define the Dirac differentrial operator applied to the given wave function\n",
    "def dirac_operator(psi, m):\n",
    "    X = vector([t,r[0], r[1], r[2]])\n",
    "    dirac = sum(gamma(q) * diff(psi, X[q]) for q in range(4))*i - m * psi\n",
    "    return dirac"
   ]
  },
  {
   "cell_type": "code",
   "execution_count": 34,
   "metadata": {},
   "outputs": [],
   "source": [
    "\n",
    "dirac = dirac_operator(dirac_psi, m=4)"
   ]
  },
  {
   "cell_type": "code",
   "execution_count": 35,
   "metadata": {},
   "outputs": [
    {
     "data": {
      "text/html": [
       "<html><script type=\"math/tex; mode=display\">\\newcommand{\\Bold}[1]{\\mathbf{#1}}\\left(0,\\,0,\\,0,\\,0\\right)</script></html>"
      ],
      "text/plain": [
       "(0, 0, 0, 0)"
      ]
     },
     "metadata": {},
     "output_type": "display_data"
    }
   ],
   "source": [
    "show(dirac)"
   ]
  },
  {
   "cell_type": "code",
   "execution_count": 36,
   "metadata": {},
   "outputs": [
    {
     "name": "stdout",
     "output_type": "stream",
     "text": [
      "Looks like Dirac was right!\n"
     ]
    }
   ],
   "source": [
    "if dirac == vector([0,0,0,0]):\n",
    "    print(\"Looks like Dirac was right!\")\n",
    "else:\n",
    "    print(\"Dirac was wrong (can't possibly be me!)\")"
   ]
  },
  {
   "cell_type": "code",
   "execution_count": null,
   "metadata": {},
   "outputs": [],
   "source": []
  }
 ],
 "metadata": {
  "kernelspec": {
   "display_name": "SageMath 9.0",
   "language": "sage",
   "name": "sagemath"
  },
  "language_info": {
   "codemirror_mode": {
    "name": "ipython",
    "version": 3
   },
   "file_extension": ".py",
   "mimetype": "text/x-python",
   "name": "python",
   "nbconvert_exporter": "python",
   "pygments_lexer": "ipython3",
   "version": "3.8.10"
  }
 },
 "nbformat": 4,
 "nbformat_minor": 4
}
