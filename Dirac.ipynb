{
 "cells": [
  {
   "cell_type": "markdown",
   "metadata": {},
   "source": [
    "# Implementing Dirac...\n",
    "This is a SageMath script.   "
   ]
  },
  {
   "cell_type": "code",
   "execution_count": 19,
   "metadata": {},
   "outputs": [],
   "source": [
    "import numpy as np"
   ]
  },
  {
   "cell_type": "markdown",
   "metadata": {},
   "source": [
    "## Looking at Pauli matrices"
   ]
  },
  {
   "cell_type": "code",
   "execution_count": 20,
   "metadata": {},
   "outputs": [],
   "source": [
    "one = matrix([[1,0],[0,1]])\n",
    "zero = matrix([[0,0], [0,0]])\n",
    "p1 = matrix([[0,1],[1,0]])\n",
    "p2 = matrix([[0,-1j],[1j,0]])\n",
    "p3 = matrix([[1,0],[0,-1]])"
   ]
  },
  {
   "cell_type": "code",
   "execution_count": 21,
   "metadata": {},
   "outputs": [
    {
     "data": {
      "text/html": [
       "<html><script type=\"math/tex; mode=display\">\\newcommand{\\Bold}[1]{\\mathbf{#1}}\\left(\\begin{array}{rr}\n",
       "0.000000000000000 & -1.00000000000000i \\\\\n",
       "1.00000000000000i & 0.000000000000000\n",
       "\\end{array}\\right)</script></html>"
      ],
      "text/plain": [
       "[  0.000000000000000 -1.00000000000000*I]\n",
       "[ 1.00000000000000*I   0.000000000000000]"
      ]
     },
     "metadata": {},
     "output_type": "display_data"
    }
   ],
   "source": [
    "def pauli(i):\n",
    "    d = {1: p1, 2: p2, 3: p3}\n",
    "    return d[i]\n",
    "show(pauli(2))"
   ]
  },
  {
   "cell_type": "markdown",
   "metadata": {},
   "source": [
    "## Compose the four gamma matrices"
   ]
  },
  {
   "cell_type": "code",
   "execution_count": 22,
   "metadata": {},
   "outputs": [
    {
     "data": {
      "text/html": [
       "<html><script type=\"math/tex; mode=display\">\\newcommand{\\Bold}[1]{\\mathbf{#1}}\\left(\\begin{array}{rrrr}\n",
       "1.0 & 0.0 & 0.0 & 1.0 \\\\\n",
       "0.0 & 1.0 & 1.0 & 0.0 \\\\\n",
       "0.0 & -1.0i & 1.0 & 0.0 \\\\\n",
       "1.0i & 0.0 & 0.0 & -1.0\n",
       "\\end{array}\\right)</script></html>"
      ],
      "text/plain": [
       "[   1.0    0.0    0.0    1.0]\n",
       "[   0.0    1.0    1.0    0.0]\n",
       "[   0.0 -1.0*I    1.0    0.0]\n",
       "[ 1.0*I    0.0    0.0   -1.0]"
      ]
     },
     "metadata": {},
     "output_type": "display_data"
    }
   ],
   "source": [
    "def compose(a,b,c,d):\n",
    "    # a b\n",
    "    # c d\n",
    "    return matrix(\n",
    "        np.vstack([\n",
    "            np.hstack([a,b]),\n",
    "            np.hstack([c,d])\n",
    "    ]))\n",
    "show(compose(one, p1, p2, p3))"
   ]
  },
  {
   "cell_type": "code",
   "execution_count": 23,
   "metadata": {},
   "outputs": [
    {
     "data": {
      "text/html": [
       "<html><script type=\"math/tex; mode=display\">\\newcommand{\\Bold}[1]{\\mathbf{#1}}\\left(\\begin{array}{rrrr}\n",
       "1 & 0 & 0 & 0 \\\\\n",
       "0 & 1 & 0 & 0 \\\\\n",
       "0 & 0 & -1 & 0 \\\\\n",
       "0 & 0 & 0 & -1\n",
       "\\end{array}\\right) \\left(\\begin{array}{rrrr}\n",
       "0 & 0 & 0 & 1 \\\\\n",
       "0 & 0 & 1 & 0 \\\\\n",
       "0 & -1 & 0 & 0 \\\\\n",
       "-1 & 0 & 0 & 0\n",
       "\\end{array}\\right) \\left(\\begin{array}{rrrr}\n",
       "0.0 & 0.0 & 0.0 & -1.0i \\\\\n",
       "0.0 & 0.0 & 1.0i & 0.0 \\\\\n",
       "0.0 & 1.0i & 0.0 & 0.0 \\\\\n",
       "-1.0i & 0.0 & 0.0 & 0.0\n",
       "\\end{array}\\right) \\left(\\begin{array}{rrrr}\n",
       "0 & 0 & 1 & 0 \\\\\n",
       "0 & 0 & 0 & -1 \\\\\n",
       "-1 & 0 & 0 & 0 \\\\\n",
       "0 & 1 & 0 & 0\n",
       "\\end{array}\\right)</script></html>"
      ],
      "text/plain": [
       "[ 1  0  0  0]\n",
       "[ 0  1  0  0]\n",
       "[ 0  0 -1  0]\n",
       "[ 0  0  0 -1] [ 0  0  0  1]\n",
       "[ 0  0  1  0]\n",
       "[ 0 -1  0  0]\n",
       "[-1  0  0  0] [   0.0    0.0    0.0 -1.0*I]\n",
       "[   0.0    0.0  1.0*I    0.0]\n",
       "[   0.0  1.0*I    0.0    0.0]\n",
       "[-1.0*I    0.0    0.0    0.0] [ 0  0  1  0]\n",
       "[ 0  0  0 -1]\n",
       "[-1  0  0  0]\n",
       "[ 0  1  0  0]"
      ]
     },
     "metadata": {},
     "output_type": "display_data"
    }
   ],
   "source": [
    "def gamma(i):\n",
    "    # The four gamma matrices\n",
    "    if i == 0:\n",
    "        return compose(one, zero, zero, -one)\n",
    "    else:\n",
    "        return compose(zero, pauli(i), -pauli(i), zero)\n",
    "show(gamma(0), gamma(1), gamma(2), gamma(3))"
   ]
  },
  {
   "cell_type": "markdown",
   "metadata": {},
   "source": [
    "## Check the anticommuator properties of the gamma matrices"
   ]
  },
  {
   "cell_type": "code",
   "execution_count": 24,
   "metadata": {},
   "outputs": [],
   "source": [
    "def anticom(a,b):\n",
    "    return a*b + b*a"
   ]
  },
  {
   "cell_type": "code",
   "execution_count": 25,
   "metadata": {},
   "outputs": [
    {
     "data": {
      "text/html": [
       "<div class=\"notruncate\">\n",
       "<table  class=\"table_form\">\n",
       "<tbody>\n",
       "<tr class =\"row-a\">\n",
       "<td><script type=\"math/tex\">\\left(\\begin{array}{rrrr}\n",
       "2 & 0 & 0 & 0 \\\\\n",
       "0 & 2 & 0 & 0 \\\\\n",
       "0 & 0 & 2 & 0 \\\\\n",
       "0 & 0 & 0 & 2\n",
       "\\end{array}\\right)</script></td>\n",
       "<td><script type=\"math/tex\">\\left(\\begin{array}{rrrr}\n",
       "0 & 0 & 0 & 0 \\\\\n",
       "0 & 0 & 0 & 0 \\\\\n",
       "0 & 0 & 0 & 0 \\\\\n",
       "0 & 0 & 0 & 0\n",
       "\\end{array}\\right)</script></td>\n",
       "<td><script type=\"math/tex\">\\left(\\begin{array}{rrrr}\n",
       "0.0 & 0.0 & 0.0 & 0.0 \\\\\n",
       "0.0 & 0.0 & 0.0 & 0.0 \\\\\n",
       "0.0 & 0.0 & 0.0 & 0.0 \\\\\n",
       "0.0 & 0.0 & 0.0 & 0.0\n",
       "\\end{array}\\right)</script></td>\n",
       "<td><script type=\"math/tex\">\\left(\\begin{array}{rrrr}\n",
       "0 & 0 & 0 & 0 \\\\\n",
       "0 & 0 & 0 & 0 \\\\\n",
       "0 & 0 & 0 & 0 \\\\\n",
       "0 & 0 & 0 & 0\n",
       "\\end{array}\\right)</script></td>\n",
       "</tr>\n",
       "<tr class =\"row-b\">\n",
       "<td><script type=\"math/tex\">\\left(\\begin{array}{rrrr}\n",
       "0 & 0 & 0 & 0 \\\\\n",
       "0 & 0 & 0 & 0 \\\\\n",
       "0 & 0 & 0 & 0 \\\\\n",
       "0 & 0 & 0 & 0\n",
       "\\end{array}\\right)</script></td>\n",
       "<td><script type=\"math/tex\">\\left(\\begin{array}{rrrr}\n",
       "-2 & 0 & 0 & 0 \\\\\n",
       "0 & -2 & 0 & 0 \\\\\n",
       "0 & 0 & -2 & 0 \\\\\n",
       "0 & 0 & 0 & -2\n",
       "\\end{array}\\right)</script></td>\n",
       "<td><script type=\"math/tex\">\\left(\\begin{array}{rrrr}\n",
       "0.0 & 0.0 & 0.0 & 0.0 \\\\\n",
       "0.0 & 0.0 & 0.0 & 0.0 \\\\\n",
       "0.0 & 0.0 & 0.0 & 0.0 \\\\\n",
       "0.0 & 0.0 & 0.0 & 0.0\n",
       "\\end{array}\\right)</script></td>\n",
       "<td><script type=\"math/tex\">\\left(\\begin{array}{rrrr}\n",
       "0 & 0 & 0 & 0 \\\\\n",
       "0 & 0 & 0 & 0 \\\\\n",
       "0 & 0 & 0 & 0 \\\\\n",
       "0 & 0 & 0 & 0\n",
       "\\end{array}\\right)</script></td>\n",
       "</tr>\n",
       "<tr class =\"row-a\">\n",
       "<td><script type=\"math/tex\">\\left(\\begin{array}{rrrr}\n",
       "0.0 & 0.0 & 0.0 & 0.0 \\\\\n",
       "0.0 & 0.0 & 0.0 & 0.0 \\\\\n",
       "0.0 & 0.0 & 0.0 & 0.0 \\\\\n",
       "0.0 & 0.0 & 0.0 & 0.0\n",
       "\\end{array}\\right)</script></td>\n",
       "<td><script type=\"math/tex\">\\left(\\begin{array}{rrrr}\n",
       "0.0 & 0.0 & 0.0 & 0.0 \\\\\n",
       "0.0 & 0.0 & 0.0 & 0.0 \\\\\n",
       "0.0 & 0.0 & 0.0 & 0.0 \\\\\n",
       "0.0 & 0.0 & 0.0 & 0.0\n",
       "\\end{array}\\right)</script></td>\n",
       "<td><script type=\"math/tex\">\\left(\\begin{array}{rrrr}\n",
       "-2.0 & 0.0 & 0.0 & 0.0 \\\\\n",
       "0.0 & -2.0 & 0.0 & 0.0 \\\\\n",
       "0.0 & 0.0 & -2.0 & 0.0 \\\\\n",
       "0.0 & 0.0 & 0.0 & -2.0\n",
       "\\end{array}\\right)</script></td>\n",
       "<td><script type=\"math/tex\">\\left(\\begin{array}{rrrr}\n",
       "0.0 & 0.0 & 0.0 & 0.0 \\\\\n",
       "0.0 & 0.0 & 0.0 & 0.0 \\\\\n",
       "0.0 & 0.0 & 0.0 & 0.0 \\\\\n",
       "0.0 & 0.0 & 0.0 & 0.0\n",
       "\\end{array}\\right)</script></td>\n",
       "</tr>\n",
       "<tr class =\"row-b\">\n",
       "<td><script type=\"math/tex\">\\left(\\begin{array}{rrrr}\n",
       "0 & 0 & 0 & 0 \\\\\n",
       "0 & 0 & 0 & 0 \\\\\n",
       "0 & 0 & 0 & 0 \\\\\n",
       "0 & 0 & 0 & 0\n",
       "\\end{array}\\right)</script></td>\n",
       "<td><script type=\"math/tex\">\\left(\\begin{array}{rrrr}\n",
       "0 & 0 & 0 & 0 \\\\\n",
       "0 & 0 & 0 & 0 \\\\\n",
       "0 & 0 & 0 & 0 \\\\\n",
       "0 & 0 & 0 & 0\n",
       "\\end{array}\\right)</script></td>\n",
       "<td><script type=\"math/tex\">\\left(\\begin{array}{rrrr}\n",
       "0.0 & 0.0 & 0.0 & 0.0 \\\\\n",
       "0.0 & 0.0 & 0.0 & 0.0 \\\\\n",
       "0.0 & 0.0 & 0.0 & 0.0 \\\\\n",
       "0.0 & 0.0 & 0.0 & 0.0\n",
       "\\end{array}\\right)</script></td>\n",
       "<td><script type=\"math/tex\">\\left(\\begin{array}{rrrr}\n",
       "-2 & 0 & 0 & 0 \\\\\n",
       "0 & -2 & 0 & 0 \\\\\n",
       "0 & 0 & -2 & 0 \\\\\n",
       "0 & 0 & 0 & -2\n",
       "\\end{array}\\right)</script></td>\n",
       "</tr>\n",
       "</tbody>\n",
       "</table>\n",
       "</div>"
      ],
      "text/plain": [
       "  [2 0 0 0]\n",
       "[0 2 0 0]\n",
       "[0 0 2 0]\n",
       "[0 0 0 2]                                   [0 0 0 0]\n",
       "[0 0 0 0]\n",
       "[0 0 0 0]\n",
       "[0 0 0 0]                                   [0.0 0.0 0.0 0.0]\n",
       "[0.0 0.0 0.0 0.0]\n",
       "[0.0 0.0 0.0 0.0]\n",
       "[0.0 0.0 0.0 0.0]                   [0 0 0 0]\n",
       "[0 0 0 0]\n",
       "[0 0 0 0]\n",
       "[0 0 0 0]\n",
       "  [0 0 0 0]\n",
       "[0 0 0 0]\n",
       "[0 0 0 0]\n",
       "[0 0 0 0]                                   [-2  0  0  0]\n",
       "[ 0 -2  0  0]\n",
       "[ 0  0 -2  0]\n",
       "[ 0  0  0 -2]                   [0.0 0.0 0.0 0.0]\n",
       "[0.0 0.0 0.0 0.0]\n",
       "[0.0 0.0 0.0 0.0]\n",
       "[0.0 0.0 0.0 0.0]                   [0 0 0 0]\n",
       "[0 0 0 0]\n",
       "[0 0 0 0]\n",
       "[0 0 0 0]\n",
       "  [0.0 0.0 0.0 0.0]\n",
       "[0.0 0.0 0.0 0.0]\n",
       "[0.0 0.0 0.0 0.0]\n",
       "[0.0 0.0 0.0 0.0]   [0.0 0.0 0.0 0.0]\n",
       "[0.0 0.0 0.0 0.0]\n",
       "[0.0 0.0 0.0 0.0]\n",
       "[0.0 0.0 0.0 0.0]   [-2.0  0.0  0.0  0.0]\n",
       "[ 0.0 -2.0  0.0  0.0]\n",
       "[ 0.0  0.0 -2.0  0.0]\n",
       "[ 0.0  0.0  0.0 -2.0]   [0.0 0.0 0.0 0.0]\n",
       "[0.0 0.0 0.0 0.0]\n",
       "[0.0 0.0 0.0 0.0]\n",
       "[0.0 0.0 0.0 0.0]\n",
       "  [0 0 0 0]\n",
       "[0 0 0 0]\n",
       "[0 0 0 0]\n",
       "[0 0 0 0]                                   [0 0 0 0]\n",
       "[0 0 0 0]\n",
       "[0 0 0 0]\n",
       "[0 0 0 0]                                   [0.0 0.0 0.0 0.0]\n",
       "[0.0 0.0 0.0 0.0]\n",
       "[0.0 0.0 0.0 0.0]\n",
       "[0.0 0.0 0.0 0.0]                   [-2  0  0  0]\n",
       "[ 0 -2  0  0]\n",
       "[ 0  0 -2  0]\n",
       "[ 0  0  0 -2]"
      ]
     },
     "metadata": {},
     "output_type": "display_data"
    }
   ],
   "source": [
    "rows = [[anticom(gamma(i), gamma(j)) for i in range(4)] for j in range(4)]\n",
    "show(table(rows))"
   ]
  },
  {
   "cell_type": "code",
   "execution_count": 26,
   "metadata": {},
   "outputs": [
    {
     "data": {
      "text/plain": [
       "(4, 7, 0, 2)"
      ]
     },
     "execution_count": 26,
     "metadata": {},
     "output_type": "execute_result"
    }
   ],
   "source": [
    "# Check for a random 4-vector\n",
    "r = vector([4, 7, 0, 2])\n",
    "r"
   ]
  },
  {
   "cell_type": "code",
   "execution_count": 27,
   "metadata": {},
   "outputs": [
    {
     "data": {
      "text/plain": [
       "[-37.0   0.0   0.0   0.0]\n",
       "[  0.0 -37.0   0.0   0.0]\n",
       "[  0.0   0.0 -37.0   0.0]\n",
       "[  0.0   0.0   0.0 -37.0]"
      ]
     },
     "execution_count": 27,
     "metadata": {},
     "output_type": "execute_result"
    }
   ],
   "source": [
    "z = sum(r[i] * gamma(i) for i in range(4))\n",
    "z*z"
   ]
  },
  {
   "cell_type": "markdown",
   "metadata": {},
   "source": [
    "## Defining a 4-spinor wave function\n",
    "This is intended to be a solution to the Dirac equation.  It would be nice to model this as an explicit function of  (t, r).  However, SageMath doesn't allow functions returning a vector, so we have to model as a simple variabe, dependent on the variable t and r.  Not so clear...."
   ]
  },
  {
   "cell_type": "code",
   "execution_count": 28,
   "metadata": {},
   "outputs": [],
   "source": [
    "t = var('t')\n",
    "m = var('m')\n",
    "x,y,z = var(\"x,y,z\")\n",
    "r = vector([x,y,z])\n",
    "\n",
    "def generate_dirac_psi(p, E, m):\n",
    "    # Generate a 4-spinor state for a matter particle of momentum p, total energy E, mass m, spin up.\n",
    "    # For this to satisfy the Dirac Equation, we requre E^2 = p^2 + m^2\n",
    "    assert (E^2 == p.dot_product(p) + m^2)\n",
    "    \n",
    "    U = sqrt((E+m) / (2*E)) * vector ([\n",
    "            1, \n",
    "            0, \n",
    "            p[2]/(E+m), \n",
    "            (p[0] + i * p[1])/(E+m)\n",
    "        ])\n",
    "    return U * exp(i*(p.dot_product(r) - E*t))"
   ]
  },
  {
   "cell_type": "code",
   "execution_count": 29,
   "metadata": {},
   "outputs": [
    {
     "data": {
      "text/html": [
       "<html><script type=\"math/tex; mode=display\">\\newcommand{\\Bold}[1]{\\mathbf{#1}}\\left(3 \\, \\sqrt{\\frac{1}{10}} e^{\\left(-5 i \\, t + 3 i \\, x\\right)},\\,0,\\,0,\\,\\sqrt{\\frac{1}{10}} e^{\\left(-5 i \\, t + 3 i \\, x\\right)}\\right)</script></html>"
      ],
      "text/plain": [
       "(3*sqrt(1/10)*e^(-5*I*t + 3*I*x), 0, 0, sqrt(1/10)*e^(-5*I*t + 3*I*x))"
      ]
     },
     "metadata": {},
     "output_type": "display_data"
    }
   ],
   "source": [
    "# Generate a specific wave function to test\n",
    "M=4  # Mass of our particle\n",
    "dirac_psi = generate_dirac_psi(p=vector([3,0,0]), E=5, m=M)\n",
    "show(dirac_psi)"
   ]
  },
  {
   "cell_type": "markdown",
   "metadata": {},
   "source": [
    "## The Dirac differential operator\n",
    "This implements the key operator $i \\hbar \\gamma^\\mu \\partial_\\mu$. (But we use $\\hbar=1$)\n",
    "\n",
    "Equivalent to $i \\hbar \\sum_{i=0}^{i=3} \\gamma(i) \\frac{\\partial}{\\partial X^i}$ where\n",
    "\n",
    "$\\gamma(i)$ is one of the four gamma matrices (composed from Pauli matrices) and \n",
    "\n",
    "$X^i$ is the $i$th spacetime coordinate : $X^0 = t, (X^1, X^2, X^3) = (x, y, z) = r$."
   ]
  },
  {
   "cell_type": "code",
   "execution_count": 30,
   "metadata": {},
   "outputs": [],
   "source": [
    "# Apply the Dirac differentrial operator to the given wave function\n",
    "def dirac_operator(psi):\n",
    "    X = vector([t,r[0], r[1], r[2]])\n",
    "    result = i * sum(gamma(q) * diff(psi, X[q]) for q in range(4))\n",
    "    return result"
   ]
  },
  {
   "cell_type": "markdown",
   "metadata": {},
   "source": [
    "## The Dirac equation\n",
    "\n",
    "$(i \\hbar \\gamma^\\mu \\partial_\\mu - m) \\Psi = 0$, or\n",
    "\n",
    "$(i \\hbar \\gamma^\\mu \\partial_\\mu \\Psi - m \\Psi = 0$\n",
    "\n",
    "Below we evaluate the LHS of this equation, using our carefully constructed wave function."
   ]
  },
  {
   "cell_type": "code",
   "execution_count": 36,
   "metadata": {},
   "outputs": [],
   "source": [
    "dirac_lhs = dirac_operator(dirac_psi) - m * dirac_psi"
   ]
  },
  {
   "cell_type": "code",
   "execution_count": 37,
   "metadata": {},
   "outputs": [
    {
     "data": {
      "text/html": [
       "<html><script type=\"math/tex; mode=display\">\\newcommand{\\Bold}[1]{\\mathbf{#1}}\\left(-3 \\, \\sqrt{\\frac{1}{10}} m e^{\\left(-5 i \\, t + 3 i \\, x\\right)} + 12 \\, \\sqrt{\\frac{1}{10}} e^{\\left(-5 i \\, t + 3 i \\, x\\right)},\\,0,\\,0,\\,-\\sqrt{\\frac{1}{10}} m e^{\\left(-5 i \\, t + 3 i \\, x\\right)} + 4 \\, \\sqrt{\\frac{1}{10}} e^{\\left(-5 i \\, t + 3 i \\, x\\right)}\\right)</script></html>"
      ],
      "text/plain": [
       "(-3*sqrt(1/10)*m*e^(-5*I*t + 3*I*x) + 12*sqrt(1/10)*e^(-5*I*t + 3*I*x), 0, 0, -sqrt(1/10)*m*e^(-5*I*t + 3*I*x) + 4*sqrt(1/10)*e^(-5*I*t + 3*I*x))"
      ]
     },
     "metadata": {},
     "output_type": "display_data"
    }
   ],
   "source": [
    "show(dirac_lhs)\n",
    "# This is a function of t,x,y,z and m"
   ]
  },
  {
   "cell_type": "code",
   "execution_count": 38,
   "metadata": {},
   "outputs": [
    {
     "data": {
      "text/html": [
       "<html><script type=\"math/tex; mode=display\">\\newcommand{\\Bold}[1]{\\mathbf{#1}}\\left(0,\\,0,\\,0,\\,0\\right)</script></html>"
      ],
      "text/plain": [
       "(0, 0, 0, 0)"
      ]
     },
     "metadata": {},
     "output_type": "display_data"
    }
   ],
   "source": [
    "# But if we substitute the value of m (= constant M) which went into the constructed wave function...\n",
    "show(dirac_lhs.substitute(m=M))\n",
    "# ... we should get zero."
   ]
  },
  {
   "cell_type": "code",
   "execution_count": 39,
   "metadata": {},
   "outputs": [
    {
     "name": "stdout",
     "output_type": "stream",
     "text": [
      "Looks like Dirac was right after all!\n"
     ]
    }
   ],
   "source": [
    "if dirac_lhs.substitute(m=M) == vector([0,0,0,0]):\n",
    "    print(\"Looks like Dirac was right after all!\")\n",
    "else:\n",
    "    print(\"Dirac was wrong (can't possibly be me!)\")"
   ]
  },
  {
   "cell_type": "code",
   "execution_count": 40,
   "metadata": {},
   "outputs": [
    {
     "data": {
      "application/vnd.jupyter.widget-view+json": {
       "model_id": "934943e55ef84d38af34d89423008a97",
       "version_major": 2,
       "version_minor": 0
      },
      "text/plain": [
       "Interactive function <function _ at 0x7f2279ece310> with 2 widgets\n",
       "  T: SelectionSlider(value=0.0, options=(0.0, 0.2, 0.4, 0.6000000000000001, 0.8, 1.0, 1.2000000000000002, 1.4000000000000001, 1.6, 1.8, 2.0, 2.2, 2.4000000000000004, 2.6, 2.8000000000000003, 3.0, 3.2, 3.4000000000000004, 3.6, 3.8000000000000003, 4.0), description='T')\n",
       "  S: Dropdown(value=0, options=(0, 1, 2, 3), description='S')"
      ]
     },
     "metadata": {},
     "output_type": "display_data"
    }
   ],
   "source": [
    "# Show the first [0] component of the spinor, in x,y, varying t\n",
    "@interact\n",
    "def _(T=slider(np.linspace(0, 4, 21)), S=[0,1,2,3]):\n",
    "    pt = contour_plot(real_part(dirac_psi[S].substitute(t=T, z=0)), (x, -5, 5), (y,-5, 5), axes_labels=['x', 'y'])\n",
    "    show(pt)"
   ]
  },
  {
   "cell_type": "code",
   "execution_count": null,
   "metadata": {},
   "outputs": [],
   "source": []
  }
 ],
 "metadata": {
  "kernelspec": {
   "display_name": "SageMath 9.0",
   "language": "sage",
   "name": "sagemath"
  },
  "language_info": {
   "codemirror_mode": {
    "name": "ipython",
    "version": 3
   },
   "file_extension": ".py",
   "mimetype": "text/x-python",
   "name": "python",
   "nbconvert_exporter": "python",
   "pygments_lexer": "ipython3",
   "version": "3.8.10"
  }
 },
 "nbformat": 4,
 "nbformat_minor": 4
}
