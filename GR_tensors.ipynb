{
 "cells": [
  {
   "cell_type": "markdown",
   "id": "5d460c98-602a-47b1-bd5c-916e3814234d",
   "metadata": {},
   "source": [
    "# Learning tensors for General Relativity"
   ]
  },
  {
   "cell_type": "code",
   "execution_count": 1,
   "id": "5a67b317-8d46-4df1-910e-d11b8b6db1a1",
   "metadata": {},
   "outputs": [
    {
     "name": "stdout",
     "output_type": "stream",
     "text": [
      "3.9.19 (main, May  6 2024, 19:43:03) \n",
      "[GCC 11.2.0]\n"
     ]
    }
   ],
   "source": [
    "\n",
    "from sympy import *\n",
    "from sympy.tensor.tensor import TensorIndexType, TensorIndex, TensorHead, tensor_indices, tensor_heads\n",
    "from sympy.tensor.toperators import PartialDerivative\n",
    "init_printing()\n",
    "import sys\n",
    "print(sys.version)"
   ]
  },
  {
   "cell_type": "markdown",
   "id": "0454f8c1-d71d-41e0-9164-78b57819fb48",
   "metadata": {},
   "source": [
    "## Christoffel symbols for 2D sphere"
   ]
  },
  {
   "cell_type": "markdown",
   "id": "a26d15c6-1d87-46b4-aa18-299bd4ad8934",
   "metadata": {},
   "source": [
    "## Declare a class to model geometry for given particular geometry"
   ]
  },
  {
   "cell_type": "code",
   "execution_count": 2,
   "id": "8e7f99f6-c88e-4f2f-bcd8-344af2e73736",
   "metadata": {},
   "outputs": [
    {
     "name": "stdout",
     "output_type": "stream",
     "text": [
      "2-sphere\n"
     ]
    },
    {
     "data": {
      "text/plain": [
       "'Metric:'"
      ]
     },
     "metadata": {},
     "output_type": "display_data"
    },
    {
     "data": {
      "image/png": "[encoded data removed]",
      "text/latex": [
       "$\\displaystyle \\left[ \\left[ 1, \\  0\\right], \\  \\left[ 0, \\  \\sin^{2}{\\left(\\theta \\right)}\\right]\\right]$"
      ],
      "text/plain": [
       "⎡        ⎡      2   ⎤⎤\n",
       "⎣[1, 0], ⎣0, sin (θ)⎦⎦"
      ]
     },
     "metadata": {},
     "output_type": "display_data"
    },
    {
     "data": {
      "text/plain": [
       "'Gamma:'"
      ]
     },
     "metadata": {},
     "output_type": "display_data"
    },
    {
     "data": {
      "text/latex": [
       "$\\displaystyle \\left[\\begin{matrix}\\left[\\begin{matrix}0 & 0\\\\0 & - \\sin{\\left(\\theta \\right)} \\cos{\\left(\\theta \\right)}\\end{matrix}\\right] & \\left[\\begin{matrix}0 & \\frac{\\cos{\\left(\\theta \\right)}}{\\sin{\\left(\\theta \\right)}}\\\\\\frac{\\cos{\\left(\\theta \\right)}}{\\sin{\\left(\\theta \\right)}} & 0\\end{matrix}\\right]\\end{matrix}\\right]$"
      ],
      "text/plain": [
       "⎡                     ⎡        cos(θ)⎤⎤\n",
       "⎢                     ⎢  0     ──────⎥⎥\n",
       "⎢⎡0        0       ⎤  ⎢        sin(θ)⎥⎥\n",
       "⎢⎢                 ⎥  ⎢              ⎥⎥\n",
       "⎢⎣0  -sin(θ)⋅cos(θ)⎦  ⎢cos(θ)        ⎥⎥\n",
       "⎢                     ⎢──────    0   ⎥⎥\n",
       "⎣                     ⎣sin(θ)        ⎦⎦"
      ]
     },
     "metadata": {},
     "output_type": "display_data"
    },
    {
     "data": {
      "text/plain": [
       "'Expression:'"
      ]
     },
     "metadata": {},
     "output_type": "display_data"
    },
    {
     "data": {
      "image/png": "[encoded data removed]",
      "text/latex": [
       "$\\displaystyle \\left(\\frac{1}{2}\\right)g{}^{L_{0}t}\\left(\\frac{\\partial}{\\partial {_{}^{m}}}{g{}_{L_{0}n}} + \\frac{\\partial}{\\partial {_{}^{n}}}{g{}_{L_{0}m}} + \\left(-1\\right)\\frac{\\partial}{\\partial {_{}^{L_{0}}}}{g{}_{mn}}\\right)$"
      ],
      "text/plain": [
       "     L₀t ⎛ ∂ ⎛    ⎞    ∂ ⎛    ⎞         ∂  ⎛   ⎞⎞\n",
       "1/2⋅g   ⋅⎜───⎜g   ⎟ + ───⎜g   ⎟ + (-1)⋅────⎜g  ⎟⎟\n",
       "         ⎜  n⎝ L₀m⎠     m⎝ L₀n⎠          L₀⎝ mn⎠⎟\n",
       "         ⎜∂_          ∂_               ∂_       ⎟\n",
       "         ⎝                                      ⎠"
      ]
     },
     "metadata": {},
     "output_type": "display_data"
    },
    {
     "data": {
      "text/plain": [
       "'Riemann curvature expression:'"
      ]
     },
     "metadata": {},
     "output_type": "display_data"
    },
    {
     "data": {
      "image/png": "[encoded data removed]",
      "text/latex": [
       "$\\displaystyle -\\Gamma{}^{i}{}_{L_{0}m}\\Gamma{}^{L_{0}}{}_{jk} - \\frac{\\partial}{\\partial {_{}^{m}}}{\\Gamma{}^{i}{}_{jk}} + \\Gamma{}^{i}{}_{L_{0}k}\\Gamma{}^{L_{0}}{}_{jm} + \\frac{\\partial}{\\partial {_{}^{k}}}{\\Gamma{}^{i}{}_{jm}}$"
      ],
      "text/plain": [
       " ∂ ⎛     i  ⎞     ∂ ⎛     i  ⎞        i         L₀           i         L₀  \n",
       "───⎜Gamma   ⎟ + -───⎜Gamma   ⎟ + Gamma    ⋅Gamma     + -Gamma    ⋅Gamma    \n",
       "  k⎝      jm⎠      m⎝      jk⎠         L₀k        jm          L₀m        jk\n",
       "∂_               ∂_                                                        \n",
       "                                                                           "
      ]
     },
     "metadata": {},
     "output_type": "display_data"
    },
    {
     "data": {
      "text/plain": [
       "'Riemann curvature result:'"
      ]
     },
     "metadata": {},
     "output_type": "display_data"
    },
    {
     "data": {
      "text/latex": [
       "$\\displaystyle \\left[\\begin{matrix}\\left[\\begin{matrix}0 & 0\\\\0 & 0\\end{matrix}\\right] & \\left[\\begin{matrix}0 & \\sin^{2}{\\left(\\theta \\right)}\\\\- \\sin^{2}{\\left(\\theta \\right)} & 0\\end{matrix}\\right]\\\\\\left[\\begin{matrix}0 & -1\\\\1 & 0\\end{matrix}\\right] & \\left[\\begin{matrix}0 & 0\\\\0 & 0\\end{matrix}\\right]\\end{matrix}\\right]$"
      ],
      "text/plain": [
       "⎡         ⎡             2   ⎤⎤\n",
       "⎢⎡0  0⎤   ⎢   0      sin (θ)⎥⎥\n",
       "⎢⎢    ⎥   ⎢                 ⎥⎥\n",
       "⎢⎣0  0⎦   ⎢    2            ⎥⎥\n",
       "⎢         ⎣-sin (θ)     0   ⎦⎥\n",
       "⎢                            ⎥\n",
       "⎢⎡0  -1⎤        ⎡0  0⎤       ⎥\n",
       "⎢⎢     ⎥        ⎢    ⎥       ⎥\n",
       "⎣⎣1  0 ⎦        ⎣0  0⎦       ⎦"
      ]
     },
     "metadata": {},
     "output_type": "display_data"
    },
    {
     "name": "stdout",
     "output_type": "stream",
     "text": [
      "polar_plane\n"
     ]
    },
    {
     "data": {
      "text/plain": [
       "'Metric:'"
      ]
     },
     "metadata": {},
     "output_type": "display_data"
    },
    {
     "data": {
      "image/png": "[encoded data removed]",
      "text/latex": [
       "$\\displaystyle \\left[ \\left[ 1, \\  0\\right], \\  \\left[ 0, \\  R^{2}\\right]\\right]$"
      ],
      "text/plain": [
       "⎡        ⎡    2⎤⎤\n",
       "⎣[1, 0], ⎣0, R ⎦⎦"
      ]
     },
     "metadata": {},
     "output_type": "display_data"
    },
    {
     "data": {
      "text/plain": [
       "'Gamma:'"
      ]
     },
     "metadata": {},
     "output_type": "display_data"
    },
    {
     "data": {
      "text/latex": [
       "$\\displaystyle \\left[\\begin{matrix}\\left[\\begin{matrix}0 & 0\\\\0 & - R\\end{matrix}\\right] & \\left[\\begin{matrix}0 & \\frac{1}{R}\\\\\\frac{1}{R} & 0\\end{matrix}\\right]\\end{matrix}\\right]$"
      ],
      "text/plain": [
       "⎡         ⎡   1⎤⎤\n",
       "⎢         ⎢0  ─⎥⎥\n",
       "⎢⎡0  0 ⎤  ⎢   R⎥⎥\n",
       "⎢⎢     ⎥  ⎢    ⎥⎥\n",
       "⎢⎣0  -R⎦  ⎢1   ⎥⎥\n",
       "⎢         ⎢─  0⎥⎥\n",
       "⎣         ⎣R   ⎦⎦"
      ]
     },
     "metadata": {},
     "output_type": "display_data"
    },
    {
     "data": {
      "text/plain": [
       "'Expression:'"
      ]
     },
     "metadata": {},
     "output_type": "display_data"
    },
    {
     "data": {
      "image/png": "[encoded data removed]",
      "text/latex": [
       "$\\displaystyle \\left(\\frac{1}{2}\\right)g{}^{L_{0}t}\\left(\\frac{\\partial}{\\partial {_{}^{m}}}{g{}_{L_{0}n}} + \\frac{\\partial}{\\partial {_{}^{n}}}{g{}_{L_{0}m}} + \\left(-1\\right)\\frac{\\partial}{\\partial {_{}^{L_{0}}}}{g{}_{mn}}\\right)$"
      ],
      "text/plain": [
       "     L₀t ⎛ ∂ ⎛    ⎞    ∂ ⎛    ⎞         ∂  ⎛   ⎞⎞\n",
       "1/2⋅g   ⋅⎜───⎜g   ⎟ + ───⎜g   ⎟ + (-1)⋅────⎜g  ⎟⎟\n",
       "         ⎜  n⎝ L₀m⎠     m⎝ L₀n⎠          L₀⎝ mn⎠⎟\n",
       "         ⎜∂_          ∂_               ∂_       ⎟\n",
       "         ⎝                                      ⎠"
      ]
     },
     "metadata": {},
     "output_type": "display_data"
    },
    {
     "data": {
      "text/plain": [
       "'Riemann curvature expression:'"
      ]
     },
     "metadata": {},
     "output_type": "display_data"
    },
    {
     "data": {
      "image/png": "[encoded data removed]",
      "text/latex": [
       "$\\displaystyle -\\Gamma{}^{i}{}_{L_{0}m}\\Gamma{}^{L_{0}}{}_{jk} - \\frac{\\partial}{\\partial {_{}^{m}}}{\\Gamma{}^{i}{}_{jk}} + \\Gamma{}^{i}{}_{L_{0}k}\\Gamma{}^{L_{0}}{}_{jm} + \\frac{\\partial}{\\partial {_{}^{k}}}{\\Gamma{}^{i}{}_{jm}}$"
      ],
      "text/plain": [
       " ∂ ⎛     i  ⎞     ∂ ⎛     i  ⎞        i         L₀           i         L₀  \n",
       "───⎜Gamma   ⎟ + -───⎜Gamma   ⎟ + Gamma    ⋅Gamma     + -Gamma    ⋅Gamma    \n",
       "  k⎝      jm⎠      m⎝      jk⎠         L₀k        jm          L₀m        jk\n",
       "∂_               ∂_                                                        \n",
       "                                                                           "
      ]
     },
     "metadata": {},
     "output_type": "display_data"
    },
    {
     "data": {
      "text/plain": [
       "'Riemann curvature result:'"
      ]
     },
     "metadata": {},
     "output_type": "display_data"
    },
    {
     "data": {
      "text/latex": [
       "$\\displaystyle \\left[\\begin{matrix}\\left[\\begin{matrix}0 & 0\\\\0 & 0\\end{matrix}\\right] & \\left[\\begin{matrix}0 & 0\\\\0 & 0\\end{matrix}\\right]\\\\\\left[\\begin{matrix}0 & 0\\\\0 & 0\\end{matrix}\\right] & \\left[\\begin{matrix}0 & 0\\\\0 & 0\\end{matrix}\\right]\\end{matrix}\\right]$"
      ],
      "text/plain": [
       "⎡⎡0  0⎤  ⎡0  0⎤⎤\n",
       "⎢⎢    ⎥  ⎢    ⎥⎥\n",
       "⎢⎣0  0⎦  ⎣0  0⎦⎥\n",
       "⎢              ⎥\n",
       "⎢⎡0  0⎤  ⎡0  0⎤⎥\n",
       "⎢⎢    ⎥  ⎢    ⎥⎥\n",
       "⎣⎣0  0⎦  ⎣0  0⎦⎦"
      ]
     },
     "metadata": {},
     "output_type": "display_data"
    },
    {
     "name": "stdout",
     "output_type": "stream",
     "text": [
      "3-sphere\n"
     ]
    },
    {
     "data": {
      "text/plain": [
       "'Metric:'"
      ]
     },
     "metadata": {},
     "output_type": "display_data"
    },
    {
     "data": {
      "image/png": "[encoded data removed]",
      "text/latex": [
       "$\\displaystyle \\left[ \\left[ 1, \\  0, \\  0\\right], \\  \\left[ 0, \\  R^{2}, \\  0\\right], \\  \\left[ 0, \\  0, \\  R^{2} \\sin^{2}{\\left(\\theta \\right)}\\right]\\right]$"
      ],
      "text/plain": [
       "⎡           ⎡    2   ⎤  ⎡       2    2   ⎤⎤\n",
       "⎣[1, 0, 0], ⎣0, R , 0⎦, ⎣0, 0, R ⋅sin (θ)⎦⎦"
      ]
     },
     "metadata": {},
     "output_type": "display_data"
    },
    {
     "data": {
      "text/plain": [
       "'Gamma:'"
      ]
     },
     "metadata": {},
     "output_type": "display_data"
    },
    {
     "data": {
      "text/latex": [
       "$\\displaystyle \\left[\\begin{matrix}\\left[\\begin{matrix}0 & 0 & 0\\\\0 & - R & 0\\\\0 & 0 & - R \\sin^{2}{\\left(\\theta \\right)}\\end{matrix}\\right] & \\left[\\begin{matrix}0 & \\frac{1}{R} & 0\\\\\\frac{1}{R} & 0 & 0\\\\0 & 0 & - \\sin{\\left(\\theta \\right)} \\cos{\\left(\\theta \\right)}\\end{matrix}\\right] & \\left[\\begin{matrix}0 & 0 & \\frac{1}{R}\\\\0 & 0 & \\frac{\\cos{\\left(\\theta \\right)}}{\\sin{\\left(\\theta \\right)}}\\\\\\frac{1}{R} & \\frac{\\cos{\\left(\\theta \\right)}}{\\sin{\\left(\\theta \\right)}} & 0\\end{matrix}\\right]\\end{matrix}\\right]$"
      ],
      "text/plain": [
       "⎡                                             ⎡             1   ⎤⎤\n",
       "⎢                     ⎡   1                ⎤  ⎢0    0       ─   ⎥⎥\n",
       "⎢⎡0  0       0     ⎤  ⎢0  ─        0       ⎥  ⎢             R   ⎥⎥\n",
       "⎢⎢                 ⎥  ⎢   R                ⎥  ⎢                 ⎥⎥\n",
       "⎢⎢0  -R      0     ⎥  ⎢                    ⎥  ⎢           cos(θ)⎥⎥\n",
       "⎢⎢                 ⎥  ⎢1                   ⎥  ⎢0    0     ──────⎥⎥\n",
       "⎢⎢             2   ⎥  ⎢─  0        0       ⎥  ⎢           sin(θ)⎥⎥\n",
       "⎢⎣0  0   -R⋅sin (θ)⎦  ⎢R                   ⎥  ⎢                 ⎥⎥\n",
       "⎢                     ⎢                    ⎥  ⎢1  cos(θ)        ⎥⎥\n",
       "⎢                     ⎣0  0  -sin(θ)⋅cos(θ)⎦  ⎢─  ──────    0   ⎥⎥\n",
       "⎣                                             ⎣R  sin(θ)        ⎦⎦"
      ]
     },
     "metadata": {},
     "output_type": "display_data"
    },
    {
     "data": {
      "text/plain": [
       "'Expression:'"
      ]
     },
     "metadata": {},
     "output_type": "display_data"
    },
    {
     "data": {
      "image/png": "[encoded data removed]",
      "text/latex": [
       "$\\displaystyle \\left(\\frac{1}{2}\\right)g{}^{L_{0}t}\\left(\\frac{\\partial}{\\partial {_{}^{m}}}{g{}_{L_{0}n}} + \\frac{\\partial}{\\partial {_{}^{n}}}{g{}_{L_{0}m}} + \\left(-1\\right)\\frac{\\partial}{\\partial {_{}^{L_{0}}}}{g{}_{mn}}\\right)$"
      ],
      "text/plain": [
       "     L₀t ⎛ ∂ ⎛    ⎞    ∂ ⎛    ⎞         ∂  ⎛   ⎞⎞\n",
       "1/2⋅g   ⋅⎜───⎜g   ⎟ + ───⎜g   ⎟ + (-1)⋅────⎜g  ⎟⎟\n",
       "         ⎜  n⎝ L₀m⎠     m⎝ L₀n⎠          L₀⎝ mn⎠⎟\n",
       "         ⎜∂_          ∂_               ∂_       ⎟\n",
       "         ⎝                                      ⎠"
      ]
     },
     "metadata": {},
     "output_type": "display_data"
    },
    {
     "data": {
      "text/plain": [
       "'Riemann curvature expression:'"
      ]
     },
     "metadata": {},
     "output_type": "display_data"
    },
    {
     "data": {
      "image/png": "[encoded data removed]",
      "text/latex": [
       "$\\displaystyle -\\Gamma{}^{i}{}_{L_{0}m}\\Gamma{}^{L_{0}}{}_{jk} - \\frac{\\partial}{\\partial {_{}^{m}}}{\\Gamma{}^{i}{}_{jk}} + \\Gamma{}^{i}{}_{L_{0}k}\\Gamma{}^{L_{0}}{}_{jm} + \\frac{\\partial}{\\partial {_{}^{k}}}{\\Gamma{}^{i}{}_{jm}}$"
      ],
      "text/plain": [
       " ∂ ⎛     i  ⎞     ∂ ⎛     i  ⎞        i         L₀           i         L₀  \n",
       "───⎜Gamma   ⎟ + -───⎜Gamma   ⎟ + Gamma    ⋅Gamma     + -Gamma    ⋅Gamma    \n",
       "  k⎝      jm⎠      m⎝      jk⎠         L₀k        jm          L₀m        jk\n",
       "∂_               ∂_                                                        \n",
       "                                                                           "
      ]
     },
     "metadata": {},
     "output_type": "display_data"
    },
    {
     "data": {
      "text/plain": [
       "'Riemann curvature result:'"
      ]
     },
     "metadata": {},
     "output_type": "display_data"
    },
    {
     "data": {
      "text/latex": [
       "$\\displaystyle \\left[\\begin{matrix}\\left[\\begin{matrix}0 & 0 & 0\\\\0 & 0 & 0\\\\0 & 0 & 0\\end{matrix}\\right] & \\left[\\begin{matrix}0 & 0 & 0\\\\0 & 0 & 0\\\\0 & 0 & 0\\end{matrix}\\right] & \\left[\\begin{matrix}0 & 0 & 0\\\\0 & 0 & 0\\\\0 & 0 & 0\\end{matrix}\\right]\\\\\\left[\\begin{matrix}0 & 0 & 0\\\\0 & 0 & 0\\\\0 & 0 & 0\\end{matrix}\\right] & \\left[\\begin{matrix}0 & 0 & 0\\\\0 & 0 & 0\\\\0 & 0 & 0\\end{matrix}\\right] & \\left[\\begin{matrix}0 & 0 & 0\\\\0 & 0 & 0\\\\0 & 0 & 0\\end{matrix}\\right]\\\\\\left[\\begin{matrix}0 & 0 & 0\\\\0 & 0 & 0\\\\0 & 0 & 0\\end{matrix}\\right] & \\left[\\begin{matrix}0 & 0 & 0\\\\0 & 0 & 0\\\\0 & 0 & 0\\end{matrix}\\right] & \\left[\\begin{matrix}0 & 0 & 0\\\\0 & 0 & 0\\\\0 & 0 & 0\\end{matrix}\\right]\\end{matrix}\\right]$"
      ],
      "text/plain": [
       "⎡⎡0  0  0⎤  ⎡0  0  0⎤  ⎡0  0  0⎤⎤\n",
       "⎢⎢       ⎥  ⎢       ⎥  ⎢       ⎥⎥\n",
       "⎢⎢0  0  0⎥  ⎢0  0  0⎥  ⎢0  0  0⎥⎥\n",
       "⎢⎢       ⎥  ⎢       ⎥  ⎢       ⎥⎥\n",
       "⎢⎣0  0  0⎦  ⎣0  0  0⎦  ⎣0  0  0⎦⎥\n",
       "⎢                               ⎥\n",
       "⎢⎡0  0  0⎤  ⎡0  0  0⎤  ⎡0  0  0⎤⎥\n",
       "⎢⎢       ⎥  ⎢       ⎥  ⎢       ⎥⎥\n",
       "⎢⎢0  0  0⎥  ⎢0  0  0⎥  ⎢0  0  0⎥⎥\n",
       "⎢⎢       ⎥  ⎢       ⎥  ⎢       ⎥⎥\n",
       "⎢⎣0  0  0⎦  ⎣0  0  0⎦  ⎣0  0  0⎦⎥\n",
       "⎢                               ⎥\n",
       "⎢⎡0  0  0⎤  ⎡0  0  0⎤  ⎡0  0  0⎤⎥\n",
       "⎢⎢       ⎥  ⎢       ⎥  ⎢       ⎥⎥\n",
       "⎢⎢0  0  0⎥  ⎢0  0  0⎥  ⎢0  0  0⎥⎥\n",
       "⎢⎢       ⎥  ⎢       ⎥  ⎢       ⎥⎥\n",
       "⎣⎣0  0  0⎦  ⎣0  0  0⎦  ⎣0  0  0⎦⎦"
      ]
     },
     "metadata": {},
     "output_type": "display_data"
    }
   ],
   "source": [
    "class Geometry:\n",
    "    def __init__(self, which_geometry):\n",
    "        self.which_geometry = which_geometry\n",
    "\n",
    "        self.fMetric = None\n",
    "        self.fX = None\n",
    "        self.fGamma = None\n",
    "        self.fGamma_expr = None\n",
    "        self.fRiemann = None\n",
    "\n",
    "        self.L = TensorIndexType('L', dummy_name='L')\n",
    "        self.x = tensor_heads('_', [self.L])\n",
    "    \n",
    "    def metric(self):\n",
    "        if self.fMetric is None:\n",
    "            theta, phi, R = symbols('theta phi R')\n",
    "            cases = {\n",
    "                '2-sphere': ([[1,0],[0,sin(theta)**2]], [theta, phi]),\n",
    "                'polar_plane': ([[1, 0],[0, R**2]], [R, theta]),\n",
    "                '3-sphere': ([[1,0,0], [0, R**2, 0], [0,0,R**2 * sin(theta)**2]], [R, theta, phi])\n",
    "            }\n",
    "            self.fMetric, self.fX = cases[self.which_geometry]\n",
    "        return self.fMetric\n",
    "\n",
    "    def gamma(self):\n",
    "        \"\"\" The Christoffel symbols \"\"\"\n",
    "        if self.fGamma is None:\n",
    "            L = self.L\n",
    "            g = tensor_heads('g', [L, L])\n",
    "            m,n,t,q = tensor_indices('m n t q', L)\n",
    "            x_repl = {self.x(q): self.fX}\n",
    "            metric_repl = {L: self.metric(), g(-m,-n):self.metric()}\n",
    "            gamma = tensor_heads('Gamma', [L, L, L])\n",
    "            gamma_repl = {gamma(-m, -n, t):self.gamma_expr().replace_with_arrays(x_repl | metric_repl)}\n",
    "            self.fGamma = gamma(-m, -n, t).replace_with_arrays(gamma_repl)\n",
    "            \n",
    "        return self.fGamma\n",
    "\n",
    "    def gamma_expr(self):\n",
    "        if self.fGamma_expr is None:\n",
    "            L = self.L\n",
    "            m, n, r, t = tensor_indices('m n r t', L)\n",
    "            x = self.x\n",
    "            g = tensor_heads('g', [L, L])\n",
    "            self.fGamma_expr = g(r,t) / 2 * (\n",
    "                PartialDerivative(g(-r, -m), x(n)) + \n",
    "                PartialDerivative(g(-r, -n), x(m)) - \n",
    "                PartialDerivative(g(-m, -n), x(r)))\n",
    "        return self.fGamma_expr\n",
    "\n",
    "    def riemann_curvature(self):\n",
    "        L = self.L\n",
    "        i, j, k, m, n, q, r  = tensor_indices('i j k m n q r', L)\n",
    "        x_repl = {self.x(q): self.fX}\n",
    "        gamma = tensor_heads('Gamma', [L, L, L])\n",
    "        R_exp = (\n",
    "            PartialDerivative(gamma(i, -j, -m), self.x(k)) - \n",
    "            PartialDerivative(gamma(i, -j, -k), self.x(m)) + \n",
    "            gamma(i, -r, -k) * gamma(r, -j, -m) - \n",
    "            gamma(i, -r, -m) * gamma(r, -j, -k))\n",
    "        \n",
    "        R = tensor_heads('R', [L, L, L, L])\n",
    "        gamma_repl = {gamma(i, -j, -m) : self.gamma()}\n",
    "        R_repl = {R(i, -k, -m, -j): R_exp.replace_with_arrays(x_repl | gamma_repl)}  # swapping final two indices, seems necessary\n",
    "        result = R(i, -k, -j, -m).replace_with_arrays(R_repl)\n",
    "    \n",
    "        return R_exp, result\n",
    "\n",
    "def test_geometry(): \n",
    "\n",
    "    for which in '2-sphere', 'polar_plane', '3-sphere':\n",
    "        print(which)\n",
    "        geom = Geometry(which)\n",
    "        display ('Metric:', geom.metric())\n",
    "\n",
    "        display ('Gamma:', geom.gamma())\n",
    "        display ('Expression:', geom.gamma_expr())\n",
    "\n",
    "        r_exp, r_result = geom.riemann_curvature()\n",
    "        display ('Riemann curvature expression:', r_exp)\n",
    "        display ('Riemann curvature result:', r_result)\n",
    "        \n",
    "\n",
    "   \n",
    "test_geometry()\n",
    "\n"
   ]
  },
  {
   "cell_type": "code",
   "execution_count": 3,
   "id": "331aab79-528e-4376-bee7-6d67005b9e77",
   "metadata": {},
   "outputs": [
    {
     "data": {
      "image/png": "[encoded data removed]",
      "text/latex": [
       "$\\displaystyle \\left( L, \\  \\dot{r}, \\  F, \\  m, \\  dt, \\  dr, \\  p, \\  dT\\right)$"
      ],
      "text/plain": [
       "(L, ṙ, F, m, dt, dr, p, dT)"
      ]
     },
     "execution_count": 3,
     "metadata": {},
     "output_type": "execute_result"
    }
   ],
   "source": [
    "from sympy import *\n",
    "init_printing()\n",
    "\n",
    "L, rdot, F, m = symbols('L rdot F m')\n",
    "dt, dr = symbols('dt dr')\n",
    "p, H = symbols('p H')\n",
    "dtor = symbols('dT')\n",
    "r, M, G = symbols('r M G')\n",
    "L,rdot,F, m, dt, dr, p, dtor\n"
   ]
  },
  {
   "cell_type": "code",
   "execution_count": 4,
   "id": "6fea7b79-8e5c-4e28-88ef-fad66a65e01e",
   "metadata": {},
   "outputs": [],
   "source": [
    "# F= 1 - (2*M*G/r)"
   ]
  },
  {
   "cell_type": "code",
   "execution_count": 5,
   "id": "220a66e3-3f9b-4bea-9954-92dd70df5a46",
   "metadata": {},
   "outputs": [
    {
     "data": {
      "image/png": "[encoded data removed]",
      "text/latex": [
       "$\\displaystyle - m \\sqrt{F - \\frac{\\dot{r}^{2}}{F}}$"
      ],
      "text/plain": [
       "        ________\n",
       "       ╱      2 \n",
       "      ╱     ṙ  \n",
       "-m⋅  ╱   F - ── \n",
       "   ╲╱        F  "
      ]
     },
     "execution_count": 5,
     "metadata": {},
     "output_type": "execute_result"
    }
   ],
   "source": [
    "L = -m * sqrt(F - rdot**2/F)\n",
    "L"
   ]
  },
  {
   "cell_type": "code",
   "execution_count": 6,
   "id": "1fde238e-6013-471a-9b2c-e20edabaace2",
   "metadata": {},
   "outputs": [],
   "source": [
    "p = diff(L, rdot)"
   ]
  },
  {
   "cell_type": "code",
   "execution_count": 7,
   "id": "c87db587-c4f0-417a-bc16-4f283143e66e",
   "metadata": {},
   "outputs": [
    {
     "data": {
      "image/png": "[encoded data removed]",
      "text/latex": [
       "$\\displaystyle \\frac{F m}{\\sqrt{F - \\frac{\\dot{r}^{2}}{F}}}$"
      ],
      "text/plain": [
       "     F⋅m     \n",
       "─────────────\n",
       "     ________\n",
       "    ╱      2 \n",
       "   ╱     ṙ  \n",
       "  ╱   F - ── \n",
       "╲╱        F  "
      ]
     },
     "execution_count": 7,
     "metadata": {},
     "output_type": "execute_result"
    }
   ],
   "source": [
    "H = p * rdot - L\n",
    "simplify(H)"
   ]
  },
  {
   "cell_type": "code",
   "execution_count": 8,
   "id": "a72a62db-b51d-4de3-9fbc-46f85b38c506",
   "metadata": {},
   "outputs": [
    {
     "data": {
      "image/png": "[encoded data removed]",
      "text/latex": [
       "$\\displaystyle - \\frac{F^{3} m^{2}}{\\dot{r}^{2}} + F^{2}$"
      ],
      "text/plain": [
       "   3  2     \n",
       "  F ⋅m     2\n",
       "- ───── + F \n",
       "     2      \n",
       "   ṙ       "
      ]
     },
     "execution_count": 8,
     "metadata": {},
     "output_type": "execute_result"
    }
   ],
   "source": [
    "solve(H-rdot, rdot**2)[0]"
   ]
  },
  {
   "cell_type": "code",
   "execution_count": 9,
   "id": "73673e22-11cc-4f0a-a5ac-1d805266260d",
   "metadata": {},
   "outputs": [],
   "source": [
    "eqntor = Eq(F * dt**2 - dr**2/F, dtor)"
   ]
  },
  {
   "cell_type": "code",
   "execution_count": 10,
   "id": "b75f37fb-cd56-48a3-a3ac-4330fc893ccc",
   "metadata": {},
   "outputs": [
    {
     "data": {
      "image/png": "[encoded data removed]",
      "text/latex": [
       "$\\displaystyle F dt^{2} - \\frac{dr^{2}}{F} = dT$"
      ],
      "text/plain": [
       "          2     \n",
       "    2   dr      \n",
       "F⋅dt  - ─── = dT\n",
       "         F      "
      ]
     },
     "execution_count": 10,
     "metadata": {},
     "output_type": "execute_result"
    }
   ],
   "source": [
    "eqntor"
   ]
  },
  {
   "cell_type": "code",
   "execution_count": 11,
   "id": "1b178a18-83be-48b6-a11b-a44c5de9c37d",
   "metadata": {},
   "outputs": [
    {
     "data": {
      "image/png": "[encoded data removed]",
      "text/latex": [
       "$\\displaystyle \\left[ 0\\right]$"
      ],
      "text/plain": [
       "[0]"
      ]
     },
     "execution_count": 11,
     "metadata": {},
     "output_type": "execute_result"
    }
   ],
   "source": [
    "solve(dtor)"
   ]
  },
  {
   "cell_type": "code",
   "execution_count": null,
   "id": "c1ac1dac-2c72-445e-bd57-7398d6535a51",
   "metadata": {},
   "outputs": [],
   "source": []
  }
 ],
 "metadata": {
  "kernelspec": {
   "display_name": "Python 3 (ipykernel)",
   "language": "python",
   "name": "python3"
  },
  "language_info": {
   "codemirror_mode": {
    "name": "ipython",
    "version": 3
   },
   "file_extension": ".py",
   "mimetype": "text/x-python",
   "name": "python",
   "nbconvert_exporter": "python",
   "pygments_lexer": "ipython3",
   "version": "3.9.19"
  }
 },
 "nbformat": 4,
 "nbformat_minor": 5
}
