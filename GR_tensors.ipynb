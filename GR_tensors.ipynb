{
 "cells": [
  {
   "cell_type": "markdown",
   "id": "5d460c98-602a-47b1-bd5c-916e3814234d",
   "metadata": {},
   "source": [
    "# Learning tensors for General Relativity"
   ]
  },
  {
   "cell_type": "code",
   "execution_count": 1,
   "id": "5a67b317-8d46-4df1-910e-d11b8b6db1a1",
   "metadata": {},
   "outputs": [],
   "source": [
    "\n",
    "from sympy import *\n",
    "from sympy.tensor.tensor import TensorIndexType, TensorIndex, TensorHead, tensor_indices, tensor_heads\n",
    "from sympy.tensor.toperators import PartialDerivative\n",
    "init_printing()"
   ]
  },
  {
   "cell_type": "markdown",
   "id": "0454f8c1-d71d-41e0-9164-78b57819fb48",
   "metadata": {},
   "source": [
    "## Christoffel symbols for 2D sphere"
   ]
  },
  {
   "cell_type": "markdown",
   "id": "a26d15c6-1d87-46b4-aa18-299bd4ad8934",
   "metadata": {},
   "source": [
    "## Declare a class to model geometry for given particular geometry"
   ]
  },
  {
   "cell_type": "code",
   "execution_count": 2,
   "id": "8e7f99f6-c88e-4f2f-bcd8-344af2e73736",
   "metadata": {},
   "outputs": [
    {
     "name": "stdout",
     "output_type": "stream",
     "text": [
      "====4-curvy====\n"
     ]
    },
    {
     "data": {
      "text/plain": [
       "'Metric:'"
      ]
     },
     "metadata": {},
     "output_type": "display_data"
    },
    {
     "data": {
      "image/png": "[encoded data removed]",
      "text/latex": [
       "$\\displaystyle \\left[ \\left[ -1 + \\frac{S}{R}, \\  \\sin{\\left(\\theta \\right)}, \\  0, \\  0\\right], \\  \\left[ 0, \\  \\frac{1}{1 - \\frac{S}{R}}, \\  0, \\  0\\right], \\  \\left[ 0, \\  0, \\  R^{2}, \\  0\\right], \\  \\left[ 0, \\  0, \\  0, \\  R^{2} \\sin^{2}{\\left(\\theta \\right)}\\right]\\right]$"
      ],
      "text/plain": [
       "⎡⎡     S              ⎤  ⎡     1        ⎤  ⎡       2   ⎤  ⎡          2    2   \n",
       "⎢⎢-1 + ─, sin(θ), 0, 0⎥, ⎢0, ─────, 0, 0⎥, ⎣0, 0, R , 0⎦, ⎣0, 0, 0, R ⋅sin (θ)\n",
       "⎢⎣     R              ⎦  ⎢       S      ⎥                                     \n",
       "⎢                        ⎢   1 - ─      ⎥                                     \n",
       "⎣                        ⎣       R      ⎦                                     \n",
       "\n",
       "⎤⎤\n",
       "⎦⎥\n",
       " ⎥\n",
       " ⎥\n",
       " ⎦"
      ]
     },
     "metadata": {},
     "output_type": "display_data"
    },
    {
     "data": {
      "text/plain": [
       "'Gamma:'"
      ]
     },
     "metadata": {},
     "output_type": "display_data"
    },
    {
     "data": {
      "text/latex": [
       "$\\displaystyle \\left[\\begin{matrix}\\left[\\begin{matrix}\\frac{S \\sin{\\left(\\theta \\right)}}{2 R^{2}} & - \\frac{S \\left(-1 + \\frac{S}{R}\\right)}{2 R^{2} \\left(1 - \\frac{S}{R}\\right)^{2}} & 0 & 0\\\\- \\frac{S \\left(-1 + \\frac{S}{R}\\right)}{2 R^{2} \\left(1 - \\frac{S}{R}\\right)^{2}} & - \\frac{S \\sin{\\left(\\theta \\right)}}{2 R^{2} \\left(1 - \\frac{S}{R}\\right)^{2}} & \\frac{\\left(-1 + \\frac{S}{R}\\right) \\cos{\\left(\\theta \\right)}}{2 \\left(1 - \\frac{S}{R}\\right)^{2}} & 0\\\\0 & \\frac{\\left(-1 + \\frac{S}{R}\\right) \\cos{\\left(\\theta \\right)}}{2 \\left(1 - \\frac{S}{R}\\right)^{2}} & - R \\sin{\\left(\\theta \\right)} & 0\\\\0 & 0 & 0 & - R \\sin^{3}{\\left(\\theta \\right)}\\end{matrix}\\right] & \\left[\\begin{matrix}\\frac{S \\left(1 - \\frac{S}{R}\\right)}{2 R^{2}} & 0 & 0 & 0\\\\0 & - \\frac{S}{2 R^{2} \\cdot \\left(1 - \\frac{S}{R}\\right)} & 0 & 0\\\\0 & 0 & - R \\left(1 - \\frac{S}{R}\\right) & 0\\\\0 & 0 & 0 & - R \\left(1 - \\frac{S}{R}\\right) \\sin^{2}{\\left(\\theta \\right)}\\end{matrix}\\right] & \\left[\\begin{matrix}0 & - \\frac{\\cos{\\left(\\theta \\right)}}{2 R^{2}} & 0 & 0\\\\0 & 0 & \\frac{1}{R} & 0\\\\0 & \\frac{1}{R} & 0 & 0\\\\0 & 0 & 0 & - \\sin{\\left(\\theta \\right)} \\cos{\\left(\\theta \\right)}\\end{matrix}\\right] & \\left[\\begin{matrix}0 & 0 & 0 & 0\\\\0 & 0 & 0 & \\frac{1}{R}\\\\0 & 0 & 0 & \\frac{\\cos{\\left(\\theta \\right)}}{\\sin{\\left(\\theta \\right)}}\\\\0 & \\frac{1}{R} & \\frac{\\cos{\\left(\\theta \\right)}}{\\sin{\\left(\\theta \\right)}} & 0\\end{matrix}\\right]\\end{matrix}\\right]$"
      ],
      "text/plain": [
       "⎡⎡                    ⎛     S⎞                               ⎤                \n",
       "⎢⎢                 -S⋅⎜-1 + ─⎟                               ⎥                \n",
       "⎢⎢  S⋅sin(θ)          ⎝     R⎠                               ⎥                \n",
       "⎢⎢  ────────      ─────────────          0             0     ⎥                \n",
       "⎢⎢       2                    2                              ⎥  ⎡  ⎛    S⎞    \n",
       "⎢⎢    2⋅R            2 ⎛    S⎞                               ⎥  ⎢S⋅⎜1 - ─⎟    \n",
       "⎢⎢                2⋅R ⋅⎜1 - ─⎟                               ⎥  ⎢  ⎝    R⎠    \n",
       "⎢⎢                     ⎝    R⎠                               ⎥  ⎢─────────    \n",
       "⎢⎢                                                           ⎥  ⎢      2      \n",
       "⎢⎢    ⎛     S⎞                    ⎛     S⎞                   ⎥  ⎢   2⋅R       \n",
       "⎢⎢ -S⋅⎜-1 + ─⎟                    ⎜-1 + ─⎟⋅cos(θ)            ⎥  ⎢             \n",
       "⎢⎢    ⎝     R⎠      -S⋅sin(θ)     ⎝     R⎠                   ⎥  ⎢             \n",
       "⎢⎢─────────────   ─────────────   ───────────────      0     ⎥  ⎢    0      ──\n",
       "⎢⎢            2               2               2              ⎥  ⎢             \n",
       "⎢⎢   2 ⎛    S⎞       2 ⎛    S⎞         ⎛    S⎞               ⎥  ⎢           2⋅\n",
       "⎢⎢2⋅R ⋅⎜1 - ─⎟    2⋅R ⋅⎜1 - ─⎟       2⋅⎜1 - ─⎟               ⎥  ⎢             \n",
       "⎢⎢     ⎝    R⎠         ⎝    R⎠         ⎝    R⎠               ⎥  ⎢             \n",
       "⎢⎢                                                           ⎥  ⎢             \n",
       "⎢⎢               ⎛     S⎞                                    ⎥  ⎢    0        \n",
       "⎢⎢               ⎜-1 + ─⎟⋅cos(θ)                             ⎥  ⎢             \n",
       "⎢⎢               ⎝     R⎠                                    ⎥  ⎢             \n",
       "⎢⎢      0        ───────────────     -R⋅sin(θ)         0     ⎥  ⎢             \n",
       "⎢⎢                           2                               ⎥  ⎢    0        \n",
       "⎢⎢                    ⎛    S⎞                                ⎥  ⎣             \n",
       "⎢⎢                  2⋅⎜1 - ─⎟                                ⎥                \n",
       "⎢⎢                    ⎝    R⎠                                ⎥                \n",
       "⎢⎢                                                           ⎥                \n",
       "⎢⎢                                                       3   ⎥                \n",
       "⎣⎣      0               0                0         -R⋅sin (θ)⎦                \n",
       "\n",
       "                                                                              \n",
       "                                                                              \n",
       "                                                                              \n",
       "                                                                              \n",
       "                                          ⎤                                   \n",
       "                                          ⎥                                   \n",
       "                                          ⎥                                   \n",
       "   0            0               0         ⎥  ⎡   -cos(θ)                    ⎤ \n",
       "                                          ⎥  ⎢0  ────────  0        0       ⎥ \n",
       "                                          ⎥  ⎢        2                     ⎥ \n",
       "                                          ⎥  ⎢     2⋅R                      ⎥ \n",
       "  -S                                      ⎥  ⎢                              ⎥ \n",
       "──────────      0               0         ⎥  ⎢             1                ⎥ \n",
       " 2 ⎛    S⎞                                ⎥  ⎢0     0      ─        0       ⎥ \n",
       "R ⋅⎜1 - ─⎟                                ⎥  ⎢             R                ⎥ \n",
       "   ⎝    R⎠                                ⎥  ⎢                              ⎥ \n",
       "                                          ⎥  ⎢      1                       ⎥ \n",
       "               ⎛    S⎞                    ⎥  ⎢0     ─      0        0       ⎥ \n",
       "   0        -R⋅⎜1 - ─⎟          0         ⎥  ⎢      R                       ⎥ \n",
       "               ⎝    R⎠                    ⎥  ⎢                              ⎥ \n",
       "                                          ⎥  ⎣0     0      0  -sin(θ)⋅cos(θ)⎦ \n",
       "                           ⎛    S⎞    2   ⎥                                   \n",
       "   0            0       -R⋅⎜1 - ─⎟⋅sin (θ)⎥                                   \n",
       "                           ⎝    R⎠        ⎦                                   \n",
       "                                                                              \n",
       "                                                                              \n",
       "                                                                              \n",
       "                                                                              \n",
       "                                                                              \n",
       "\n",
       "                       ⎤\n",
       "                       ⎥\n",
       "                       ⎥\n",
       "                       ⎥\n",
       "                       ⎥\n",
       "                       ⎥\n",
       "                       ⎥\n",
       "                       ⎥\n",
       " ⎡0  0    0       0   ⎤⎥\n",
       " ⎢                    ⎥⎥\n",
       " ⎢                1   ⎥⎥\n",
       " ⎢0  0    0       ─   ⎥⎥\n",
       " ⎢                R   ⎥⎥\n",
       " ⎢                    ⎥⎥\n",
       " ⎢              cos(θ)⎥⎥\n",
       " ⎢0  0    0     ──────⎥⎥\n",
       " ⎢              sin(θ)⎥⎥\n",
       " ⎢                    ⎥⎥\n",
       " ⎢   1  cos(θ)        ⎥⎥\n",
       " ⎢0  ─  ──────    0   ⎥⎥\n",
       " ⎣   R  sin(θ)        ⎦⎥\n",
       "                       ⎥\n",
       "                       ⎥\n",
       "                       ⎥\n",
       "                       ⎥\n",
       "                       ⎥\n",
       "                       ⎥\n",
       "                       ⎥\n",
       "                       ⎦"
      ]
     },
     "metadata": {},
     "output_type": "display_data"
    },
    {
     "data": {
      "text/plain": [
       "'Expression:'"
      ]
     },
     "metadata": {},
     "output_type": "display_data"
    },
    {
     "data": {
      "image/png": "[encoded data removed]",
      "text/latex": [
       "$\\displaystyle \\left(\\frac{1}{2}\\right)g{}^{L_{0}t}\\left(\\frac{\\partial}{\\partial {_{}^{m}}}{g{}_{L_{0}n}} + \\frac{\\partial}{\\partial {_{}^{n}}}{g{}_{L_{0}m}} + \\left(-1\\right)\\frac{\\partial}{\\partial {_{}^{L_{0}}}}{g{}_{mn}}\\right)$"
      ],
      "text/plain": [
       "     L₀t ⎛ ∂ ⎛    ⎞    ∂ ⎛    ⎞         ∂  ⎛   ⎞⎞\n",
       "1/2⋅g   ⋅⎜───⎜g   ⎟ + ───⎜g   ⎟ + (-1)⋅────⎜g  ⎟⎟\n",
       "         ⎜  n⎝ L₀m⎠     m⎝ L₀n⎠          L₀⎝ mn⎠⎟\n",
       "         ⎜∂_          ∂_               ∂_       ⎟\n",
       "         ⎝                                      ⎠"
      ]
     },
     "metadata": {},
     "output_type": "display_data"
    },
    {
     "data": {
      "text/plain": [
       "'Riemann curvature expression:'"
      ]
     },
     "metadata": {},
     "output_type": "display_data"
    },
    {
     "data": {
      "image/png": "[encoded data removed]",
      "text/latex": [
       "$\\displaystyle -\\Gamma{}^{i}{}_{L_{0}m}\\Gamma{}^{L_{0}}{}_{jk} - \\frac{\\partial}{\\partial {_{}^{m}}}{\\Gamma{}^{i}{}_{jk}} + \\Gamma{}^{i}{}_{L_{0}k}\\Gamma{}^{L_{0}}{}_{jm} + \\frac{\\partial}{\\partial {_{}^{k}}}{\\Gamma{}^{i}{}_{jm}}$"
      ],
      "text/plain": [
       " ∂ ⎛     i  ⎞     ∂ ⎛     i  ⎞        i         L₀           i         L₀  \n",
       "───⎜Gamma   ⎟ + -───⎜Gamma   ⎟ + Gamma    ⋅Gamma     + -Gamma    ⋅Gamma    \n",
       "  k⎝      jm⎠      m⎝      jk⎠         L₀k        jm          L₀m        jk\n",
       "∂_               ∂_                                                        \n",
       "                                                                           "
      ]
     },
     "metadata": {},
     "output_type": "display_data"
    },
    {
     "data": {
      "text/plain": [
       "'Riemann curvature result:'"
      ]
     },
     "metadata": {},
     "output_type": "display_data"
    },
    {
     "data": {
      "text/latex": [
       "$\\displaystyle \\left[\\begin{matrix}\\left[\\begin{matrix}0 & \\frac{S \\sin{\\left(\\theta \\right)}}{R^{3}} + \\frac{S^{2} \\sin{\\left(\\theta \\right)}}{4 R^{4} \\cdot \\left(1 - \\frac{S}{R}\\right)} & - \\frac{S \\left(-1 + \\frac{S}{R}\\right) \\cos{\\left(\\theta \\right)}}{4 R^{2} \\cdot \\left(1 - \\frac{S}{R}\\right)} - \\frac{S \\cos{\\left(\\theta \\right)}}{2 R^{2}} & 0\\\\- \\frac{S \\sin{\\left(\\theta \\right)}}{R^{3}} - \\frac{S^{2} \\sin{\\left(\\theta \\right)}}{4 R^{4} \\cdot \\left(1 - \\frac{S}{R}\\right)} & 0 & - \\frac{\\sin{\\left(\\theta \\right)} \\cos{\\left(\\theta \\right)}}{2 R} & 0\\\\\\frac{S \\left(-1 + \\frac{S}{R}\\right) \\cos{\\left(\\theta \\right)}}{4 R^{2} \\cdot \\left(1 - \\frac{S}{R}\\right)} + \\frac{S \\cos{\\left(\\theta \\right)}}{2 R^{2}} & \\frac{\\sin{\\left(\\theta \\right)} \\cos{\\left(\\theta \\right)}}{2 R} & 0 & 0\\\\0 & 0 & 0 & 0\\end{matrix}\\right] & \\left[\\begin{matrix}0 & - \\frac{S \\left(-1 + \\frac{S}{R}\\right)}{R^{3} \\left(1 - \\frac{S}{R}\\right)^{2}} - \\frac{S^{2} \\left(-1 + \\frac{S}{R}\\right)^{2}}{4 R^{4} \\left(1 - \\frac{S}{R}\\right)^{4}} - \\frac{3 S^{2} \\left(-1 + \\frac{S}{R}\\right)}{4 R^{4} \\left(1 - \\frac{S}{R}\\right)^{3}} - \\frac{S^{2} \\sin^{2}{\\left(\\theta \\right)}}{4 R^{4} \\left(1 - \\frac{S}{R}\\right)^{2}} - \\frac{S^{2}}{2 R^{4} \\left(1 - \\frac{S}{R}\\right)^{2}} & \\frac{S \\left(-1 + \\frac{S}{R}\\right) \\sin{\\left(\\theta \\right)} \\cos{\\left(\\theta \\right)}}{4 R^{2} \\left(1 - \\frac{S}{R}\\right)^{2}} & 0\\\\\\frac{S \\left(-1 + \\frac{S}{R}\\right)}{R^{3} \\left(1 - \\frac{S}{R}\\right)^{2}} + \\frac{S^{2} \\left(-1 + \\frac{S}{R}\\right)^{2}}{4 R^{4} \\left(1 - \\frac{S}{R}\\right)^{4}} + \\frac{3 S^{2} \\left(-1 + \\frac{S}{R}\\right)}{4 R^{4} \\left(1 - \\frac{S}{R}\\right)^{3}} + \\frac{S^{2} \\sin^{2}{\\left(\\theta \\right)}}{4 R^{4} \\left(1 - \\frac{S}{R}\\right)^{2}} + \\frac{S^{2}}{2 R^{4} \\left(1 - \\frac{S}{R}\\right)^{2}} & 0 & \\frac{\\left(-1 + \\frac{S}{R}\\right) \\cos{\\left(\\theta \\right)}}{2 R \\left(1 - \\frac{S}{R}\\right)^{2}} - \\frac{S \\left(-1 + \\frac{S}{R}\\right)^{2} \\cos{\\left(\\theta \\right)}}{4 R^{2} \\left(1 - \\frac{S}{R}\\right)^{4}} - \\frac{3 S \\left(-1 + \\frac{S}{R}\\right) \\cos{\\left(\\theta \\right)}}{4 R^{2} \\left(1 - \\frac{S}{R}\\right)^{3}} & 0\\\\- \\frac{S \\left(-1 + \\frac{S}{R}\\right) \\sin{\\left(\\theta \\right)} \\cos{\\left(\\theta \\right)}}{4 R^{2} \\left(1 - \\frac{S}{R}\\right)^{2}} & - \\frac{\\left(-1 + \\frac{S}{R}\\right) \\cos{\\left(\\theta \\right)}}{2 R \\left(1 - \\frac{S}{R}\\right)^{2}} + \\frac{S \\left(-1 + \\frac{S}{R}\\right)^{2} \\cos{\\left(\\theta \\right)}}{4 R^{2} \\left(1 - \\frac{S}{R}\\right)^{4}} + \\frac{3 S \\left(-1 + \\frac{S}{R}\\right) \\cos{\\left(\\theta \\right)}}{4 R^{2} \\left(1 - \\frac{S}{R}\\right)^{3}} & 0 & 0\\\\0 & 0 & 0 & 0\\end{matrix}\\right] & \\left[\\begin{matrix}0 & \\frac{S \\left(-1 + \\frac{S}{R}\\right) \\sin{\\left(\\theta \\right)} \\cos{\\left(\\theta \\right)}}{4 R^{2} \\left(1 - \\frac{S}{R}\\right)^{2}} & \\frac{S \\left(-1 + \\frac{S}{R}\\right)}{2 R \\left(1 - \\frac{S}{R}\\right)} - \\frac{S \\sin^{2}{\\left(\\theta \\right)}}{2 R} & 0\\\\- \\frac{S \\left(-1 + \\frac{S}{R}\\right) \\sin{\\left(\\theta \\right)} \\cos{\\left(\\theta \\right)}}{4 R^{2} \\left(1 - \\frac{S}{R}\\right)^{2}} & 0 & \\frac{\\left(-1 + \\frac{S}{R}\\right) \\sin{\\left(\\theta \\right)}}{2 \\left(1 - \\frac{S}{R}\\right)^{2}} + \\frac{S \\left(-1 + \\frac{S}{R}\\right) \\sin{\\left(\\theta \\right)}}{2 R \\left(1 - \\frac{S}{R}\\right)^{2}} + \\frac{S \\sin{\\left(\\theta \\right)}}{2 R \\left(1 - \\frac{S}{R}\\right)} & 0\\\\- \\frac{S \\left(-1 + \\frac{S}{R}\\right)}{2 R \\left(1 - \\frac{S}{R}\\right)} + \\frac{S \\sin^{2}{\\left(\\theta \\right)}}{2 R} & - \\frac{\\left(-1 + \\frac{S}{R}\\right) \\sin{\\left(\\theta \\right)}}{2 \\left(1 - \\frac{S}{R}\\right)^{2}} - \\frac{S \\left(-1 + \\frac{S}{R}\\right) \\sin{\\left(\\theta \\right)}}{2 R \\left(1 - \\frac{S}{R}\\right)^{2}} - \\frac{S \\sin{\\left(\\theta \\right)}}{2 R \\left(1 - \\frac{S}{R}\\right)} & 0 & 0\\\\0 & 0 & 0 & 0\\end{matrix}\\right] & \\left[\\begin{matrix}0 & 0 & 0 & \\frac{S \\left(-1 + \\frac{S}{R}\\right) \\sin^{2}{\\left(\\theta \\right)}}{2 R \\left(1 - \\frac{S}{R}\\right)} - \\frac{S \\sin^{4}{\\left(\\theta \\right)}}{2 R}\\\\0 & 0 & 0 & - \\frac{\\left(-1 + \\frac{S}{R}\\right) \\sin{\\left(\\theta \\right)} \\cos^{2}{\\left(\\theta \\right)}}{2 \\left(1 - \\frac{S}{R}\\right)^{2}} + \\frac{S \\left(-1 + \\frac{S}{R}\\right) \\sin^{3}{\\left(\\theta \\right)}}{2 R \\left(1 - \\frac{S}{R}\\right)^{2}} + \\frac{S \\sin^{3}{\\left(\\theta \\right)}}{2 R \\left(1 - \\frac{S}{R}\\right)}\\\\0 & 0 & 0 & - \\frac{R \\left(-1 + \\frac{S}{R}\\right) \\sin^{2}{\\left(\\theta \\right)} \\cos{\\left(\\theta \\right)}}{2 \\cdot \\left(1 - \\frac{S}{R}\\right)} - R \\sin^{2}{\\left(\\theta \\right)} \\cos{\\left(\\theta \\right)}\\\\- \\frac{S \\left(-1 + \\frac{S}{R}\\right) \\sin^{2}{\\left(\\theta \\right)}}{2 R \\left(1 - \\frac{S}{R}\\right)} + \\frac{S \\sin^{4}{\\left(\\theta \\right)}}{2 R} & \\frac{\\left(-1 + \\frac{S}{R}\\right) \\sin{\\left(\\theta \\right)} \\cos^{2}{\\left(\\theta \\right)}}{2 \\left(1 - \\frac{S}{R}\\right)^{2}} - \\frac{S \\left(-1 + \\frac{S}{R}\\right) \\sin^{3}{\\left(\\theta \\right)}}{2 R \\left(1 - \\frac{S}{R}\\right)^{2}} - \\frac{S \\sin^{3}{\\left(\\theta \\right)}}{2 R \\left(1 - \\frac{S}{R}\\right)} & \\frac{R \\left(-1 + \\frac{S}{R}\\right) \\sin^{2}{\\left(\\theta \\right)} \\cos{\\left(\\theta \\right)}}{2 \\cdot \\left(1 - \\frac{S}{R}\\right)} + R \\sin^{2}{\\left(\\theta \\right)} \\cos{\\left(\\theta \\right)} & 0\\end{matrix}\\right]\\\\\\left[\\begin{matrix}0 & \\frac{S \\left(1 - \\frac{S}{R}\\right)}{R^{3}} - \\frac{S^{2} \\left(-1 + \\frac{S}{R}\\right)}{4 R^{4} \\cdot \\left(1 - \\frac{S}{R}\\right)} - \\frac{S^{2}}{4 R^{4}} & 0 & 0\\\\- \\frac{S \\left(1 - \\frac{S}{R}\\right)}{R^{3}} + \\frac{S^{2} \\left(-1 + \\frac{S}{R}\\right)}{4 R^{4} \\cdot \\left(1 - \\frac{S}{R}\\right)} + \\frac{S^{2}}{4 R^{4}} & 0 & - \\frac{\\left(1 - \\frac{S}{R}\\right) \\cos{\\left(\\theta \\right)}}{2 R} & 0\\\\0 & \\frac{\\left(1 - \\frac{S}{R}\\right) \\cos{\\left(\\theta \\right)}}{2 R} & 0 & 0\\\\0 & 0 & 0 & 0\\end{matrix}\\right] & \\left[\\begin{matrix}0 & - \\frac{S^{2} \\sin{\\left(\\theta \\right)}}{4 R^{4} \\cdot \\left(1 - \\frac{S}{R}\\right)} & \\frac{S \\left(-1 + \\frac{S}{R}\\right) \\cos{\\left(\\theta \\right)}}{4 R^{2} \\cdot \\left(1 - \\frac{S}{R}\\right)} & 0\\\\\\frac{S^{2} \\sin{\\left(\\theta \\right)}}{4 R^{4} \\cdot \\left(1 - \\frac{S}{R}\\right)} & 0 & 0 & 0\\\\- \\frac{S \\left(-1 + \\frac{S}{R}\\right) \\cos{\\left(\\theta \\right)}}{4 R^{2} \\cdot \\left(1 - \\frac{S}{R}\\right)} & 0 & 0 & 0\\\\0 & 0 & 0 & 0\\end{matrix}\\right] & \\left[\\begin{matrix}0 & \\frac{S \\left(-1 + \\frac{S}{R}\\right) \\cos{\\left(\\theta \\right)}}{4 R^{2} \\cdot \\left(1 - \\frac{S}{R}\\right)} & - \\frac{S \\left(1 - \\frac{S}{R}\\right) \\sin{\\left(\\theta \\right)}}{2 R} & 0\\\\- \\frac{S \\left(-1 + \\frac{S}{R}\\right) \\cos{\\left(\\theta \\right)}}{4 R^{2} \\cdot \\left(1 - \\frac{S}{R}\\right)} & 0 & - \\frac{S}{2 R} & 0\\\\\\frac{S \\left(1 - \\frac{S}{R}\\right) \\sin{\\left(\\theta \\right)}}{2 R} & \\frac{S}{2 R} & 0 & 0\\\\0 & 0 & 0 & 0\\end{matrix}\\right] & \\left[\\begin{matrix}0 & 0 & 0 & - \\frac{S \\left(1 - \\frac{S}{R}\\right) \\sin^{3}{\\left(\\theta \\right)}}{2 R}\\\\0 & 0 & 0 & - \\frac{S \\sin^{2}{\\left(\\theta \\right)}}{2 R}\\\\0 & 0 & 0 & 0\\\\\\frac{S \\left(1 - \\frac{S}{R}\\right) \\sin^{3}{\\left(\\theta \\right)}}{2 R} & \\frac{S \\sin^{2}{\\left(\\theta \\right)}}{2 R} & 0 & 0\\end{matrix}\\right]\\\\\\left[\\begin{matrix}0 & \\frac{S \\sin{\\left(\\theta \\right)} \\cos{\\left(\\theta \\right)}}{4 R^{4}} & - \\frac{S \\left(1 - \\frac{S}{R}\\right)}{2 R^{3}} & 0\\\\- \\frac{S \\sin{\\left(\\theta \\right)} \\cos{\\left(\\theta \\right)}}{4 R^{4}} & 0 & - \\frac{\\sin{\\left(\\theta \\right)}}{2 R^{2}} & 0\\\\\\frac{S \\left(1 - \\frac{S}{R}\\right)}{2 R^{3}} & \\frac{\\sin{\\left(\\theta \\right)}}{2 R^{2}} & 0 & 0\\\\0 & 0 & 0 & 0\\end{matrix}\\right] & \\left[\\begin{matrix}0 & - \\frac{S \\left(-1 + \\frac{S}{R}\\right) \\cos{\\left(\\theta \\right)}}{4 R^{4} \\left(1 - \\frac{S}{R}\\right)^{2}} & 0 & 0\\\\\\frac{S \\left(-1 + \\frac{S}{R}\\right) \\cos{\\left(\\theta \\right)}}{4 R^{4} \\left(1 - \\frac{S}{R}\\right)^{2}} & 0 & - \\frac{\\left(-1 + \\frac{S}{R}\\right) \\cos^{2}{\\left(\\theta \\right)}}{4 R^{2} \\left(1 - \\frac{S}{R}\\right)^{2}} + \\frac{S}{2 R^{3} \\cdot \\left(1 - \\frac{S}{R}\\right)} & 0\\\\0 & \\frac{\\left(-1 + \\frac{S}{R}\\right) \\cos^{2}{\\left(\\theta \\right)}}{4 R^{2} \\left(1 - \\frac{S}{R}\\right)^{2}} - \\frac{S}{2 R^{3} \\cdot \\left(1 - \\frac{S}{R}\\right)} & 0 & 0\\\\0 & 0 & 0 & 0\\end{matrix}\\right] & \\left[\\begin{matrix}0 & 0 & 0 & 0\\\\0 & 0 & \\frac{\\sin{\\left(\\theta \\right)} \\cos{\\left(\\theta \\right)}}{2 R} & 0\\\\0 & - \\frac{\\sin{\\left(\\theta \\right)} \\cos{\\left(\\theta \\right)}}{2 R} & 0 & 0\\\\0 & 0 & 0 & 0\\end{matrix}\\right] & \\left[\\begin{matrix}0 & 0 & 0 & 0\\\\0 & 0 & 0 & \\frac{\\sin^{3}{\\left(\\theta \\right)} \\cos{\\left(\\theta \\right)}}{2 R}\\\\0 & 0 & 0 & - \\left(1 - \\frac{S}{R}\\right) \\sin^{2}{\\left(\\theta \\right)} + \\sin^{2}{\\left(\\theta \\right)}\\\\0 & - \\frac{\\sin^{3}{\\left(\\theta \\right)} \\cos{\\left(\\theta \\right)}}{2 R} & \\left(1 - \\frac{S}{R}\\right) \\sin^{2}{\\left(\\theta \\right)} - \\sin^{2}{\\left(\\theta \\right)} & 0\\end{matrix}\\right]\\\\\\left[\\begin{matrix}0 & 0 & 0 & - \\frac{S \\left(1 - \\frac{S}{R}\\right)}{2 R^{3}}\\\\0 & 0 & 0 & \\frac{\\cos^{2}{\\left(\\theta \\right)}}{2 R^{2} \\sin{\\left(\\theta \\right)}}\\\\0 & 0 & 0 & 0\\\\\\frac{S \\left(1 - \\frac{S}{R}\\right)}{2 R^{3}} & - \\frac{\\cos^{2}{\\left(\\theta \\right)}}{2 R^{2} \\sin{\\left(\\theta \\right)}} & 0 & 0\\end{matrix}\\right] & \\left[\\begin{matrix}0 & 0 & 0 & 0\\\\0 & 0 & 0 & \\frac{S}{2 R^{3} \\cdot \\left(1 - \\frac{S}{R}\\right)}\\\\0 & 0 & 0 & 0\\\\0 & - \\frac{S}{2 R^{3} \\cdot \\left(1 - \\frac{S}{R}\\right)} & 0 & 0\\end{matrix}\\right] & \\left[\\begin{matrix}0 & 0 & 0 & 0\\\\0 & 0 & 0 & 0\\\\0 & 0 & 0 & - \\frac{S}{R}\\\\0 & 0 & \\frac{S}{R} & 0\\end{matrix}\\right] & \\left[\\begin{matrix}0 & 0 & 0 & 0\\\\0 & 0 & 0 & 0\\\\0 & 0 & 0 & 0\\\\0 & 0 & 0 & 0\\end{matrix}\\right]\\end{matrix}\\right]$"
      ],
      "text/plain": [
       "⎡                                                                             \n",
       "⎢                                                                             \n",
       "⎢                                                                             \n",
       "⎢                                                                             \n",
       "⎢⎡                                                           ⎛     S⎞         \n",
       "⎢⎢                                           2             S⋅⎜-1 + ─⎟⋅cos(θ)  \n",
       "⎢⎢                              S⋅sin(θ)    S ⋅sin(θ)        ⎝     R⎠         \n",
       "⎢⎢             0                ──────── + ────────────  - ───────────────── -\n",
       "⎢⎢                                  3         4 ⎛    S⎞          2 ⎛    S⎞    \n",
       "⎢⎢                                 R       4⋅R ⋅⎜1 - ─⎟       4⋅R ⋅⎜1 - ─⎟    \n",
       "⎢⎢                                              ⎝    R⎠            ⎝    R⎠    \n",
       "⎢⎢                                                                            \n",
       "⎢⎢                2                                                           \n",
       "⎢⎢   S⋅sin(θ)    S ⋅sin(θ)                                      -sin(θ)⋅cos(θ)\n",
       "⎢⎢ - ──────── - ────────────               0                    ──────────────\n",
       "⎢⎢       3         4 ⎛    S⎞                                          2⋅R     \n",
       "⎢⎢      R       4⋅R ⋅⎜1 - ─⎟                                                  \n",
       "⎢⎢                   ⎝    R⎠                                                  \n",
       "⎢⎢                                                                            \n",
       "⎢⎢  ⎛     S⎞                                                                  \n",
       "⎢⎢S⋅⎜-1 + ─⎟⋅cos(θ)                                                           \n",
       "⎢⎢  ⎝     R⎠          S⋅cos(θ)       sin(θ)⋅cos(θ)                            \n",
       "⎢⎢───────────────── + ────────       ─────────────                     0      \n",
       "⎢⎢      2 ⎛    S⎞          2              2⋅R                                 \n",
       "⎢⎢   4⋅R ⋅⎜1 - ─⎟       2⋅R                                                   \n",
       "⎢⎢        ⎝    R⎠                                                             \n",
       "⎢⎢                                                                            \n",
       "⎢⎣             0                           0                           0      \n",
       "⎢                                                                             \n",
       "⎢                                                                             \n",
       "⎢                                                                             \n",
       "⎢                                                                             \n",
       "⎢                                                                             \n",
       "⎢                                                                             \n",
       "⎢                                                                             \n",
       "⎢⎡                                     ⎛    S⎞    2 ⎛     S⎞                  \n",
       "⎢⎢                                   S⋅⎜1 - ─⎟   S ⋅⎜-1 + ─⎟      2           \n",
       "⎢⎢                                     ⎝    R⎠      ⎝     R⎠     S            \n",
       "⎢⎢                0                  ───────── - ──────────── - ────         0\n",
       "⎢⎢                                        3         4 ⎛    S⎞      4          \n",
       "⎢⎢                                       R       4⋅R ⋅⎜1 - ─⎟   4⋅R           \n",
       "⎢⎢                                                    ⎝    R⎠                 \n",
       "⎢⎢                                                                            \n",
       "⎢⎢    ⎛    S⎞    2 ⎛     S⎞                                            ⎛    S⎞\n",
       "⎢⎢  S⋅⎜1 - ─⎟   S ⋅⎜-1 + ─⎟      2                                    -⎜1 - ─⎟\n",
       "⎢⎢    ⎝    R⎠      ⎝     R⎠     S                                      ⎝    R⎠\n",
       "⎢⎢- ───────── + ──────────── + ────                 0                 ────────\n",
       "⎢⎢       3         4 ⎛    S⎞      4                                         2⋅\n",
       "⎢⎢      R       4⋅R ⋅⎜1 - ─⎟   4⋅R                                            \n",
       "⎢⎢                   ⎝    R⎠                                                  \n",
       "⎢⎢                                                                            \n",
       "⎢⎢                                           ⎛    S⎞                          \n",
       "⎢⎢                                           ⎜1 - ─⎟⋅cos(θ)                   \n",
       "⎢⎢                                           ⎝    R⎠                          \n",
       "⎢⎢                0                          ──────────────                  0\n",
       "⎢⎢                                                2⋅R                         \n",
       "⎢⎢                                                                            \n",
       "⎢⎣                0                                 0                        0\n",
       "⎢                                                                             \n",
       "⎢                                                                             \n",
       "⎢                                                                             \n",
       "⎢                                                                             \n",
       "⎢                                                                             \n",
       "⎢                   ⎡                                       ⎛    S⎞    ⎤      \n",
       "⎢                   ⎢                                    -S⋅⎜1 - ─⎟    ⎥      \n",
       "⎢                   ⎢                   S⋅sin(θ)⋅cos(θ)     ⎝    R⎠    ⎥      \n",
       "⎢                   ⎢        0          ───────────────  ───────────  0⎥      \n",
       "⎢                   ⎢                            4              3      ⎥      \n",
       "⎢                   ⎢                         4⋅R            2⋅R       ⎥      \n",
       "⎢                   ⎢                                                  ⎥      \n",
       "⎢                   ⎢-S⋅sin(θ)⋅cos(θ)                     -sin(θ)      ⎥      \n",
       "⎢                   ⎢─────────────────         0          ────────    0⎥      \n",
       "⎢                   ⎢          4                               2       ⎥      \n",
       "⎢                   ⎢       4⋅R                             2⋅R        ⎥      \n",
       "⎢                   ⎢                                                  ⎥      \n",
       "⎢                   ⎢      ⎛    S⎞                                     ⎥      \n",
       "⎢                   ⎢    S⋅⎜1 - ─⎟                                     ⎥      \n",
       "⎢                   ⎢      ⎝    R⎠          sin(θ)                     ⎥      \n",
       "⎢                   ⎢    ─────────          ──────            0       0⎥      \n",
       "⎢                   ⎢          3                2                      ⎥      \n",
       "⎢                   ⎢       2⋅R              2⋅R                       ⎥      \n",
       "⎢                   ⎢                                                  ⎥      \n",
       "⎢                   ⎣        0                 0              0       0⎦      \n",
       "⎢                                                                             \n",
       "⎢                                                                             \n",
       "⎢                                                                             \n",
       "⎢                                                                             \n",
       "⎢                                                                             \n",
       "⎢                         ⎡                              ⎛    S⎞ ⎤            \n",
       "⎢                         ⎢                           -S⋅⎜1 - ─⎟ ⎥            \n",
       "⎢                         ⎢                              ⎝    R⎠ ⎥            \n",
       "⎢                         ⎢    0           0       0  ───────────⎥            \n",
       "⎢                         ⎢                                  3   ⎥            \n",
       "⎢                         ⎢                               2⋅R    ⎥            \n",
       "⎢                         ⎢                                      ⎥            \n",
       "⎢                         ⎢                                2     ⎥            \n",
       "⎢                         ⎢                             cos (θ)  ⎥            \n",
       "⎢                         ⎢    0           0       0  ───────────⎥            \n",
       "⎢                         ⎢                              2       ⎥            \n",
       "⎢                         ⎢                           2⋅R ⋅sin(θ)⎥            \n",
       "⎢                         ⎢                                      ⎥            \n",
       "⎢                         ⎢    0           0       0       0     ⎥            \n",
       "⎢                         ⎢                                      ⎥            \n",
       "⎢                         ⎢  ⎛    S⎞                             ⎥            \n",
       "⎢                         ⎢S⋅⎜1 - ─⎟       2                     ⎥            \n",
       "⎢                         ⎢  ⎝    R⎠   -cos (θ)                  ⎥            \n",
       "⎢                         ⎢─────────  ───────────  0       0     ⎥            \n",
       "⎢                         ⎢      3       2                       ⎥            \n",
       "⎣                         ⎣   2⋅R     2⋅R ⋅sin(θ)                ⎦            \n",
       "\n",
       "                                                                              \n",
       "               ⎡                                                              \n",
       "               ⎢                                                              \n",
       "               ⎢                                                              \n",
       "            ⎤  ⎢                                                              \n",
       "            ⎥  ⎢                                     0                        \n",
       " S⋅cos(θ)   ⎥  ⎢                                                              \n",
       " ────────  0⎥  ⎢                                                              \n",
       "      2     ⎥  ⎢                                                              \n",
       "   2⋅R      ⎥  ⎢                                                              \n",
       "            ⎥  ⎢                                                              \n",
       "            ⎥  ⎢                          2                                   \n",
       "            ⎥  ⎢   ⎛     S⎞     2 ⎛     S⎞       2 ⎛     S⎞                   \n",
       "            ⎥  ⎢ S⋅⎜-1 + ─⎟    S ⋅⎜-1 + ─⎟    3⋅S ⋅⎜-1 + ─⎟      2    2       \n",
       "─          0⎥  ⎢   ⎝     R⎠       ⎝     R⎠         ⎝     R⎠     S ⋅sin (θ)    \n",
       "            ⎥  ⎢─────────── + ───────────── + ───────────── + ───────────── + \n",
       "            ⎥  ⎢          2               4               3               2   \n",
       "            ⎥  ⎢ 3 ⎛    S⎞       4 ⎛    S⎞       4 ⎛    S⎞       4 ⎛    S⎞    \n",
       "            ⎥  ⎢R ⋅⎜1 - ─⎟    4⋅R ⋅⎜1 - ─⎟    4⋅R ⋅⎜1 - ─⎟    4⋅R ⋅⎜1 - ─⎟    \n",
       "            ⎥  ⎢   ⎝    R⎠         ⎝    R⎠         ⎝    R⎠         ⎝    R⎠    \n",
       "            ⎥  ⎢                                                              \n",
       "            ⎥  ⎢                                                              \n",
       "           0⎥  ⎢                           ⎛     S⎞                           \n",
       "            ⎥  ⎢                        -S⋅⎜-1 + ─⎟⋅sin(θ)⋅cos(θ)             \n",
       "            ⎥  ⎢                           ⎝     R⎠                           \n",
       "            ⎥  ⎢                        ──────────────────────────            \n",
       "            ⎥  ⎢                                          2                   \n",
       "           0⎦  ⎢                                 2 ⎛    S⎞                    \n",
       "               ⎢                              4⋅R ⋅⎜1 - ─⎟                    \n",
       "               ⎢                                   ⎝    R⎠                    \n",
       "               ⎢                                                              \n",
       "               ⎣                                     0                        \n",
       "                                                                              \n",
       "                                                                              \n",
       "                                                                              \n",
       "           ⎤                                                                  \n",
       "           ⎥                                                                  \n",
       "           ⎥                                                                  \n",
       "          0⎥                                                                  \n",
       "           ⎥                                                                  \n",
       "           ⎥                                                                  \n",
       "           ⎥                                                                  \n",
       "           ⎥                                                                  \n",
       "           ⎥                                                                  \n",
       "⋅cos(θ)    ⎥                                                                  \n",
       "           ⎥                                                                  \n",
       "────────  0⎥                                                                  \n",
       "R          ⎥                                                                  \n",
       "           ⎥                                                                  \n",
       "           ⎥                                                                  \n",
       "           ⎥                                                                  \n",
       "           ⎥                                                                  \n",
       "           ⎥                                                                  \n",
       "           ⎥                                                                  \n",
       "          0⎥                                                                  \n",
       "           ⎥                                                                  \n",
       "           ⎥                                                                  \n",
       "          0⎦                                                                  \n",
       "                                                                              \n",
       "                                                                              \n",
       "                                                                              \n",
       "                                                                              \n",
       "                                                                              \n",
       "                                                                              \n",
       "                                                                              \n",
       "                                                                              \n",
       "                                                                              \n",
       "                                                                              \n",
       "                                                                              \n",
       "                                                                              \n",
       "                                                                              \n",
       "                                                                              \n",
       "                                                                              \n",
       "                                                                              \n",
       "                                                                              \n",
       "                                                                              \n",
       "                                                                              \n",
       "                                                                              \n",
       "                                                                              \n",
       "                                                                              \n",
       "                                                                              \n",
       "                                                                              \n",
       "                                                                              \n",
       "                                                                              \n",
       "                                                                              \n",
       "                                                                              \n",
       "                                                                              \n",
       "                                                                              \n",
       "                                                                              \n",
       "                                                                              \n",
       "                                                                              \n",
       "                                                                              \n",
       "                                                                              \n",
       "                                                                              \n",
       "                                                                              \n",
       "                                                                              \n",
       "                                                                              \n",
       "                                                                              \n",
       "                                                                              \n",
       "                                                                              \n",
       "                                                                              \n",
       "                                                                              \n",
       "                                                                              \n",
       "                                                                              \n",
       "                                                                              \n",
       "                                                                              \n",
       "                                                                              \n",
       "                                                                              \n",
       "                                                                              \n",
       "\n",
       "                                                                              \n",
       "                                           2                                  \n",
       "                    ⎛     S⎞     2 ⎛     S⎞       2 ⎛     S⎞                  \n",
       "                  S⋅⎜-1 + ─⎟    S ⋅⎜-1 + ─⎟    3⋅S ⋅⎜-1 + ─⎟      2    2      \n",
       "                    ⎝     R⎠       ⎝     R⎠         ⎝     R⎠     S ⋅sin (θ)   \n",
       "               - ─────────── - ───────────── - ───────────── - ───────────── -\n",
       "                           2               4               3               2  \n",
       "                  3 ⎛    S⎞       4 ⎛    S⎞       4 ⎛    S⎞       4 ⎛    S⎞   \n",
       "                 R ⋅⎜1 - ─⎟    4⋅R ⋅⎜1 - ─⎟    4⋅R ⋅⎜1 - ─⎟    4⋅R ⋅⎜1 - ─⎟   \n",
       "                    ⎝    R⎠         ⎝    R⎠         ⎝    R⎠         ⎝    R⎠   \n",
       "                                                                              \n",
       "                                                                              \n",
       "                                                                              \n",
       "       2                                                                      \n",
       "      S                                                                       \n",
       "─────────────                                        0                        \n",
       "            2                                                                 \n",
       "   4 ⎛    S⎞                                                                  \n",
       "2⋅R ⋅⎜1 - ─⎟                                                                  \n",
       "     ⎝    R⎠                                                                  \n",
       "                                                                              \n",
       "                                                     2                        \n",
       "                         ⎛     S⎞            ⎛     S⎞               ⎛     S⎞  \n",
       "                         ⎜-1 + ─⎟⋅cos(θ)   S⋅⎜-1 + ─⎟ ⋅cos(θ)   3⋅S⋅⎜-1 + ─⎟⋅c\n",
       "                         ⎝     R⎠            ⎝     R⎠               ⎝     R⎠  \n",
       "                       - ─────────────── + ────────────────── + ──────────────\n",
       "                                      2                  4                    \n",
       "                               ⎛    S⎞          2 ⎛    S⎞             2 ⎛    S\n",
       "                           2⋅R⋅⎜1 - ─⎟       4⋅R ⋅⎜1 - ─⎟          4⋅R ⋅⎜1 - ─\n",
       "                               ⎝    R⎠            ⎝    R⎠               ⎝    R\n",
       "                                                                              \n",
       "                                                     0                        \n",
       "                                                                              \n",
       "                                                                              \n",
       "                  ⎡                                     ⎛     S⎞          ⎤   \n",
       "                  ⎢                       2           S⋅⎜-1 + ─⎟⋅cos(θ)   ⎥   \n",
       "                  ⎢                     -S ⋅sin(θ)      ⎝     R⎠          ⎥   \n",
       "                  ⎢         0           ────────────  ─────────────────  0⎥   \n",
       "                  ⎢                        4 ⎛    S⎞        2 ⎛    S⎞     ⎥   \n",
       "                  ⎢                     4⋅R ⋅⎜1 - ─⎟     4⋅R ⋅⎜1 - ─⎟     ⎥   \n",
       "                  ⎢                          ⎝    R⎠          ⎝    R⎠     ⎥   \n",
       "                  ⎢                                                       ⎥   \n",
       "                  ⎢     2                                                 ⎥   \n",
       "                  ⎢    S ⋅sin(θ)                                          ⎥   \n",
       "                  ⎢   ────────────           0                0          0⎥   \n",
       "                  ⎢      4 ⎛    S⎞                                        ⎥   \n",
       "                  ⎢   4⋅R ⋅⎜1 - ─⎟                                        ⎥   \n",
       "                  ⎢        ⎝    R⎠                                        ⎥   \n",
       "                  ⎢                                                       ⎥   \n",
       "                  ⎢   ⎛     S⎞                                            ⎥   \n",
       "                  ⎢-S⋅⎜-1 + ─⎟⋅cos(θ)                                     ⎥   \n",
       "                  ⎢   ⎝     R⎠                                            ⎥   \n",
       "                  ⎢───────────────────       0                0          0⎥   \n",
       "                  ⎢       2 ⎛    S⎞                                       ⎥   \n",
       "                  ⎢    4⋅R ⋅⎜1 - ─⎟                                       ⎥   \n",
       "                  ⎢         ⎝    R⎠                                       ⎥   \n",
       "                  ⎢                                                       ⎥   \n",
       "                  ⎣         0                0                0          0⎦   \n",
       "                                                                              \n",
       " ⎡                            ⎛     S⎞                                        \n",
       " ⎢                         -S⋅⎜-1 + ─⎟⋅cos(θ)                                 \n",
       " ⎢                            ⎝     R⎠                                        \n",
       " ⎢        0                ───────────────────                        0       \n",
       " ⎢                                        2                                   \n",
       " ⎢                               4 ⎛    S⎞                                    \n",
       " ⎢                            4⋅R ⋅⎜1 - ─⎟                                    \n",
       " ⎢                                 ⎝    R⎠                                    \n",
       " ⎢                                                                            \n",
       " ⎢  ⎛     S⎞                                            ⎛     S⎞    2         \n",
       " ⎢S⋅⎜-1 + ─⎟⋅cos(θ)                                     ⎜-1 + ─⎟⋅cos (θ)      \n",
       " ⎢  ⎝     R⎠                                            ⎝     R⎠              \n",
       " ⎢─────────────────                 0                 - ──────────────── + ───\n",
       " ⎢              2                                                    2        \n",
       " ⎢     4 ⎛    S⎞                                            2 ⎛    S⎞      2⋅R\n",
       " ⎢  4⋅R ⋅⎜1 - ─⎟                                         4⋅R ⋅⎜1 - ─⎟         \n",
       " ⎢       ⎝    R⎠                                              ⎝    R⎠         \n",
       " ⎢                                                                            \n",
       " ⎢                   ⎛     S⎞    2                                            \n",
       " ⎢                   ⎜-1 + ─⎟⋅cos (θ)                                         \n",
       " ⎢                   ⎝     R⎠                S                                \n",
       " ⎢        0          ──────────────── - ────────────                  0       \n",
       " ⎢                                2        3 ⎛    S⎞                          \n",
       " ⎢                       2 ⎛    S⎞      2⋅R ⋅⎜1 - ─⎟                          \n",
       " ⎢                    4⋅R ⋅⎜1 - ─⎟           ⎝    R⎠                          \n",
       " ⎢                         ⎝    R⎠                                            \n",
       " ⎢                                                                            \n",
       " ⎣        0                         0                                 0       \n",
       "                                                                              \n",
       "                                                                              \n",
       "                                                                              \n",
       "                                                                              \n",
       "                             ⎡0       0        0       0      ⎤               \n",
       "                             ⎢                                ⎥               \n",
       "                             ⎢                         S      ⎥               \n",
       "                             ⎢0       0        0  ────────────⎥               \n",
       "                             ⎢                       3 ⎛    S⎞⎥               \n",
       "                             ⎢                    2⋅R ⋅⎜1 - ─⎟⎥               \n",
       "                             ⎢                         ⎝    R⎠⎥               \n",
       "                             ⎢                                ⎥               \n",
       "                             ⎢0       0        0       0      ⎥               \n",
       "                             ⎢                                ⎥               \n",
       "                             ⎢       -S                       ⎥               \n",
       "                             ⎢0  ────────────  0       0      ⎥               \n",
       "                             ⎢      3 ⎛    S⎞                 ⎥               \n",
       "                             ⎢   2⋅R ⋅⎜1 - ─⎟                 ⎥               \n",
       "                             ⎣        ⎝    R⎠                 ⎦               \n",
       "                                                                              \n",
       "                                                                              \n",
       "                                                                              \n",
       "\n",
       "                                                                              \n",
       "                                                                             ⎤\n",
       "                                   ⎛     S⎞                                  ⎥\n",
       "        2                        S⋅⎜-1 + ─⎟⋅sin(θ)⋅cos(θ)                    ⎥\n",
       "       S                           ⎝     R⎠                                  ⎥\n",
       " ─────────────                   ────────────────────────                   0⎥\n",
       "             2                                    2                          ⎥\n",
       "    4 ⎛    S⎞                            2 ⎛    S⎞                           ⎥\n",
       " 2⋅R ⋅⎜1 - ─⎟                         4⋅R ⋅⎜1 - ─⎟                           ⎥\n",
       "      ⎝    R⎠                              ⎝    R⎠                           ⎥\n",
       "                                                                             ⎥\n",
       "                                            2                                ⎥\n",
       "                ⎛     S⎞            ⎛     S⎞               ⎛     S⎞          ⎥\n",
       "                ⎜-1 + ─⎟⋅cos(θ)   S⋅⎜-1 + ─⎟ ⋅cos(θ)   3⋅S⋅⎜-1 + ─⎟⋅cos(θ)   ⎥\n",
       "                ⎝     R⎠            ⎝     R⎠               ⎝     R⎠          ⎥\n",
       "                ─────────────── - ────────────────── - ───────────────────  0⎥\n",
       "                             2                  4                     3      ⎥\n",
       "                      ⎛    S⎞          2 ⎛    S⎞             2 ⎛    S⎞       ⎥\n",
       "                  2⋅R⋅⎜1 - ─⎟       4⋅R ⋅⎜1 - ─⎟          4⋅R ⋅⎜1 - ─⎟       ⎥\n",
       "                      ⎝    R⎠            ⎝    R⎠               ⎝    R⎠       ⎥\n",
       "                                                                             ⎥\n",
       "                                                                             ⎥\n",
       "                                                                             ⎥\n",
       "os(θ)                                                                        ⎥\n",
       "                                                                             ⎥\n",
       "─────                                       0                               0⎥\n",
       " 3                                                                           ⎥\n",
       "⎞                                                                            ⎥\n",
       "⎟                                                                            ⎥\n",
       "⎠                                                                            ⎥\n",
       "                                                                             ⎥\n",
       "                                            0                               0⎦\n",
       "                                                                              \n",
       "                                                                              \n",
       "                                                                              \n",
       "                                                                              \n",
       "                                                                              \n",
       "                                                                              \n",
       "                                                                              \n",
       "                                                                              \n",
       "                                                                              \n",
       "                                                                              \n",
       "                                                                              \n",
       "                                                                              \n",
       "                                                                              \n",
       "                                                                              \n",
       "                                                                              \n",
       "                                                                              \n",
       "                                                                              \n",
       "                                                                              \n",
       "                                                                              \n",
       "                                                                              \n",
       "                                                                              \n",
       "                                                                              \n",
       "                                                                              \n",
       "                                                                              \n",
       "                                                                              \n",
       "                                                                              \n",
       "                                                                              \n",
       "            ⎤                                                                 \n",
       "            ⎥                                                                 \n",
       "            ⎥                                                                 \n",
       "           0⎥                                                                 \n",
       "            ⎥                                                                 \n",
       "            ⎥                                                                 \n",
       "            ⎥                                                                 \n",
       "            ⎥                                                                 \n",
       "            ⎥                                                                 \n",
       "            ⎥                                                                 \n",
       "            ⎥                                                                 \n",
       "  S         ⎥                                                                 \n",
       "─────────  0⎥                                                                 \n",
       "3 ⎛    S⎞   ⎥                                                                 \n",
       " ⋅⎜1 - ─⎟   ⎥                                                                 \n",
       "  ⎝    R⎠   ⎥                                                                 \n",
       "            ⎥                                                                 \n",
       "            ⎥                                                                 \n",
       "            ⎥                                                                 \n",
       "            ⎥                                                                 \n",
       "            ⎥                                                                 \n",
       "           0⎥                                                                 \n",
       "            ⎥                                                                 \n",
       "            ⎥                                                                 \n",
       "            ⎥                                                                 \n",
       "            ⎥                                                                 \n",
       "            ⎥                                                                 \n",
       "           0⎦                                                                 \n",
       "                                                                              \n",
       "                                                                              \n",
       "                                                                              \n",
       "                                                                              \n",
       "                                                                              \n",
       "                                                                              \n",
       "                                                                              \n",
       "                                                                              \n",
       "                                                                              \n",
       "                                                                              \n",
       "                                                                              \n",
       "                                                                              \n",
       "                                                                              \n",
       "                                                                              \n",
       "                                                                              \n",
       "                                                                              \n",
       "                                                                              \n",
       "                                                                              \n",
       "                                                                              \n",
       "                                                                              \n",
       "                                                                              \n",
       "                                                                              \n",
       "\n",
       "                                                                              \n",
       "                                                                              \n",
       "  ⎡                                           ⎛     S⎞                        \n",
       "  ⎢                                         S⋅⎜-1 + ─⎟⋅sin(θ)⋅cos(θ)          \n",
       "  ⎢                                           ⎝     R⎠                        \n",
       "  ⎢            0                            ────────────────────────          \n",
       "  ⎢                                                          2                \n",
       "  ⎢                                                 2 ⎛    S⎞                 \n",
       "  ⎢                                              4⋅R ⋅⎜1 - ─⎟                 \n",
       "  ⎢                                                   ⎝    R⎠                 \n",
       "  ⎢                                                                           \n",
       "  ⎢   ⎛     S⎞                                                                \n",
       "  ⎢-S⋅⎜-1 + ─⎟⋅sin(θ)⋅cos(θ)                                                  \n",
       "  ⎢   ⎝     R⎠                                                                \n",
       "  ⎢──────────────────────────                           0                     \n",
       "  ⎢                  2                                                        \n",
       "  ⎢         2 ⎛    S⎞                                                         \n",
       "  ⎢      4⋅R ⋅⎜1 - ─⎟                                                         \n",
       "  ⎢           ⎝    R⎠                                                         \n",
       "  ⎢                                                                           \n",
       "  ⎢     ⎛     S⎞                 ⎛     S⎞            ⎛     S⎞                 \n",
       "  ⎢   S⋅⎜-1 + ─⎟        2        ⎜-1 + ─⎟⋅sin(θ)   S⋅⎜-1 + ─⎟⋅sin(θ)          \n",
       "  ⎢     ⎝     R⎠   S⋅sin (θ)     ⎝     R⎠            ⎝     R⎠            S⋅sin\n",
       "  ⎢- ─────────── + ─────────   - ─────────────── - ───────────────── - ───────\n",
       "  ⎢      ⎛    S⎞      2⋅R                    2                   2         ⎛  \n",
       "  ⎢  2⋅R⋅⎜1 - ─⎟                      ⎛    S⎞             ⎛    S⎞      2⋅R⋅⎜1 \n",
       "  ⎢      ⎝    R⎠                    2⋅⎜1 - ─⎟         2⋅R⋅⎜1 - ─⎟          ⎝  \n",
       "  ⎢                                   ⎝    R⎠             ⎝    R⎠             \n",
       "  ⎢                                                                           \n",
       "  ⎣            0                                        0                     \n",
       "                                                                              \n",
       "                                                                              \n",
       "                                                                              \n",
       "                                                                              \n",
       "                                                                              \n",
       "                                      ⎡                       ⎛     S⎞        \n",
       "                                      ⎢                     S⋅⎜-1 + ─⎟⋅cos(θ) \n",
       "                                      ⎢                       ⎝     R⎠        \n",
       "                                      ⎢         0           ───────────────── \n",
       "                                      ⎢                           2 ⎛    S⎞   \n",
       "                                      ⎢                        4⋅R ⋅⎜1 - ─⎟   \n",
       "                                      ⎢                             ⎝    R⎠   \n",
       "                                      ⎢                                       \n",
       "                                      ⎢   ⎛     S⎞                            \n",
       "                                      ⎢-S⋅⎜-1 + ─⎟⋅cos(θ)                     \n",
       "                                      ⎢   ⎝     R⎠                            \n",
       "                                      ⎢───────────────────          0         \n",
       "                                      ⎢       2 ⎛    S⎞                       \n",
       "                                      ⎢    4⋅R ⋅⎜1 - ─⎟                       \n",
       "                                      ⎢         ⎝    R⎠                       \n",
       "                                      ⎢                                       \n",
       "                                      ⎢   ⎛    S⎞                             \n",
       "                                      ⎢ S⋅⎜1 - ─⎟⋅sin(θ)                      \n",
       "                                      ⎢   ⎝    R⎠                   S         \n",
       "                                      ⎢ ────────────────           ───        \n",
       "                                      ⎢       2⋅R                  2⋅R        \n",
       "                                      ⎢                                       \n",
       "                                      ⎣         0                   0         \n",
       "                                                                              \n",
       "                                                                              \n",
       "                                                                              \n",
       "                                                                              \n",
       "                                                                              \n",
       "                                                                              \n",
       "                                                                              \n",
       "                                                                              \n",
       "                                                                              \n",
       "                                                                              \n",
       "                                                  ⎡0         0               0\n",
       "                                                  ⎢                           \n",
       "                                                  ⎢                    sin(θ)⋅\n",
       "                                                  ⎢0         0         ───────\n",
       "                                                  ⎢                         2⋅\n",
       "                                                  ⎢                           \n",
       "                                                  ⎢   -sin(θ)⋅cos(θ)          \n",
       "                                                  ⎢0  ───────────────        0\n",
       "                                                  ⎢         2⋅R               \n",
       "                                                  ⎢                           \n",
       "                                                  ⎣0         0               0\n",
       "                                                                              \n",
       "                                                                              \n",
       "                                                                              \n",
       "                                                                              \n",
       "                                                                              \n",
       "                                                                              \n",
       "                                                                              \n",
       "                                                                              \n",
       "                                                                              \n",
       "                                                                              \n",
       "                                                                              \n",
       "                                                                              \n",
       "                                                                              \n",
       "                                                                              \n",
       "                                                              ⎡0  0  0   0 ⎤  \n",
       "                                                              ⎢            ⎥  \n",
       "                                                              ⎢0  0  0   0 ⎥  \n",
       "                                                              ⎢            ⎥  \n",
       "                                                              ⎢         -S ⎥  \n",
       "                                                              ⎢0  0  0  ───⎥  \n",
       "                                                              ⎢          R ⎥  \n",
       "                                                              ⎢            ⎥  \n",
       "                                                              ⎢      S     ⎥  \n",
       "                                                              ⎢0  0  ─   0 ⎥  \n",
       "                                                              ⎣      R     ⎦  \n",
       "                                                                              \n",
       "                                                                              \n",
       "                                                                              \n",
       "                                                                              \n",
       "                                                                              \n",
       "\n",
       "                                                             ⎡                \n",
       "                                                             ⎢                \n",
       "                      ⎛     S⎞                            ⎤  ⎢                \n",
       "                    S⋅⎜-1 + ─⎟        2                   ⎥  ⎢               0\n",
       "                      ⎝     R⎠   S⋅sin (θ)                ⎥  ⎢                \n",
       "                   ─────────── - ─────────               0⎥  ⎢                \n",
       "                       ⎛    S⎞      2⋅R                   ⎥  ⎢                \n",
       "                   2⋅R⋅⎜1 - ─⎟                            ⎥  ⎢                \n",
       "                       ⎝    R⎠                            ⎥  ⎢                \n",
       "                                                          ⎥  ⎢                \n",
       "                                                          ⎥  ⎢                \n",
       "      ⎛     S⎞            ⎛     S⎞                        ⎥  ⎢               0\n",
       "      ⎜-1 + ─⎟⋅sin(θ)   S⋅⎜-1 + ─⎟⋅sin(θ)                 ⎥  ⎢                \n",
       "      ⎝     R⎠            ⎝     R⎠            S⋅sin(θ)    ⎥  ⎢                \n",
       "      ─────────────── + ───────────────── + ───────────  0⎥  ⎢                \n",
       "                  2                   2         ⎛    S⎞   ⎥  ⎢                \n",
       "           ⎛    S⎞             ⎛    S⎞      2⋅R⋅⎜1 - ─⎟   ⎥  ⎢                \n",
       "         2⋅⎜1 - ─⎟         2⋅R⋅⎜1 - ─⎟          ⎝    R⎠   ⎥  ⎢                \n",
       "           ⎝    R⎠             ⎝    R⎠                    ⎥  ⎢                \n",
       "                                                          ⎥  ⎢                \n",
       "                                                          ⎥  ⎢               0\n",
       "                                                          ⎥  ⎢                \n",
       "(θ)                                                       ⎥  ⎢                \n",
       "────                          0                          0⎥  ⎢                \n",
       "  S⎞                                                      ⎥  ⎢                \n",
       "- ─⎟                                                      ⎥  ⎢    ⎛     S⎞    \n",
       "  R⎠                                                      ⎥  ⎢  S⋅⎜-1 + ─⎟⋅sin\n",
       "                                                          ⎥  ⎢    ⎝     R⎠    \n",
       "                                                          ⎥  ⎢- ──────────────\n",
       "                              0                          0⎦  ⎢         ⎛    S⎞\n",
       "                                                             ⎢     2⋅R⋅⎜1 - ─⎟\n",
       "                                                             ⎢         ⎝    R⎠\n",
       "                                                             ⎣                \n",
       "                                                                              \n",
       "                                                                              \n",
       "    ⎛    S⎞           ⎤                                                       \n",
       " -S⋅⎜1 - ─⎟⋅sin(θ)    ⎥                                                       \n",
       "    ⎝    R⎠           ⎥                                                       \n",
       " ──────────────────  0⎥                                                       \n",
       "        2⋅R           ⎥                                                       \n",
       "                      ⎥                                                       \n",
       "                      ⎥                                                       \n",
       "                      ⎥                                                       \n",
       "                      ⎥                                                       \n",
       "                      ⎥                                                       \n",
       "        -S            ⎥                                                       \n",
       "        ───          0⎥                                                       \n",
       "        2⋅R           ⎥                                                       \n",
       "                      ⎥                                                       \n",
       "                      ⎥                                                       \n",
       "                      ⎥                                                       \n",
       "                      ⎥                                                       \n",
       "                      ⎥                                                       \n",
       "                      ⎥                                                       \n",
       "         0           0⎥                                                       \n",
       "                      ⎥                                                       \n",
       "                      ⎥                                                       \n",
       "         0           0⎦                                                       \n",
       "                                                                              \n",
       "                                                                              \n",
       "                                                                              \n",
       "                                                                              \n",
       "                                                                              \n",
       "                                                                              \n",
       "                                                                              \n",
       "                                                                              \n",
       "                                                                              \n",
       "                                                                              \n",
       "        0⎤                                                                    \n",
       "         ⎥                                                                    \n",
       "cos(θ)   ⎥                                                                    \n",
       "──────  0⎥                                                                    \n",
       "R        ⎥                                                                    \n",
       "         ⎥                                                                    \n",
       "         ⎥                                                                    \n",
       "        0⎥                                                                    \n",
       "         ⎥                                                                    \n",
       "         ⎥                                                                    \n",
       "        0⎦                                                                    \n",
       "                                                                              \n",
       "                                                                              \n",
       "                                                                              \n",
       "                                                                              \n",
       "                                                                              \n",
       "                                                                              \n",
       "                                                                              \n",
       "                                                                              \n",
       "                                                                              \n",
       "                                                                              \n",
       "                                                                              \n",
       "                                                                              \n",
       "                                                                              \n",
       "                                                                              \n",
       "                                                                              \n",
       "                                                                              \n",
       "                                                                              \n",
       "                                                                              \n",
       "                                                                              \n",
       "                                                                              \n",
       "                                                                              \n",
       "                                                                              \n",
       "                                                                              \n",
       "                                                                              \n",
       "                                                                              \n",
       "                                                                              \n",
       "                                                                              \n",
       "                                                                              \n",
       "                                                                              \n",
       "                                                                              \n",
       "\n",
       "                                                                              \n",
       "                                                                              \n",
       "                                                                              \n",
       "                                              0                               \n",
       "                                                                              \n",
       "                                                                              \n",
       "                                                                              \n",
       "                                                                              \n",
       "                                                                              \n",
       "                                                                              \n",
       "                                                                              \n",
       "                                              0                               \n",
       "                                                                              \n",
       "                                                                              \n",
       "                                                                              \n",
       "                                                                              \n",
       "                                                                              \n",
       "                                                                              \n",
       "                                                                              \n",
       "                                                                              \n",
       "                                              0                               \n",
       "                                                                              \n",
       "                                                                              \n",
       "                                                                              \n",
       "                                                                              \n",
       "2                 ⎛     S⎞           2        ⎛     S⎞    3                   \n",
       " (θ)        4     ⎜-1 + ─⎟⋅sin(θ)⋅cos (θ)   S⋅⎜-1 + ─⎟⋅sin (θ)         3      \n",
       "       S⋅sin (θ)  ⎝     R⎠                    ⎝     R⎠            S⋅sin (θ)   \n",
       "──── + ─────────  ─────────────────────── - ────────────────── - ───────────  \n",
       "          2⋅R                     2                       2          ⎛    S⎞  \n",
       "                           ⎛    S⎞                 ⎛    S⎞       2⋅R⋅⎜1 - ─⎟  \n",
       "                         2⋅⎜1 - ─⎟             2⋅R⋅⎜1 - ─⎟           ⎝    R⎠  \n",
       "                           ⎝    R⎠                 ⎝    R⎠                    \n",
       "                                                                              \n",
       "                                                                              \n",
       "                                                                              \n",
       "                                                                              \n",
       "                                                         ⎡                    \n",
       "                                                         ⎢                    \n",
       "                                                         ⎢                    \n",
       "                                                         ⎢        0           \n",
       "                                                         ⎢                    \n",
       "                                                         ⎢                    \n",
       "                                                         ⎢                    \n",
       "                                                         ⎢                    \n",
       "                                                         ⎢        0           \n",
       "                                                         ⎢                    \n",
       "                                                         ⎢                    \n",
       "                                                         ⎢        0           \n",
       "                                                         ⎢                    \n",
       "                                                         ⎢  ⎛    S⎞    3      \n",
       "                                                         ⎢S⋅⎜1 - ─⎟⋅sin (θ)   \n",
       "                                                         ⎢  ⎝    R⎠          S\n",
       "                                                         ⎢─────────────────  ─\n",
       "                                                         ⎣       2⋅R          \n",
       "                                                                              \n",
       "                                                                              \n",
       "                                                                              \n",
       "                                                                              \n",
       "                                                                              \n",
       "                                                                              \n",
       "                                                                              \n",
       "                                                                              \n",
       "                                                                              \n",
       "                                                                              \n",
       "                                                                              \n",
       "                                             ⎡0         0                     \n",
       "                                             ⎢                                \n",
       "                                             ⎢                                \n",
       "                                             ⎢                                \n",
       "                                             ⎢0         0                     \n",
       "                                             ⎢                                \n",
       "                                             ⎢                                \n",
       "                                             ⎢                                \n",
       "                                             ⎢0         0                     \n",
       "                                             ⎢                                \n",
       "                                             ⎢                                \n",
       "                                             ⎢       3                        \n",
       "                                             ⎢   -sin (θ)⋅cos(θ)   ⎛    S⎞    \n",
       "                                             ⎢0  ────────────────  ⎜1 - ─⎟⋅sin\n",
       "                                             ⎣         2⋅R         ⎝    R⎠    \n",
       "                                                                              \n",
       "                                                                              \n",
       "                                                                              \n",
       "                                                                              \n",
       "                                                                              \n",
       "                                                                              \n",
       "                                                                              \n",
       "                                                                              \n",
       "                                                                              \n",
       "                                                                              \n",
       "                                                                              \n",
       "                                                                              \n",
       "                                                                              \n",
       "                                                                              \n",
       "                                                                              \n",
       "                                                                              \n",
       "                                                                              \n",
       "                                                                              \n",
       "                                                                              \n",
       "                                                                              \n",
       "                                                                              \n",
       "                                                                              \n",
       "                                                                              \n",
       "                                                                              \n",
       "                                                                              \n",
       "                                                                              \n",
       "                                                                              \n",
       "                                                                              \n",
       "\n",
       "                                                               ⎛     S⎞    2  \n",
       "                                                             S⋅⎜-1 + ─⎟⋅sin (θ\n",
       "                                                               ⎝     R⎠       \n",
       "                     0                                       ─────────────────\n",
       "                                                                    ⎛    S⎞   \n",
       "                                                                2⋅R⋅⎜1 - ─⎟   \n",
       "                                                                    ⎝    R⎠   \n",
       "                                                                              \n",
       "                                                ⎛     S⎞           2        ⎛ \n",
       "                                                ⎜-1 + ─⎟⋅sin(θ)⋅cos (θ)   S⋅⎜-\n",
       "                                                ⎝     R⎠                    ⎝ \n",
       "                     0                        - ─────────────────────── + ────\n",
       "                                                                2             \n",
       "                                                         ⎛    S⎞              \n",
       "                                                       2⋅⎜1 - ─⎟             2\n",
       "                                                         ⎝    R⎠              \n",
       "                                                                              \n",
       "                                                         ⎛     S⎞    2        \n",
       "                                                       R⋅⎜-1 + ─⎟⋅sin (θ)⋅cos(\n",
       "                                                         ⎝     R⎠             \n",
       "                     0                               - ───────────────────────\n",
       "                                                                 ⎛    S⎞      \n",
       "                                                               2⋅⎜1 - ─⎟      \n",
       "                                                                 ⎝    R⎠      \n",
       "                                                                              \n",
       "  ⎛     S⎞    2                                                               \n",
       "R⋅⎜-1 + ─⎟⋅sin (θ)⋅cos(θ)                                                     \n",
       "  ⎝     R⎠                       2                                            \n",
       "───────────────────────── + R⋅sin (θ)⋅cos(θ)                               0  \n",
       "          ⎛    S⎞                                                             \n",
       "        2⋅⎜1 - ─⎟                                                             \n",
       "          ⎝    R⎠                                                             \n",
       "                                                                              \n",
       "                                                                              \n",
       "                                                                              \n",
       "                                                                              \n",
       "                                                                              \n",
       "                ⎛    S⎞    3    ⎤                                             \n",
       "             -S⋅⎜1 - ─⎟⋅sin (θ) ⎥                                             \n",
       "                ⎝    R⎠         ⎥                                             \n",
       "   0      0  ───────────────────⎥                                             \n",
       "                     2⋅R        ⎥                                             \n",
       "                                ⎥                                             \n",
       "                       2        ⎥                                             \n",
       "                 -S⋅sin (θ)     ⎥                                             \n",
       "   0      0      ───────────    ⎥                                             \n",
       "                     2⋅R        ⎥                                             \n",
       "                                ⎥                                             \n",
       "   0      0           0         ⎥                                             \n",
       "                                ⎥                                             \n",
       "                                ⎥                                             \n",
       "    2                           ⎥                                             \n",
       "⋅sin (θ)                        ⎥                                             \n",
       "────────  0           0         ⎥                                             \n",
       "  2⋅R                           ⎦                                             \n",
       "                                                                              \n",
       "                                                                              \n",
       "                                                                              \n",
       "                                                                              \n",
       "                                                                              \n",
       "                                                                              \n",
       "                                                                              \n",
       "                                                                              \n",
       "                                                                              \n",
       "                                                                              \n",
       "                                                                              \n",
       " 0                           0             ⎤                                  \n",
       "                                           ⎥                                  \n",
       "                         3                 ⎥                                  \n",
       "                      sin (θ)⋅cos(θ)       ⎥                                  \n",
       " 0                    ──────────────       ⎥                                  \n",
       "                           2⋅R             ⎥                                  \n",
       "                                           ⎥                                  \n",
       "                  ⎛    S⎞    2         2   ⎥                                  \n",
       " 0              - ⎜1 - ─⎟⋅sin (θ) + sin (θ)⎥                                  \n",
       "                  ⎝    R⎠                  ⎥                                  \n",
       "                                           ⎥                                  \n",
       "                                           ⎥                                  \n",
       "2         2                                ⎥                                  \n",
       " (θ) - sin (θ)               0             ⎥                                  \n",
       "                                           ⎦                                  \n",
       "                                                                              \n",
       "                                                                              \n",
       "                                                                              \n",
       "                                                                              \n",
       "                                                                              \n",
       "                                                                              \n",
       "                                                                              \n",
       "                                                                              \n",
       "                                                                              \n",
       "                                                                              \n",
       "                                                                              \n",
       "                                                                              \n",
       "                                                                              \n",
       "                                                                              \n",
       "⎡0  0  0  0⎤                                                                  \n",
       "⎢          ⎥                                                                  \n",
       "⎢0  0  0  0⎥                                                                  \n",
       "⎢          ⎥                                                                  \n",
       "⎢0  0  0  0⎥                                                                  \n",
       "⎢          ⎥                                                                  \n",
       "⎣0  0  0  0⎦                                                                  \n",
       "                                                                              \n",
       "                                                                              \n",
       "                                                                              \n",
       "                                                                              \n",
       "                                                                              \n",
       "                                                                              \n",
       "                                                                              \n",
       "\n",
       "                            ⎤⎤\n",
       ")        4                  ⎥⎥\n",
       "    S⋅sin (θ)               ⎥⎥\n",
       "─ - ─────────               ⎥⎥\n",
       "       2⋅R                  ⎥⎥\n",
       "                            ⎥⎥\n",
       "                            ⎥⎥\n",
       "                            ⎥⎥\n",
       "    S⎞    3                 ⎥⎥\n",
       "1 + ─⎟⋅sin (θ)         3    ⎥⎥\n",
       "    R⎠            S⋅sin (θ) ⎥⎥\n",
       "────────────── + ───────────⎥⎥\n",
       "          2          ⎛    S⎞⎥⎥\n",
       "   ⎛    S⎞       2⋅R⋅⎜1 - ─⎟⎥⎥\n",
       "⋅R⋅⎜1 - ─⎟           ⎝    R⎠⎥⎥\n",
       "   ⎝    R⎠                  ⎥⎥\n",
       "                            ⎥⎥\n",
       "                            ⎥⎥\n",
       "θ)                          ⎥⎥\n",
       "          2                 ⎥⎥\n",
       "── - R⋅sin (θ)⋅cos(θ)       ⎥⎥\n",
       "                            ⎥⎥\n",
       "                            ⎥⎥\n",
       "                            ⎥⎥\n",
       "                            ⎥⎥\n",
       "                            ⎥⎥\n",
       "                            ⎥⎥\n",
       "                            ⎥⎥\n",
       "                            ⎥⎥\n",
       "                            ⎥⎥\n",
       "                            ⎥⎥\n",
       "                            ⎥⎥\n",
       "                            ⎦⎥\n",
       "                             ⎥\n",
       "                             ⎥\n",
       "                             ⎥\n",
       "                             ⎥\n",
       "                             ⎥\n",
       "                             ⎥\n",
       "                             ⎥\n",
       "                             ⎥\n",
       "                             ⎥\n",
       "                             ⎥\n",
       "                             ⎥\n",
       "                             ⎥\n",
       "                             ⎥\n",
       "                             ⎥\n",
       "                             ⎥\n",
       "                             ⎥\n",
       "                             ⎥\n",
       "                             ⎥\n",
       "                             ⎥\n",
       "                             ⎥\n",
       "                             ⎥\n",
       "                             ⎥\n",
       "                             ⎥\n",
       "                             ⎥\n",
       "                             ⎥\n",
       "                             ⎥\n",
       "                             ⎥\n",
       "                             ⎥\n",
       "                             ⎥\n",
       "                             ⎥\n",
       "                             ⎥\n",
       "                             ⎥\n",
       "                             ⎥\n",
       "                             ⎥\n",
       "                             ⎥\n",
       "                             ⎥\n",
       "                             ⎥\n",
       "                             ⎥\n",
       "                             ⎥\n",
       "                             ⎥\n",
       "                             ⎥\n",
       "                             ⎥\n",
       "                             ⎥\n",
       "                             ⎥\n",
       "                             ⎥\n",
       "                             ⎥\n",
       "                             ⎥\n",
       "                             ⎥\n",
       "                             ⎥\n",
       "                             ⎥\n",
       "                             ⎥\n",
       "                             ⎥\n",
       "                             ⎥\n",
       "                             ⎥\n",
       "                             ⎥\n",
       "                             ⎥\n",
       "                             ⎥\n",
       "                             ⎥\n",
       "                             ⎥\n",
       "                             ⎥\n",
       "                             ⎥\n",
       "                             ⎥\n",
       "                             ⎥\n",
       "                             ⎥\n",
       "                             ⎥\n",
       "                             ⎥\n",
       "                             ⎥\n",
       "                             ⎥\n",
       "                             ⎥\n",
       "                             ⎥\n",
       "                             ⎥\n",
       "                             ⎥\n",
       "                             ⎥\n",
       "                             ⎥\n",
       "                             ⎥\n",
       "                             ⎦"
      ]
     },
     "metadata": {},
     "output_type": "display_data"
    },
    {
     "data": {
      "text/plain": [
       "'Ricci tensor: '"
      ]
     },
     "metadata": {},
     "output_type": "display_data"
    },
    {
     "data": {
      "text/latex": [
       "$\\displaystyle \\left[\\begin{matrix}0 & \\frac{S \\sin{\\left(\\theta \\right)}}{R^{3}} & - \\frac{S \\cos{\\left(\\theta \\right)}}{2 R^{2}} & 0\\\\- \\frac{S \\sin{\\left(\\theta \\right)}}{R^{3}} & 0 & 0 & 0\\\\\\frac{S \\cos{\\left(\\theta \\right)}}{2 R^{2}} & 0 & 0 & 0\\\\0 & 0 & 0 & 0\\end{matrix}\\right]$"
      ],
      "text/plain": [
       "⎡            S⋅sin(θ)  -S⋅cos(θ)    ⎤\n",
       "⎢    0       ────────  ──────────  0⎥\n",
       "⎢                3           2      ⎥\n",
       "⎢               R         2⋅R       ⎥\n",
       "⎢                                   ⎥\n",
       "⎢-S⋅sin(θ)                          ⎥\n",
       "⎢──────────     0          0       0⎥\n",
       "⎢     3                             ⎥\n",
       "⎢    R                              ⎥\n",
       "⎢                                   ⎥\n",
       "⎢ S⋅cos(θ)                          ⎥\n",
       "⎢ ────────      0          0       0⎥\n",
       "⎢      2                            ⎥\n",
       "⎢   2⋅R                             ⎥\n",
       "⎢                                   ⎥\n",
       "⎣    0          0          0       0⎦"
      ]
     },
     "metadata": {},
     "output_type": "display_data"
    },
    {
     "data": {
      "text/plain": [
       "'Ricci scalar: '"
      ]
     },
     "metadata": {},
     "output_type": "display_data"
    },
    {
     "data": {
      "image/png": "[encoded data removed]",
      "text/latex": [
       "$\\displaystyle 0$"
      ],
      "text/plain": [
       "0"
      ]
     },
     "metadata": {},
     "output_type": "display_data"
    },
    {
     "data": {
      "text/plain": [
       "'G: '"
      ]
     },
     "metadata": {},
     "output_type": "display_data"
    },
    {
     "data": {
      "text/latex": [
       "$\\displaystyle \\left[\\begin{matrix}0 & \\frac{S \\sin{\\left(\\theta \\right)}}{R^{3}} & - \\frac{S \\cos{\\left(\\theta \\right)}}{2 R^{2}} & 0\\\\- \\frac{S \\sin{\\left(\\theta \\right)}}{R^{3}} & 0 & 0 & 0\\\\\\frac{S \\cos{\\left(\\theta \\right)}}{2 R^{2}} & 0 & 0 & 0\\\\0 & 0 & 0 & 0\\end{matrix}\\right]$"
      ],
      "text/plain": [
       "⎡            S⋅sin(θ)  -S⋅cos(θ)    ⎤\n",
       "⎢    0       ────────  ──────────  0⎥\n",
       "⎢                3           2      ⎥\n",
       "⎢               R         2⋅R       ⎥\n",
       "⎢                                   ⎥\n",
       "⎢-S⋅sin(θ)                          ⎥\n",
       "⎢──────────     0          0       0⎥\n",
       "⎢     3                             ⎥\n",
       "⎢    R                              ⎥\n",
       "⎢                                   ⎥\n",
       "⎢ S⋅cos(θ)                          ⎥\n",
       "⎢ ────────      0          0       0⎥\n",
       "⎢      2                            ⎥\n",
       "⎢   2⋅R                             ⎥\n",
       "⎢                                   ⎥\n",
       "⎣    0          0          0       0⎦"
      ]
     },
     "metadata": {},
     "output_type": "display_data"
    },
    {
     "name": "stdout",
     "output_type": "stream",
     "text": [
      "====4-schwartzwald====\n"
     ]
    },
    {
     "data": {
      "text/plain": [
       "'Metric:'"
      ]
     },
     "metadata": {},
     "output_type": "display_data"
    },
    {
     "data": {
      "image/png": "[encoded data removed]",
      "text/latex": [
       "$\\displaystyle \\left[ \\left[ -1 + \\frac{S}{R}, \\  0, \\  0, \\  0\\right], \\  \\left[ 0, \\  \\frac{1}{1 - \\frac{S}{R}}, \\  0, \\  0\\right], \\  \\left[ 0, \\  0, \\  R^{2}, \\  0\\right], \\  \\left[ 0, \\  0, \\  0, \\  R^{2} \\sin^{2}{\\left(\\theta \\right)}\\right]\\right]$"
      ],
      "text/plain": [
       "⎡⎡     S         ⎤  ⎡     1        ⎤  ⎡       2   ⎤  ⎡          2    2   ⎤⎤\n",
       "⎢⎢-1 + ─, 0, 0, 0⎥, ⎢0, ─────, 0, 0⎥, ⎣0, 0, R , 0⎦, ⎣0, 0, 0, R ⋅sin (θ)⎦⎥\n",
       "⎢⎣     R         ⎦  ⎢       S      ⎥                                      ⎥\n",
       "⎢                   ⎢   1 - ─      ⎥                                      ⎥\n",
       "⎣                   ⎣       R      ⎦                                      ⎦"
      ]
     },
     "metadata": {},
     "output_type": "display_data"
    },
    {
     "data": {
      "text/plain": [
       "'Gamma:'"
      ]
     },
     "metadata": {},
     "output_type": "display_data"
    },
    {
     "data": {
      "text/latex": [
       "$\\displaystyle \\left[\\begin{matrix}\\left[\\begin{matrix}0 & - \\frac{S}{2 R^{2} \\left(-1 + \\frac{S}{R}\\right)} & 0 & 0\\\\- \\frac{S}{2 R^{2} \\left(-1 + \\frac{S}{R}\\right)} & 0 & 0 & 0\\\\0 & 0 & 0 & 0\\\\0 & 0 & 0 & 0\\end{matrix}\\right] & \\left[\\begin{matrix}\\frac{S \\left(1 - \\frac{S}{R}\\right)}{2 R^{2}} & 0 & 0 & 0\\\\0 & - \\frac{S}{2 R^{2} \\cdot \\left(1 - \\frac{S}{R}\\right)} & 0 & 0\\\\0 & 0 & - R \\left(1 - \\frac{S}{R}\\right) & 0\\\\0 & 0 & 0 & - R \\left(1 - \\frac{S}{R}\\right) \\sin^{2}{\\left(\\theta \\right)}\\end{matrix}\\right] & \\left[\\begin{matrix}0 & 0 & 0 & 0\\\\0 & 0 & \\frac{1}{R} & 0\\\\0 & \\frac{1}{R} & 0 & 0\\\\0 & 0 & 0 & - \\sin{\\left(\\theta \\right)} \\cos{\\left(\\theta \\right)}\\end{matrix}\\right] & \\left[\\begin{matrix}0 & 0 & 0 & 0\\\\0 & 0 & 0 & \\frac{1}{R}\\\\0 & 0 & 0 & \\frac{\\cos{\\left(\\theta \\right)}}{\\sin{\\left(\\theta \\right)}}\\\\0 & \\frac{1}{R} & \\frac{\\cos{\\left(\\theta \\right)}}{\\sin{\\left(\\theta \\right)}} & 0\\end{matrix}\\right]\\end{matrix}\\right]$"
      ],
      "text/plain": [
       "⎡                                      ⎡  ⎛    S⎞                             \n",
       "⎢                                      ⎢S⋅⎜1 - ─⎟                             \n",
       "⎢                                      ⎢  ⎝    R⎠                             \n",
       "⎢⎡                    -S            ⎤  ⎢─────────       0            0        \n",
       "⎢⎢      0        ─────────────  0  0⎥  ⎢      2                               \n",
       "⎢⎢                  2 ⎛     S⎞      ⎥  ⎢   2⋅R                                \n",
       "⎢⎢               2⋅R ⋅⎜-1 + ─⎟      ⎥  ⎢                                      \n",
       "⎢⎢                    ⎝     R⎠      ⎥  ⎢               -S                     \n",
       "⎢⎢                                  ⎥  ⎢    0      ────────────      0        \n",
       "⎢⎢     -S                           ⎥  ⎢              2 ⎛    S⎞               \n",
       "⎢⎢─────────────        0        0  0⎥  ⎢           2⋅R ⋅⎜1 - ─⎟               \n",
       "⎢⎢   2 ⎛     S⎞                     ⎥  ⎢                ⎝    R⎠               \n",
       "⎢⎢2⋅R ⋅⎜-1 + ─⎟                     ⎥  ⎢                                      \n",
       "⎢⎢     ⎝     R⎠                     ⎥  ⎢                            ⎛    S⎞   \n",
       "⎢⎢                                  ⎥  ⎢    0           0        -R⋅⎜1 - ─⎟   \n",
       "⎢⎢      0              0        0  0⎥  ⎢                            ⎝    R⎠   \n",
       "⎢⎢                                  ⎥  ⎢                                      \n",
       "⎢⎣      0              0        0  0⎦  ⎢                                      \n",
       "⎢                                      ⎢    0           0            0       -\n",
       "⎣                                      ⎣                                      \n",
       "\n",
       "                 ⎤                                                   ⎤\n",
       "                 ⎥                                                   ⎥\n",
       "                 ⎥                                                   ⎥\n",
       "       0         ⎥                                                   ⎥\n",
       "                 ⎥                             ⎡0  0    0       0   ⎤⎥\n",
       "                 ⎥  ⎡0  0  0        0       ⎤  ⎢                    ⎥⎥\n",
       "                 ⎥  ⎢                       ⎥  ⎢                1   ⎥⎥\n",
       "                 ⎥  ⎢      1                ⎥  ⎢0  0    0       ─   ⎥⎥\n",
       "       0         ⎥  ⎢0  0  ─        0       ⎥  ⎢                R   ⎥⎥\n",
       "                 ⎥  ⎢      R                ⎥  ⎢                    ⎥⎥\n",
       "                 ⎥  ⎢                       ⎥  ⎢              cos(θ)⎥⎥\n",
       "                 ⎥  ⎢   1                   ⎥  ⎢0  0    0     ──────⎥⎥\n",
       "                 ⎥  ⎢0  ─  0        0       ⎥  ⎢              sin(θ)⎥⎥\n",
       "                 ⎥  ⎢   R                   ⎥  ⎢                    ⎥⎥\n",
       "       0         ⎥  ⎢                       ⎥  ⎢   1  cos(θ)        ⎥⎥\n",
       "                 ⎥  ⎣0  0  0  -sin(θ)⋅cos(θ)⎦  ⎢0  ─  ──────    0   ⎥⎥\n",
       "                 ⎥                             ⎣   R  sin(θ)        ⎦⎥\n",
       "  ⎛    S⎞    2   ⎥                                                   ⎥\n",
       "R⋅⎜1 - ─⎟⋅sin (θ)⎥                                                   ⎥\n",
       "  ⎝    R⎠        ⎦                                                   ⎦"
      ]
     },
     "metadata": {},
     "output_type": "display_data"
    },
    {
     "data": {
      "text/plain": [
       "'Expression:'"
      ]
     },
     "metadata": {},
     "output_type": "display_data"
    },
    {
     "data": {
      "image/png": "[encoded data removed]",
      "text/latex": [
       "$\\displaystyle \\left(\\frac{1}{2}\\right)g{}^{L_{0}t}\\left(\\frac{\\partial}{\\partial {_{}^{m}}}{g{}_{L_{0}n}} + \\frac{\\partial}{\\partial {_{}^{n}}}{g{}_{L_{0}m}} + \\left(-1\\right)\\frac{\\partial}{\\partial {_{}^{L_{0}}}}{g{}_{mn}}\\right)$"
      ],
      "text/plain": [
       "     L₀t ⎛ ∂ ⎛    ⎞    ∂ ⎛    ⎞         ∂  ⎛   ⎞⎞\n",
       "1/2⋅g   ⋅⎜───⎜g   ⎟ + ───⎜g   ⎟ + (-1)⋅────⎜g  ⎟⎟\n",
       "         ⎜  n⎝ L₀m⎠     m⎝ L₀n⎠          L₀⎝ mn⎠⎟\n",
       "         ⎜∂_          ∂_               ∂_       ⎟\n",
       "         ⎝                                      ⎠"
      ]
     },
     "metadata": {},
     "output_type": "display_data"
    },
    {
     "data": {
      "text/plain": [
       "'Riemann curvature expression:'"
      ]
     },
     "metadata": {},
     "output_type": "display_data"
    },
    {
     "data": {
      "image/png": "[encoded data removed]",
      "text/latex": [
       "$\\displaystyle -\\Gamma{}^{i}{}_{L_{0}m}\\Gamma{}^{L_{0}}{}_{jk} - \\frac{\\partial}{\\partial {_{}^{m}}}{\\Gamma{}^{i}{}_{jk}} + \\Gamma{}^{i}{}_{L_{0}k}\\Gamma{}^{L_{0}}{}_{jm} + \\frac{\\partial}{\\partial {_{}^{k}}}{\\Gamma{}^{i}{}_{jm}}$"
      ],
      "text/plain": [
       " ∂ ⎛     i  ⎞     ∂ ⎛     i  ⎞        i         L₀           i         L₀  \n",
       "───⎜Gamma   ⎟ + -───⎜Gamma   ⎟ + Gamma    ⋅Gamma     + -Gamma    ⋅Gamma    \n",
       "  k⎝      jm⎠      m⎝      jk⎠         L₀k        jm          L₀m        jk\n",
       "∂_               ∂_                                                        \n",
       "                                                                           "
      ]
     },
     "metadata": {},
     "output_type": "display_data"
    },
    {
     "data": {
      "text/plain": [
       "'Riemann curvature result:'"
      ]
     },
     "metadata": {},
     "output_type": "display_data"
    },
    {
     "data": {
      "text/latex": [
       "$\\displaystyle \\left[\\begin{matrix}\\left[\\begin{matrix}0 & 0 & 0 & 0\\\\0 & 0 & 0 & 0\\\\0 & 0 & 0 & 0\\\\0 & 0 & 0 & 0\\end{matrix}\\right] & \\left[\\begin{matrix}0 & - \\frac{S}{R^{3} \\left(-1 + \\frac{S}{R}\\right)} + \\frac{S^{2}}{4 R^{4} \\left(-1 + \\frac{S}{R}\\right) \\left(1 - \\frac{S}{R}\\right)} + \\frac{S^{2}}{4 R^{4} \\left(-1 + \\frac{S}{R}\\right)^{2}} & 0 & 0\\\\\\frac{S}{R^{3} \\left(-1 + \\frac{S}{R}\\right)} - \\frac{S^{2}}{4 R^{4} \\left(-1 + \\frac{S}{R}\\right) \\left(1 - \\frac{S}{R}\\right)} - \\frac{S^{2}}{4 R^{4} \\left(-1 + \\frac{S}{R}\\right)^{2}} & 0 & 0 & 0\\\\0 & 0 & 0 & 0\\\\0 & 0 & 0 & 0\\end{matrix}\\right] & \\left[\\begin{matrix}0 & 0 & \\frac{S \\left(1 - \\frac{S}{R}\\right)}{2 R \\left(-1 + \\frac{S}{R}\\right)} & 0\\\\0 & 0 & 0 & 0\\\\- \\frac{S \\left(1 - \\frac{S}{R}\\right)}{2 R \\left(-1 + \\frac{S}{R}\\right)} & 0 & 0 & 0\\\\0 & 0 & 0 & 0\\end{matrix}\\right] & \\left[\\begin{matrix}0 & 0 & 0 & \\frac{S \\left(1 - \\frac{S}{R}\\right) \\sin^{2}{\\left(\\theta \\right)}}{2 R \\left(-1 + \\frac{S}{R}\\right)}\\\\0 & 0 & 0 & 0\\\\0 & 0 & 0 & 0\\\\- \\frac{S \\left(1 - \\frac{S}{R}\\right) \\sin^{2}{\\left(\\theta \\right)}}{2 R \\left(-1 + \\frac{S}{R}\\right)} & 0 & 0 & 0\\end{matrix}\\right]\\\\\\left[\\begin{matrix}0 & \\frac{S \\left(1 - \\frac{S}{R}\\right)}{R^{3}} - \\frac{S^{2}}{4 R^{4}} - \\frac{S^{2} \\cdot \\left(1 - \\frac{S}{R}\\right)}{4 R^{4} \\left(-1 + \\frac{S}{R}\\right)} & 0 & 0\\\\- \\frac{S \\left(1 - \\frac{S}{R}\\right)}{R^{3}} + \\frac{S^{2}}{4 R^{4}} + \\frac{S^{2} \\cdot \\left(1 - \\frac{S}{R}\\right)}{4 R^{4} \\left(-1 + \\frac{S}{R}\\right)} & 0 & 0 & 0\\\\0 & 0 & 0 & 0\\\\0 & 0 & 0 & 0\\end{matrix}\\right] & \\left[\\begin{matrix}0 & 0 & 0 & 0\\\\0 & 0 & 0 & 0\\\\0 & 0 & 0 & 0\\\\0 & 0 & 0 & 0\\end{matrix}\\right] & \\left[\\begin{matrix}0 & 0 & 0 & 0\\\\0 & 0 & - \\frac{S}{2 R} & 0\\\\0 & \\frac{S}{2 R} & 0 & 0\\\\0 & 0 & 0 & 0\\end{matrix}\\right] & \\left[\\begin{matrix}0 & 0 & 0 & 0\\\\0 & 0 & 0 & - \\frac{S \\sin^{2}{\\left(\\theta \\right)}}{2 R}\\\\0 & 0 & 0 & 0\\\\0 & \\frac{S \\sin^{2}{\\left(\\theta \\right)}}{2 R} & 0 & 0\\end{matrix}\\right]\\\\\\left[\\begin{matrix}0 & 0 & - \\frac{S \\left(1 - \\frac{S}{R}\\right)}{2 R^{3}} & 0\\\\0 & 0 & 0 & 0\\\\\\frac{S \\left(1 - \\frac{S}{R}\\right)}{2 R^{3}} & 0 & 0 & 0\\\\0 & 0 & 0 & 0\\end{matrix}\\right] & \\left[\\begin{matrix}0 & 0 & 0 & 0\\\\0 & 0 & \\frac{S}{2 R^{3} \\cdot \\left(1 - \\frac{S}{R}\\right)} & 0\\\\0 & - \\frac{S}{2 R^{3} \\cdot \\left(1 - \\frac{S}{R}\\right)} & 0 & 0\\\\0 & 0 & 0 & 0\\end{matrix}\\right] & \\left[\\begin{matrix}0 & 0 & 0 & 0\\\\0 & 0 & 0 & 0\\\\0 & 0 & 0 & 0\\\\0 & 0 & 0 & 0\\end{matrix}\\right] & \\left[\\begin{matrix}0 & 0 & 0 & 0\\\\0 & 0 & 0 & 0\\\\0 & 0 & 0 & - \\left(1 - \\frac{S}{R}\\right) \\sin^{2}{\\left(\\theta \\right)} + \\sin^{2}{\\left(\\theta \\right)}\\\\0 & 0 & \\left(1 - \\frac{S}{R}\\right) \\sin^{2}{\\left(\\theta \\right)} - \\sin^{2}{\\left(\\theta \\right)} & 0\\end{matrix}\\right]\\\\\\left[\\begin{matrix}0 & 0 & 0 & - \\frac{S \\left(1 - \\frac{S}{R}\\right)}{2 R^{3}}\\\\0 & 0 & 0 & 0\\\\0 & 0 & 0 & 0\\\\\\frac{S \\left(1 - \\frac{S}{R}\\right)}{2 R^{3}} & 0 & 0 & 0\\end{matrix}\\right] & \\left[\\begin{matrix}0 & 0 & 0 & 0\\\\0 & 0 & 0 & \\frac{S}{2 R^{3} \\cdot \\left(1 - \\frac{S}{R}\\right)}\\\\0 & 0 & 0 & 0\\\\0 & - \\frac{S}{2 R^{3} \\cdot \\left(1 - \\frac{S}{R}\\right)} & 0 & 0\\end{matrix}\\right] & \\left[\\begin{matrix}0 & 0 & 0 & 0\\\\0 & 0 & 0 & 0\\\\0 & 0 & 0 & - \\frac{S}{R}\\\\0 & 0 & \\frac{S}{R} & 0\\end{matrix}\\right] & \\left[\\begin{matrix}0 & 0 & 0 & 0\\\\0 & 0 & 0 & 0\\\\0 & 0 & 0 & 0\\\\0 & 0 & 0 & 0\\end{matrix}\\right]\\end{matrix}\\right]$"
      ],
      "text/plain": [
       "⎡                                                                             \n",
       "⎢                                                                             \n",
       "⎢                                                                             \n",
       "⎢                                                                             \n",
       "⎢                                                                             \n",
       "⎢                                                                             \n",
       "⎢                                ⎡0  0  0  0⎤                                 \n",
       "⎢                                ⎢          ⎥                                 \n",
       "⎢                                ⎢0  0  0  0⎥                                 \n",
       "⎢                                ⎢          ⎥                                 \n",
       "⎢                                ⎢0  0  0  0⎥                                 \n",
       "⎢                                ⎢          ⎥                                 \n",
       "⎢                                ⎣0  0  0  0⎦                                 \n",
       "⎢                                                                             \n",
       "⎢                                                                             \n",
       "⎢                                                                             \n",
       "⎢                                                                             \n",
       "⎢                                                                             \n",
       "⎢                                                                             \n",
       "⎢                                                                             \n",
       "⎢⎡                                      ⎛    S⎞             2 ⎛    S⎞       ⎤ \n",
       "⎢⎢                                    S⋅⎜1 - ─⎟     2      S ⋅⎜1 - ─⎟       ⎥ \n",
       "⎢⎢                                      ⎝    R⎠    S          ⎝    R⎠       ⎥ \n",
       "⎢⎢                0                   ───────── - ──── - ─────────────  0  0⎥ \n",
       "⎢⎢                                         3         4      4 ⎛     S⎞      ⎥ \n",
       "⎢⎢                                        R       4⋅R    4⋅R ⋅⎜-1 + ─⎟      ⎥ \n",
       "⎢⎢                                                            ⎝     R⎠      ⎥ \n",
       "⎢⎢                                                                          ⎥ \n",
       "⎢⎢    ⎛    S⎞             2 ⎛    S⎞                                         ⎥ \n",
       "⎢⎢  S⋅⎜1 - ─⎟     2      S ⋅⎜1 - ─⎟                                         ⎥ \n",
       "⎢⎢    ⎝    R⎠    S          ⎝    R⎠                                         ⎥ \n",
       "⎢⎢- ───────── + ──── + ─────────────                 0                  0  0⎥ \n",
       "⎢⎢       3         4      4 ⎛     S⎞                                        ⎥ \n",
       "⎢⎢      R       4⋅R    4⋅R ⋅⎜-1 + ─⎟                                        ⎥ \n",
       "⎢⎢                          ⎝     R⎠                                        ⎥ \n",
       "⎢⎢                                                                          ⎥ \n",
       "⎢⎢                0                                  0                  0  0⎥ \n",
       "⎢⎢                                                                          ⎥ \n",
       "⎢⎣                0                                  0                  0  0⎦ \n",
       "⎢                                                                             \n",
       "⎢                       ⎡                 ⎛    S⎞    ⎤                        \n",
       "⎢                       ⎢              -S⋅⎜1 - ─⎟    ⎥                        \n",
       "⎢                       ⎢                 ⎝    R⎠    ⎥                        \n",
       "⎢                       ⎢    0      0  ───────────  0⎥                        \n",
       "⎢                       ⎢                     3      ⎥                        \n",
       "⎢                       ⎢                  2⋅R       ⎥                        \n",
       "⎢                       ⎢                            ⎥                        \n",
       "⎢                       ⎢    0      0       0       0⎥                        \n",
       "⎢                       ⎢                            ⎥                        \n",
       "⎢                       ⎢  ⎛    S⎞                   ⎥                        \n",
       "⎢                       ⎢S⋅⎜1 - ─⎟                   ⎥                        \n",
       "⎢                       ⎢  ⎝    R⎠                   ⎥                        \n",
       "⎢                       ⎢─────────  0       0       0⎥                        \n",
       "⎢                       ⎢      3                     ⎥                        \n",
       "⎢                       ⎢   2⋅R                      ⎥                        \n",
       "⎢                       ⎢                            ⎥                        \n",
       "⎢                       ⎣    0      0       0       0⎦                        \n",
       "⎢                                                                             \n",
       "⎢                       ⎡                    ⎛    S⎞ ⎤                        \n",
       "⎢                       ⎢                 -S⋅⎜1 - ─⎟ ⎥                        \n",
       "⎢                       ⎢                    ⎝    R⎠ ⎥                        \n",
       "⎢                       ⎢    0      0  0  ───────────⎥                        \n",
       "⎢                       ⎢                        3   ⎥                        \n",
       "⎢                       ⎢                     2⋅R    ⎥                        \n",
       "⎢                       ⎢                            ⎥                        \n",
       "⎢                       ⎢    0      0  0       0     ⎥                        \n",
       "⎢                       ⎢                            ⎥                        \n",
       "⎢                       ⎢    0      0  0       0     ⎥                        \n",
       "⎢                       ⎢                            ⎥                        \n",
       "⎢                       ⎢  ⎛    S⎞                   ⎥                        \n",
       "⎢                       ⎢S⋅⎜1 - ─⎟                   ⎥                        \n",
       "⎢                       ⎢  ⎝    R⎠                   ⎥                        \n",
       "⎢                       ⎢─────────  0  0       0     ⎥                        \n",
       "⎢                       ⎢      3                     ⎥                        \n",
       "⎣                       ⎣   2⋅R                      ⎦                        \n",
       "\n",
       " ⎡                                                                            \n",
       " ⎢                                                             S              \n",
       " ⎢                         0                            - ─────────── + ──────\n",
       " ⎢                                                         3 ⎛     S⎞      4 ⎛\n",
       " ⎢                                                        R ⋅⎜-1 + ─⎟   4⋅R ⋅⎜\n",
       " ⎢                                                           ⎝     R⎠        ⎝\n",
       " ⎢                                                                            \n",
       " ⎢                                                                            \n",
       " ⎢                         2                   2                              \n",
       " ⎢     S                  S                   S                               \n",
       " ⎢─────────── - ───────────────────── - ──────────────                        \n",
       " ⎢ 3 ⎛     S⎞      4 ⎛     S⎞ ⎛    S⎞                2                        \n",
       " ⎢R ⋅⎜-1 + ─⎟   4⋅R ⋅⎜-1 + ─⎟⋅⎜1 - ─⎟      4 ⎛     S⎞                         \n",
       " ⎢   ⎝     R⎠        ⎝     R⎠ ⎝    R⎠   4⋅R ⋅⎜-1 + ─⎟                         \n",
       " ⎢                                           ⎝     R⎠                         \n",
       " ⎢                                                                            \n",
       " ⎢                         0                                                  \n",
       " ⎢                                                                            \n",
       " ⎣                         0                                                  \n",
       "                                                                              \n",
       "                                                                              \n",
       "                                                                              \n",
       "                                                                              \n",
       "                                                                              \n",
       "                                                                              \n",
       "                                                                              \n",
       "                                                     ⎡0  0  0  0⎤             \n",
       "                                                     ⎢          ⎥             \n",
       "                                                     ⎢0  0  0  0⎥             \n",
       "                                                     ⎢          ⎥             \n",
       "                                                     ⎢0  0  0  0⎥             \n",
       "                                                     ⎢          ⎥             \n",
       "                                                     ⎣0  0  0  0⎦             \n",
       "                                                                              \n",
       "                                                                              \n",
       "                                                                              \n",
       "                                                                              \n",
       "                                                                              \n",
       "                                                                              \n",
       "                                                                              \n",
       "                                                                              \n",
       "                                          ⎡0       0             0        0⎤  \n",
       "                                          ⎢                                ⎥  \n",
       "                                          ⎢                      S         ⎥  \n",
       "                                          ⎢0       0        ────────────  0⎥  \n",
       "                                          ⎢                    3 ⎛    S⎞   ⎥  \n",
       "                                          ⎢                 2⋅R ⋅⎜1 - ─⎟   ⎥  \n",
       "                                          ⎢                      ⎝    R⎠   ⎥  \n",
       "                                          ⎢                                ⎥  \n",
       "                                          ⎢       -S                       ⎥  \n",
       "                                          ⎢0  ────────────       0        0⎥  \n",
       "                                          ⎢      3 ⎛    S⎞                 ⎥  \n",
       "                                          ⎢   2⋅R ⋅⎜1 - ─⎟                 ⎥  \n",
       "                                          ⎢        ⎝    R⎠                 ⎥  \n",
       "                                          ⎢                                ⎥  \n",
       "                                          ⎣0       0             0        0⎦  \n",
       "                                                                              \n",
       "                                                                              \n",
       "                                                                              \n",
       "                                          ⎡0       0        0       0      ⎤  \n",
       "                                          ⎢                                ⎥  \n",
       "                                          ⎢                         S      ⎥  \n",
       "                                          ⎢0       0        0  ────────────⎥  \n",
       "                                          ⎢                       3 ⎛    S⎞⎥  \n",
       "                                          ⎢                    2⋅R ⋅⎜1 - ─⎟⎥  \n",
       "                                          ⎢                         ⎝    R⎠⎥  \n",
       "                                          ⎢                                ⎥  \n",
       "                                          ⎢0       0        0       0      ⎥  \n",
       "                                          ⎢                                ⎥  \n",
       "                                          ⎢       -S                       ⎥  \n",
       "                                          ⎢0  ────────────  0       0      ⎥  \n",
       "                                          ⎢      3 ⎛    S⎞                 ⎥  \n",
       "                                          ⎢   2⋅R ⋅⎜1 - ─⎟                 ⎥  \n",
       "                                          ⎣        ⎝    R⎠                 ⎦  \n",
       "                                                                              \n",
       "\n",
       "     2                   2            ⎤  ⎡                    ⎛    S⎞     ⎤   \n",
       "    S                   S             ⎥  ⎢                  S⋅⎜1 - ─⎟     ⎥   \n",
       "─────────────── + ──────────────  0  0⎥  ⎢                    ⎝    R⎠     ⎥   \n",
       "     S⎞ ⎛    S⎞                2      ⎥  ⎢     0        0  ────────────  0⎥   \n",
       "-1 + ─⎟⋅⎜1 - ─⎟      4 ⎛     S⎞       ⎥  ⎢                     ⎛     S⎞   ⎥   \n",
       "     R⎠ ⎝    R⎠   4⋅R ⋅⎜-1 + ─⎟       ⎥  ⎢                 2⋅R⋅⎜-1 + ─⎟   ⎥   \n",
       "                       ⎝     R⎠       ⎥  ⎢                     ⎝     R⎠   ⎥   \n",
       "                                      ⎥  ⎢                                ⎥   \n",
       "                                      ⎥  ⎢     0        0       0        0⎥   \n",
       "                                      ⎥  ⎢                                ⎥   \n",
       "    0                             0  0⎥  ⎢   ⎛    S⎞                      ⎥   \n",
       "                                      ⎥  ⎢-S⋅⎜1 - ─⎟                      ⎥   \n",
       "                                      ⎥  ⎢   ⎝    R⎠                      ⎥   \n",
       "                                      ⎥  ⎢────────────  0       0        0⎥   \n",
       "                                      ⎥  ⎢    ⎛     S⎞                    ⎥   \n",
       "                                      ⎥  ⎢2⋅R⋅⎜-1 + ─⎟                    ⎥   \n",
       "    0                             0  0⎥  ⎢    ⎝     R⎠                    ⎥   \n",
       "                                      ⎥  ⎢                                ⎥   \n",
       "    0                             0  0⎦  ⎣     0        0       0        0⎦   \n",
       "                                                                              \n",
       "                                                                              \n",
       "                                                                              \n",
       "                                                                              \n",
       "                                                                              \n",
       "                                                  ⎡0   0    0   0⎤            \n",
       "                                                  ⎢              ⎥            \n",
       "                                                  ⎢        -S    ⎥            \n",
       "                                                  ⎢0   0   ───  0⎥            \n",
       "                                                  ⎢        2⋅R   ⎥            \n",
       "                                                  ⎢              ⎥            \n",
       "                                                  ⎢    S         ⎥            \n",
       "                                                  ⎢0  ───   0   0⎥            \n",
       "                                                  ⎢   2⋅R        ⎥            \n",
       "                                                  ⎢              ⎥            \n",
       "                                                  ⎣0   0    0   0⎦            \n",
       "                                                                              \n",
       "                                                                              \n",
       "                                                                              \n",
       "                                                                              \n",
       "                                                                              \n",
       "                                                                              \n",
       "                                                                              \n",
       "                                                                              \n",
       "                                                                             ⎡\n",
       "                                                                             ⎢\n",
       "                                                    ⎡0  0  0  0⎤             ⎢\n",
       "                                                    ⎢          ⎥             ⎢\n",
       "                                                    ⎢0  0  0  0⎥             ⎢\n",
       "                                                    ⎢          ⎥             ⎢\n",
       "                                                    ⎢0  0  0  0⎥             ⎢\n",
       "                                                    ⎢          ⎥             ⎢\n",
       "                                                    ⎣0  0  0  0⎦             ⎢\n",
       "                                                                             ⎢\n",
       "                                                                             ⎣\n",
       "                                                                              \n",
       "                                                                              \n",
       "                                                                              \n",
       "                                                                              \n",
       "                                                                              \n",
       "                                                                              \n",
       "                                                                              \n",
       "                                                   ⎡0  0  0   0 ⎤             \n",
       "                                                   ⎢            ⎥             \n",
       "                                                   ⎢0  0  0   0 ⎥             \n",
       "                                                   ⎢            ⎥             \n",
       "                                                   ⎢         -S ⎥             \n",
       "                                                   ⎢0  0  0  ───⎥             \n",
       "                                                   ⎢          R ⎥             \n",
       "                                                   ⎢            ⎥             \n",
       "                                                   ⎢      S     ⎥             \n",
       "                                                   ⎢0  0  ─   0 ⎥             \n",
       "                                                   ⎣      R     ⎦             \n",
       "                                                                              \n",
       "                                                                              \n",
       "                                                                              \n",
       "\n",
       "       ⎡                             ⎛    S⎞    2   ⎤        ⎤\n",
       "       ⎢                           S⋅⎜1 - ─⎟⋅sin (θ)⎥        ⎥\n",
       "       ⎢                             ⎝    R⎠        ⎥        ⎥\n",
       "       ⎢         0           0  0  ─────────────────⎥        ⎥\n",
       "       ⎢                                  ⎛     S⎞  ⎥        ⎥\n",
       "       ⎢                              2⋅R⋅⎜-1 + ─⎟  ⎥        ⎥\n",
       "       ⎢                                  ⎝     R⎠  ⎥        ⎥\n",
       "       ⎢                                            ⎥        ⎥\n",
       "       ⎢         0           0  0          0        ⎥        ⎥\n",
       "       ⎢                                            ⎥        ⎥\n",
       "       ⎢         0           0  0          0        ⎥        ⎥\n",
       "       ⎢                                            ⎥        ⎥\n",
       "       ⎢   ⎛    S⎞    2                             ⎥        ⎥\n",
       "       ⎢-S⋅⎜1 - ─⎟⋅sin (θ)                          ⎥        ⎥\n",
       "       ⎢   ⎝    R⎠                                  ⎥        ⎥\n",
       "       ⎢───────────────────  0  0          0        ⎥        ⎥\n",
       "       ⎢        ⎛     S⎞                            ⎥        ⎥\n",
       "       ⎢    2⋅R⋅⎜-1 + ─⎟                            ⎥        ⎥\n",
       "       ⎣        ⎝     R⎠                            ⎦        ⎥\n",
       "                                                             ⎥\n",
       "                                                             ⎥\n",
       "                                                             ⎥\n",
       "                                                             ⎥\n",
       "               ⎡0      0      0       0     ⎤                ⎥\n",
       "               ⎢                            ⎥                ⎥\n",
       "               ⎢                       2    ⎥                ⎥\n",
       "               ⎢                 -S⋅sin (θ) ⎥                ⎥\n",
       "               ⎢0      0      0  ───────────⎥                ⎥\n",
       "               ⎢                     2⋅R    ⎥                ⎥\n",
       "               ⎢                            ⎥                ⎥\n",
       "               ⎢0      0      0       0     ⎥                ⎥\n",
       "               ⎢                            ⎥                ⎥\n",
       "               ⎢        2                   ⎥                ⎥\n",
       "               ⎢   S⋅sin (θ)                ⎥                ⎥\n",
       "               ⎢0  ─────────  0       0     ⎥                ⎥\n",
       "               ⎣      2⋅R                   ⎦                ⎥\n",
       "                                                             ⎥\n",
       "                                                             ⎥\n",
       "                                                             ⎥\n",
       "                                                             ⎥\n",
       "                                                             ⎥\n",
       "                                                             ⎥\n",
       "                                                             ⎥\n",
       "0  0              0                           0             ⎤⎥\n",
       "                                                            ⎥⎥\n",
       "0  0              0                           0             ⎥⎥\n",
       "                                                            ⎥⎥\n",
       "                                   ⎛    S⎞    2         2   ⎥⎥\n",
       "0  0              0              - ⎜1 - ─⎟⋅sin (θ) + sin (θ)⎥⎥\n",
       "                                   ⎝    R⎠                  ⎥⎥\n",
       "                                                            ⎥⎥\n",
       "      ⎛    S⎞    2         2                                ⎥⎥\n",
       "0  0  ⎜1 - ─⎟⋅sin (θ) - sin (θ)               0             ⎥⎥\n",
       "      ⎝    R⎠                                               ⎦⎥\n",
       "                                                             ⎥\n",
       "                                                             ⎥\n",
       "                                                             ⎥\n",
       "                                                             ⎥\n",
       "                                                             ⎥\n",
       "                                                             ⎥\n",
       "                                                             ⎥\n",
       "                                                             ⎥\n",
       "                                                             ⎥\n",
       "                        ⎡0  0  0  0⎤                         ⎥\n",
       "                        ⎢          ⎥                         ⎥\n",
       "                        ⎢0  0  0  0⎥                         ⎥\n",
       "                        ⎢          ⎥                         ⎥\n",
       "                        ⎢0  0  0  0⎥                         ⎥\n",
       "                        ⎢          ⎥                         ⎥\n",
       "                        ⎣0  0  0  0⎦                         ⎥\n",
       "                                                             ⎥\n",
       "                                                             ⎥\n",
       "                                                             ⎥\n",
       "                                                             ⎥\n",
       "                                                             ⎦"
      ]
     },
     "metadata": {},
     "output_type": "display_data"
    },
    {
     "data": {
      "text/plain": [
       "'Ricci tensor: '"
      ]
     },
     "metadata": {},
     "output_type": "display_data"
    },
    {
     "data": {
      "text/latex": [
       "$\\displaystyle \\left[\\begin{matrix}0 & 0 & 0 & 0\\\\0 & 0 & 0 & 0\\\\0 & 0 & 0 & 0\\\\0 & 0 & 0 & 0\\end{matrix}\\right]$"
      ],
      "text/plain": [
       "⎡0  0  0  0⎤\n",
       "⎢          ⎥\n",
       "⎢0  0  0  0⎥\n",
       "⎢          ⎥\n",
       "⎢0  0  0  0⎥\n",
       "⎢          ⎥\n",
       "⎣0  0  0  0⎦"
      ]
     },
     "metadata": {},
     "output_type": "display_data"
    },
    {
     "data": {
      "text/plain": [
       "'Ricci scalar: '"
      ]
     },
     "metadata": {},
     "output_type": "display_data"
    },
    {
     "data": {
      "image/png": "[encoded data removed]",
      "text/latex": [
       "$\\displaystyle 0$"
      ],
      "text/plain": [
       "0"
      ]
     },
     "metadata": {},
     "output_type": "display_data"
    },
    {
     "data": {
      "text/plain": [
       "'G: '"
      ]
     },
     "metadata": {},
     "output_type": "display_data"
    },
    {
     "data": {
      "text/latex": [
       "$\\displaystyle \\left[\\begin{matrix}0 & 0 & 0 & 0\\\\0 & 0 & 0 & 0\\\\0 & 0 & 0 & 0\\\\0 & 0 & 0 & 0\\end{matrix}\\right]$"
      ],
      "text/plain": [
       "⎡0  0  0  0⎤\n",
       "⎢          ⎥\n",
       "⎢0  0  0  0⎥\n",
       "⎢          ⎥\n",
       "⎢0  0  0  0⎥\n",
       "⎢          ⎥\n",
       "⎣0  0  0  0⎦"
      ]
     },
     "metadata": {},
     "output_type": "display_data"
    },
    {
     "name": "stdout",
     "output_type": "stream",
     "text": [
      "====2-sphere====\n"
     ]
    },
    {
     "data": {
      "text/plain": [
       "'Metric:'"
      ]
     },
     "metadata": {},
     "output_type": "display_data"
    },
    {
     "data": {
      "image/png": "[encoded data removed]",
      "text/latex": [
       "$\\displaystyle \\left[ \\left[ 1, \\  0\\right], \\  \\left[ 0, \\  \\sin^{2}{\\left(\\theta \\right)}\\right]\\right]$"
      ],
      "text/plain": [
       "⎡        ⎡      2   ⎤⎤\n",
       "⎣[1, 0], ⎣0, sin (θ)⎦⎦"
      ]
     },
     "metadata": {},
     "output_type": "display_data"
    },
    {
     "data": {
      "text/plain": [
       "'Gamma:'"
      ]
     },
     "metadata": {},
     "output_type": "display_data"
    },
    {
     "data": {
      "text/latex": [
       "$\\displaystyle \\left[\\begin{matrix}\\left[\\begin{matrix}0 & 0\\\\0 & - \\sin{\\left(\\theta \\right)} \\cos{\\left(\\theta \\right)}\\end{matrix}\\right] & \\left[\\begin{matrix}0 & \\frac{\\cos{\\left(\\theta \\right)}}{\\sin{\\left(\\theta \\right)}}\\\\\\frac{\\cos{\\left(\\theta \\right)}}{\\sin{\\left(\\theta \\right)}} & 0\\end{matrix}\\right]\\end{matrix}\\right]$"
      ],
      "text/plain": [
       "⎡                     ⎡        cos(θ)⎤⎤\n",
       "⎢                     ⎢  0     ──────⎥⎥\n",
       "⎢⎡0        0       ⎤  ⎢        sin(θ)⎥⎥\n",
       "⎢⎢                 ⎥  ⎢              ⎥⎥\n",
       "⎢⎣0  -sin(θ)⋅cos(θ)⎦  ⎢cos(θ)        ⎥⎥\n",
       "⎢                     ⎢──────    0   ⎥⎥\n",
       "⎣                     ⎣sin(θ)        ⎦⎦"
      ]
     },
     "metadata": {},
     "output_type": "display_data"
    },
    {
     "data": {
      "text/plain": [
       "'Expression:'"
      ]
     },
     "metadata": {},
     "output_type": "display_data"
    },
    {
     "data": {
      "image/png": "[encoded data removed]",
      "text/latex": [
       "$\\displaystyle \\left(\\frac{1}{2}\\right)g{}^{L_{0}t}\\left(\\frac{\\partial}{\\partial {_{}^{m}}}{g{}_{L_{0}n}} + \\frac{\\partial}{\\partial {_{}^{n}}}{g{}_{L_{0}m}} + \\left(-1\\right)\\frac{\\partial}{\\partial {_{}^{L_{0}}}}{g{}_{mn}}\\right)$"
      ],
      "text/plain": [
       "     L₀t ⎛ ∂ ⎛    ⎞    ∂ ⎛    ⎞         ∂  ⎛   ⎞⎞\n",
       "1/2⋅g   ⋅⎜───⎜g   ⎟ + ───⎜g   ⎟ + (-1)⋅────⎜g  ⎟⎟\n",
       "         ⎜  n⎝ L₀m⎠     m⎝ L₀n⎠          L₀⎝ mn⎠⎟\n",
       "         ⎜∂_          ∂_               ∂_       ⎟\n",
       "         ⎝                                      ⎠"
      ]
     },
     "metadata": {},
     "output_type": "display_data"
    },
    {
     "data": {
      "text/plain": [
       "'Riemann curvature expression:'"
      ]
     },
     "metadata": {},
     "output_type": "display_data"
    },
    {
     "data": {
      "image/png": "[encoded data removed]",
      "text/latex": [
       "$\\displaystyle -\\Gamma{}^{i}{}_{L_{0}m}\\Gamma{}^{L_{0}}{}_{jk} - \\frac{\\partial}{\\partial {_{}^{m}}}{\\Gamma{}^{i}{}_{jk}} + \\Gamma{}^{i}{}_{L_{0}k}\\Gamma{}^{L_{0}}{}_{jm} + \\frac{\\partial}{\\partial {_{}^{k}}}{\\Gamma{}^{i}{}_{jm}}$"
      ],
      "text/plain": [
       " ∂ ⎛     i  ⎞     ∂ ⎛     i  ⎞        i         L₀           i         L₀  \n",
       "───⎜Gamma   ⎟ + -───⎜Gamma   ⎟ + Gamma    ⋅Gamma     + -Gamma    ⋅Gamma    \n",
       "  k⎝      jm⎠      m⎝      jk⎠         L₀k        jm          L₀m        jk\n",
       "∂_               ∂_                                                        \n",
       "                                                                           "
      ]
     },
     "metadata": {},
     "output_type": "display_data"
    },
    {
     "data": {
      "text/plain": [
       "'Riemann curvature result:'"
      ]
     },
     "metadata": {},
     "output_type": "display_data"
    },
    {
     "data": {
      "text/latex": [
       "$\\displaystyle \\left[\\begin{matrix}\\left[\\begin{matrix}0 & 0\\\\0 & 0\\end{matrix}\\right] & \\left[\\begin{matrix}0 & \\sin^{2}{\\left(\\theta \\right)}\\\\- \\sin^{2}{\\left(\\theta \\right)} & 0\\end{matrix}\\right]\\\\\\left[\\begin{matrix}0 & -1\\\\1 & 0\\end{matrix}\\right] & \\left[\\begin{matrix}0 & 0\\\\0 & 0\\end{matrix}\\right]\\end{matrix}\\right]$"
      ],
      "text/plain": [
       "⎡         ⎡             2   ⎤⎤\n",
       "⎢⎡0  0⎤   ⎢   0      sin (θ)⎥⎥\n",
       "⎢⎢    ⎥   ⎢                 ⎥⎥\n",
       "⎢⎣0  0⎦   ⎢    2            ⎥⎥\n",
       "⎢         ⎣-sin (θ)     0   ⎦⎥\n",
       "⎢                            ⎥\n",
       "⎢⎡0  -1⎤        ⎡0  0⎤       ⎥\n",
       "⎢⎢     ⎥        ⎢    ⎥       ⎥\n",
       "⎣⎣1  0 ⎦        ⎣0  0⎦       ⎦"
      ]
     },
     "metadata": {},
     "output_type": "display_data"
    },
    {
     "data": {
      "text/plain": [
       "'Ricci tensor: '"
      ]
     },
     "metadata": {},
     "output_type": "display_data"
    },
    {
     "data": {
      "text/latex": [
       "$\\displaystyle \\left[\\begin{matrix}0 & 0\\\\0 & 0\\end{matrix}\\right]$"
      ],
      "text/plain": [
       "⎡0  0⎤\n",
       "⎢    ⎥\n",
       "⎣0  0⎦"
      ]
     },
     "metadata": {},
     "output_type": "display_data"
    },
    {
     "data": {
      "text/plain": [
       "'Ricci scalar: '"
      ]
     },
     "metadata": {},
     "output_type": "display_data"
    },
    {
     "data": {
      "image/png": "[encoded data removed]",
      "text/latex": [
       "$\\displaystyle 0$"
      ],
      "text/plain": [
       "0"
      ]
     },
     "metadata": {},
     "output_type": "display_data"
    },
    {
     "data": {
      "text/plain": [
       "'G: '"
      ]
     },
     "metadata": {},
     "output_type": "display_data"
    },
    {
     "data": {
      "text/latex": [
       "$\\displaystyle \\left[\\begin{matrix}0 & 0\\\\0 & 0\\end{matrix}\\right]$"
      ],
      "text/plain": [
       "⎡0  0⎤\n",
       "⎢    ⎥\n",
       "⎣0  0⎦"
      ]
     },
     "metadata": {},
     "output_type": "display_data"
    },
    {
     "name": "stdout",
     "output_type": "stream",
     "text": [
      "====polar_plane====\n"
     ]
    },
    {
     "data": {
      "text/plain": [
       "'Metric:'"
      ]
     },
     "metadata": {},
     "output_type": "display_data"
    },
    {
     "data": {
      "image/png": "[encoded data removed]",
      "text/latex": [
       "$\\displaystyle \\left[ \\left[ 1, \\  0\\right], \\  \\left[ 0, \\  R^{2}\\right]\\right]$"
      ],
      "text/plain": [
       "⎡        ⎡    2⎤⎤\n",
       "⎣[1, 0], ⎣0, R ⎦⎦"
      ]
     },
     "metadata": {},
     "output_type": "display_data"
    },
    {
     "data": {
      "text/plain": [
       "'Gamma:'"
      ]
     },
     "metadata": {},
     "output_type": "display_data"
    },
    {
     "data": {
      "text/latex": [
       "$\\displaystyle \\left[\\begin{matrix}\\left[\\begin{matrix}0 & 0\\\\0 & - R\\end{matrix}\\right] & \\left[\\begin{matrix}0 & \\frac{1}{R}\\\\\\frac{1}{R} & 0\\end{matrix}\\right]\\end{matrix}\\right]$"
      ],
      "text/plain": [
       "⎡         ⎡   1⎤⎤\n",
       "⎢         ⎢0  ─⎥⎥\n",
       "⎢⎡0  0 ⎤  ⎢   R⎥⎥\n",
       "⎢⎢     ⎥  ⎢    ⎥⎥\n",
       "⎢⎣0  -R⎦  ⎢1   ⎥⎥\n",
       "⎢         ⎢─  0⎥⎥\n",
       "⎣         ⎣R   ⎦⎦"
      ]
     },
     "metadata": {},
     "output_type": "display_data"
    },
    {
     "data": {
      "text/plain": [
       "'Expression:'"
      ]
     },
     "metadata": {},
     "output_type": "display_data"
    },
    {
     "data": {
      "image/png": "[encoded data removed]",
      "text/latex": [
       "$\\displaystyle \\left(\\frac{1}{2}\\right)g{}^{L_{0}t}\\left(\\frac{\\partial}{\\partial {_{}^{m}}}{g{}_{L_{0}n}} + \\frac{\\partial}{\\partial {_{}^{n}}}{g{}_{L_{0}m}} + \\left(-1\\right)\\frac{\\partial}{\\partial {_{}^{L_{0}}}}{g{}_{mn}}\\right)$"
      ],
      "text/plain": [
       "     L₀t ⎛ ∂ ⎛    ⎞    ∂ ⎛    ⎞         ∂  ⎛   ⎞⎞\n",
       "1/2⋅g   ⋅⎜───⎜g   ⎟ + ───⎜g   ⎟ + (-1)⋅────⎜g  ⎟⎟\n",
       "         ⎜  n⎝ L₀m⎠     m⎝ L₀n⎠          L₀⎝ mn⎠⎟\n",
       "         ⎜∂_          ∂_               ∂_       ⎟\n",
       "         ⎝                                      ⎠"
      ]
     },
     "metadata": {},
     "output_type": "display_data"
    },
    {
     "data": {
      "text/plain": [
       "'Riemann curvature expression:'"
      ]
     },
     "metadata": {},
     "output_type": "display_data"
    },
    {
     "data": {
      "image/png": "[encoded data removed]",
      "text/latex": [
       "$\\displaystyle -\\Gamma{}^{i}{}_{L_{0}m}\\Gamma{}^{L_{0}}{}_{jk} - \\frac{\\partial}{\\partial {_{}^{m}}}{\\Gamma{}^{i}{}_{jk}} + \\Gamma{}^{i}{}_{L_{0}k}\\Gamma{}^{L_{0}}{}_{jm} + \\frac{\\partial}{\\partial {_{}^{k}}}{\\Gamma{}^{i}{}_{jm}}$"
      ],
      "text/plain": [
       " ∂ ⎛     i  ⎞     ∂ ⎛     i  ⎞        i         L₀           i         L₀  \n",
       "───⎜Gamma   ⎟ + -───⎜Gamma   ⎟ + Gamma    ⋅Gamma     + -Gamma    ⋅Gamma    \n",
       "  k⎝      jm⎠      m⎝      jk⎠         L₀k        jm          L₀m        jk\n",
       "∂_               ∂_                                                        \n",
       "                                                                           "
      ]
     },
     "metadata": {},
     "output_type": "display_data"
    },
    {
     "data": {
      "text/plain": [
       "'Riemann curvature result:'"
      ]
     },
     "metadata": {},
     "output_type": "display_data"
    },
    {
     "data": {
      "text/latex": [
       "$\\displaystyle \\left[\\begin{matrix}\\left[\\begin{matrix}0 & 0\\\\0 & 0\\end{matrix}\\right] & \\left[\\begin{matrix}0 & 0\\\\0 & 0\\end{matrix}\\right]\\\\\\left[\\begin{matrix}0 & 0\\\\0 & 0\\end{matrix}\\right] & \\left[\\begin{matrix}0 & 0\\\\0 & 0\\end{matrix}\\right]\\end{matrix}\\right]$"
      ],
      "text/plain": [
       "⎡⎡0  0⎤  ⎡0  0⎤⎤\n",
       "⎢⎢    ⎥  ⎢    ⎥⎥\n",
       "⎢⎣0  0⎦  ⎣0  0⎦⎥\n",
       "⎢              ⎥\n",
       "⎢⎡0  0⎤  ⎡0  0⎤⎥\n",
       "⎢⎢    ⎥  ⎢    ⎥⎥\n",
       "⎣⎣0  0⎦  ⎣0  0⎦⎦"
      ]
     },
     "metadata": {},
     "output_type": "display_data"
    },
    {
     "data": {
      "text/plain": [
       "'Ricci tensor: '"
      ]
     },
     "metadata": {},
     "output_type": "display_data"
    },
    {
     "data": {
      "text/latex": [
       "$\\displaystyle \\left[\\begin{matrix}0 & 0\\\\0 & 0\\end{matrix}\\right]$"
      ],
      "text/plain": [
       "⎡0  0⎤\n",
       "⎢    ⎥\n",
       "⎣0  0⎦"
      ]
     },
     "metadata": {},
     "output_type": "display_data"
    },
    {
     "data": {
      "text/plain": [
       "'Ricci scalar: '"
      ]
     },
     "metadata": {},
     "output_type": "display_data"
    },
    {
     "data": {
      "image/png": "[encoded data removed]",
      "text/latex": [
       "$\\displaystyle 0$"
      ],
      "text/plain": [
       "0"
      ]
     },
     "metadata": {},
     "output_type": "display_data"
    },
    {
     "data": {
      "text/plain": [
       "'G: '"
      ]
     },
     "metadata": {},
     "output_type": "display_data"
    },
    {
     "data": {
      "text/latex": [
       "$\\displaystyle \\left[\\begin{matrix}0 & 0\\\\0 & 0\\end{matrix}\\right]$"
      ],
      "text/plain": [
       "⎡0  0⎤\n",
       "⎢    ⎥\n",
       "⎣0  0⎦"
      ]
     },
     "metadata": {},
     "output_type": "display_data"
    },
    {
     "name": "stdout",
     "output_type": "stream",
     "text": [
      "====3-sphere====\n"
     ]
    },
    {
     "data": {
      "text/plain": [
       "'Metric:'"
      ]
     },
     "metadata": {},
     "output_type": "display_data"
    },
    {
     "data": {
      "image/png": "[encoded data removed]",
      "text/latex": [
       "$\\displaystyle \\left[ \\left[ 1, \\  0, \\  0\\right], \\  \\left[ 0, \\  R^{2}, \\  0\\right], \\  \\left[ 0, \\  0, \\  R^{2} \\sin^{2}{\\left(\\theta \\right)}\\right]\\right]$"
      ],
      "text/plain": [
       "⎡           ⎡    2   ⎤  ⎡       2    2   ⎤⎤\n",
       "⎣[1, 0, 0], ⎣0, R , 0⎦, ⎣0, 0, R ⋅sin (θ)⎦⎦"
      ]
     },
     "metadata": {},
     "output_type": "display_data"
    },
    {
     "data": {
      "text/plain": [
       "'Gamma:'"
      ]
     },
     "metadata": {},
     "output_type": "display_data"
    },
    {
     "data": {
      "text/latex": [
       "$\\displaystyle \\left[\\begin{matrix}\\left[\\begin{matrix}0 & 0 & 0\\\\0 & - R & 0\\\\0 & 0 & - R \\sin^{2}{\\left(\\theta \\right)}\\end{matrix}\\right] & \\left[\\begin{matrix}0 & \\frac{1}{R} & 0\\\\\\frac{1}{R} & 0 & 0\\\\0 & 0 & - \\sin{\\left(\\theta \\right)} \\cos{\\left(\\theta \\right)}\\end{matrix}\\right] & \\left[\\begin{matrix}0 & 0 & \\frac{1}{R}\\\\0 & 0 & \\frac{\\cos{\\left(\\theta \\right)}}{\\sin{\\left(\\theta \\right)}}\\\\\\frac{1}{R} & \\frac{\\cos{\\left(\\theta \\right)}}{\\sin{\\left(\\theta \\right)}} & 0\\end{matrix}\\right]\\end{matrix}\\right]$"
      ],
      "text/plain": [
       "⎡                                             ⎡             1   ⎤⎤\n",
       "⎢                     ⎡   1                ⎤  ⎢0    0       ─   ⎥⎥\n",
       "⎢⎡0  0       0     ⎤  ⎢0  ─        0       ⎥  ⎢             R   ⎥⎥\n",
       "⎢⎢                 ⎥  ⎢   R                ⎥  ⎢                 ⎥⎥\n",
       "⎢⎢0  -R      0     ⎥  ⎢                    ⎥  ⎢           cos(θ)⎥⎥\n",
       "⎢⎢                 ⎥  ⎢1                   ⎥  ⎢0    0     ──────⎥⎥\n",
       "⎢⎢             2   ⎥  ⎢─  0        0       ⎥  ⎢           sin(θ)⎥⎥\n",
       "⎢⎣0  0   -R⋅sin (θ)⎦  ⎢R                   ⎥  ⎢                 ⎥⎥\n",
       "⎢                     ⎢                    ⎥  ⎢1  cos(θ)        ⎥⎥\n",
       "⎢                     ⎣0  0  -sin(θ)⋅cos(θ)⎦  ⎢─  ──────    0   ⎥⎥\n",
       "⎣                                             ⎣R  sin(θ)        ⎦⎦"
      ]
     },
     "metadata": {},
     "output_type": "display_data"
    },
    {
     "data": {
      "text/plain": [
       "'Expression:'"
      ]
     },
     "metadata": {},
     "output_type": "display_data"
    },
    {
     "data": {
      "image/png": "[encoded data removed]",
      "text/latex": [
       "$\\displaystyle \\left(\\frac{1}{2}\\right)g{}^{L_{0}t}\\left(\\frac{\\partial}{\\partial {_{}^{m}}}{g{}_{L_{0}n}} + \\frac{\\partial}{\\partial {_{}^{n}}}{g{}_{L_{0}m}} + \\left(-1\\right)\\frac{\\partial}{\\partial {_{}^{L_{0}}}}{g{}_{mn}}\\right)$"
      ],
      "text/plain": [
       "     L₀t ⎛ ∂ ⎛    ⎞    ∂ ⎛    ⎞         ∂  ⎛   ⎞⎞\n",
       "1/2⋅g   ⋅⎜───⎜g   ⎟ + ───⎜g   ⎟ + (-1)⋅────⎜g  ⎟⎟\n",
       "         ⎜  n⎝ L₀m⎠     m⎝ L₀n⎠          L₀⎝ mn⎠⎟\n",
       "         ⎜∂_          ∂_               ∂_       ⎟\n",
       "         ⎝                                      ⎠"
      ]
     },
     "metadata": {},
     "output_type": "display_data"
    },
    {
     "data": {
      "text/plain": [
       "'Riemann curvature expression:'"
      ]
     },
     "metadata": {},
     "output_type": "display_data"
    },
    {
     "data": {
      "image/png": "[encoded data removed]",
      "text/latex": [
       "$\\displaystyle -\\Gamma{}^{i}{}_{L_{0}m}\\Gamma{}^{L_{0}}{}_{jk} - \\frac{\\partial}{\\partial {_{}^{m}}}{\\Gamma{}^{i}{}_{jk}} + \\Gamma{}^{i}{}_{L_{0}k}\\Gamma{}^{L_{0}}{}_{jm} + \\frac{\\partial}{\\partial {_{}^{k}}}{\\Gamma{}^{i}{}_{jm}}$"
      ],
      "text/plain": [
       " ∂ ⎛     i  ⎞     ∂ ⎛     i  ⎞        i         L₀           i         L₀  \n",
       "───⎜Gamma   ⎟ + -───⎜Gamma   ⎟ + Gamma    ⋅Gamma     + -Gamma    ⋅Gamma    \n",
       "  k⎝      jm⎠      m⎝      jk⎠         L₀k        jm          L₀m        jk\n",
       "∂_               ∂_                                                        \n",
       "                                                                           "
      ]
     },
     "metadata": {},
     "output_type": "display_data"
    },
    {
     "data": {
      "text/plain": [
       "'Riemann curvature result:'"
      ]
     },
     "metadata": {},
     "output_type": "display_data"
    },
    {
     "data": {
      "text/latex": [
       "$\\displaystyle \\left[\\begin{matrix}\\left[\\begin{matrix}0 & 0 & 0\\\\0 & 0 & 0\\\\0 & 0 & 0\\end{matrix}\\right] & \\left[\\begin{matrix}0 & 0 & 0\\\\0 & 0 & 0\\\\0 & 0 & 0\\end{matrix}\\right] & \\left[\\begin{matrix}0 & 0 & 0\\\\0 & 0 & 0\\\\0 & 0 & 0\\end{matrix}\\right]\\\\\\left[\\begin{matrix}0 & 0 & 0\\\\0 & 0 & 0\\\\0 & 0 & 0\\end{matrix}\\right] & \\left[\\begin{matrix}0 & 0 & 0\\\\0 & 0 & 0\\\\0 & 0 & 0\\end{matrix}\\right] & \\left[\\begin{matrix}0 & 0 & 0\\\\0 & 0 & 0\\\\0 & 0 & 0\\end{matrix}\\right]\\\\\\left[\\begin{matrix}0 & 0 & 0\\\\0 & 0 & 0\\\\0 & 0 & 0\\end{matrix}\\right] & \\left[\\begin{matrix}0 & 0 & 0\\\\0 & 0 & 0\\\\0 & 0 & 0\\end{matrix}\\right] & \\left[\\begin{matrix}0 & 0 & 0\\\\0 & 0 & 0\\\\0 & 0 & 0\\end{matrix}\\right]\\end{matrix}\\right]$"
      ],
      "text/plain": [
       "⎡⎡0  0  0⎤  ⎡0  0  0⎤  ⎡0  0  0⎤⎤\n",
       "⎢⎢       ⎥  ⎢       ⎥  ⎢       ⎥⎥\n",
       "⎢⎢0  0  0⎥  ⎢0  0  0⎥  ⎢0  0  0⎥⎥\n",
       "⎢⎢       ⎥  ⎢       ⎥  ⎢       ⎥⎥\n",
       "⎢⎣0  0  0⎦  ⎣0  0  0⎦  ⎣0  0  0⎦⎥\n",
       "⎢                               ⎥\n",
       "⎢⎡0  0  0⎤  ⎡0  0  0⎤  ⎡0  0  0⎤⎥\n",
       "⎢⎢       ⎥  ⎢       ⎥  ⎢       ⎥⎥\n",
       "⎢⎢0  0  0⎥  ⎢0  0  0⎥  ⎢0  0  0⎥⎥\n",
       "⎢⎢       ⎥  ⎢       ⎥  ⎢       ⎥⎥\n",
       "⎢⎣0  0  0⎦  ⎣0  0  0⎦  ⎣0  0  0⎦⎥\n",
       "⎢                               ⎥\n",
       "⎢⎡0  0  0⎤  ⎡0  0  0⎤  ⎡0  0  0⎤⎥\n",
       "⎢⎢       ⎥  ⎢       ⎥  ⎢       ⎥⎥\n",
       "⎢⎢0  0  0⎥  ⎢0  0  0⎥  ⎢0  0  0⎥⎥\n",
       "⎢⎢       ⎥  ⎢       ⎥  ⎢       ⎥⎥\n",
       "⎣⎣0  0  0⎦  ⎣0  0  0⎦  ⎣0  0  0⎦⎦"
      ]
     },
     "metadata": {},
     "output_type": "display_data"
    },
    {
     "data": {
      "text/plain": [
       "'Ricci tensor: '"
      ]
     },
     "metadata": {},
     "output_type": "display_data"
    },
    {
     "data": {
      "text/latex": [
       "$\\displaystyle \\left[\\begin{matrix}0 & 0 & 0\\\\0 & 0 & 0\\\\0 & 0 & 0\\end{matrix}\\right]$"
      ],
      "text/plain": [
       "⎡0  0  0⎤\n",
       "⎢       ⎥\n",
       "⎢0  0  0⎥\n",
       "⎢       ⎥\n",
       "⎣0  0  0⎦"
      ]
     },
     "metadata": {},
     "output_type": "display_data"
    },
    {
     "data": {
      "text/plain": [
       "'Ricci scalar: '"
      ]
     },
     "metadata": {},
     "output_type": "display_data"
    },
    {
     "data": {
      "image/png": "[encoded data removed]",
      "text/latex": [
       "$\\displaystyle 0$"
      ],
      "text/plain": [
       "0"
      ]
     },
     "metadata": {},
     "output_type": "display_data"
    },
    {
     "data": {
      "text/plain": [
       "'G: '"
      ]
     },
     "metadata": {},
     "output_type": "display_data"
    },
    {
     "data": {
      "text/latex": [
       "$\\displaystyle \\left[\\begin{matrix}0 & 0 & 0\\\\0 & 0 & 0\\\\0 & 0 & 0\\end{matrix}\\right]$"
      ],
      "text/plain": [
       "⎡0  0  0⎤\n",
       "⎢       ⎥\n",
       "⎢0  0  0⎥\n",
       "⎢       ⎥\n",
       "⎣0  0  0⎦"
      ]
     },
     "metadata": {},
     "output_type": "display_data"
    }
   ],
   "source": [
    "class Geometry:\n",
    "    def __init__(self, which_geometry):\n",
    "        self.which_geometry = which_geometry\n",
    "\n",
    "        self.fMetric = None\n",
    "        self.fX = None\n",
    "        self.fGamma = None\n",
    "        self.fGamma_expr = None\n",
    "        self.fRiemann = None\n",
    "        self.fRicci = None\n",
    "\n",
    "        self.L = TensorIndexType('L', dummy_name='L')\n",
    "        self.x = tensor_heads('_', [self.L])\n",
    "    \n",
    "    def metric(self):\n",
    "        if self.fMetric is None:\n",
    "            theta, phi, R, t, S = symbols('theta phi R t S')  # S is Schwartzchild radius, S=2MG\n",
    "            cases = {\n",
    "                '2-sphere': ([[1,0],[0,sin(theta)**2]], [theta, phi]),\n",
    "                'polar_plane': ([[1, 0],[0, R**2]], [R, theta]),\n",
    "                '3-sphere': ([[1,0,0], [0, R**2, 0], [0,0,R**2 * sin(theta)**2]], [R, theta, phi]),\n",
    "                '4-schwartzwald': ([[-(1-S/R), 0,0,0], [0, (1-S/R)**-1, 0, 0], [0, 0, R**2, 0], [0, 0, 0, R**2 * sin(theta)**2]], [t, R, theta, phi]),\n",
    "                '4-curvy': ([[-(1-S/R), sin(theta),0,0], [0, (1-S/R)**-1, 0, 0], [0, 0, R**2, 0], [0, 0, 0, R**2 * sin(theta)**2]], [t, R, theta, phi])\n",
    "            }\n",
    "            self.fMetric, self.fX = cases[self.which_geometry]\n",
    "        return self.fMetric\n",
    "\n",
    "    def gamma(self):\n",
    "        \"\"\" The Christoffel symbols \"\"\"\n",
    "        if self.fGamma is None:\n",
    "            L = self.L\n",
    "            g = tensor_heads('g', [L, L])\n",
    "            m,n,t,q = tensor_indices('m n t q', L)\n",
    "            x_repl = {self.x(q): self.fX}\n",
    "            metric_repl = {L: self.metric(), g(-m,-n):self.metric()}\n",
    "            gamma = tensor_heads('Gamma', [L, L, L])\n",
    "            gamma_repl = {gamma(-m, -n, t):self.gamma_expr().replace_with_arrays(x_repl | metric_repl)}\n",
    "            self.fGamma = gamma(-m, -n, t).replace_with_arrays(gamma_repl)\n",
    "            \n",
    "        return self.fGamma\n",
    "\n",
    "    def gamma_expr(self):\n",
    "        if self.fGamma_expr is None:\n",
    "            L = self.L\n",
    "            m, n, r, t = tensor_indices('m n r t', L)\n",
    "            x = self.x\n",
    "            g = tensor_heads('g', [L, L])\n",
    "            self.fGamma_expr = g(r,t) / 2 * (\n",
    "                PartialDerivative(g(-r, -m), x(n)) + \n",
    "                PartialDerivative(g(-r, -n), x(m)) - \n",
    "                PartialDerivative(g(-m, -n), x(r)))\n",
    "        return self.fGamma_expr\n",
    "\n",
    "    def riemann_curvature(self):\n",
    "        L = self.L\n",
    "        i, j, k, m, n, q, r  = tensor_indices('i j k m n q r', L)\n",
    "        x_repl = {self.x(q): self.fX}\n",
    "        gamma = tensor_heads('Gamma', [L, L, L])\n",
    "        R_exp = (\n",
    "            PartialDerivative(gamma(i, -j, -m), self.x(k)) - \n",
    "            PartialDerivative(gamma(i, -j, -k), self.x(m)) + \n",
    "            gamma(i, -r, -k) * gamma(r, -j, -m) - \n",
    "            gamma(i, -r, -m) * gamma(r, -j, -k))\n",
    "        \n",
    "        R = tensor_heads('R', [L, L, L, L])\n",
    "        gamma_repl = {gamma(i, -j, -m) : self.gamma()}\n",
    "        R_repl = {R(i, -k, -m, -j): R_exp.replace_with_arrays(x_repl | gamma_repl)}  # swapping final two indices, seems necessary\n",
    "        result = R(i, -k, -j, -m).replace_with_arrays(R_repl)\n",
    "    \n",
    "        return R_exp, result\n",
    "\n",
    "    def ricci_tensor(self):\n",
    "        if self.fRicci is None:\n",
    "            R_exp, R_result = self.riemann_curvature()\n",
    "            self.fRicci = tensorcontraction(R_result, (0, 1))\n",
    "        return self.fRicci\n",
    "\n",
    "def test_geometry(): \n",
    "\n",
    "    for which in '4-curvy', '4-schwartzwald', '2-sphere', 'polar_plane', '3-sphere':\n",
    "        print(f\"===={which}====\")\n",
    "        geom = Geometry(which)\n",
    "        display ('Metric:', geom.metric())\n",
    "\n",
    "        display ('Gamma:', geom.gamma())\n",
    "        display ('Expression:', geom.gamma_expr())\n",
    "\n",
    "        r_exp, r_result = geom.riemann_curvature()\n",
    "        display ('Riemann curvature expression:', r_exp)\n",
    "        display ('Riemann curvature result:', r_result)\n",
    "\n",
    "        ricci_tensor = geom.ricci_tensor()\n",
    "        ricci_scalar = tensorcontraction(ricci_tensor, (0,1))\n",
    "        display('Ricci tensor: ', ricci_tensor)\n",
    "        display('Ricci scalar: ', ricci_scalar)\n",
    "\n",
    "        G = ricci_tensor - ImmutableDenseNDimArray(geom.metric()) * ricci_scalar / 2\n",
    "        display(\"G: \", G)\n",
    "   \n",
    "test_geometry()\n"
   ]
  },
  {
   "cell_type": "code",
   "execution_count": 3,
   "id": "f29976a6-fbf9-4bd0-b799-70d5f0e6a5d1",
   "metadata": {},
   "outputs": [
    {
     "data": {
      "text/plain": [
       "'Riemann curvature expression:'"
      ]
     },
     "metadata": {},
     "output_type": "display_data"
    },
    {
     "data": {
      "image/png": "[encoded data removed]",
      "text/latex": [
       "$\\displaystyle -\\Gamma{}^{i}{}_{L_{0}m}\\Gamma{}^{L_{0}}{}_{jk} - \\frac{\\partial}{\\partial {_{}^{m}}}{\\Gamma{}^{i}{}_{jk}} + \\Gamma{}^{i}{}_{L_{0}k}\\Gamma{}^{L_{0}}{}_{jm} + \\frac{\\partial}{\\partial {_{}^{k}}}{\\Gamma{}^{i}{}_{jm}}$"
      ],
      "text/plain": [
       " ∂ ⎛     i  ⎞     ∂ ⎛     i  ⎞        i         L₀           i         L₀  \n",
       "───⎜Gamma   ⎟ + -───⎜Gamma   ⎟ + Gamma    ⋅Gamma     + -Gamma    ⋅Gamma    \n",
       "  k⎝      jm⎠      m⎝      jk⎠         L₀k        jm          L₀m        jk\n",
       "∂_               ∂_                                                        \n",
       "                                                                           "
      ]
     },
     "metadata": {},
     "output_type": "display_data"
    },
    {
     "data": {
      "text/plain": [
       "'Riemann curvature result:'"
      ]
     },
     "metadata": {},
     "output_type": "display_data"
    },
    {
     "data": {
      "text/latex": [
       "$\\displaystyle \\left[\\begin{matrix}\\left[\\begin{matrix}0 & 0 & 0 & 0\\\\0 & 0 & 0 & 0\\\\0 & 0 & 0 & 0\\\\0 & 0 & 0 & 0\\end{matrix}\\right] & \\left[\\begin{matrix}0 & - \\frac{S}{R^{3} \\left(-1 + \\frac{S}{R}\\right)} + \\frac{S^{2}}{4 R^{4} \\left(-1 + \\frac{S}{R}\\right) \\left(1 - \\frac{S}{R}\\right)} + \\frac{S^{2}}{4 R^{4} \\left(-1 + \\frac{S}{R}\\right)^{2}} & 0 & 0\\\\\\frac{S}{R^{3} \\left(-1 + \\frac{S}{R}\\right)} - \\frac{S^{2}}{4 R^{4} \\left(-1 + \\frac{S}{R}\\right) \\left(1 - \\frac{S}{R}\\right)} - \\frac{S^{2}}{4 R^{4} \\left(-1 + \\frac{S}{R}\\right)^{2}} & 0 & 0 & 0\\\\0 & 0 & 0 & 0\\\\0 & 0 & 0 & 0\\end{matrix}\\right] & \\left[\\begin{matrix}0 & 0 & \\frac{S \\left(1 - \\frac{S}{R}\\right)}{2 R \\left(-1 + \\frac{S}{R}\\right)} & 0\\\\0 & 0 & 0 & 0\\\\- \\frac{S \\left(1 - \\frac{S}{R}\\right)}{2 R \\left(-1 + \\frac{S}{R}\\right)} & 0 & 0 & 0\\\\0 & 0 & 0 & 0\\end{matrix}\\right] & \\left[\\begin{matrix}0 & 0 & 0 & \\frac{S \\left(1 - \\frac{S}{R}\\right) \\sin^{2}{\\left(\\theta \\right)}}{2 R \\left(-1 + \\frac{S}{R}\\right)}\\\\0 & 0 & 0 & 0\\\\0 & 0 & 0 & 0\\\\- \\frac{S \\left(1 - \\frac{S}{R}\\right) \\sin^{2}{\\left(\\theta \\right)}}{2 R \\left(-1 + \\frac{S}{R}\\right)} & 0 & 0 & 0\\end{matrix}\\right]\\\\\\left[\\begin{matrix}0 & \\frac{S \\left(1 - \\frac{S}{R}\\right)}{R^{3}} - \\frac{S^{2}}{4 R^{4}} - \\frac{S^{2} \\cdot \\left(1 - \\frac{S}{R}\\right)}{4 R^{4} \\left(-1 + \\frac{S}{R}\\right)} & 0 & 0\\\\- \\frac{S \\left(1 - \\frac{S}{R}\\right)}{R^{3}} + \\frac{S^{2}}{4 R^{4}} + \\frac{S^{2} \\cdot \\left(1 - \\frac{S}{R}\\right)}{4 R^{4} \\left(-1 + \\frac{S}{R}\\right)} & 0 & 0 & 0\\\\0 & 0 & 0 & 0\\\\0 & 0 & 0 & 0\\end{matrix}\\right] & \\left[\\begin{matrix}0 & 0 & 0 & 0\\\\0 & 0 & 0 & 0\\\\0 & 0 & 0 & 0\\\\0 & 0 & 0 & 0\\end{matrix}\\right] & \\left[\\begin{matrix}0 & 0 & 0 & 0\\\\0 & 0 & - \\frac{S}{2 R} & 0\\\\0 & \\frac{S}{2 R} & 0 & 0\\\\0 & 0 & 0 & 0\\end{matrix}\\right] & \\left[\\begin{matrix}0 & 0 & 0 & 0\\\\0 & 0 & 0 & - \\frac{S \\sin^{2}{\\left(\\theta \\right)}}{2 R}\\\\0 & 0 & 0 & 0\\\\0 & \\frac{S \\sin^{2}{\\left(\\theta \\right)}}{2 R} & 0 & 0\\end{matrix}\\right]\\\\\\left[\\begin{matrix}0 & 0 & - \\frac{S \\left(1 - \\frac{S}{R}\\right)}{2 R^{3}} & 0\\\\0 & 0 & 0 & 0\\\\\\frac{S \\left(1 - \\frac{S}{R}\\right)}{2 R^{3}} & 0 & 0 & 0\\\\0 & 0 & 0 & 0\\end{matrix}\\right] & \\left[\\begin{matrix}0 & 0 & 0 & 0\\\\0 & 0 & \\frac{S}{2 R^{3} \\cdot \\left(1 - \\frac{S}{R}\\right)} & 0\\\\0 & - \\frac{S}{2 R^{3} \\cdot \\left(1 - \\frac{S}{R}\\right)} & 0 & 0\\\\0 & 0 & 0 & 0\\end{matrix}\\right] & \\left[\\begin{matrix}0 & 0 & 0 & 0\\\\0 & 0 & 0 & 0\\\\0 & 0 & 0 & 0\\\\0 & 0 & 0 & 0\\end{matrix}\\right] & \\left[\\begin{matrix}0 & 0 & 0 & 0\\\\0 & 0 & 0 & 0\\\\0 & 0 & 0 & - \\left(1 - \\frac{S}{R}\\right) \\sin^{2}{\\left(\\theta \\right)} + \\sin^{2}{\\left(\\theta \\right)}\\\\0 & 0 & \\left(1 - \\frac{S}{R}\\right) \\sin^{2}{\\left(\\theta \\right)} - \\sin^{2}{\\left(\\theta \\right)} & 0\\end{matrix}\\right]\\\\\\left[\\begin{matrix}0 & 0 & 0 & - \\frac{S \\left(1 - \\frac{S}{R}\\right)}{2 R^{3}}\\\\0 & 0 & 0 & 0\\\\0 & 0 & 0 & 0\\\\\\frac{S \\left(1 - \\frac{S}{R}\\right)}{2 R^{3}} & 0 & 0 & 0\\end{matrix}\\right] & \\left[\\begin{matrix}0 & 0 & 0 & 0\\\\0 & 0 & 0 & \\frac{S}{2 R^{3} \\cdot \\left(1 - \\frac{S}{R}\\right)}\\\\0 & 0 & 0 & 0\\\\0 & - \\frac{S}{2 R^{3} \\cdot \\left(1 - \\frac{S}{R}\\right)} & 0 & 0\\end{matrix}\\right] & \\left[\\begin{matrix}0 & 0 & 0 & 0\\\\0 & 0 & 0 & 0\\\\0 & 0 & 0 & - \\frac{S}{R}\\\\0 & 0 & \\frac{S}{R} & 0\\end{matrix}\\right] & \\left[\\begin{matrix}0 & 0 & 0 & 0\\\\0 & 0 & 0 & 0\\\\0 & 0 & 0 & 0\\\\0 & 0 & 0 & 0\\end{matrix}\\right]\\end{matrix}\\right]$"
      ],
      "text/plain": [
       "⎡                                                                             \n",
       "⎢                                                                             \n",
       "⎢                                                                             \n",
       "⎢                                                                             \n",
       "⎢                                                                             \n",
       "⎢                                                                             \n",
       "⎢                                ⎡0  0  0  0⎤                                 \n",
       "⎢                                ⎢          ⎥                                 \n",
       "⎢                                ⎢0  0  0  0⎥                                 \n",
       "⎢                                ⎢          ⎥                                 \n",
       "⎢                                ⎢0  0  0  0⎥                                 \n",
       "⎢                                ⎢          ⎥                                 \n",
       "⎢                                ⎣0  0  0  0⎦                                 \n",
       "⎢                                                                             \n",
       "⎢                                                                             \n",
       "⎢                                                                             \n",
       "⎢                                                                             \n",
       "⎢                                                                             \n",
       "⎢                                                                             \n",
       "⎢                                                                             \n",
       "⎢⎡                                      ⎛    S⎞             2 ⎛    S⎞       ⎤ \n",
       "⎢⎢                                    S⋅⎜1 - ─⎟     2      S ⋅⎜1 - ─⎟       ⎥ \n",
       "⎢⎢                                      ⎝    R⎠    S          ⎝    R⎠       ⎥ \n",
       "⎢⎢                0                   ───────── - ──── - ─────────────  0  0⎥ \n",
       "⎢⎢                                         3         4      4 ⎛     S⎞      ⎥ \n",
       "⎢⎢                                        R       4⋅R    4⋅R ⋅⎜-1 + ─⎟      ⎥ \n",
       "⎢⎢                                                            ⎝     R⎠      ⎥ \n",
       "⎢⎢                                                                          ⎥ \n",
       "⎢⎢    ⎛    S⎞             2 ⎛    S⎞                                         ⎥ \n",
       "⎢⎢  S⋅⎜1 - ─⎟     2      S ⋅⎜1 - ─⎟                                         ⎥ \n",
       "⎢⎢    ⎝    R⎠    S          ⎝    R⎠                                         ⎥ \n",
       "⎢⎢- ───────── + ──── + ─────────────                 0                  0  0⎥ \n",
       "⎢⎢       3         4      4 ⎛     S⎞                                        ⎥ \n",
       "⎢⎢      R       4⋅R    4⋅R ⋅⎜-1 + ─⎟                                        ⎥ \n",
       "⎢⎢                          ⎝     R⎠                                        ⎥ \n",
       "⎢⎢                                                                          ⎥ \n",
       "⎢⎢                0                                  0                  0  0⎥ \n",
       "⎢⎢                                                                          ⎥ \n",
       "⎢⎣                0                                  0                  0  0⎦ \n",
       "⎢                                                                             \n",
       "⎢                       ⎡                 ⎛    S⎞    ⎤                        \n",
       "⎢                       ⎢              -S⋅⎜1 - ─⎟    ⎥                        \n",
       "⎢                       ⎢                 ⎝    R⎠    ⎥                        \n",
       "⎢                       ⎢    0      0  ───────────  0⎥                        \n",
       "⎢                       ⎢                     3      ⎥                        \n",
       "⎢                       ⎢                  2⋅R       ⎥                        \n",
       "⎢                       ⎢                            ⎥                        \n",
       "⎢                       ⎢    0      0       0       0⎥                        \n",
       "⎢                       ⎢                            ⎥                        \n",
       "⎢                       ⎢  ⎛    S⎞                   ⎥                        \n",
       "⎢                       ⎢S⋅⎜1 - ─⎟                   ⎥                        \n",
       "⎢                       ⎢  ⎝    R⎠                   ⎥                        \n",
       "⎢                       ⎢─────────  0       0       0⎥                        \n",
       "⎢                       ⎢      3                     ⎥                        \n",
       "⎢                       ⎢   2⋅R                      ⎥                        \n",
       "⎢                       ⎢                            ⎥                        \n",
       "⎢                       ⎣    0      0       0       0⎦                        \n",
       "⎢                                                                             \n",
       "⎢                       ⎡                    ⎛    S⎞ ⎤                        \n",
       "⎢                       ⎢                 -S⋅⎜1 - ─⎟ ⎥                        \n",
       "⎢                       ⎢                    ⎝    R⎠ ⎥                        \n",
       "⎢                       ⎢    0      0  0  ───────────⎥                        \n",
       "⎢                       ⎢                        3   ⎥                        \n",
       "⎢                       ⎢                     2⋅R    ⎥                        \n",
       "⎢                       ⎢                            ⎥                        \n",
       "⎢                       ⎢    0      0  0       0     ⎥                        \n",
       "⎢                       ⎢                            ⎥                        \n",
       "⎢                       ⎢    0      0  0       0     ⎥                        \n",
       "⎢                       ⎢                            ⎥                        \n",
       "⎢                       ⎢  ⎛    S⎞                   ⎥                        \n",
       "⎢                       ⎢S⋅⎜1 - ─⎟                   ⎥                        \n",
       "⎢                       ⎢  ⎝    R⎠                   ⎥                        \n",
       "⎢                       ⎢─────────  0  0       0     ⎥                        \n",
       "⎢                       ⎢      3                     ⎥                        \n",
       "⎣                       ⎣   2⋅R                      ⎦                        \n",
       "\n",
       " ⎡                                                                            \n",
       " ⎢                                                             S              \n",
       " ⎢                         0                            - ─────────── + ──────\n",
       " ⎢                                                         3 ⎛     S⎞      4 ⎛\n",
       " ⎢                                                        R ⋅⎜-1 + ─⎟   4⋅R ⋅⎜\n",
       " ⎢                                                           ⎝     R⎠        ⎝\n",
       " ⎢                                                                            \n",
       " ⎢                                                                            \n",
       " ⎢                         2                   2                              \n",
       " ⎢     S                  S                   S                               \n",
       " ⎢─────────── - ───────────────────── - ──────────────                        \n",
       " ⎢ 3 ⎛     S⎞      4 ⎛     S⎞ ⎛    S⎞                2                        \n",
       " ⎢R ⋅⎜-1 + ─⎟   4⋅R ⋅⎜-1 + ─⎟⋅⎜1 - ─⎟      4 ⎛     S⎞                         \n",
       " ⎢   ⎝     R⎠        ⎝     R⎠ ⎝    R⎠   4⋅R ⋅⎜-1 + ─⎟                         \n",
       " ⎢                                           ⎝     R⎠                         \n",
       " ⎢                                                                            \n",
       " ⎢                         0                                                  \n",
       " ⎢                                                                            \n",
       " ⎣                         0                                                  \n",
       "                                                                              \n",
       "                                                                              \n",
       "                                                                              \n",
       "                                                                              \n",
       "                                                                              \n",
       "                                                                              \n",
       "                                                                              \n",
       "                                                     ⎡0  0  0  0⎤             \n",
       "                                                     ⎢          ⎥             \n",
       "                                                     ⎢0  0  0  0⎥             \n",
       "                                                     ⎢          ⎥             \n",
       "                                                     ⎢0  0  0  0⎥             \n",
       "                                                     ⎢          ⎥             \n",
       "                                                     ⎣0  0  0  0⎦             \n",
       "                                                                              \n",
       "                                                                              \n",
       "                                                                              \n",
       "                                                                              \n",
       "                                                                              \n",
       "                                                                              \n",
       "                                                                              \n",
       "                                                                              \n",
       "                                          ⎡0       0             0        0⎤  \n",
       "                                          ⎢                                ⎥  \n",
       "                                          ⎢                      S         ⎥  \n",
       "                                          ⎢0       0        ────────────  0⎥  \n",
       "                                          ⎢                    3 ⎛    S⎞   ⎥  \n",
       "                                          ⎢                 2⋅R ⋅⎜1 - ─⎟   ⎥  \n",
       "                                          ⎢                      ⎝    R⎠   ⎥  \n",
       "                                          ⎢                                ⎥  \n",
       "                                          ⎢       -S                       ⎥  \n",
       "                                          ⎢0  ────────────       0        0⎥  \n",
       "                                          ⎢      3 ⎛    S⎞                 ⎥  \n",
       "                                          ⎢   2⋅R ⋅⎜1 - ─⎟                 ⎥  \n",
       "                                          ⎢        ⎝    R⎠                 ⎥  \n",
       "                                          ⎢                                ⎥  \n",
       "                                          ⎣0       0             0        0⎦  \n",
       "                                                                              \n",
       "                                                                              \n",
       "                                                                              \n",
       "                                          ⎡0       0        0       0      ⎤  \n",
       "                                          ⎢                                ⎥  \n",
       "                                          ⎢                         S      ⎥  \n",
       "                                          ⎢0       0        0  ────────────⎥  \n",
       "                                          ⎢                       3 ⎛    S⎞⎥  \n",
       "                                          ⎢                    2⋅R ⋅⎜1 - ─⎟⎥  \n",
       "                                          ⎢                         ⎝    R⎠⎥  \n",
       "                                          ⎢                                ⎥  \n",
       "                                          ⎢0       0        0       0      ⎥  \n",
       "                                          ⎢                                ⎥  \n",
       "                                          ⎢       -S                       ⎥  \n",
       "                                          ⎢0  ────────────  0       0      ⎥  \n",
       "                                          ⎢      3 ⎛    S⎞                 ⎥  \n",
       "                                          ⎢   2⋅R ⋅⎜1 - ─⎟                 ⎥  \n",
       "                                          ⎣        ⎝    R⎠                 ⎦  \n",
       "                                                                              \n",
       "\n",
       "     2                   2            ⎤  ⎡                    ⎛    S⎞     ⎤   \n",
       "    S                   S             ⎥  ⎢                  S⋅⎜1 - ─⎟     ⎥   \n",
       "─────────────── + ──────────────  0  0⎥  ⎢                    ⎝    R⎠     ⎥   \n",
       "     S⎞ ⎛    S⎞                2      ⎥  ⎢     0        0  ────────────  0⎥   \n",
       "-1 + ─⎟⋅⎜1 - ─⎟      4 ⎛     S⎞       ⎥  ⎢                     ⎛     S⎞   ⎥   \n",
       "     R⎠ ⎝    R⎠   4⋅R ⋅⎜-1 + ─⎟       ⎥  ⎢                 2⋅R⋅⎜-1 + ─⎟   ⎥   \n",
       "                       ⎝     R⎠       ⎥  ⎢                     ⎝     R⎠   ⎥   \n",
       "                                      ⎥  ⎢                                ⎥   \n",
       "                                      ⎥  ⎢     0        0       0        0⎥   \n",
       "                                      ⎥  ⎢                                ⎥   \n",
       "    0                             0  0⎥  ⎢   ⎛    S⎞                      ⎥   \n",
       "                                      ⎥  ⎢-S⋅⎜1 - ─⎟                      ⎥   \n",
       "                                      ⎥  ⎢   ⎝    R⎠                      ⎥   \n",
       "                                      ⎥  ⎢────────────  0       0        0⎥   \n",
       "                                      ⎥  ⎢    ⎛     S⎞                    ⎥   \n",
       "                                      ⎥  ⎢2⋅R⋅⎜-1 + ─⎟                    ⎥   \n",
       "    0                             0  0⎥  ⎢    ⎝     R⎠                    ⎥   \n",
       "                                      ⎥  ⎢                                ⎥   \n",
       "    0                             0  0⎦  ⎣     0        0       0        0⎦   \n",
       "                                                                              \n",
       "                                                                              \n",
       "                                                                              \n",
       "                                                                              \n",
       "                                                                              \n",
       "                                                  ⎡0   0    0   0⎤            \n",
       "                                                  ⎢              ⎥            \n",
       "                                                  ⎢        -S    ⎥            \n",
       "                                                  ⎢0   0   ───  0⎥            \n",
       "                                                  ⎢        2⋅R   ⎥            \n",
       "                                                  ⎢              ⎥            \n",
       "                                                  ⎢    S         ⎥            \n",
       "                                                  ⎢0  ───   0   0⎥            \n",
       "                                                  ⎢   2⋅R        ⎥            \n",
       "                                                  ⎢              ⎥            \n",
       "                                                  ⎣0   0    0   0⎦            \n",
       "                                                                              \n",
       "                                                                              \n",
       "                                                                              \n",
       "                                                                              \n",
       "                                                                              \n",
       "                                                                              \n",
       "                                                                              \n",
       "                                                                              \n",
       "                                                                             ⎡\n",
       "                                                                             ⎢\n",
       "                                                    ⎡0  0  0  0⎤             ⎢\n",
       "                                                    ⎢          ⎥             ⎢\n",
       "                                                    ⎢0  0  0  0⎥             ⎢\n",
       "                                                    ⎢          ⎥             ⎢\n",
       "                                                    ⎢0  0  0  0⎥             ⎢\n",
       "                                                    ⎢          ⎥             ⎢\n",
       "                                                    ⎣0  0  0  0⎦             ⎢\n",
       "                                                                             ⎢\n",
       "                                                                             ⎣\n",
       "                                                                              \n",
       "                                                                              \n",
       "                                                                              \n",
       "                                                                              \n",
       "                                                                              \n",
       "                                                                              \n",
       "                                                                              \n",
       "                                                   ⎡0  0  0   0 ⎤             \n",
       "                                                   ⎢            ⎥             \n",
       "                                                   ⎢0  0  0   0 ⎥             \n",
       "                                                   ⎢            ⎥             \n",
       "                                                   ⎢         -S ⎥             \n",
       "                                                   ⎢0  0  0  ───⎥             \n",
       "                                                   ⎢          R ⎥             \n",
       "                                                   ⎢            ⎥             \n",
       "                                                   ⎢      S     ⎥             \n",
       "                                                   ⎢0  0  ─   0 ⎥             \n",
       "                                                   ⎣      R     ⎦             \n",
       "                                                                              \n",
       "                                                                              \n",
       "                                                                              \n",
       "\n",
       "       ⎡                             ⎛    S⎞    2   ⎤        ⎤\n",
       "       ⎢                           S⋅⎜1 - ─⎟⋅sin (θ)⎥        ⎥\n",
       "       ⎢                             ⎝    R⎠        ⎥        ⎥\n",
       "       ⎢         0           0  0  ─────────────────⎥        ⎥\n",
       "       ⎢                                  ⎛     S⎞  ⎥        ⎥\n",
       "       ⎢                              2⋅R⋅⎜-1 + ─⎟  ⎥        ⎥\n",
       "       ⎢                                  ⎝     R⎠  ⎥        ⎥\n",
       "       ⎢                                            ⎥        ⎥\n",
       "       ⎢         0           0  0          0        ⎥        ⎥\n",
       "       ⎢                                            ⎥        ⎥\n",
       "       ⎢         0           0  0          0        ⎥        ⎥\n",
       "       ⎢                                            ⎥        ⎥\n",
       "       ⎢   ⎛    S⎞    2                             ⎥        ⎥\n",
       "       ⎢-S⋅⎜1 - ─⎟⋅sin (θ)                          ⎥        ⎥\n",
       "       ⎢   ⎝    R⎠                                  ⎥        ⎥\n",
       "       ⎢───────────────────  0  0          0        ⎥        ⎥\n",
       "       ⎢        ⎛     S⎞                            ⎥        ⎥\n",
       "       ⎢    2⋅R⋅⎜-1 + ─⎟                            ⎥        ⎥\n",
       "       ⎣        ⎝     R⎠                            ⎦        ⎥\n",
       "                                                             ⎥\n",
       "                                                             ⎥\n",
       "                                                             ⎥\n",
       "                                                             ⎥\n",
       "               ⎡0      0      0       0     ⎤                ⎥\n",
       "               ⎢                            ⎥                ⎥\n",
       "               ⎢                       2    ⎥                ⎥\n",
       "               ⎢                 -S⋅sin (θ) ⎥                ⎥\n",
       "               ⎢0      0      0  ───────────⎥                ⎥\n",
       "               ⎢                     2⋅R    ⎥                ⎥\n",
       "               ⎢                            ⎥                ⎥\n",
       "               ⎢0      0      0       0     ⎥                ⎥\n",
       "               ⎢                            ⎥                ⎥\n",
       "               ⎢        2                   ⎥                ⎥\n",
       "               ⎢   S⋅sin (θ)                ⎥                ⎥\n",
       "               ⎢0  ─────────  0       0     ⎥                ⎥\n",
       "               ⎣      2⋅R                   ⎦                ⎥\n",
       "                                                             ⎥\n",
       "                                                             ⎥\n",
       "                                                             ⎥\n",
       "                                                             ⎥\n",
       "                                                             ⎥\n",
       "                                                             ⎥\n",
       "                                                             ⎥\n",
       "0  0              0                           0             ⎤⎥\n",
       "                                                            ⎥⎥\n",
       "0  0              0                           0             ⎥⎥\n",
       "                                                            ⎥⎥\n",
       "                                   ⎛    S⎞    2         2   ⎥⎥\n",
       "0  0              0              - ⎜1 - ─⎟⋅sin (θ) + sin (θ)⎥⎥\n",
       "                                   ⎝    R⎠                  ⎥⎥\n",
       "                                                            ⎥⎥\n",
       "      ⎛    S⎞    2         2                                ⎥⎥\n",
       "0  0  ⎜1 - ─⎟⋅sin (θ) - sin (θ)               0             ⎥⎥\n",
       "      ⎝    R⎠                                               ⎦⎥\n",
       "                                                             ⎥\n",
       "                                                             ⎥\n",
       "                                                             ⎥\n",
       "                                                             ⎥\n",
       "                                                             ⎥\n",
       "                                                             ⎥\n",
       "                                                             ⎥\n",
       "                                                             ⎥\n",
       "                                                             ⎥\n",
       "                        ⎡0  0  0  0⎤                         ⎥\n",
       "                        ⎢          ⎥                         ⎥\n",
       "                        ⎢0  0  0  0⎥                         ⎥\n",
       "                        ⎢          ⎥                         ⎥\n",
       "                        ⎢0  0  0  0⎥                         ⎥\n",
       "                        ⎢          ⎥                         ⎥\n",
       "                        ⎣0  0  0  0⎦                         ⎥\n",
       "                                                             ⎥\n",
       "                                                             ⎥\n",
       "                                                             ⎥\n",
       "                                                             ⎥\n",
       "                                                             ⎦"
      ]
     },
     "metadata": {},
     "output_type": "display_data"
    },
    {
     "data": {
      "text/plain": [
       "'(0, 1)'"
      ]
     },
     "metadata": {},
     "output_type": "display_data"
    },
    {
     "data": {
      "text/latex": [
       "$\\displaystyle \\left[\\begin{matrix}0 & 0 & 0 & 0\\\\0 & 0 & 0 & 0\\\\0 & 0 & 0 & 0\\\\0 & 0 & 0 & 0\\end{matrix}\\right]$"
      ],
      "text/plain": [
       "⎡0  0  0  0⎤\n",
       "⎢          ⎥\n",
       "⎢0  0  0  0⎥\n",
       "⎢          ⎥\n",
       "⎢0  0  0  0⎥\n",
       "⎢          ⎥\n",
       "⎣0  0  0  0⎦"
      ]
     },
     "metadata": {},
     "output_type": "display_data"
    },
    {
     "data": {
      "text/plain": [
       "'(0, 2)'"
      ]
     },
     "metadata": {},
     "output_type": "display_data"
    },
    {
     "data": {
      "text/latex": [
       "$\\displaystyle \\left[\\begin{matrix}\\frac{S^{2}}{4 R^{4}} + \\frac{S^{2} \\cdot \\left(1 - \\frac{S}{R}\\right)}{4 R^{4} \\left(-1 + \\frac{S}{R}\\right)} & 0 & 0 & 0\\\\0 & - \\frac{S}{R^{3} \\cdot \\left(1 - \\frac{S}{R}\\right)} - \\frac{S}{R^{3} \\left(-1 + \\frac{S}{R}\\right)} + \\frac{S^{2}}{4 R^{4} \\left(-1 + \\frac{S}{R}\\right) \\left(1 - \\frac{S}{R}\\right)} + \\frac{S^{2}}{4 R^{4} \\left(-1 + \\frac{S}{R}\\right)^{2}} & 0 & 0\\\\0 & 0 & \\frac{S}{2 R} + \\frac{S \\left(1 - \\frac{S}{R}\\right)}{2 R \\left(-1 + \\frac{S}{R}\\right)} & 0\\\\0 & 0 & 0 & - \\left(1 - \\frac{S}{R}\\right) \\sin^{2}{\\left(\\theta \\right)} + \\sin^{2}{\\left(\\theta \\right)} - \\frac{S \\sin^{2}{\\left(\\theta \\right)}}{2 R} + \\frac{S \\left(1 - \\frac{S}{R}\\right) \\sin^{2}{\\left(\\theta \\right)}}{2 R \\left(-1 + \\frac{S}{R}\\right)}\\end{matrix}\\right]$"
      ],
      "text/plain": [
       "⎡          2 ⎛    S⎞                                                          \n",
       "⎢  2      S ⋅⎜1 - ─⎟                                                          \n",
       "⎢ S          ⎝    R⎠                                                          \n",
       "⎢──── + ─────────────                                   0                     \n",
       "⎢   4      4 ⎛     S⎞                                                         \n",
       "⎢4⋅R    4⋅R ⋅⎜-1 + ─⎟                                                         \n",
       "⎢            ⎝     R⎠                                                         \n",
       "⎢                                                                             \n",
       "⎢                                                              2              \n",
       "⎢                            S             S                  S               \n",
       "⎢         0            - ────────── - ─────────── + ───────────────────── + ──\n",
       "⎢                         3 ⎛    S⎞    3 ⎛     S⎞      4 ⎛     S⎞ ⎛    S⎞     \n",
       "⎢                        R ⋅⎜1 - ─⎟   R ⋅⎜-1 + ─⎟   4⋅R ⋅⎜-1 + ─⎟⋅⎜1 - ─⎟     \n",
       "⎢                           ⎝    R⎠      ⎝     R⎠        ⎝     R⎠ ⎝    R⎠   4⋅\n",
       "⎢                                                                             \n",
       "⎢                                                                             \n",
       "⎢                                                                             \n",
       "⎢                                                                             \n",
       "⎢                                                                             \n",
       "⎢         0                                             0                     \n",
       "⎢                                                                             \n",
       "⎢                                                                             \n",
       "⎢                                                                             \n",
       "⎢                                                                             \n",
       "⎢                                                                             \n",
       "⎢                                                                             \n",
       "⎢                                                                             \n",
       "⎢         0                                             0                     \n",
       "⎢                                                                             \n",
       "⎢                                                                             \n",
       "⎣                                                                             \n",
       "\n",
       "                                                                              \n",
       "                                                                              \n",
       "                                                                              \n",
       "                      0                                        0              \n",
       "                                                                              \n",
       "                                                                              \n",
       "                                                                              \n",
       "                                                                              \n",
       "     2                                                                        \n",
       "    S                                                                         \n",
       "────────────          0                                        0              \n",
       "           2                                                                  \n",
       " 4 ⎛     S⎞                                                                   \n",
       "R ⋅⎜-1 + ─⎟                                                                   \n",
       "   ⎝     R⎠                                                                   \n",
       "                                                                              \n",
       "                       ⎛    S⎞                                                \n",
       "                     S⋅⎜1 - ─⎟                                                \n",
       "               S       ⎝    R⎠                                                \n",
       "              ─── + ────────────                               0              \n",
       "              2⋅R       ⎛     S⎞                                              \n",
       "                    2⋅R⋅⎜-1 + ─⎟                                              \n",
       "                        ⎝     R⎠                                              \n",
       "                                                                              \n",
       "                                                                              \n",
       "                                                                     2      S⋅\n",
       "                                    ⎛    S⎞    2         2      S⋅sin (θ)     \n",
       "                      0           - ⎜1 - ─⎟⋅sin (θ) + sin (θ) - ───────── + ──\n",
       "                                    ⎝    R⎠                        2⋅R        \n",
       "                                                                              \n",
       "                                                                              \n",
       "\n",
       "               ⎤\n",
       "               ⎥\n",
       "               ⎥\n",
       "               ⎥\n",
       "               ⎥\n",
       "               ⎥\n",
       "               ⎥\n",
       "               ⎥\n",
       "               ⎥\n",
       "               ⎥\n",
       "               ⎥\n",
       "               ⎥\n",
       "               ⎥\n",
       "               ⎥\n",
       "               ⎥\n",
       "               ⎥\n",
       "               ⎥\n",
       "               ⎥\n",
       "               ⎥\n",
       "               ⎥\n",
       "               ⎥\n",
       "               ⎥\n",
       "               ⎥\n",
       "               ⎥\n",
       "⎛    S⎞    2   ⎥\n",
       "⎜1 - ─⎟⋅sin (θ)⎥\n",
       "⎝    R⎠        ⎥\n",
       "───────────────⎥\n",
       "     ⎛     S⎞  ⎥\n",
       " 2⋅R⋅⎜-1 + ─⎟  ⎥\n",
       "     ⎝     R⎠  ⎦"
      ]
     },
     "metadata": {},
     "output_type": "display_data"
    },
    {
     "data": {
      "text/plain": [
       "'(0, 3)'"
      ]
     },
     "metadata": {},
     "output_type": "display_data"
    },
    {
     "data": {
      "text/latex": [
       "$\\displaystyle \\left[\\begin{matrix}- \\frac{S^{2}}{4 R^{4}} - \\frac{S^{2} \\cdot \\left(1 - \\frac{S}{R}\\right)}{4 R^{4} \\left(-1 + \\frac{S}{R}\\right)} & 0 & 0 & 0\\\\0 & \\frac{S}{R^{3} \\cdot \\left(1 - \\frac{S}{R}\\right)} + \\frac{S}{R^{3} \\left(-1 + \\frac{S}{R}\\right)} - \\frac{S^{2}}{4 R^{4} \\left(-1 + \\frac{S}{R}\\right) \\left(1 - \\frac{S}{R}\\right)} - \\frac{S^{2}}{4 R^{4} \\left(-1 + \\frac{S}{R}\\right)^{2}} & 0 & 0\\\\0 & 0 & - \\frac{S}{2 R} - \\frac{S \\left(1 - \\frac{S}{R}\\right)}{2 R \\left(-1 + \\frac{S}{R}\\right)} & 0\\\\0 & 0 & 0 & \\left(1 - \\frac{S}{R}\\right) \\sin^{2}{\\left(\\theta \\right)} - \\sin^{2}{\\left(\\theta \\right)} + \\frac{S \\sin^{2}{\\left(\\theta \\right)}}{2 R} - \\frac{S \\left(1 - \\frac{S}{R}\\right) \\sin^{2}{\\left(\\theta \\right)}}{2 R \\left(-1 + \\frac{S}{R}\\right)}\\end{matrix}\\right]$"
      ],
      "text/plain": [
       "⎡            2 ⎛    S⎞                                                        \n",
       "⎢    2      S ⋅⎜1 - ─⎟                                                        \n",
       "⎢   S          ⎝    R⎠                                                        \n",
       "⎢- ──── - ─────────────                                  0                    \n",
       "⎢     4      4 ⎛     S⎞                                                       \n",
       "⎢  4⋅R    4⋅R ⋅⎜-1 + ─⎟                                                       \n",
       "⎢              ⎝     R⎠                                                       \n",
       "⎢                                                                             \n",
       "⎢                                                              2              \n",
       "⎢                            S             S                  S               \n",
       "⎢          0             ────────── + ─────────── - ───────────────────── - ──\n",
       "⎢                         3 ⎛    S⎞    3 ⎛     S⎞      4 ⎛     S⎞ ⎛    S⎞     \n",
       "⎢                        R ⋅⎜1 - ─⎟   R ⋅⎜-1 + ─⎟   4⋅R ⋅⎜-1 + ─⎟⋅⎜1 - ─⎟     \n",
       "⎢                           ⎝    R⎠      ⎝     R⎠        ⎝     R⎠ ⎝    R⎠   4⋅\n",
       "⎢                                                                             \n",
       "⎢                                                                             \n",
       "⎢                                                                             \n",
       "⎢                                                                             \n",
       "⎢                                                                             \n",
       "⎢          0                                             0                    \n",
       "⎢                                                                             \n",
       "⎢                                                                             \n",
       "⎢                                                                             \n",
       "⎢                                                                             \n",
       "⎢                                                                             \n",
       "⎢                                                                             \n",
       "⎢                                                                             \n",
       "⎢          0                                             0                    \n",
       "⎢                                                                             \n",
       "⎢                                                                             \n",
       "⎣                                                                             \n",
       "\n",
       "                                                                              \n",
       "                                                                              \n",
       "                                                                              \n",
       "                       0                                        0             \n",
       "                                                                              \n",
       "                                                                              \n",
       "                                                                              \n",
       "                                                                              \n",
       "     2                                                                        \n",
       "    S                                                                         \n",
       "────────────           0                                        0             \n",
       "           2                                                                  \n",
       " 4 ⎛     S⎞                                                                   \n",
       "R ⋅⎜-1 + ─⎟                                                                   \n",
       "   ⎝     R⎠                                                                   \n",
       "                                                                              \n",
       "                         ⎛    S⎞                                              \n",
       "                       S⋅⎜1 - ─⎟                                              \n",
       "                 S       ⎝    R⎠                                              \n",
       "              - ─── - ────────────                              0             \n",
       "                2⋅R       ⎛     S⎞                                            \n",
       "                      2⋅R⋅⎜-1 + ─⎟                                            \n",
       "                          ⎝     R⎠                                            \n",
       "                                                                              \n",
       "                                                                              \n",
       "                                                                     2      S⋅\n",
       "                                    ⎛    S⎞    2         2      S⋅sin (θ)     \n",
       "                       0            ⎜1 - ─⎟⋅sin (θ) - sin (θ) + ───────── - ──\n",
       "                                    ⎝    R⎠                        2⋅R        \n",
       "                                                                              \n",
       "                                                                              \n",
       "\n",
       "               ⎤\n",
       "               ⎥\n",
       "               ⎥\n",
       "               ⎥\n",
       "               ⎥\n",
       "               ⎥\n",
       "               ⎥\n",
       "               ⎥\n",
       "               ⎥\n",
       "               ⎥\n",
       "               ⎥\n",
       "               ⎥\n",
       "               ⎥\n",
       "               ⎥\n",
       "               ⎥\n",
       "               ⎥\n",
       "               ⎥\n",
       "               ⎥\n",
       "               ⎥\n",
       "               ⎥\n",
       "               ⎥\n",
       "               ⎥\n",
       "               ⎥\n",
       "               ⎥\n",
       "⎛    S⎞    2   ⎥\n",
       "⎜1 - ─⎟⋅sin (θ)⎥\n",
       "⎝    R⎠        ⎥\n",
       "───────────────⎥\n",
       "     ⎛     S⎞  ⎥\n",
       " 2⋅R⋅⎜-1 + ─⎟  ⎥\n",
       "     ⎝     R⎠  ⎦"
      ]
     },
     "metadata": {},
     "output_type": "display_data"
    },
    {
     "data": {
      "text/plain": [
       "'Ricci tensor: '"
      ]
     },
     "metadata": {},
     "output_type": "display_data"
    },
    {
     "data": {
      "text/latex": [
       "$\\displaystyle \\left[\\begin{matrix}0 & 0 & 0 & 0\\\\0 & 0 & 0 & 0\\\\0 & 0 & 0 & 0\\\\0 & 0 & 0 & 0\\end{matrix}\\right]$"
      ],
      "text/plain": [
       "⎡0  0  0  0⎤\n",
       "⎢          ⎥\n",
       "⎢0  0  0  0⎥\n",
       "⎢          ⎥\n",
       "⎢0  0  0  0⎥\n",
       "⎢          ⎥\n",
       "⎣0  0  0  0⎦"
      ]
     },
     "metadata": {},
     "output_type": "display_data"
    },
    {
     "data": {
      "text/plain": [
       "'Ricci scalar: '"
      ]
     },
     "metadata": {},
     "output_type": "display_data"
    },
    {
     "data": {
      "image/png": "[encoded data removed]",
      "text/latex": [
       "$\\displaystyle 0$"
      ],
      "text/plain": [
       "0"
      ]
     },
     "metadata": {},
     "output_type": "display_data"
    },
    {
     "data": {
      "text/plain": [
       "'G: '"
      ]
     },
     "metadata": {},
     "output_type": "display_data"
    },
    {
     "data": {
      "text/latex": [
       "$\\displaystyle \\left[\\begin{matrix}0 & 0 & 0 & 0\\\\0 & 0 & 0 & 0\\\\0 & 0 & 0 & 0\\\\0 & 0 & 0 & 0\\end{matrix}\\right]$"
      ],
      "text/plain": [
       "⎡0  0  0  0⎤\n",
       "⎢          ⎥\n",
       "⎢0  0  0  0⎥\n",
       "⎢          ⎥\n",
       "⎢0  0  0  0⎥\n",
       "⎢          ⎥\n",
       "⎣0  0  0  0⎦"
      ]
     },
     "metadata": {},
     "output_type": "display_data"
    }
   ],
   "source": [
    "geom=Geometry('4-schwartzwald')\n",
    "geom.metric()\n",
    "r_exp, r_result = geom.riemann_curvature()\n",
    "display ('Riemann curvature expression:', r_exp)\n",
    "display ('Riemann curvature result:', r_result)\n",
    "for i2 in [1,2,3]:\n",
    "    display(f'({0}, {i2})', tensorcontraction(r_result, (0, i2)))\n",
    "ricci_tensor = tensorcontraction(r_result, (0, 1))\n",
    "ricci_scalar = tensorcontraction(ricci_tensor, (0, 1))\n",
    "display('Ricci tensor: ', ricci_tensor)\n",
    "display('Ricci scalar: ', ricci_scalar)\n",
    "\n",
    "G = ricci_tensor - ImmutableDenseNDimArray(geom.metric()) * ricci_scalar / 2\n",
    "display(\"G: \", G)"
   ]
  },
  {
   "cell_type": "code",
   "execution_count": null,
   "id": "c1ac1dac-2c72-445e-bd57-7398d6535a51",
   "metadata": {},
   "outputs": [],
   "source": []
  }
 ],
 "metadata": {
  "kernelspec": {
   "display_name": "Python 3 (ipykernel)",
   "language": "python",
   "name": "python3"
  },
  "language_info": {
   "codemirror_mode": {
    "name": "ipython",
    "version": 3
   },
   "file_extension": ".py",
   "mimetype": "text/x-python",
   "name": "python",
   "nbconvert_exporter": "python",
   "pygments_lexer": "ipython3",
   "version": "3.9.19"
  }
 },
 "nbformat": 4,
 "nbformat_minor": 5
}
