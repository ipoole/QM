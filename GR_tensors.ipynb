{
 "cells": [
  {
   "cell_type": "markdown",
   "id": "5d460c98-602a-47b1-bd5c-916e3814234d",
   "metadata": {},
   "source": [
    "# Learning tensors for General Relativity"
   ]
  },
  {
   "cell_type": "code",
   "execution_count": 1,
   "id": "5a67b317-8d46-4df1-910e-d11b8b6db1a1",
   "metadata": {},
   "outputs": [
    {
     "name": "stdout",
     "output_type": "stream",
     "text": [
      "3.9.19 (main, May  6 2024, 19:43:03) \n",
      "[GCC 11.2.0]\n"
     ]
    }
   ],
   "source": [
    "\n",
    "from sympy import *\n",
    "from sympy.tensor.tensor import TensorIndexType, TensorIndex, TensorHead, tensor_indices, tensor_heads\n",
    "from sympy.tensor.toperators import PartialDerivative\n",
    "init_printing()\n",
    "import sys\n",
    "print(sys.version)"
   ]
  },
  {
   "cell_type": "markdown",
   "id": "0454f8c1-d71d-41e0-9164-78b57819fb48",
   "metadata": {},
   "source": [
    "## Christoffel symbols for 2D sphere"
   ]
  },
  {
   "cell_type": "code",
   "execution_count": 2,
   "id": "a8d49ebc-1008-409a-9d0e-bb9aff149dc7",
   "metadata": {},
   "outputs": [],
   "source": [
    "theta, phi, R = symbols('theta phi rho')\n",
    "X = [theta, phi]   # coordinate system\n",
    "L = TensorIndexType('L', dummy_name='L')\n",
    "m, n, r, t, q  = tensor_indices('m n r t q', L)\n",
    "g = tensor_heads('g', [L, L])"
   ]
  },
  {
   "cell_type": "markdown",
   "id": "21a75f0a-94f3-4409-a827-9f4380fb53c7",
   "metadata": {},
   "source": [
    "### Define the metric"
   ]
  },
  {
   "cell_type": "code",
   "execution_count": 3,
   "id": "bd85de17-5724-4cc5-8331-6e47c5dbdb58",
   "metadata": {},
   "outputs": [
    {
     "data": {
      "image/png": "[encoded data removed]",
      "text/latex": [
       "$\\displaystyle g{}^{mn}$"
      ],
      "text/plain": [
       " mn\n",
       "g  \n",
       "   "
      ]
     },
     "metadata": {},
     "output_type": "display_data"
    },
    {
     "data": {
      "text/plain": [
       "'2-sphere'"
      ]
     },
     "metadata": {},
     "output_type": "display_data"
    },
    {
     "data": {
      "image/png": "[encoded data removed]",
      "text/latex": [
       "$\\displaystyle \\left[ \\left[ 1, \\  0\\right], \\  \\left[ 0, \\  \\sin^{2}{\\left(\\theta \\right)}\\right]\\right]$"
      ],
      "text/plain": [
       "⎡        ⎡      2   ⎤⎤\n",
       "⎣[1, 0], ⎣0, sin (θ)⎦⎦"
      ]
     },
     "metadata": {},
     "output_type": "display_data"
    },
    {
     "data": {
      "text/plain": [
       "'polar_plane'"
      ]
     },
     "metadata": {},
     "output_type": "display_data"
    },
    {
     "data": {
      "image/png": "[encoded data removed]",
      "text/latex": [
       "$\\displaystyle \\left[ \\left[ 1, \\  0\\right], \\  \\left[ 0, \\  \\rho^{2}\\right]\\right]$"
      ],
      "text/plain": [
       "⎡        ⎡    2⎤⎤\n",
       "⎣[1, 0], ⎣0, ρ ⎦⎦"
      ]
     },
     "metadata": {},
     "output_type": "display_data"
    },
    {
     "data": {
      "text/plain": [
       "'3-sphere'"
      ]
     },
     "metadata": {},
     "output_type": "display_data"
    },
    {
     "data": {
      "image/png": "[encoded data removed]",
      "text/latex": [
       "$\\displaystyle \\left[ \\left[ 1, \\  0, \\  0\\right], \\  \\left[ 0, \\  \\rho^{2}, \\  0\\right], \\  \\left[ 0, \\  0, \\  \\rho^{2} \\sin{\\left(\\theta \\right)}\\right]\\right]$"
      ],
      "text/plain": [
       "⎡           ⎡    2   ⎤  ⎡       2       ⎤⎤\n",
       "⎣[1, 0, 0], ⎣0, ρ , 0⎦, ⎣0, 0, ρ ⋅sin(θ)⎦⎦"
      ]
     },
     "metadata": {},
     "output_type": "display_data"
    }
   ],
   "source": [
    "def metric_tensor(which):\n",
    "    cases = {\n",
    "        '2-sphere': [[1,0],[0,sin(theta)**2]],\n",
    "        'polar_plane': [[1, 0],[0, R**2]],\n",
    "        '3-sphere': [[1,0,0], [0, R**2, 0], [0,0,R**2 * sin(theta)]]\n",
    "    }\n",
    "    return cases[which]\n",
    "    \n",
    "def test_metric_tensor():\n",
    "    display(g(m,n))\n",
    "\n",
    "    for which in '2-sphere', 'polar_plane', '3-sphere':\n",
    "        display (which, metric_tensor(which))\n",
    "   \n",
    "test_metric_tensor()"
   ]
  },
  {
   "cell_type": "markdown",
   "id": "36658030-eb57-448d-bf5c-694a340eb3f4",
   "metadata": {},
   "source": [
    "### Define a \"tensor\" (not a true tensor) for the Christoffel symbols"
   ]
  },
  {
   "cell_type": "code",
   "execution_count": 4,
   "id": "24e18f65-455a-4152-8bed-32f0020d3498",
   "metadata": {},
   "outputs": [
    {
     "data": {
      "image/png": "[encoded data removed]",
      "text/latex": [
       "$\\displaystyle \\left(\\frac{1}{2}\\right)g{}^{L_{0}t}\\left(\\frac{\\partial}{\\partial {_{}^{m}}}{g{}_{L_{0}n}} + \\frac{\\partial}{\\partial {_{}^{n}}}{g{}_{L_{0}m}} + \\left(-1\\right)\\frac{\\partial}{\\partial {_{}^{L_{0}}}}{g{}_{mn}}\\right)$"
      ],
      "text/plain": [
       "     L₀t ⎛ ∂ ⎛    ⎞    ∂ ⎛    ⎞         ∂  ⎛   ⎞⎞\n",
       "1/2⋅g   ⋅⎜───⎜g   ⎟ + ───⎜g   ⎟ + (-1)⋅────⎜g  ⎟⎟\n",
       "         ⎜  n⎝ L₀m⎠     m⎝ L₀n⎠          L₀⎝ mn⎠⎟\n",
       "         ⎜∂_          ∂_               ∂_       ⎟\n",
       "         ⎝                                      ⎠"
      ]
     },
     "metadata": {},
     "output_type": "display_data"
    },
    {
     "data": {
      "image/png": "[encoded data removed]",
      "text/latex": [
       "$\\displaystyle \\Gamma{}_{mn}{}^{t}$"
      ],
      "text/plain": [
       "       t\n",
       "Gamma   \n",
       "     mn "
      ]
     },
     "metadata": {},
     "output_type": "display_data"
    },
    {
     "data": {
      "text/latex": [
       "$\\displaystyle \\left[\\begin{matrix}\\left[\\begin{matrix}0 & 0\\\\0 & - \\sin{\\left(\\theta \\right)} \\cos{\\left(\\theta \\right)}\\end{matrix}\\right] & \\left[\\begin{matrix}0 & \\frac{\\cos{\\left(\\theta \\right)}}{\\sin{\\left(\\theta \\right)}}\\\\\\frac{\\cos{\\left(\\theta \\right)}}{\\sin{\\left(\\theta \\right)}} & 0\\end{matrix}\\right]\\end{matrix}\\right]$"
      ],
      "text/plain": [
       "⎡                     ⎡        cos(θ)⎤⎤\n",
       "⎢                     ⎢  0     ──────⎥⎥\n",
       "⎢⎡0        0       ⎤  ⎢        sin(θ)⎥⎥\n",
       "⎢⎢                 ⎥  ⎢              ⎥⎥\n",
       "⎢⎣0  -sin(θ)⋅cos(θ)⎦  ⎢cos(θ)        ⎥⎥\n",
       "⎢                     ⎢──────    0   ⎥⎥\n",
       "⎣                     ⎣sin(θ)        ⎦⎦"
      ]
     },
     "metadata": {},
     "output_type": "display_data"
    }
   ],
   "source": [
    "def christoffel2(metric):\n",
    "    x = tensor_heads('_', [L])\n",
    "    x_repl = {x(q): X}\n",
    "    metric_repl = {L: metric, g(-m,-n):metric}\n",
    "\n",
    "    christoffel_exp = g(r,t) / 2 * (PartialDerivative(g(-r, -m), x(n)) + PartialDerivative(g(-r, -n), x(m)) - PartialDerivative(g(-m, -n), x(r)))\n",
    "    gamma = tensor_heads('Gamma', [L, L, L])\n",
    "    gamma_repl = {gamma(-m, -n, t):christoffel_exp.replace_with_arrays(x_repl | metric_repl)}\n",
    "    gamma_result = gamma(-m, -n, t).replace_with_arrays(gamma_repl)\n",
    "    return christoffel_exp, gamma, gamma_result\n",
    "\n",
    "def test_christoffel2():\n",
    "    metric = metric_tensor('2-sphere')\n",
    "    expression, gamma, result = christoffel2(metric)\n",
    "    display(expression, gamma(-m, -n, t), result)\n",
    "\n",
    "test_christoffel2()\n",
    "    "
   ]
  },
  {
   "cell_type": "markdown",
   "id": "0742286f-8cba-43db-84c6-b7766759a09b",
   "metadata": {},
   "source": [
    "## Riemann Curvature Tensor $R$"
   ]
  },
  {
   "cell_type": "code",
   "execution_count": 5,
   "id": "dd17c5b5-d4dd-4c41-b4ff-9eab1e824ff4",
   "metadata": {},
   "outputs": [
    {
     "data": {
      "image/png": "[encoded data removed]",
      "text/latex": [
       "$\\displaystyle \\left[ \\left[ \\left[ 0, \\  0\\right], \\  \\left[ 0, \\  - \\sin{\\left(\\theta \\right)} \\cos{\\left(\\theta \\right)}\\right]\\right], \\  \\left[ \\left[ 0, \\  \\frac{\\cos{\\left(\\theta \\right)}}{\\sin{\\left(\\theta \\right)}}\\right], \\  \\left[ \\frac{\\cos{\\left(\\theta \\right)}}{\\sin{\\left(\\theta \\right)}}, \\  0\\right]\\right]\\right]$"
      ],
      "text/plain": [
       "⎡                               ⎡⎡   cos(θ)⎤  ⎡cos(θ)   ⎤⎤⎤\n",
       "⎢[[0, 0], [0, -sin(θ)⋅cos(θ)]], ⎢⎢0, ──────⎥, ⎢──────, 0⎥⎥⎥\n",
       "⎣                               ⎣⎣   sin(θ)⎦  ⎣sin(θ)   ⎦⎦⎦"
      ]
     },
     "metadata": {},
     "output_type": "display_data"
    },
    {
     "data": {
      "image/png": "[encoded data removed]",
      "text/latex": [
       "$\\displaystyle -\\Gamma{}^{i}{}_{L_{0}m}\\Gamma{}^{L_{0}}{}_{jk} - \\frac{\\partial}{\\partial {x{}^{m}}}{\\Gamma{}^{i}{}_{jk}} + \\Gamma{}^{i}{}_{L_{0}k}\\Gamma{}^{L_{0}}{}_{jm} + \\frac{\\partial}{\\partial {x{}^{k}}}{\\Gamma{}^{i}{}_{jm}}$"
      ],
      "text/plain": [
       " ∂ ⎛     i  ⎞     ∂ ⎛     i  ⎞        i         L₀           i         L₀  \n",
       "───⎜Gamma   ⎟ + -───⎜Gamma   ⎟ + Gamma    ⋅Gamma     + -Gamma    ⋅Gamma    \n",
       "  k⎝      jm⎠      m⎝      jk⎠         L₀k        jm          L₀m        jk\n",
       "∂x               ∂x                                                        \n",
       "                                                                           "
      ]
     },
     "metadata": {},
     "output_type": "display_data"
    },
    {
     "data": {
      "image/png": "[encoded data removed]",
      "text/latex": [
       "$\\displaystyle R{}_{jkm}{}^{i}$"
      ],
      "text/plain": [
       "    i\n",
       "R    \n",
       " jkm "
      ]
     },
     "metadata": {},
     "output_type": "display_data"
    },
    {
     "data": {
      "text/latex": [
       "$\\displaystyle \\left[\\begin{matrix}\\left[\\begin{matrix}0 & 0\\\\0 & 0\\end{matrix}\\right] & \\left[\\begin{matrix}0 & \\sin^{2}{\\left(\\theta \\right)}\\\\- \\sin^{2}{\\left(\\theta \\right)} & 0\\end{matrix}\\right]\\\\\\left[\\begin{matrix}0 & -1\\\\1 & 0\\end{matrix}\\right] & \\left[\\begin{matrix}0 & 0\\\\0 & 0\\end{matrix}\\right]\\end{matrix}\\right]$"
      ],
      "text/plain": [
       "⎡         ⎡             2   ⎤⎤\n",
       "⎢⎡0  0⎤   ⎢   0      sin (θ)⎥⎥\n",
       "⎢⎢    ⎥   ⎢                 ⎥⎥\n",
       "⎢⎣0  0⎦   ⎢    2            ⎥⎥\n",
       "⎢         ⎣-sin (θ)     0   ⎦⎥\n",
       "⎢                            ⎥\n",
       "⎢⎡0  -1⎤        ⎡0  0⎤       ⎥\n",
       "⎢⎢     ⎥        ⎢    ⎥       ⎥\n",
       "⎣⎣1  0 ⎦        ⎣0  0⎦       ⎦"
      ]
     },
     "metadata": {},
     "output_type": "display_data"
    },
    {
     "name": "stdout",
     "output_type": "stream",
     "text": [
      "R[0101] = sin(theta)**2\n",
      "R[0110] = -sin(theta)**2\n",
      "R[1010] = 1\n",
      "R[1001] = -1\n"
     ]
    }
   ],
   "source": [
    "def riemann_curvature(gamma, gamma_result):\n",
    "\n",
    "    i, j, k  = tensor_indices('i j k', L)\n",
    "    x = tensor_heads('x', [L])\n",
    "    x_repl = {x(q): X}\n",
    "    R_exp = (\n",
    "        PartialDerivative(gamma(i, -j, -m), x(k)) - \n",
    "        PartialDerivative(gamma(i, -j, -k), x(m)) + \n",
    "        gamma(i, -r, -k) * gamma(r, -j, -m) - \n",
    "        gamma(i, -r, -m) * gamma(r, -j, -k))\n",
    "    \n",
    "    R = tensor_heads('R', [L, L, L, L])\n",
    "    gamma_repl = {gamma(i, -j, -m) : gamma_result}\n",
    "    R_repl = {R(i, -k, -m, -j): R_exp.replace_with_arrays(x_repl | gamma_repl)}  # swapping final two indices, seems necessary\n",
    "    result = R(i, -k, -j, -m).replace_with_arrays(R_repl)\n",
    "\n",
    "    return R_exp, R, result\n",
    "\n",
    "def show_one(T, Ta, ixstr):\n",
    "    ixs = [int(c) for c in ixstr]\n",
    "    print(f'{T}[{ixstr}] = {Ta[ixs]}')\n",
    "    \n",
    "def test_riemann_curvature():\n",
    "    gamma = tensor_heads('Gamma', [L, L, L])\n",
    "    gamma_result = [[[0, 0], [0, -sin(theta)*cos(theta)]], \n",
    "                    [[0, cos(theta)/sin(theta)], [cos(theta)/sin(theta), 0]]]\n",
    "    R_exp, R, R_result = riemann_curvature(gamma, gamma_result)\n",
    "    i, j, k  = tensor_indices('i j k', L)\n",
    "    display(gamma_result)\n",
    "    display(R_exp)\n",
    "    display(R(-j, -k, -m, i))\n",
    "    display(R_result)\n",
    "\n",
    "    show_one('R', R_result, '0101')\n",
    "    show_one('R', R_result, '0110')\n",
    "    show_one('R', R_result, '1010')\n",
    "    show_one('R', R_result, '1001')\n",
    "\n",
    "test_riemann_curvature()"
   ]
  },
  {
   "cell_type": "markdown",
   "id": "eb187b6b-e0a1-43f6-ab36-d060631b1b75",
   "metadata": {},
   "source": [
    "## Main program"
   ]
  },
  {
   "cell_type": "code",
   "execution_count": 6,
   "id": "ce0ac22f-cce5-4629-adae-0954b6b9f84f",
   "metadata": {},
   "outputs": [
    {
     "data": {
      "text/latex": [
       "$\\displaystyle \\left[\\begin{matrix}\\left[\\begin{matrix}0 & 0\\\\0 & - \\sin{\\left(\\theta \\right)} \\cos{\\left(\\theta \\right)}\\end{matrix}\\right] & \\left[\\begin{matrix}0 & \\frac{\\cos{\\left(\\theta \\right)}}{\\sin{\\left(\\theta \\right)}}\\\\\\frac{\\cos{\\left(\\theta \\right)}}{\\sin{\\left(\\theta \\right)}} & 0\\end{matrix}\\right]\\end{matrix}\\right]$"
      ],
      "text/plain": [
       "⎡                     ⎡        cos(θ)⎤⎤\n",
       "⎢                     ⎢  0     ──────⎥⎥\n",
       "⎢⎡0        0       ⎤  ⎢        sin(θ)⎥⎥\n",
       "⎢⎢                 ⎥  ⎢              ⎥⎥\n",
       "⎢⎣0  -sin(θ)⋅cos(θ)⎦  ⎢cos(θ)        ⎥⎥\n",
       "⎢                     ⎢──────    0   ⎥⎥\n",
       "⎣                     ⎣sin(θ)        ⎦⎦"
      ]
     },
     "metadata": {},
     "output_type": "display_data"
    },
    {
     "data": {
      "image/png": "[encoded data removed]",
      "text/latex": [
       "$\\displaystyle -\\Gamma{}^{i}{}_{L_{0}m}\\Gamma{}^{L_{0}}{}_{jk} - \\frac{\\partial}{\\partial {x{}^{m}}}{\\Gamma{}^{i}{}_{jk}} + \\Gamma{}^{i}{}_{L_{0}k}\\Gamma{}^{L_{0}}{}_{jm} + \\frac{\\partial}{\\partial {x{}^{k}}}{\\Gamma{}^{i}{}_{jm}}$"
      ],
      "text/plain": [
       " ∂ ⎛     i  ⎞     ∂ ⎛     i  ⎞        i         L₀           i         L₀  \n",
       "───⎜Gamma   ⎟ + -───⎜Gamma   ⎟ + Gamma    ⋅Gamma     + -Gamma    ⋅Gamma    \n",
       "  k⎝      jm⎠      m⎝      jk⎠         L₀k        jm          L₀m        jk\n",
       "∂x               ∂x                                                        \n",
       "                                                                           "
      ]
     },
     "metadata": {},
     "output_type": "display_data"
    },
    {
     "data": {
      "image/png": "[encoded data removed]",
      "text/latex": [
       "$\\displaystyle R{}_{jkm}{}^{i}$"
      ],
      "text/plain": [
       "    i\n",
       "R    \n",
       " jkm "
      ]
     },
     "metadata": {},
     "output_type": "display_data"
    },
    {
     "data": {
      "text/latex": [
       "$\\displaystyle \\left[\\begin{matrix}\\left[\\begin{matrix}0 & 0\\\\0 & 0\\end{matrix}\\right] & \\left[\\begin{matrix}0 & \\sin^{2}{\\left(\\theta \\right)}\\\\- \\sin^{2}{\\left(\\theta \\right)} & 0\\end{matrix}\\right]\\\\\\left[\\begin{matrix}0 & -1\\\\1 & 0\\end{matrix}\\right] & \\left[\\begin{matrix}0 & 0\\\\0 & 0\\end{matrix}\\right]\\end{matrix}\\right]$"
      ],
      "text/plain": [
       "⎡         ⎡             2   ⎤⎤\n",
       "⎢⎡0  0⎤   ⎢   0      sin (θ)⎥⎥\n",
       "⎢⎢    ⎥   ⎢                 ⎥⎥\n",
       "⎢⎣0  0⎦   ⎢    2            ⎥⎥\n",
       "⎢         ⎣-sin (θ)     0   ⎦⎥\n",
       "⎢                            ⎥\n",
       "⎢⎡0  -1⎤        ⎡0  0⎤       ⎥\n",
       "⎢⎢     ⎥        ⎢    ⎥       ⎥\n",
       "⎣⎣1  0 ⎦        ⎣0  0⎦       ⎦"
      ]
     },
     "metadata": {},
     "output_type": "display_data"
    }
   ],
   "source": [
    "metric = metric_tensor('2-sphere')\n",
    "\n",
    "expression, gamma, gamma_result = christoffel2(metric)\n",
    "\n",
    "R_exp, R, R_result = riemann_curvature(gamma, gamma_result)\n",
    "\n",
    "i, j, k, m  = tensor_indices('i j k m', L)\n",
    "display(gamma_result)\n",
    "display(R_exp)\n",
    "display(R(-j, -k, -m, i))\n",
    "display(R_result)\n"
   ]
  },
  {
   "cell_type": "code",
   "execution_count": null,
   "id": "5203d94b-931d-4352-bf94-2e6fe2abfe28",
   "metadata": {},
   "outputs": [],
   "source": []
  }
 ],
 "metadata": {
  "kernelspec": {
   "display_name": "Python 3 (ipykernel)",
   "language": "python",
   "name": "python3"
  },
  "language_info": {
   "codemirror_mode": {
    "name": "ipython",
    "version": 3
   },
   "file_extension": ".py",
   "mimetype": "text/x-python",
   "name": "python",
   "nbconvert_exporter": "python",
   "pygments_lexer": "ipython3",
   "version": "3.9.19"
  }
 },
 "nbformat": 4,
 "nbformat_minor": 5
}
