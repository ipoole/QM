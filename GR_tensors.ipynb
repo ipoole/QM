{
 "cells": [
  {
   "cell_type": "markdown",
   "id": "5d460c98-602a-47b1-bd5c-916e3814234d",
   "metadata": {},
   "source": [
    "# Learning tensors for General Relativity"
   ]
  },
  {
   "cell_type": "code",
   "execution_count": 1,
   "id": "5a67b317-8d46-4df1-910e-d11b8b6db1a1",
   "metadata": {},
   "outputs": [],
   "source": [
    "from sympy import *\n",
    "from sympy.tensor.tensor import TensorIndexType, TensorIndex, TensorHead, Tensor, tensor_indices, tensor_heads\n",
    "from sympy.tensor.toperators import PartialDerivative\n",
    "init_printing()"
   ]
  },
  {
   "cell_type": "markdown",
   "id": "0454f8c1-d71d-41e0-9164-78b57819fb48",
   "metadata": {},
   "source": [
    "## Christoffel symbols for 2D sphere"
   ]
  },
  {
   "cell_type": "code",
   "execution_count": 2,
   "id": "a8d49ebc-1008-409a-9d0e-bb9aff149dc7",
   "metadata": {},
   "outputs": [],
   "source": [
    "theta, phi = symbols('theta phi')"
   ]
  },
  {
   "cell_type": "markdown",
   "id": "b340d3d0-52b8-488e-ae4e-ffde3167e087",
   "metadata": {},
   "source": [
    "### Define a tensor for vectors in 2D spherical $(\\theta, \\phi)$ coordinates"
   ]
  },
  {
   "cell_type": "code",
   "execution_count": 3,
   "id": "30093327-c8e4-4dcf-a3f9-6d27fd893570",
   "metadata": {},
   "outputs": [
    {
     "data": {
      "image/png": "[encoded data removed]",
      "text/latex": [
       "$\\displaystyle v{}^{m}$"
      ],
      "text/plain": [
       " m\n",
       "v \n",
       "  "
      ]
     },
     "execution_count": 3,
     "metadata": {},
     "output_type": "execute_result"
    }
   ],
   "source": [
    "L = TensorIndexType('L', dummy_name='L', dim=2)\n",
    "m, n, t, r, q  = tensor_indices('m n t r q', L)\n",
    "v = tensor_heads('v', [L])\n",
    "v(m)"
   ]
  },
  {
   "cell_type": "markdown",
   "id": "21a75f0a-94f3-4409-a827-9f4380fb53c7",
   "metadata": {},
   "source": [
    "### Define the metric"
   ]
  },
  {
   "cell_type": "code",
   "execution_count": 4,
   "id": "574ed737-50da-4f95-8e43-f2d3560d2648",
   "metadata": {},
   "outputs": [
    {
     "data": {
      "image/png": "[encoded data removed]",
      "text/latex": [
       "$\\displaystyle g{}_{mn}$"
      ],
      "text/plain": [
       "   \n",
       "g  \n",
       " mn"
      ]
     },
     "metadata": {},
     "output_type": "display_data"
    },
    {
     "data": {
      "text/latex": [
       "$\\displaystyle \\left[\\begin{matrix}1 & 0\\\\0 & \\cos^{2}{\\left(\\theta \\right)}\\end{matrix}\\right]$"
      ],
      "text/plain": [
       "⎡1     0   ⎤\n",
       "⎢          ⎥\n",
       "⎢      2   ⎥\n",
       "⎣0  cos (θ)⎦"
      ]
     },
     "metadata": {},
     "output_type": "display_data"
    }
   ],
   "source": [
    "def sph2d_metric():\n",
    "    \"Return the metric tensor for 2D spherical coordinates\"\n",
    "    g = tensor_heads('g', [L, L])\n",
    "    metric_array = [[1,0],[0,cos(theta)**2]]\n",
    "    metric_repl = {L: metric_array, g(-m,-n):metric_array}\n",
    "    metric = g(-m,-n).replace_with_arrays(metric_repl)\n",
    "    display(g(-m,-n))\n",
    "    return g, metric\n",
    "\n",
    "display(sph2d_metric()[1])"
   ]
  },
  {
   "cell_type": "code",
   "execution_count": 5,
   "id": "6d18417c-4bc9-4116-b1d9-300c025bd74e",
   "metadata": {},
   "outputs": [],
   "source": [
    "### Define a tensor (not a true tensor) for the Christoffel symbols"
   ]
  },
  {
   "cell_type": "code",
   "execution_count": 6,
   "id": "f2bc9b3b-6c25-4615-8744-c5093f0e6868",
   "metadata": {},
   "outputs": [
    {
     "data": {
      "image/png": "[encoded data removed]",
      "text/latex": [
       "$\\displaystyle g{}_{mn}$"
      ],
      "text/plain": [
       "   \n",
       "g  \n",
       " mn"
      ]
     },
     "metadata": {},
     "output_type": "display_data"
    },
    {
     "data": {
      "image/png": "[encoded data removed]",
      "text/latex": [
       "$\\displaystyle \\left(\\frac{1}{2}\\right)g{}^{L_{0}t}\\left(\\frac{\\partial}{\\partial {_{}^{m}}}{g{}_{L_{0}n}} + \\frac{\\partial}{\\partial {_{}^{n}}}{g{}_{L_{0}m}} + \\left(-1\\right)\\frac{\\partial}{\\partial {_{}^{L_{0}}}}{g{}_{mn}}\\right)$"
      ],
      "text/plain": [
       "     L₀t ⎛ ∂ ⎛    ⎞    ∂ ⎛    ⎞         ∂  ⎛   ⎞⎞\n",
       "1/2⋅g   ⋅⎜───⎜g   ⎟ + ───⎜g   ⎟ + (-1)⋅────⎜g  ⎟⎟\n",
       "         ⎜  n⎝ L₀m⎠     m⎝ L₀n⎠          L₀⎝ mn⎠⎟\n",
       "         ⎜∂_          ∂_               ∂_       ⎟\n",
       "         ⎝                                      ⎠"
      ]
     },
     "metadata": {},
     "output_type": "display_data"
    },
    {
     "data": {
      "image/png": "[encoded data removed]",
      "text/latex": [
       "$\\displaystyle \\Gamma{}_{L_{0}n}{}^{L_{0}}$"
      ],
      "text/plain": [
       "        L₀\n",
       "Gamma     \n",
       "     L₀n  "
      ]
     },
     "metadata": {},
     "output_type": "display_data"
    },
    {
     "data": {
      "text/latex": [
       "$\\displaystyle \\left[\\begin{matrix}\\left[\\begin{matrix}0 & 0\\\\0 & \\sin{\\left(\\theta \\right)} \\cos{\\left(\\theta \\right)}\\end{matrix}\\right] & \\left[\\begin{matrix}0 & - \\frac{\\sin{\\left(\\theta \\right)}}{\\cos{\\left(\\theta \\right)}}\\\\- \\frac{\\sin{\\left(\\theta \\right)}}{\\cos{\\left(\\theta \\right)}} & 0\\end{matrix}\\right]\\end{matrix}\\right]$"
      ],
      "text/plain": [
       "⎡                    ⎡          -sin(θ) ⎤⎤\n",
       "⎢                    ⎢   0      ────────⎥⎥\n",
       "⎢⎡0        0      ⎤  ⎢           cos(θ) ⎥⎥\n",
       "⎢⎢                ⎥  ⎢                  ⎥⎥\n",
       "⎢⎣0  sin(θ)⋅cos(θ)⎦  ⎢-sin(θ)           ⎥⎥\n",
       "⎢                    ⎢────────     0    ⎥⎥\n",
       "⎣                    ⎣ cos(θ)           ⎦⎦"
      ]
     },
     "metadata": {},
     "output_type": "display_data"
    }
   ],
   "source": [
    "def christoffel(metric_array):\n",
    "    x = tensor_heads('_', [L])   \n",
    "    x_repl = {x(q): [theta, phi]}   # what we are differentiating with respect to\n",
    "\n",
    "    g = tensor_heads('g', [L, L])\n",
    "\n",
    "    metric_repl = {L: metric_array, g(-m,-n):metric_array}\n",
    "    christoffel_exp = g(r,t) / 2 * (PartialDerivative(g(-r, -m), x(n)) + PartialDerivative(g(-r, -n), x(m)) - PartialDerivative(g(-m, -n), x(r)))\n",
    "    christoffel_eval = christoffel_exp.replace_with_arrays(x_repl | metric_repl)\n",
    "    display(christoffel_exp)\n",
    "\n",
    "    gamma = tensor_heads('Gamma', [L, L, L])\n",
    "   \n",
    "    gamma_repl = {gamma(-m, -n, t): christoffel_eval}\n",
    "    gamma_eval = gamma(-m, -n, t).replace_with_arrays(gamma_repl)\n",
    "    gamma(-m, -n, t), gamma_eval\n",
    "\n",
    "    return gamma, gamma_eval\n",
    "\n",
    "def test_christoffel():\n",
    "    g, metric = sph2d_metric()\n",
    "    gamma, gamma_eval = christoffel(metric)\n",
    "    display(gamma(-m, -n, m), gamma_eval)\n",
    "\n",
    "test_christoffel()\n",
    "    "
   ]
  },
  {
   "cell_type": "code",
   "execution_count": null,
   "id": "76fb327a-13f7-454e-afc7-113619336360",
   "metadata": {},
   "outputs": [],
   "source": []
  }
 ],
 "metadata": {
  "kernelspec": {
   "display_name": "Python 3 (ipykernel)",
   "language": "python",
   "name": "python3"
  },
  "language_info": {
   "codemirror_mode": {
    "name": "ipython",
    "version": 3
   },
   "file_extension": ".py",
   "mimetype": "text/x-python",
   "name": "python",
   "nbconvert_exporter": "python",
   "pygments_lexer": "ipython3",
   "version": "3.9.19"
  }
 },
 "nbformat": 4,
 "nbformat_minor": 5
}
